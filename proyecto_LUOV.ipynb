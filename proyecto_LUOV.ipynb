{
  "nbformat": 4,
  "nbformat_minor": 0,
  "metadata": {
    "colab": {
      "provenance": []
    },
    "kernelspec": {
      "name": "python3",
      "display_name": "Python 3"
    },
    "language_info": {
      "name": "python"
    }
  },
  "cells": [
    {
      "cell_type": "code",
      "source": [
        "pip install galois"
      ],
      "metadata": {
        "colab": {
          "base_uri": "https://localhost:8080/"
        },
        "id": "n0O-cNFV9WW2",
        "outputId": "dbfb15e1-e388-48f4-e739-7186a557c700"
      },
      "execution_count": 1,
      "outputs": [
        {
          "output_type": "stream",
          "name": "stdout",
          "text": [
            "Collecting galois\n",
            "  Downloading galois-0.4.2-py3-none-any.whl.metadata (14 kB)\n",
            "Requirement already satisfied: numpy<2.2,>=1.21.0 in /usr/local/lib/python3.10/dist-packages (from galois) (1.26.4)\n",
            "Requirement already satisfied: numba<0.61,>=0.55 in /usr/local/lib/python3.10/dist-packages (from galois) (0.60.0)\n",
            "Requirement already satisfied: typing-extensions>=4.0.0 in /usr/local/lib/python3.10/dist-packages (from galois) (4.12.2)\n",
            "Requirement already satisfied: llvmlite<0.44,>=0.43.0dev0 in /usr/local/lib/python3.10/dist-packages (from numba<0.61,>=0.55->galois) (0.43.0)\n",
            "Downloading galois-0.4.2-py3-none-any.whl (4.2 MB)\n",
            "\u001b[?25l   \u001b[90m━━━━━━━━━━━━━━━━━━━━━━━━━━━━━━━━━━━━━━━━\u001b[0m \u001b[32m0.0/4.2 MB\u001b[0m \u001b[31m?\u001b[0m eta \u001b[36m-:--:--\u001b[0m\r\u001b[2K   \u001b[91m━\u001b[0m\u001b[91m╸\u001b[0m\u001b[90m━━━━━━━━━━━━━━━━━━━━━━━━━━━━━━━━━━━━━━\u001b[0m \u001b[32m0.2/4.2 MB\u001b[0m \u001b[31m5.2 MB/s\u001b[0m eta \u001b[36m0:00:01\u001b[0m\r\u001b[2K   \u001b[91m━━━━━━━━━━━━\u001b[0m\u001b[91m╸\u001b[0m\u001b[90m━━━━━━━━━━━━━━━━━━━━━━━━━━━\u001b[0m \u001b[32m1.4/4.2 MB\u001b[0m \u001b[31m19.2 MB/s\u001b[0m eta \u001b[36m0:00:01\u001b[0m\r\u001b[2K   \u001b[91m━━━━━━━━━━━━━━━━━━━━━━━━━━━━━━━━━━━━━━━\u001b[0m\u001b[91m╸\u001b[0m \u001b[32m4.2/4.2 MB\u001b[0m \u001b[31m41.4 MB/s\u001b[0m eta \u001b[36m0:00:01\u001b[0m\r\u001b[2K   \u001b[90m━━━━━━━━━━━━━━━━━━━━━━━━━━━━━━━━━━━━━━━━\u001b[0m \u001b[32m4.2/4.2 MB\u001b[0m \u001b[31m31.5 MB/s\u001b[0m eta \u001b[36m0:00:00\u001b[0m\n",
            "\u001b[?25hInstalling collected packages: galois\n",
            "Successfully installed galois-0.4.2\n"
          ]
        }
      ]
    },
    {
      "cell_type": "code",
      "source": [
        "# Needed libraries\n",
        "import secrets\n",
        "import math\n",
        "import numpy as np\n",
        "import hashlib\n",
        "import galois"
      ],
      "metadata": {
        "id": "apHo-xJy5n3t"
      },
      "execution_count": 2,
      "outputs": []
    },
    {
      "cell_type": "markdown",
      "source": [
        "# Generate private seed"
      ],
      "metadata": {
        "id": "qpGjcl89Jdg9"
      }
    },
    {
      "cell_type": "code",
      "execution_count": 3,
      "metadata": {
        "id": "ExqwWkupIftS"
      },
      "outputs": [],
      "source": [
        "#Generate Private Seed\n",
        "def generate_private_seed()->bytes:\n",
        "  return secrets.token_bytes(32)"
      ]
    },
    {
      "cell_type": "markdown",
      "source": [
        "# SHAKE A.K.A function H (Squeeze public_seed and T)"
      ],
      "metadata": {
        "id": "0_2Pc2mqdRVu"
      }
    },
    {
      "cell_type": "markdown",
      "source": [
        "## SHAKE using hashlib"
      ],
      "metadata": {
        "id": "n-W_EB-__Ekh"
      }
    },
    {
      "cell_type": "code",
      "source": [
        "def create_private_sponge(private_seed:bytes,v:int,m:int,lvl)->bytes:\n",
        "  # USE SHAKE\n",
        "  if(lvl==1):\n",
        "    h_shake = hashlib.shake_128(private_seed)\n",
        "  else:\n",
        "    h_shake = hashlib.shake_256(private_seed)\n",
        "  # Private Sponge\n",
        "  return h_shake.digest(32+math.ceil(m/8)*v)"
      ],
      "metadata": {
        "id": "Napettqh_Jen"
      },
      "execution_count": 4,
      "outputs": []
    },
    {
      "cell_type": "markdown",
      "source": [
        "#Extract public seed"
      ],
      "metadata": {
        "id": "hJ0fqOZY7WlD"
      }
    },
    {
      "cell_type": "code",
      "source": [
        "def get_public_seed(private_sponge:bytes)->bytes:\n",
        "  return private_sponge[:32]"
      ],
      "metadata": {
        "id": "ZQ0HJIaHbVqW"
      },
      "execution_count": 5,
      "outputs": []
    },
    {
      "cell_type": "markdown",
      "source": [
        "#Extract T"
      ],
      "metadata": {
        "id": "3bIAq0Cx7f7g"
      }
    },
    {
      "cell_type": "code",
      "source": [
        "def int8_to_binString(intByte:int)->str:\n",
        "  \"\"\"Get the 8 bit representation of an integer as a binary string\n",
        "     without the '0b' indicator.\n",
        "\n",
        "  The function takes one integer byte, turns it to binary\n",
        "  and returns an string containing the 8 bit representation of it.\n",
        "\n",
        "  Parameters\n",
        "  ----------\n",
        "  intByte : int\n",
        "    The byte, labeled as an int by python.\n",
        "\n",
        "  Returns\n",
        "  -------\n",
        "  str\n",
        "      A string with 8 bits to represent the integer.\n",
        "  \"\"\"\n",
        "  binary = bin(intByte)[2:]\n",
        "  return binary.zfill(8)"
      ],
      "metadata": {
        "id": "PMZ5gXFyw63C"
      },
      "execution_count": 6,
      "outputs": []
    },
    {
      "cell_type": "code",
      "source": [
        "def int8_to_bits(intByte:int)->list:\n",
        "  \"\"\"Get the first 8 bits of an integer as an array.\n",
        "\n",
        "  The function takes one integer byte, extracts it's bits\n",
        "  and returns an array containing the bits starting from\n",
        "  the most significant bit.\n",
        "\n",
        "  Parameters\n",
        "  ----------\n",
        "  intByte : int\n",
        "    The byte, labeled as an int by python.\n",
        "\n",
        "  Returns\n",
        "  -------\n",
        "  list\n",
        "      An array with the first 8 bits of the integer\n",
        "      starting from the most significant one.\n",
        "  \"\"\"\n",
        "  bits_data = bin(intByte)[2:]\n",
        "  return [int(i) for i in bits_data.zfill(8 * ((len(bits_data) + 7) // 8))]"
      ],
      "metadata": {
        "id": "KQVLtrcxxkUP"
      },
      "execution_count": 7,
      "outputs": []
    },
    {
      "cell_type": "code",
      "source": [
        "def tMatrixRowGen(byteString:bytes,neededBits:int)->list:\n",
        "  \"\"\"Generate one row of the T matrix.\n",
        "\n",
        "  The function takes one byte-string and extracts the specified\n",
        "  ammount of bits (neededBits) to fill one row. When the ammount\n",
        "  of bits doesn't fit completely in a byte, the most significant\n",
        "  bits of the last byte are ignored.\n",
        "\n",
        "  Parameters\n",
        "  ----------\n",
        "  byteString : bytes\n",
        "    A byte-string containing the bits used to fill the row.\n",
        "  neededBits : int\n",
        "    The ammount of bits a row needs to have.\n",
        "\n",
        "  Returns\n",
        "  -------\n",
        "  list\n",
        "      An array representing one row of the T matrix\n",
        "  \"\"\"\n",
        "  row = []\n",
        "  while(neededBits>8):\n",
        "    row+=int8_to_bits(byteString[0])\n",
        "    byteString = byteString[1:]\n",
        "    neededBits = neededBits-8\n",
        "  if(neededBits>0):\n",
        "    row+=int8_to_bits(byteString[0])[-neededBits:]\n",
        "  return row\n",
        "\n",
        "def tMatrixGenerator(byteString:bytes,v:int,m:int)->np.ndarray:\n",
        "  \"\"\"Generate the T matrix.\n",
        "\n",
        "  The function takes one byte-string and generates v rows\n",
        "  each one with m bits extracted sequentially from a byteString\n",
        "  using the tMatrixRowGen() function.\n",
        "\n",
        "  Parameters\n",
        "  ----------\n",
        "  byteString : bytes\n",
        "    A byte-string containing the bits used to fill the matrix.\n",
        "  v : int\n",
        "    The ammount rows of the matrix.\n",
        "  m : int\n",
        "    The ammount columns of the matrix.\n",
        "\n",
        "  Returns\n",
        "  -------\n",
        "  list\n",
        "      An array representing the T matrix\n",
        "  \"\"\"\n",
        "  mdivided8 =math.ceil(m/8)\n",
        "  matrix = []\n",
        "  for i in range(v):\n",
        "    matrix.append(tMatrixRowGen(byteString,m))\n",
        "    byteString = byteString[mdivided8:]\n",
        "  return np.array(matrix)"
      ],
      "metadata": {
        "id": "oSe2MqZusb55"
      },
      "execution_count": 8,
      "outputs": []
    },
    {
      "cell_type": "markdown",
      "source": [
        "# SHAKE (squeeze public map)"
      ],
      "metadata": {
        "id": "Dt0Qr2nPJoR0"
      }
    },
    {
      "cell_type": "code",
      "source": [
        "def subMatrixGenerator(byteString:bytes)->np.ndarray:\n",
        "  \"\"\"Generate a part of the L or Q1 matrix.\n",
        "\n",
        "  The function takes one byte-string and returns one 16 row part\n",
        "  of the L or Q1 matrix. It must be noted that the rows are generated as columns\n",
        "  at first and then are transposed.\n",
        "\n",
        "  Parameters\n",
        "  ----------\n",
        "  byteString : bytes\n",
        "    A byte-string containing the bits used to fill the matrix.\n",
        "\n",
        "  Returns\n",
        "  -------\n",
        "  np.ndarray\n",
        "      A matrix\n",
        "  \"\"\"\n",
        "\n",
        "  matrix = [int8_to_bits(byteString[i*2])+int8_to_bits(byteString[i*2+1]) for i in range(len(byteString)//2)]\n",
        "\n",
        "  return np.array(matrix).T"
      ],
      "metadata": {
        "id": "xnISGIu4FL8D"
      },
      "execution_count": 9,
      "outputs": []
    },
    {
      "cell_type": "markdown",
      "source": [
        "## Obtain C, L, and $$Q_1$$"
      ],
      "metadata": {
        "id": "yvGATeTum1hy"
      }
    },
    {
      "cell_type": "code",
      "source": [
        "def G(v:int,m:int,lvl:int,public_seed:bytes)->tuple[np.ndarray,np.ndarray,np.ndarray]:\n",
        "  n = m+v\n",
        "  g_equation = 2+2*n+v*(v+1)+2*v*m\n",
        "  mdivided16 = math.ceil(m/16)\n",
        "  #first g function iteration\n",
        "  if(lvl==1):\n",
        "    g_shake = hashlib.shake_128(public_seed+bytes.fromhex('00'))\n",
        "  else:\n",
        "    g_shake = hashlib.shake_256(public_seed+bytes.fromhex('00'))\n",
        "  public_sponge = g_shake.digest(g_equation)\n",
        "  C_base=int8_to_bits(public_sponge[0])+int8_to_bits(public_sponge[1])\n",
        "  public_sponge = public_sponge[2:]\n",
        "  # L and Q1 have more than one dimension, so they are initilized differently\n",
        "  L_base = subMatrixGenerator(public_sponge[:2*n])\n",
        "  public_sponge = public_sponge[2*n:]\n",
        "  Q1_base = subMatrixGenerator(public_sponge)\n",
        "\n",
        "  #following g function iterations\n",
        "  if(lvl==1):\n",
        "    for i in range(1,mdivided16):\n",
        "      g_shake = hashlib.shake_128(public_seed+bytes.fromhex(f'0{i}'))\n",
        "      public_sponge = g_shake.digest(g_equation)\n",
        "      C_base+=int8_to_bits(public_sponge[0])+int8_to_bits(public_sponge[1])\n",
        "      public_sponge = public_sponge[2:]\n",
        "      L_base = np.concatenate((L_base,subMatrixGenerator(public_sponge[:2*n])))\n",
        "      public_sponge = public_sponge[2*n:]\n",
        "      Q1_base = np.concatenate((Q1_base,subMatrixGenerator(public_sponge)))\n",
        "  else:\n",
        "    for i in range(1,mdivided16):\n",
        "      g_shake = hashlib.shake_256(public_seed+bytes.fromhex(f'0{i}'))\n",
        "      public_sponge = g_shake.digest(g_equation)\n",
        "      C_base+=int8_to_bits(public_sponge[0])+int8_to_bits(public_sponge[1])\n",
        "      public_sponge = public_sponge[2:]\n",
        "      L_base = np.concatenate((L_base,subMatrixGenerator(public_sponge[:2*n])))\n",
        "      public_sponge = public_sponge[2*n:]\n",
        "      Q1_base = np.concatenate((Q1_base,subMatrixGenerator(public_sponge)))\n",
        "\n",
        "  # obtaining C: we take the m bits (starting from the last generated bit) we\n",
        "  # need fromthe total of bits generated\n",
        "  C = C_base[-m:]\n",
        "  C = np.array(C)\n",
        "  # obtaining L: We discard the upper rows to get the specified dimensions\n",
        "  L = L_base[-m:]\n",
        "  # obtaining Q_1: We discard the upper row to get the specified dimensions\n",
        "  Q1=Q1_base[-m:]\n",
        "  return C,L,Q1\n"
      ],
      "metadata": {
        "id": "m__RjLhdJztu"
      },
      "execution_count": 10,
      "outputs": []
    },
    {
      "cell_type": "markdown",
      "source": [
        "## Obtaining $$Q_2$$"
      ],
      "metadata": {
        "id": "skVOldbqnIhB"
      }
    },
    {
      "cell_type": "code",
      "source": [
        "def findPk1(v:int,m:int,k:int,q1:np.ndarray)->np.ndarray:\n",
        "  \"\"\"An implementation of the findPk1 algorithm of the LUOV specification.\n",
        "\n",
        "  Parameters\n",
        "  ----------\n",
        "  v : int\n",
        "    The v parameter of the LUOV specification.\n",
        "  m : int\n",
        "    The m parameter of the LUOV specification.\n",
        "  k : int\n",
        "    An integer between 1 and m.\n",
        "  q1 : np.ndarray\n",
        "    First part of Macaulay matrix of the quadratic part of P.\n",
        "\n",
        "  Returns\n",
        "  -------\n",
        "  np.ndarray\n",
        "      The v-by-v matrix representing the part of pk that is\n",
        "      quadratic in the vinegar variables.\n",
        "  \"\"\"\n",
        "  Pk1 = np.zeros([v,v],dtype=np.int8)\n",
        "  column = 0\n",
        "  for i in range(v):\n",
        "    for j in range(i,v):\n",
        "      Pk1[i,j]= q1[k,column]\n",
        "      column+=1\n",
        "    column+=m\n",
        "  return Pk1"
      ],
      "metadata": {
        "id": "mf4FpkwHzBoy"
      },
      "execution_count": 11,
      "outputs": []
    },
    {
      "cell_type": "code",
      "source": [
        "def findPk2(v:int,m:int,k:int,q1:np.ndarray)->np.ndarray:\n",
        "  \"\"\"An implementation of the findPk2 algorithm of the LUOV specification.\n",
        "\n",
        "  Parameters\n",
        "  ----------\n",
        "  v : int\n",
        "    The v parameter of the LUOV specification.\n",
        "  m : int\n",
        "    The m parameter of the LUOV specification.\n",
        "  k : int\n",
        "    An integer between 1 and m.\n",
        "  q1 : np.ndarray\n",
        "    First part of Macaulay matrix of the quadratic part of P.\n",
        "\n",
        "  Returns\n",
        "  -------\n",
        "  np.ndarray\n",
        "      The v-by-m matrix representing the part of pk that is bilinear in the\n",
        "      vinegar variables and the oil variables.\n",
        "  \"\"\"\n",
        "  Pk2 = np.zeros([v,m],dtype=np.int8)\n",
        "  column = 0\n",
        "  for i in range(v):\n",
        "    column += v-i\n",
        "    for j in range(m):\n",
        "      Pk2[i,j]= q1[k,column]\n",
        "      column+=1\n",
        "  return Pk2"
      ],
      "metadata": {
        "id": "to23ZqMWEToa"
      },
      "execution_count": 12,
      "outputs": []
    },
    {
      "cell_type": "code",
      "source": [
        "def findQ2(v:int,m:int,Q1:np.ndarray,T:np.ndarray)->galois.GF2:\n",
        "  \"\"\"An implementation of the findQ2 algorithm of the LUOV specification.\n",
        "\n",
        "  Parameters\n",
        "  ----------\n",
        "  v : int\n",
        "    The v parameter of the LUOV specification.\n",
        "  m : int\n",
        "    The m parameter of the LUOV specification.\n",
        "  q1 : np.ndarray\n",
        "    First part of Macaulay matrix of the quadratic part of P.\n",
        "  t : np.ndarray\n",
        "    A v-by-m matrix.\n",
        "\n",
        "  Returns\n",
        "  -------\n",
        "  np.ndarray\n",
        "      The second part of Macaulay matrix for quadratic part of P.\n",
        "  \"\"\"\n",
        "  # we use galois to prevent the results of the operations from\n",
        "  # being out of the finite field\n",
        "  GF = galois.GF(2)\n",
        "  T = GF(T)\n",
        "\n",
        "  Q2 = GF(np.zeros([m,int(m*(m+1)/2)],dtype=np.int8))\n",
        "  for k in range(m):\n",
        "    Pk1 = GF(findPk1(v,m,k,Q1))\n",
        "    Pk2 = GF(findPk2(v,m,k,Q1))\n",
        "    Pk3 = -np.transpose(T)@Pk1@T+np.transpose(T)@Pk2\n",
        "    column = 0\n",
        "    for i in range(m):\n",
        "      Q2[k,column]= Pk3[i,i]\n",
        "      column += 1\n",
        "      for j in range(i+1,m):\n",
        "        Q2[k,column] = Pk3[i,j] + Pk3[j,i]\n",
        "        column+=1\n",
        "  return Q2"
      ],
      "metadata": {
        "id": "d-i4SgxzGrfA"
      },
      "execution_count": 13,
      "outputs": []
    },
    {
      "cell_type": "markdown",
      "source": [
        "# Generate the public key"
      ],
      "metadata": {
        "id": "0vm6l3EMwD1n"
      }
    },
    {
      "cell_type": "code",
      "source": [
        "def keyGen(v:int,m:int,lvl:int,private_seed:bytes)->bytes:\n",
        "  private_sponge = create_private_sponge(private_seed,v,m,lvl)\n",
        "  public_seed = get_public_seed(private_sponge)\n",
        "\n",
        "  T_base = private_sponge[32:]\n",
        "  T = tMatrixGenerator(T_base,v,m)\n",
        "\n",
        "  C,L,Q1 = G(v,m,lvl,public_seed)\n",
        "  Q2 = findQ2(v,m,Q1,T)\n",
        "  Q2_copy = Q2.copy()\n",
        "  # The first 32 bytes of the public key come from the public seed.\n",
        "  public_key = public_seed\n",
        "\n",
        "  # Enconding of Q2\n",
        "  Q2_bytes = b\"\"\n",
        "  # Get an array that contains all the elements of Q2 iterating column-wise.\n",
        "  Q2 = Q2.flatten(order=\"F\")\n",
        "  while len(Q2)>8:\n",
        "    # Take 8 elements of the Q2 flattened array, reverse their order, turn them\n",
        "    # into a byte and add them to the bytes representing Q2.\n",
        "    byte = str(Q2[7])+str(Q2[6])+str(Q2[5])+str(Q2[4])+str(Q2[3])+str(Q2[2])+str(Q2[1])+str(Q2[0])\n",
        "    Q2_bytes += int(byte,2).to_bytes(1,byteorder=\"big\")\n",
        "    Q2 = Q2[8:]\n",
        "  if len(Q2)>0:\n",
        "    byte = \"\"\n",
        "    while len(Q2)>0:\n",
        "      byte += str(Q2[0])\n",
        "      Q2 = Q2[1:]\n",
        "    # Pad with zeros the remaining elements to encode, reverse their order, turn\n",
        "    # them into a byte and add them to the bytes representing Q2.\n",
        "    byte = byte.ljust(8,'0')[::-1]\n",
        "    Q2_bytes += int(byte,2).to_bytes(1,byteorder=\"big\")\n",
        "  # Add the byte encoding of Q2 to the public key.\n",
        "  public_key += Q2_bytes\n",
        "\n",
        "  return public_key"
      ],
      "metadata": {
        "id": "LWIGsyYLX9Be"
      },
      "execution_count": 14,
      "outputs": []
    },
    {
      "cell_type": "code",
      "source": [
        "private_seed_test = generate_private_seed()\n",
        "public_key_test = keyGen(197,57,1,private_seed_test)\n",
        "print(public_key_test)\n",
        "print(len(public_key_test))"
      ],
      "metadata": {
        "id": "T-hi9LrQLPM9",
        "colab": {
          "base_uri": "https://localhost:8080/"
        },
        "outputId": "d4877b93-b698-4b61-a3c6-1a8a59696a36"
      },
      "execution_count": 15,
      "outputs": [
        {
          "output_type": "stream",
          "name": "stdout",
          "text": [
            "b')\\x1e\\x8f6\\tV3\\x7f\\x14\\x85}l\\x88\\xa4\\xe8\\x0b\\xa6\\x90>p\\xaa\\xcd\\x94\\xca\\xb3\\xcc\\x02n\\x13\\xca8\\r\\xf9*\\xdb\\x83\\x9bA\\x12\\x92C\\xccE \\xc5Ha\\xeeg)\\xdf\\x81\\xee\\x9e\\xb0\\xa9\\xa1w0\\xa3\\xfa\\r\\xd0\\x94\\xd8+(1\\xf95nN\\x1d45\\x7f\\xc8\\xde\\x82>[\\x1bF5\\xb8\\n\\xaa\\x82\\xf2&\\x0b^4H1#\\xb5\\xd7\\xd5\\x10w]\\xf0\\x05\\xb2pI\\xbd\\xf9\\xd8>\\xd5\\xe0\\x07\\xe5\\xe0Be\\x1f\\x93\\x80\\x1aO\\xa8K\\xf5\\x05\\xcd%\\xd4u\\xf2\\x91\\x16\\xc2b!\\xe6M\\xd2\\x0b\\x1c\\x0b<j\\xbcY&z`\\x10\\xd8\\x027\\x05O\\xdc\\x7fR:\\xe5K\\xf4\\xd2\\x18=\\xb8Y3B\\xdb\\x81\\x02\\xceP@\\xfe%\\x90w\\xc0\\rU\\x86\\xed{q\\xc3\\xceY\\x0b4o!7\\x0f8\\xae\\xb1D\\xb8\\x89\\xbc5F(\\xa2r{\\'F\\xe1e\\x1arqb=;\\xad\\x9dS\\xb5-\\xea\\x9e\\xce\\xc9\\xce<\\x16\\xb8\\xf4\\x18j\\xbe&\\x0c\\xa7S%\"-\\x1ap\\xed\\x1f\\xdd\\xbb\\xc2\\xcb7X\\xb2\\xfd\\x99\\x9d\\xbb@\\xba\\x01\\xe8\\xe61\\xc0\\xdc|\\x85\\x8c\\x0c>\\x1e\\x05y\\x91\\xc0\\x8a\\xe4\\x85\\xef0\\xf9\\x94y\\xc5Y\\t\\x17S\\x94\\xfb\\xf6\\\\q\\x93\\xf5\\xa9VO\\x88\\x83L\\x9b\\xbe\\xa0\\xf00\\x98g\\x89\\x1ar(k\\xb1Fy \\xbc\\x01\\xe20_\\x8a\\x18[Ye3R\\x07\\x9e\\x1a\\xc2\\\\\\xd3UV\\xf9\\xe7{\\xba\\xa9\\xb6\\x1c\\xf6\\xbb\\xae8U\\xff\\xa8\\xfa\\xd3L-\\xaa\\xd2\\xe4+\\x89:\\xbd\\x16\\x80\\xc3H\\xa4m\\xd06!N\\xa5!6v\\xe1Y\\xc0B\\xcd\\nS3\\xf7\\x0e\\x7f\\xb2\\x8f\\x9c\\xeb\\xd29\\xa2\\xdb,y\\xd0\\xfb\\x89\\x02\\xcd\\x9b\\xe4X\\x0e\\xd4\\xbc\\xbfu\\xad}\\xb0\\xf2\\xdax\\xabU\\xf4\\xf3\\x0e\\xf7\\xfb\\xe3\\xc3\\xcc\\xf7\\x0c\\xb9\\xdd\\xcaR\\xe9\\xfbR=\\x8f\\xd0qTKH\\x01._b\\x00V\\x8fq#\\x80\\x12\\xb2%\\xb4.\\xbd\\xf5i\\x08:h]k@1t\\x9e~\\xc0#\\xd6&n\\x06N\\xa0\\xf5\\xbbm\\xcc/\\x0e\\xb1\\xca!x\\xe0\\x10\\xce5\\x04\\rj%\\xfbep\\xaer\\x11\\xc1\\xab\\xe3\\xec\\xf9\\x0f\\xdc\\x170\\xb6\\r\\xe9M\\xd3\\xa7\\x89q\\xa0\\x00c\\xe7o\\xa9\\xb1\\x11L\\xcdq\\xc1Y\\xbez\\xa6\\x93M$\\xee\\xd0\\xdfw\\x96X_`\\x9b\\x86Y\"\\x89\\t?J|\\xbd\\xde\\xaa\\xed\\xe2\\xf2\\xf8\\xec\\x89]t\\x08\\xe33\\xcb\\xf6\\x87\\x0f\\x00\\xee\\x84Lt\\xcc\\xa6k&_\\x0b\\x06 4\\x87ns\\xa8\\xe1V\\x98\\xb7$^\\x90\\x9dkc \\x07+\\xc5\\x1f\\x00\\x83q\\xdf\\xde7\\x8ah\\xe3\\x01P\\x81\\x97\\xf8\\x12\\x1d\\xde\\x882\\x17%\\x9b}\\xa9\\xf9\\xa9V\\xf6\\xad\\x87\\xc5G\\x9b\\xda{\\xc2\\xe9C\\xcc\\xa9\\xa2\\xfdA\\xa1\\\\\\x05IH\\t\\xab\\x88\\x91\\xbc\\xb07#\\x8e}D\\x1d\\x1c\\x90\\xcc\\x80\\xe2\\x80\\xcd\\xf2\\xa62=\\xfe!V\\xbf\\xb2\",\\x8ff\\xf0\\x00Mi\\xb6H\\x1f\\xb5P\\x0fk\\x0e\\xe9\\xb8\\xe9\\x96\\xb7z\\x9d\\xc275\\x05@\\x82\\x1d-x\\xc2.\\xeaY,\\x93\\xf9\\xf4\\x96\\xd6\\xdf\\x02\\xea\\x94\\'\\x0c\\xdb\\xe9\\\\\\xc0\\x81}\\x8c\\xd5\\xc9\\x94\\x96\\xa9\\x8aX\\xca\\'o|\\x89\\x86pf\\xb4\\x85\\xb4\\xf5Q\\xfa\\xc0&]\\x13\\xf9)&n\\x14\\xdc\\xfc\\xb2Y\\x9b7\\xc3W\\x08}\\xcfj3\\xf4d\\xceA^CD1z\\x96W}W\\xd8\\x93\\xd2\\xaf\\xa4d\\x9b\\x13\\xcc\\x18\\xefp\\x9fa\\xc9\\xc5\\xc5\\xf1\\xafG\\x80b\\xf2E\\xf6\\x8e\\x82\\x19\\x873\\xbdVL\\xfaFm\\xcb9;a2\\xb5\\td\\x9c\\x10\\x1d\\xa0\\xa2?\\x82W@\\xd8/\\xd8\\xc9\\x9b\\x83P%\\xd7{\\xe0\\x1d~\\xdc\\x1c\\xf1\\xba\\xfd(\\xd2yK3A\\x08\\xee\\xa9\\xcc\\xb3p\\x95[/\\xccDn\\xf6H\\xb1\\x8az\\xdar\\xf2q\\x7f\\xfc\\t(\\xd0\\x98%\\x97\\xc8\"\\x1f\\xf0\\xdd\\x06xZ\\xa8!\"7W\\xa0\\xda\\xa3\\n\\x1eS>\\xa6j\\xf3\\x02\\xd3\\xa2\\xec\\xa6\\x13d\\x1f\\xce9Op@\\x95\\xee\\x18\\x9a\\xf5\\xdc\\xf3;\\x0f\\xe0\\x8bs\\xbbp\\x9e\\xd3\\xd7\\x93\\x9e\\xb8\"NK\\xc8)0\\xd1\\x08\\xb8[\\xbc\\xb0{\\xf9\\xc0\\x81\\n\\x8b}v\\xef\\xf3_\\xa2\\x08\\x8f^\\xd2\\x19\\x82#\\x13\\xac\\x00\\x9a\\xed\\xb7)Xg\\x19\\xa8\\x9eF\\xe6\\xfay[U\\x9a\\xd8O\\xcen\\xf4\\xdd`Q\\xa2\\xab\\xd8\\x96OG\\x94Dr\\xe9^>\\xd1\\xae\\'$|P\\x98+d\\xde\\x95+\\x0c4\\x1b\\xc7\\x87\\xf4\\xe5w\\xe1\\xc8\\x1e\\xf5XBLl\\x0f\\xd7-a\\xcd\\xbbP\\xca\\xc2\\xb3\\xfeW\\xa3\\xc52i;g\\xc2\\x10\\x90Tkl\\xdc\\xbb\\x9b^\\xd0\\xa9\\xe6b\\x17\\xe8\\xe0-\\xf9\\xf3wY3\\x05qqi\\xb0\\xc1p\\x8b\\xb0\\x980\\xe1\\x92\\\\\\xa0\\x8a\\xc8\\x00\\xc1\\xf2GY\\xf4\\xde\\xba\\xb6\\x9d\\xed>\\x80\\xdeb0\\xe3\\xdd\\xed\\xd0M\\xbf.H\\xdf\\x8d\\xdb\\x0c4\\xa0\\xd3\\xbb\\xfb\\xc0\\x93\\xcf\\xd7\\xfaV\\xec\\x1dUw:`\\x94\\xa2\\xb6\\x87\\x1f\\xd2\\xce\\x80\\x99\\r\\xce\\xbd2\\xc8\\x1e\\x8f\\xaa\\xe9\\xecD\\xa5\\x8f\\x0b5\\r\\xd6\\xa1\\x1d\\x1e\\xb0\\x8fU\\xeed\\xf1\\xd4\\xa2Q@\\xd8\\xeaOu\\xdc\\xdd\\x1d4\\xc8{D[u\\x05\\xf0\\xcbf\\xe8\\xa11\\x19\\xa6\\xa1\\xbb!\\x02\\x95}\\xdd\\x19h\\xb7\\r\\x9f\\xff\\x82Q\\xbaDQ7\\xc3F\\x9e\\x8e\\xab`\\x0c/\\xc0#U\\xbe\\x06\\x8a\\xb0\\xd9iI\\xb5\\x86\\xc0G\\xd6\\x0f7\\x8e\\xcasp\\xf4\\x8c\\xf8I\\xf7\\xf5m]\\x8e\\xddW\\x1eH\\xca\\x1a<\\'\\'\\xceU\\x17/,\\xa6\\x08\\xe1e\\xb2K\\xe9\\x80\\x03+\\xd5>\\xa29\\x7f&\\x02\\xfdI\\x8a4BE\\x9a\\xb7QH\\xb7)q`\\xc8\\xd1\\xb3\\xfb\\x9e\\xcc\\xcf\\x0e\\xab9k\\xe0\\xe3\\x91^\\xf7Ep\\xf4\\xa0\\x17\\x91W\\xdbT\\xd6\\xbb`\\xd4\\xdc\\x9e\\xf0\\x0b\\x93\\xfe\\xe1`\\x96\\x1b5j\\xbc\\xcdp\\xd3t3J\\xa7\\xa2x\\xfc>\\xb5\\xd8\\xe6\\x95\\xd3\\xf9\\xac\\x94\\n\\x00)P\\xda\\xac\\x10\\x13\\xd3\\x17\\x8a\\x83\\xb0\\x01\\x02v\\xf0\"\\x9aKz\\xa82KD\\xf8\\x8f#\\x82\\xae\\x13\\x8f;\\xcd>\\x91b\\xe5^d4\\x16F\\x8b\\xe7\\xe0\\xffa\\x8a~\\x14i\\xae\\x17y[\\xc2VD\\xf0!\\x164\\xba\\xa6v\\xc7\\x81CWl,\\xa3#\\xe6B\\xd2\\x1a\\x07(\\xa2\\xed\\x82\\xc00\\xa4\\x0e\\x19-\\x9a\\x07[^\\xd4_\\xe87f\"\\x98\\xde\\xa1B\\x8f\\x03\\x94\\x04\\xd0\\xc0\\xa1\\xbc\\xa1}P\\x86\\x9bq\\xc9W\\x12J\\xb9\\n\\xf9\\xa7\\x16N\\xec\\xaf\\xf6N\\xca\\x9a\\xed\\xa3\\xf5\\x85\\x1b)<\\x91\\x86\\xd2O!\\xc9l\\x9bS`\\xd3\\x1a\\x0c\\xf6\\x89\\x99\\xe3\\xeeCK\\xabZ,a\\xce\\xf1D\\x96\\xb5\\xf8\\xe0r\\xdb^\\xa7\\x99\\n\\xf4BODe/\\x99e\\xc6v\\xe0\\xd6\\xe6\\x98\\x98\\xa6r\\x9d\\x19mn\\xf9_\\xd7\\xc3\\xa5D\\xa3/\\xbf0\\xa7PIw\\xd7I\\xa2\\tc2\\x81I\\x88\\x9f#\\x1a\\xfe\\x0c^D\\xc2\\xf0\\xb5\\xd4\\\\\\xdf\\xb1\\xfa\\x823=\\xbb\\xf6iT1\\x95\\xea\\x1d\\xda\\xb4\\xae2-!\\xc4\\x84\\xdf\\xe2\\xb2\\xc2\\xfe\\xb7q\\x01:\\xe8\\x94\\x00\\x9d\\x92\\xf1\\x94\\xdb@#\\xe0m\\xa3\\xcaf\\\\;\\xc0\\xe1\\x1b\\x7f\\x8e\\xfcw\\xe0p\\x16\\xe7\\xb1\\x08\\x02\\x94\\x81\\x18\\x15\\xdc\\xffc;~s|\\x8fxw\\x87\\x0c\\xe0\\x8b\\x06T\\xb7\\xb4\\x1c\\xf4\\xf6\\xc8\\xd5cV\\xc7\\x81[\\x05\\x00\\xb5\\x13\\x87\\xba\\xb3\\xee\\xed<\\xe3\\xbd\\x7fC\\xfbp\\xb7\\xc99\\xfc\\xc24\\xa8me\\xe5\\xd6\\x8am\\xda\\xc6\\xcco\\xda\\xe5\\'\\xd9\\t\\x97\\x1a\\xb0ac\\xcc\\xc5&\\xf7U\\xd7S\\x8ed\\x9e~\\xb3\\xcc\\x91\\xdf0\\x1fL\\xc1CL\\xa9\\xdc{2\\x1b\\x83\\x06\\x877\\xc8:q\\xe2\\xb8\\x14:0~\\xe0\\x9c\\x97\\x9b=5\\x87\\xfc\\x90\\xb5\\xe7\\x96\\xaf\\xfa#6(\\xf4\\xfb\\xa7bb\\xae77\\xf2Z\\xdd\\xaa\\x95\\xc2\\x0b\\x0b\\x07\\xb1\\xe8^\\xe5\\xfe\\xfb\\xd9\\x97W\\x0cA\\x11\\xcc0\\x19)\\x1dB\\xcamZ\\xac\\xdf\\xba\\x97\\xa5\\x8a\\x05e\\xc3\\xb4\\xb9H\\x9b\\xc0w|Yr\\xf8%\\x81\\x8d\\xe2P\\x18A\\xdf&\\xe4\\xa3,\\xbb\\xc7rE\\xe2\\xc6\\xc1o\\x1c\\xcbd\\x11q\\x0c4\\x145\\xcc\\xa8\\xb1\\xf9wDz\\xca\\x19\\x0c\\x92{\\xb5\\xb7_\\xc8\\x8e\\xd9\\x9d\\xb8T\\x0e\\x0fQ.\\xc8\\x83\\xa9\\xbb>,s?v\\xdd\\xbb\\x8e:\\x81\\x833\\xcc\\x87\\x0f\\x1c-^M\\xbe\\xbb\\x8dgb2\\xb0[\\xc9\\x106\\xbb2\\xc2\\x18hCQ\\x8c\\xf7nV\\xa1\\xf2F\\x0c\\xc3\\xf8c\\x8bQ\\xe70\\x17\\x00\\x87U\\xe4\\xd4\\x11d\\x05V\\xb97X\\xc9\\x13~\\xe7;\\xe8%\\x93\\x96V\\xed\\xbb\\xc3\\xa8K\\xa4\\xb9\\x03\\xf0{w=O\\xee\\xc0\\xaa%\\x07}\\x7fZ\\xe4\\xcf\\xdcg*\\xa3\\xb36\\x9a\\x1a\\xd3\\x0c\\x8b\\xf1\\x85\\xb7\\xf4W\\xe6\\x1f\\x84\\x99\\x1a2\\x8aX0\\xd1\\xeb\\xc0!\\x07\\x9b\\xe4P+\\x04I+\\x9b~\\xb2\\xc2#\\x0b0\\xe8\\xfe5\\xc55\\xbc\\xba\\xb2\\x19\\x9e?\\xe6\\xb5CPf\\x1d/vM\\xdc^H\\xca\\x9eG#\\xe5\\xcc\\x0ek|\\x0b\\xf8\\x18J\\x06\\xa6`p\\x93\\x9d\\xc1\\xb6\\x9e4\\xd3\\xbc\\xe3W\\xc1y\\x7f\\xc9<p2\\x99\\xa49\\xae\\x9a\\xd3\\xe7\\xb5s\\x8du\\t\\x11\\xfe\\xc4f7\\xde<\\xd1\\xe3V\\xd7!\\x9fM3\\x8e\\xbb8x\\x19H\\xa28K\\x13\\xa8\\xf1\\x14\\x19\\x99\\x16>a\\x07J\\xc8-z\\xc0\\x9bE;\\xc4\\x96Ut\\x88\\xebH^\\x85\\xe0\\xeaPN\\xcb\\x08\\xd2p\\xb4\\xc5\\x89\\xd6\\x88\\x9e\\xb6\\xdd\\x86t\\x04\\xac{#(\\xc8?[\\xe2\\x00\\xa4\\'\\xcd\\xac\\xb3\\x9faI\\x0bA\\x8a\\x04-d\\x04[C\\xa4\\x93\\xaa\\xd1\\xe2\\xde4\\xf7M\\xaa\\x89\\xf1\\xf6>\\x84(\\xfa\\x84\\xf1\\xa3\\x0c\\xef5!0R\\xc0\\xbc<\\xaaR\\x00M\\xe6\\xb3\\x81\\xa1+1\\x17\\x0f\\xfbb\\xffKn5j\\xbd\\xcf\\xda\\x92\\x9b\\xd5T\\xbb\\x87-k\\xe3\\xeaF\\rU{\\xc5\\xe9\\xfa\\x1a\\xf8\\x14\\xd4?Gr\\xef\\x04\\n\\xd1k\\xb7:3\\xf8,\\xc0a\\xe6G\\x1d\\xf2\\xdf\\x96\\x1a \\xd5p\\x92\\x976\\xf9\\xeb\\x89:\\xe4>\\xe8\\xf0N=\\x8c\\xda7~%\\xa9\\xa1H\\xc4%\\x8f\\x8f\\x1a@\\xe8X\\x81O}\\xe1k\\xcb\\xe0:\\xe2\\xedC:\\xa5\\x199L\\x96u\\x84\\xd6\\xc3\\xea\\xa6\\xc5v\\xb72\\x92 L$N\\xcc\\xa5\\xdc\\x96LL\\x923\\x1f+\\xda\\x9a\\xaf\\xa6\\xe1V\\xf1\\xb1x\\x19\\xd80\\x1d8H\\x84\\x87\\x15O\\x06\\xd0\\xe0(\\xdd\\xa6\\x8f\\xb5\\x17\\xae\\x87vL\\xec\\xbe\\x06\\xd3\\xbf,\\xc7\\x04%\\xd1}m\\xe3\\xfb\\xc1Dc\\x9e\\x16\\x83\\xfc\\x9eA\\x1ev\\x17(\\xd8\\x9e\\x07\\x96\\xe3\\x00G\\x89%\\xb9zp\\xb3\\xbdb\\x80\\xb9\\x1d\\x18\\r\\xc0\\x8b\\x08\\x81\\xf5\\xddD)\\x8d\\x807\\x1d\\xef\\xffK}\\xd1\\x80\\t\\xe3\\xc4~\\xaf\\x82\\x99\\xb0\\x8b\\x9fSy\\nE/\\xe3\\xbb\\xaa\\xff\\x8b\\xca\\to\\'\\x8e\\x7f\\x91Y\\x99\\xec\\xfa\\xdf\\xa7\\x13\\x88\\x15\\xaaZE\\xae\\x03F\\xec\\x9c7\\x1e\\xd6\\xe6\\xb5$\\xee,:Mf\\x80>o\\xd2C\\x18\\x98Ff\\x98\\x9fp\\t\\x9b\\x88\\x8a\\xd1\\xe1\\x9d\\xa78\\xef0\\xe8\\xe42\\x96OV^%gMU\\xde\\xe1\\xf7\\x86rd\\xf7\\xb6 \\x11\\x0e\\xd3<(Q&6!2\\xc7\\xb4\\xf4U(\\xfb~z\\xba6\\x196\\x01\\xbfB\\xb1\\xbd\\x0eY\\xbe\\xb1Zw\\x89mV3\\xb0q\\xff\\xea\\xab\\\\j\\x8e=[k\\'\\xa3\\x02R{\\x16\\xb5\\x1e\\x14\\xaa[\\x12\\x9dC\\x87\\x0ei\\xf0\\x14\\x94\\x0b\\xf3\\xb2\\xd4{\\x95\\x04\\xf8\\x87\\x9ah\\xa6\\x90\\x0f\\x0e\\xbd#\\xc6\\xae\\xf6\\xe6h\\xbb\\xbc\\x05u\\x1f\\x8b\\r\\xe9u\\xe88IF\\x97\\xf6\\xbe\\x12\\xfc\\xf5\\'\\x8f\\x08\\xd6\\\\\\x12\\x8a1t\\x80\\x8e\\xf3\\x8b\\xa9Y\\x83\\xc0\\xb2\\\\\\x1e\\xba\\x875\\xb0\\x03#\\xd6!e\\xde\\xd6\\xa7p=?\\xd4\\x94aX\\xac~N\\x12\\xccI\\xa9\\xb5\\x98S(F\\xde\\x10*SOA\\xd0$\\xcdg\\xce\\xb0\\xab\\\\\\x87\\xc3\\xc11\\x8d\\x0fC\\x8b\\xdb\\xc7\\xf2)\\xfb\\x8e\\xe9\\xfe9\\xbc\\x9d\\x15j+\\x1a\\xb9;\\x92\\x0eT\\xf8\\x87\\xdc\\xb6H\\xc1\\xd5h\\x1e\\xfd\\x96Xb\\x03+$v\\x8e4G\\xfd\\xc7\\x8f7yZ/\\x9ed\\xe2\\x044r\\x9c\\xfc\\xa7X\\xbd\\x95S/\\x9d\\xe6L\\t\\xc0\\xf0lzb\\xd4c\\xc9\\x95\\xb2|9@,\"\\x1c\\xf9[\\x08\\xaf\\xb4\\x82\\xe2\\xe0#\\x86R@\\xa3\\x99G\\x87\\x8c]\\xe0\\xd1\\xfe\\x9d$\\x90\\x1e\\xf4\\x90\\x9e\\xdd\\xd2\\x0cKE\\xb6\\x13\\xc3\\x82*\\x1cO\\x0e\\xc6}\\x04W}vD\\xe7|T\\x88\\x11\\xff\\xff\\x9dd\\xc3\\xcf\\xe1wJ\\xc6\\x11\\x7f3HG\\xff\\r=\\xb2\\x14\\xd3\\x84tz\\xf9{|\\t;\\x88}<\\x8b\\xf4\\xe8\\x88j\\xa4i\\xb8\\x92J\\xbf\\xd9M6\\x01!\\xb6q0\\x18\\xb61\\x01g/\\xaf\\x9c\\x055d\\xec\\x9c\\xf1\\x83\\xddZ\\x92u\\xdb\\xc0\\x00\\x94\\x0cl\\x03\\x8df\\x7f\\xc6H\\x88\\x08o|r\\xae\\x81\\x7fg\\xdb\\xdc\\xbb\\x84\\xd8f\\x8fs=.\\x11\\x1c\\x06\\xd8(W\\xc6\\x06\\x00My\\xe3\\x03%f\\xfe{\\xbe\\x03\\x8d\\x14\\xafNlyl\\xcdV\\xf4\\x84\\xfd\\xa9\\xa4\\x18\\xd0\\xba#\\xafb\\x01n\\x16\\x87\\xc5\\xc35\\x91\\xa3\\xee\\xd7\\x15+w\\xff4\\xfa\\xeb5Vn\\xacg\\xe7\\xc5g\\x05\\x17u\\xf3\\xe5\\xfc\\xf8\\xe9L\\xe8\\xf5M\\x13d(Rf\\xdb\\x86\\xb2\\x9bR\\xf9x\\xf4*\\n\\xc3\\xb6\\xcc,\\xa4\\xbaY>x\\x84\\tv\\xd9\\x08\\x7f\\x9c\\xe3Y\\xc1>\\xca\\\\\\x11\\xa5w2\\x9a\\x0b\\xb6r\\x7fWE\\x84\\xec%\\x94\\x00\\xe2O\\xbf\\x94\\x18}\\xe8\\xe5\\xbf\\x9b\\xa1%\\x13-\\xb3\\x13\\\\1X\\x07$\\\\\\xef\\xcf\\x97\\x0cj\\x050\\x03\\xdfo\\x05\\n\\xaf\\xd0m\\x8d0\\x19\\xb2u>\\x18k+\\xe5\\x02ux\\xfc\\x0f\"9\\x91\\x14+\\xb0\\x8f\\xd4\\x95\\xc9\\xfd\\xd6\\xd6;\\xb2\\x90|\\xf8\\x03\\xaa\\x95\\x8a\\xb8\\xb5\\x83\\xef\\xdb{V\\xef\\x90\\xe3\\ns9u\\xa8\\x81\\x02E\\xd2\\x90h\\xf34j\\x1cl|\\x197\\xbb\\xce$\\xd0\\xae\\\\\\x7fL\\xbe\\xe6\\xfdN\\xdb\\x1c~\\xd0w\\xd7\\xa2\\xf2Y\\x1d)\\x04\\xdf\\x98\\xea\\xee\\xde\\xed\\x85+s\\xc99I\\xc6>\\x8b3\\x963\\xd7\"5\\x12\\xa2\\x8a;\\x9c:f;v\\x04\\xb7\\xbe\\xc0\\xc6\\x99\\x06R\\xb8\\x7f\\xb4\\xad\\x1a\\xe7}\\\\\\xfdT\\xacR\\x82H3\\xbd\\x91\\x82Y.u\\x08\\xa2\\xb5\\x11\\xf0\\x81?\\xe5q\\x91\\xaf\\xc1Nl\\x16M\\xf7m\\xde\\xb00\\xf2k\\xd2F\\xcaZ\\xf2\\xe1(k\\xb6#!Rf\\xc5\\x9e\\x17l>\\xae\\xf5\\x9a:5\\xcc\\xfb\\x15\\xbc\\x1c\\x8e;\\x04\\x85N\\xc8Q`\\x1e\\x91\\xfa\\x0f\\xd3v\\x05\\xe9\\x12\\xcd\\xd8\\x08\\xb8\\r\\x7f\\xda\\xc6\\xcc\\xbe\\x90\\xedZU\\x90\\x0f\\xa2\\xc7x\\xa6\\xbe\\xf4\\r\\x17_\\x9e\\x89\\xcc\\xe7S\\t\\x88\\xfdj-u\\x0bk\\xf6|\\xc2\\xad\\xb8B\\x8b\\xbe\\xf88\\x03\\xec\\xb4\\xf3\\x84\\xe0\\xfa\\xdcN\\xf4\\xe7\\xea\\xde\\x9d\\xd5\\n\\x83\\xfc\\xd4\\x07\\n*?w\\x08\\x887\\xbb\\xdcI\\xee\\xe0] \\xfaY!\\x15\\xa5z\\x1e\\x1b\\x14\\x88<!c\\xc8\\xb4\\xbf\\x91`\\xaf\\x1e\\x9f\\xf5\\x1d=o\\x83\\xf6\\x18\\x8aZ\\xc6\\x84u\\xbb\\x9d\\xac\\xffu\\xe4\\x86\\xc7\\xba\\x1ar\\xcfc>z\\x82\\xf6\\x8d\\xd4\\xef62\\x1do\\xe7\\n\\xe0}kgb)\\xb3\\x05\\xeb\\xe4\\x8e\\xe6\\xb7\\xd3\\xb1\\xc9\\x16\\xabf\\x83\\x1a\\x16\\x16i\\xf0\\xa6\\xaar\\x08RnZ-\\x13\\x8b\"\\xa1\\xa0\\x1c\\xca\\xd8\\xcf\\x82\\x81~\\xe5\\xa6o\\\\\\xfe2\\xe0\\x7f\\xdd]\\x89#^\\x87\\xef\\xb6J\\x7f\\xf3>\\x14\\x1f\\xeb\\xb5w\\x86\\x7f\\x9c\\xe5\\xc0\\x9e\\xf2\\xa4\\x96N\\x0c]\\x84;\\x8d\\x97\\xff\\xe1F*\\xd2\\xd4\\x1eG\\xd9\\x07O\\xf0\\x8d\\xb6\\xa1L\\x08\\xf3\\xa4\\x0c\\x15\\x8e9<\\xfad\\x96U\\x15mq[\\n\\xea\\xfe\\x85_(o#\\xfc\\xab\\xd5\\xef\\x9b\\xb8\\x00l\\xa2q\\xcc\\xe7\\x10y\\xe2f\\xb6x\\x8bb\\xef04\\xa4\\xc0\\x14\\x94\\x89}\\x159X\\xd5d\\xd8)\\x0ep\\x07\\x86\\xec>.\\xbc\\x8cl\\x0b\\xf8y\\x98\\xac~\\x84\\xbd\\xb6\\xe67\\x08\\x94\\xd3\\xd2\\xd6\\xec\\xdcsv\\n-\\xbb\\x17\\xc5M\\xb1\\x9b\\xa09\\x9c\\x81\\x08(\\xcb\\xc2\\x86$\\xce\\xb9\\xe0\\xa5Z\\xb7\\xcb\\xe9\\x1f\\x81\\xf4(|\\xee\\xba\\xf6\\x9e\\xb7\\x83{\\xd5\\xea\\xdb\\xe1ZA\\xaa}\\x1fB|\\x81\\xeb+G\\xde\\x85\\xe1\\x87n\\xf3\\'\\xdc6\\x80TV}\\x0e\\x04OV\\xc2L\\x0cfc\\xb8\\xd5bk\\xa9n\\x9e\\xdf\\xfa\\xe6\\xa4\\xea\\xf1\\xe1\\x8e\\xdb\\xdd)\\x12$\\x89H\\xa2~\\x99X~l\\xf8$\\x00\\xe4N~v5L\\xa1\\x7f\\x85\\x08<I\\xd4\\x06\\xdf\\xbat\\xdb\\xcc\\xdb\\xd3p*\\x91;\\x11\\xe2\\xd1a\\xe0\\x1dj\\x02\\x7f\\x1fV\\xfc\\x12\\x7f\\x11\\xef\\xaf\\xd9\\xc8=\\xd1\\xf0\\xca\\xfb+&\\xb5*U\\x84e\\x9f\\xedX\\xe0\\x03(\\xf411\\xccl\\x1b\\xb9>\\x1c\\x11\\xe0>\\xc9\\xf1H\\x9e\\xbbh:\\x8f\\x12\\xeeP\\xda\\xed\\xe2\\xee\\xa0\\x0b\\xd1D4\\xc6\\xdc\\xc4\\x9d\\\\yh\\x8aD\\xca\\xad\\x1f5\\xd6jJ\\xee\\x1e8\\x90\\xb5\\x89\\x8c\\xa3\\xfe\\x05b\\xbf\\xfb\\x1c}\\xe7(\\xba(\\xe9;pT\\x99\\xb5A\\\\\\x1e\\x844\\x15\\x99\\xebJ\\xc3\\x8d\\xb7\\x14\\x8f\\xce\\xa5x1\\xa9p`.\\x0fa\\xae^&~\\xdd\\xb9r\\x92\\x16\\xa6\\x14\\r\\xcd\\xe1\\x9f72\\xf2=\\xc8\\xc1p\\xdci\\xc6\\xddT\\xa2\\x119\\xa5fS\\xf1u(?\\xb1\\xde\\xc5\\xba\\xd6\\xfb\\xa6\\x12P\\xce\\xa0\\xac\\n\\xc6%\\\\\\xc8j\\xc5\\xf2H\\x08.\\xd7\\xa5\\x0e\\xda \\x8c.X\\x98\\xaa\\xc1\\x85\\x94\\x1c\\xad9\\xacEW\\xfcG\\xb5\\xfer\\x0c\\x10\\x1aV\\xc8\\xa3\\xcde\\xea\\xec\\x88Hb=\\xe9\\xeb\\xe8\\xa7\\xcc\\xfb\\xf5P\\x841\\xccM\\xc8\\x1e+\\x93!\\xa7\\xe7w7x \\x94\\x05\\x8e\\x8f~\\x9fKG\\xb2\\xb2\\xc2X\\xd2i\\x009\\x17K\\x8c\\x8d\\x19\\x1b\\xe0\\xb2Hu\\xb7\\xdd\\x06b\\xf5\\x00\\xba\\xbf\\x04\\xf0\\xf4`\\x9e\\xc0\\x88\\x8b\\t\\x1f\\xc9\\x92\\x05\\x8f\\x1e\\xdfO\\x19G\\xf5\\x8dgm\\xb0\\xf1$x\\xd8`\\xd2^\\xa6\\r\\x060@\\x82\\xb9\\xda\\x85\\xce\\xe5Q8\\xb3gD\\x01\\xaa\\n\\x9c8\\xc6\\x8cI\\xe3h\\xa8\\x92\\x07\\xce\\xe6\\xc8\\xb3z\\x92\\xbfo\\xd1r_\\xf2\\xb5>2\\x7f\\x1d\\xec\\x9b\\x89\\xacZe\\xac\\x8a \\xa7\\x89\\xae\\xfd\\x96bt>\\xd5\\x10\\xf5g\\xfd]m\\xd2\\xba/>a\\xf9\\xbe\\xfe\\xe5g\\xe6\\xbd/t\\x97\\xd4\\xe9L\\x9eH\\xfbt\\x91\\x97\\xdb\\x85?\\xfbmB\\x9b\\x9f\\xd9\\xb4T\\xc5g8\\tB\\xab\\x02\\x13f\\x8f\\xd3%\\xac4\\xa2J\\x07\\x17H\\xee\\x11\\xbf\\xbe^:\\x83\\xf2d\\xfe\\xcd\\x95\\xb9\\xdb<\\xb2R\\x16\\x98\\xd0\\x9bv\\xb3\\xab\\x19\\xa6\\xf4Wez\\xa4\\xa7\\xc6Z\\xc6\\n\\xfe_\\x83\\xedI\\xd9\\r\\xe0\\xdb\\n!z\\xa99N\\x87\\xfc\\xd9m\\x13}\\xd8MHmH\\xd0\\xf4\\xfdD\\x06%\\xb7J?\\xbcC3n\\xa3:j\\x1d\\xbeG\\x97\\x90\\xaf\\'gr\\x1aW: \\xd81\\x11L\\xe1\\xd4h]\\xd8T`b\\xe6\\xf0\\x8e\\xc2j\\xbe]\\xf2H\\xd4\\x7f\\xbc\\x9d\\xdc\\xb1\\x1b\\xa2\\xcbT\\x11\\xd4\\xd8SD\\x99\\rp\\x84=\\x8e#\\xa4\\xef\\xd6)KU\\xcb\\xd1\\xa3tz\\xb2\\x81[\\xd8P\\xae\\x1fc\\x8b\\xd5\\xf0}\\xc1s#L\\x1f\\xd2\\xde,tP\\xce\\xf1\\xf4M\\x8eb\\x7fa\\x8b\\x95\\x9a\\xb4\\xc3\\xc7\\x00/7\\x08\\xbe\\xee\\x18\\xa6/2\\x8d\\xbe\\x11\\xad8CP\\x12\\xd4\\x18\\xa7\\xafis.~\\xa5\\xf2\\xa4\\x1c.\\xe2W\\xff\\xbbV\\x9fqA\\x07\\n/^Q\\x01A\\xf5\\xc9m\\x82\\x7f,sT7\\x86\\x97\\xa1\\xdf^\\x07\\xf3\\xaf\\xa8\\xb1\\x7f{\\x05\\xe8\\xce!\\x02\\xa4\\x89\\xe4\\x83\\x08t\\xf7\\xb0\\xee\\xa5c\\x02\\x18^L!k\\xfc\\xe3\\xf8#\\xb2G\\xdf\\xfd\\x04#\\x8e\\xdf\\xaa\\xbawU&\\xb0\\xb0\\x9f\\xa9\\xb5\\xbe\\xf0\\x80\\x1a\\r\\xe2\\xa8\\x9f\\xb0\\x07:Y\\xd1\\r\\xfd\\x1e\\x9c;\\x00\\xd5Sm_\\xbfd@\\xa9\\xaf\\xc9\\x91\\x95\\xe3t\\xb7\\x8c\\xdfR\\xc0RWZ\\x8d)\\t1\\x854G\\x9f.\\x06\\xe3\\xd0\\x17JQq\\xcf\\x1e\\x1c\\xc3+@\\xd4\\xe9\\x84\\xedE\\xff\\xfcd\\x95\\xb02+\\xacM\\xf2\\x94\\x88h!\\x16\\x00{\\x83\\xfcO^\\xdf\\x02\\xa0\\xa6\\xdb\\xfa\\xe9\\xdb\\xd3\\x7f\\xfcq\\xf7X\\xd12sD8\\x81}Sdyl\\xfcA\\xf9\\n\\xf4\\x1a\\xf7\\xacMM:y\\x11\\x13<Tz:\\xbe{\\xbb\\x0f\\x8eD\\xcbHw\\x03;U\\xac\\xdew`\\x0b\\xd5\\xf4\\xd3,\\xcf\\xe2\\xab\\xb7\\x0ePW\\xca~r\\xe8j\\xc7}x\\x06\\x18\\xf2HE\\x1b\\x16\\xd7 D\\x7fP\\x9d\\xe3\\xce\\x93\\r\\xee&|\\xfbp\\x9b\\xaap\\x8b8\\xc6F\\x02\\xe4\\x86\\xab\\xc9\\x13\\x9a\\x02^\\xd4\\xb8\\x8e\\xf7\\xd3\\x84+\\xc6\\xb7\\xaa\\xf4\\x9a\\x91\\x1f\\xf8U3\\xc4\\xee.\\xd4\\x88\\xd6\\x87\\xc6\\x90\\x1dwWs\\xf5\\x8a&\\x8e\\xb3\\xa1\\x80W\\xbd\\xba\\xf9\\x12\\xd8\\x88\\xa7\\xfb\\x04AQ$\\xf7\\xf3\\x8a\\x85,\\xf23\\xa3u\\xf9\\xa2P\\xb4\\xee\\xfd\\x9e\\x10\\x94!\\x01\\x86\\xfa\\xb2\\x84\\xae\\x01\\xc0\\xd3\\x96\\x07\\xa2\\x181g\\xb0L\\x893\\xc2\\x03*\\xa1\\x86\\xfag\\xc7\\xc2\\x93\\x80y,\\x85%\\xe2\\xafY\\xea|\\xde wI\\xdfN\\xf6(\\xc7\\xc4*G\\xfa\\tg~\\x86\\x1f\\'z&\\xdf\\xef\\x0e\\x8a\\xb4\\xd9\\xc8u\\xab\\x8aN\\x08\\xe8\\x15B6z\\x0f\\xfe\\xb1H\\xf2\\x0e\"\\xd2$\\x91\\xe7\\xe7\\x1f\\xd5\\xc0\\xac\\xeeX\\xdeZ\\xdb(\\x08>\\xf0aT\\xfe@E\\x04j\\xf4\\xa2+\\x16=A*J\\x01U\\xd7\\xc4\\xb9\\xfd\\xc8\\xe9\\x03\\xa8\\x8c\\xe7\\xc2G\\xbcI\\xbc7\\xf8\\x1e\\xe3\\x1a\\x85\\x1a\\x9ej\\x8b\\xd4A\\x15i8\\x90\\xdf\\x0c\\xea=\\xc9\\x03Y\\x8e&\\xa8\\x01Y\\xddT\\xfe\\t1f\\x8aN\\xe8\\xff\\xb9\\xfe\\x93i\\xaa\\xb9\\xdc\\x80q\\xd8\\xd15\\xdf{\\x07b\\t\\xd8\\xc8x>\\xad\\xd4\\x9c\\xd8\\t\\x84\\xfc2\\xac\\xbb\\x07+\\xae\\x0b`\\xc2\\xf7\\x03,\\x8b\\xa2\\xb2\\x9b\\x8d%\\x13\\xb8,\\xe3\\x1a\\xb1H\\x1f\\xf3\\xfa\\xd3\\x862\\x8b\\xb6~\\xc5\\xb8\\xa3\\xc6\\x0e\\xc5\\x8e \\x18/\\xd1\\xaa\\xdb|\"+\\xd1\\xfah/\\xef\\xac\\xe3:\\xbf-&\\x05\\xcb\\xd0\\xe5\\x91\\x9fL\\xfc\\x88\\xce\\xfdW\\xe3\\xed\\x839\\xcb\\xc50p\\xd35\\x17\\x83\\xb5\\x07~\\x1c6:\\xa5\\xbeh\\x1dG\\xb4\\xbd\\x9c\\xa1\\xf8b\\xda<\\xa3K\\xe8\\x1e\\xa6\\xffI\\x99\\x01>-\\xa8\\xa15\\xb8\\x16\\x9b\\xf7\\xe4\\x02\\xeb!0\\xbb\\x9f\\xc5\\xf0K\\x1e\\'\\xc0\\x88A\\x03\\x1d)\\x89P2\\xbb\\xc3\\xc6\\x18r\\x9e_\\x9a[\\xf0\\xff\\xec\\xbe\\x95T\\xb2\\xfe4\\r\\x82\\xa8\\xe4\\xd8\\xce\\xa4\\xbe&\\x97\\xde\\x840\\x00\\xa9\\xd8\\xd0\\t\\xe6q\\x95\\xb5\\x11.\\xd8\\xea\\xa4\\xdfr\\x90]\\xe7\\x88?\\x1b\\xfb\\x01U\\xf7\\xbc\\x07s\\xc3\"\\xc5uv\\xd6\\x97\\xf8\\xba\\x1d14\\xd7]\\x81\\xec\\xf6\\xa3\\xcc\\r\\x8d\\xee \\x18\\xd1\\xd4\\x8b}\\xda\\xae\\rG\\x8bn\\x81)\\xd0B\\x19\\r\\xdb\\xf6\\x88x\\xa5v\\xa1\\x80\\x87\\xea\\x94\\xcfL\\xb4\\x8a\\xe3\\x0b\\x08\\xe6\\x85\\xe5\\xe7\\xa5EV\\xca\\xaf\\x81\\xf1\\xd6\\x9ehmrCW\\xe2\\xd3\\x07F\\xfac\\xa4W\\xa2K[X\\rnN\\xb6\\x95\\x88\\xd3\\x0eRo\"\\x8f\\x1bU\\x94z\\x19J\\xe1\\xda\\xa5\\xf4\\x89\\xb2\\x9d\\xe8\\xeei\\x7f\\xd7 @#5\\xa2\\x9d\\x16>4`P\\x1a\\x1f\\x0cB\\x02\\x8b\\t`a\\xddV\\xb4\\x87E*\\xf4#\\x0e\\xe0\\xdaj \\x15\\x82\\x95\\x0cV\\xcf\\x05s\\\\R\\xd6@E\\xa6\\xc5?\\xa0\\x92\\xee\\xd89 \\xe6\\xb7\\xa2O\\xebm\\x9b\\x9b\\xaa\\x90\\xf8m1\\t\\xf4!W<F\\xdd\\xdd\\xcb\\xe2\\x8c\\x02\\xdb\\xc4^u\\x92\\x85\\xca\\xc7\\t\\x9ehCc\\x90\\xeb\\xf07*P\\x0f\\xf2m/\\x93n\\x1cY\\x88A\\xa6\\xad\\x92\\xeebtQ\\xeb\\xab\\x9de\\xce\\xca\\xbb\\x18\\x07\\xb8\\x83\\xc6H\\xec\\xb3\\x1e@{,\\x05E\\'MZ\\xba\\x80\\xeda\\x96\\xb8c\\xdc\\xef\\xb3_\\x90\\x80D\\xf0\\xf5|5o\\xd6*s\\xe7N$\\xe8.Q\\xa9$\\xd7?\\xb9\\xcb\\x0fs\\xed\\xa9,\\xcb\\xe0p\\xd08\\xdd\\xadi\\x94\\xe8\\x96\\x95\\x7f~\\x1aZJ8!\\xca\\x00\\x94\\x1e\\xad|\\xdc3j2\\xe5\\x90\\xb0x\\xc1\\x86\\xbd\\x88\\xf8\\xc2;\\xb1:ve]\\x8e+\\x93\\x94\\xa1\\x12\\xa80\\xc7\\x97\\x88\\xda\\xc9/\\xcfOC\\x9bG\\x88A\\x854\\x13\\xc3\\xbelk\\xb1{\\xd4rM\\x04\\xb6\\x17\\x0f\\xc0\\xb7\\x83\\x0c^\\xc3\\x8d\\xf7\\xf1R\\xa1Fy\\x8bM\\xf41,\\x131\\x8a~\\'\\x1a\\xbf\\xdd\\x97i\\xdf\\\\\\x89(\\xc5\\xc7\\x81\\x1d\\xce\\xc8\\xfe\\x12\\xdea9=\\xb8\\x9c\\xfe\\x0c\\xda\\x8f\\xef\\xcd\\xab\\xf73Uf\\xc7\\xc2\\xac\\xff*\\n\\xf8\\x8c\\x8fC?xJ\\x818\\xe27\\xab\\xc5\\xc8\\xe9\\xd2R`\\x11\\xa9\\xd8\\xd81m\\x88\\x0e\\x1e\\xda\\x83\\xa5\\xb6\\xe4S\\x18\\xc42\\x05w\\x9e\\x8d\\x9c\\xef\\xa0sR\\x1c\\xd1r\\xa8\\xe0\\xcf\\x93\\xdb\\xe4E\\x00\\xe8\\x87\\xeaQ\\x16e\\xc0\\xd9\\xcaS5\\xb9=<\\x17\\x04Z\\xa5\\t\\xdaf\\xed\\xe6\\x08\\xa8^B\\x83\\xf0\\xd0\\xf2\\xf5\\x0b\\xad&\\x83\\xbc.\\xf5;\\x97\"\\x0c\\xe83\\x91m\\x7fHhZl\\x99\\x04\\xe8P\\xcb`36\\xab! \\xdd\\xcf\\xed\\x1c\\x96\\x11\\xf9i@\\x93\\xf4W\\x97}\\x98\\xa3\\xeaEJ\\x8b\\x84\\xca\\xcb\\x82U\\xd5:\\xb7\\xee\\xa7\\x0bc\\x91\\xd1\\x19\\xa4\\xa2\\xf1\\x99\\xa2\\x06\\xfa\\xcf]\\x08)\\xeb5t\\xdcm\\x7f\\x1b\\xaa\\x93\\x03B3\\x12\\x1c\\x1d\\xd8\\xb1\\x96\\xd7&3;\\x82m\\x01,\\xb2\\xa2\\x9dD\\x02O=C\\xba\\xe5vtF\\x97=\\x97$\\x9f9`\\xa6\\xfc\\xd5\\xf4\\x01\\xd5\\xcc\\x95\\x80$\\xd4\\x9a\\xc3*J\\x14\\xbbm\\xaca\\xcd\\x99\\x96\\xaa{\\xd2@;K,\\xd3\\xd2\\xc0\\xff9\\xebT\\xd8\\xcd\\x9eu~\\xb2\\x1e\\x1c\\xbb\\xd3/n=\\'\\x8bia7\\xd1\\x8f<\\xc8\\x04\\xc2)\\x16\\x03\\xb2\\xee\\xf4\\x88\\xe2\\x99\\xc0\\nuha\\x15\\xc8Q\\\\\\xd6;G\\xf5yY\\x97\\xe8\\xec\\xcf\\rr\\x96-\\xabS\\x1c\\xd7]\\xf6\\xf8z\\xaa\\n\\xa8\\xa4\\xe8\\x15\\xa2kN\\r\\xd9\\xdeN]\\xc0\\xb6\\xb8\\xd7\\xef\\x07\\xe0\\xab o\\xbd\"\\xd7\\xf0c\\x99\\x18D{I-3\\xc7#\\x15\\xc3\\xf1eD^aH\\xd1\\xeb\\x13{6\\xefu\\x05\\n\\xdcN_\\x14tz0\\xf5\\x99\\nT\\xc7\\x95$\\x06\\xcb\\xd2B_\\x02\\xa5\\xfbL\\x83-\\xa6\\xb07]\\xa4\\xf4\\x88\\x15\\x16\\xe0\\xf8\\x1bPL\\xf5s\\xaf|\\x86l\"(\\xcdU,\\x7frxF\\xad\\xbe\\xccfG\\x863\\xcdT4,\\x05\\x90\\x89\\x15 .\\xf1\\x1f\\xea\\xdaiV\\xd3\\x93\\x8b%9\\xaca@\\xc0\\xfat|\\xb7\\t\\xd5T\\xc1i\\x85l4\\xbf\\x00\\xa3\\x1c0\\x9c\\x90nx\\x107\\x8a=6\\x08\\xa5\\xd9\\x88\\xb1\\xf0\\xf2*=+\\xf9\\x7f|/\\xc7U\\xd7a\\x86\\xf2x2\\x87sI\\xf6F\\xf9\\xa3T\\x0e\\xc5%\\xe1\\xc40\\xf9\\x97x\\x10<\\xb1\\x87\\xe7\\xf3e\\xed\\x19\\x93\\xe4Z3\\xa7\\xfd&\\xd6\\xb1\\xf48\\x8c\\x089\\xf1\\x9f\\x19\\xa8/\\x9c\\x9c]2\\xab\\x81\\xf7\\xbf\\x05\\x03\\x0c\\xa4\\xd5\\xe6\\x95\\xad\\xd3\\x86\\xfc,1\\xcb2{\\x03\\xf2\\xd9pq\\xeeN\\x00\\xbb\\x18\\x12\\xf2no\\xdc\\x8c\\xfc\\x06\\xf1*\\xca\\x9e$d\\xeb\\xectX?\\xe7>X\\x14\\xe1\\xe2!\\x1eM\\xa9\\x00\\xdd\\xec\\xec_{\\xafG\\x15k\\xae6:F\\xc6\\xdef\\x17\\xf4\\x13|=\\xae G\\x0bd\\xb2D\\x8a2B\\xbam\\xcb\\xa9?\\xe7v\\xef4\\xf7\\x15w\\x18v\\x7f\\x1b\\xdc\\xf8\\x98K\\xc5\\x99T1x\\x08\\x12\\x89?vD\\xbe\\x1a\\xe9\\xeb\\x94\\x85\\x07\\x88\\x01\\x0c\\xd9\\x14\\xf4\\xb8\\x87\\x85}\\tC\\x07\\x92\\xbc3c7\\x1e\\xd3\\xed\\xe0\\xa1;\\xea5\\xce\\x8f\\xa5;\\xf3\\xbcG\\x9a\\xab\\xb5pK\\xd2CHI\\xa3\\xa5\\xe1\\x84\\xef t-\\xc3w7]A\\xd4\\xf1\\xa4+Bx\\n\\x07\\tW\\xe4P\\xa6Q\\x07\\x1f\\xf9\\x0e\\xda\\xaf\\xb0\\xd8\\xb7\\x8e\\x8e\\xe5\\xa4\\x11cu 3\\xa7\\xe4\\xd1\\x88\\xc7\\x127\\xc7\\x0ed\\xf9*x\\xed_\\xb8\\x8c\\x95\\x90\\xf8\\xf0\\xf11\\x9cX\\xa23B\\xac^}\\xd8\\xde\\xe7\\x1f\\xba\\x97|\\xf4 \\x0b\\xee\\x85\\xdb\\xe7\\xc5~c\\x0e\\xf6z\\xbf\\xc1\\xf8z\\xcc\\x88\\xc4\\x87\\x00\\x9a&o\\xa5\\xfbz\\xa6\\x08M?H\\x1cMG\\xdb\\xf0\\x18\\xbe\\xae=\\x89\\xc0\\xbf\\xb5B\\x8a\\x0c\\'\\xe2\\xfd\\xab\\xb5\\xeans\\x04A\\x0ehthw\\xc2\\xa7\\x10\\x08\\xe1\\x8f\\xef\\x0f5\\x14v\\xd8\\xe6b\\xef\\x84\\'\\xdf\\xfd(\\xf4\\xa4\\xab\\xf2]\\x04;\\x95\\x08\\x96\\rT\\xe8\\xd8\\x95(\\xba\\xb1\\xb5\\x0b\\xd03\\xac\\xe5\\xa1P\\xec\\xbb\\x1d\\xe7U\\xe7\\x10N\\x02\\xeev\\xd1h\\xcb\\xef\\xbaC\\xd3q\\xf6\\x92$\\xa0\\xf2\\xf8\\xc8\\x87\\xbds\\xff\\xad\\xa6\\x8c\\xf6\\xc6K\\x96\\xf8\\xb5\\x8fS\\xb9!\\xb1U\\xa0\\xea]\\xa63\\xa7\\xbdm\\x8554\\xb3\\x14>\\xf9L\\x84*\\xea\\xbc\\xf1c\\xe7f\\xf37t+\\xf5\\xff\\x97\\xa4F\\xc4\\xd2\\x08\\xf4\\xe3/\\xc5\\xbe\\x0fV)\\x80\\x0cRrpv(\\xfe\\x00\\x11\\xd7%O\\xc3\\x8e\\x06B\\x05\\x1f?\\rq\\xc1\\x13\\x07l\\xd9l\"V7\\xc5UaT\\xfb#d\\xcd\\x82\\xbap\\xcb\\xc2(Pw%\\xdc\\x04\\t\\r8\\xa6\\x07u>\\xbd\\xb4\\xc6\\x85q\\xbf\\xd4\\xecT\\xe6,yQ\\xd3\\xcaN\\xc0\\xf8\\xd4h\\xc0\\x8c\\x99\\xc2\\xce\\xe7\\x05H^\\x17\\xff\\x91S\\xe1\\xc1\\x1f$\\xf0x\\xc9\\xa3$\\x17D\\xc6-Q\\x90\\x83\\x80\\xcb\\x8d)7\\xfd\\x8f\\xaa\\xc8\\x9e\\x17\\xde\\xdeR\\xbf\\x17!}B\\xa5\\xb0ct\\x1b\\xddqu\\xb6\\xce\\x14:\\x15\\x0eMn\\xfd\";(\\xcc\\x8a+I\\x95\\x07.\\x0eG^\\x98\\x8f\\xc2O\\xfe\\x7f/\\xf0\\xda&\\xa8\\xea\\xc1\\xba\\xd1\\xb6g\\x9a\\xb8\\xd4,\\x8d\\xf7\\xc9\\xbb\\x97ho\\xff\\x1bG.\\xd9\\x18\\x7f\\x0fa3\\xc7F\\x93\\x02\\x0ff\\xe9\\xf5\\xcb\\x87\\xe8\\x1e\\x9f\\xe1\\xf7\\x9f\\xdaD\\xeb>\\x11\\xf3\\xdf\\xfc!\\xe49\\xfat\\x8d<\\xf0\\x15\\x8b\\x88V\\x05\\x05[\\xe7a\\xfd\\xd8A/\\xca\\x1c\\xbb\\x80o\\x98\\xebRb\\xa5\\xdf\\x16\\xf4<\\xaa\\x86\\xb1P\\x02\\x85\\xab\\xf0\\x00\\xf8L\\x9e?8\\xd9O\\xd6\\xba\\x84\\x94\\xa5\\x1ck&\\xc0\\x8d\\xd8\\xe2\\n\\xd3\\x1b\\xfce\\x17Fr\\xab\\x08\\xe3\\xe9j;\\x06\\xf1\\xb7\\x1e\\xee=\\x89\\t\\xf3N\\xc3\\xf5\\x94\\xbeb\\xa49\\x8e\\xb3E u`\\xce\\xb5y\\xe7s`H\\xc8l\\xe2\\x14\\xdb\\xa78\\xa4\\x0e\\x01o\\xa5\\x19\\xd3\\xd5\\xa7b\\xceX\\xfc\\xa3m\\x07Z\\xf2\\xcb\\x87\\xd9\\xcc\\xa2X\\x15\\x0e\\xc4\\xae\\xb0C\\xb7\\xc0\\x99\\x0ff\\xdei\\xc8\\x9fpa\\x01G\\x11\\x88\\xda\\xa8KU\\xa4\\x1d\\x14;sVE\\x84i2\\xd2\\xc8\\xe8\\xf0+\\r\\x94$\\xa0T\\x8fA(\\xbc\\x00\\xa7\\xe9,r\\x15\\xe6a=UH\\x88\\xb6\\x909\\xc5\\x1c\\x84\\x9bc\\x98\\\\\\xca\\xe9\\'\\xf6\\xb3\\xe7\\xa6\\x14\\x8bK\\xddB\\x85H=\\xcaE\\x15HRi\\xa6\\xb2\\xb8\\x06\\xcc\\\\\\xa7X\\xd3W\\xac\\xab\\x00\\xe1\\x92\\x82\\xe27#\\xdf\\xc9k\\\\0,hM\\x07\\xddw\\xcf)\\xbf5o\\x99_\\xd6\\x1c\\x1b\\xe6\\x7f\\xf3*\\xa3b\\xd2^\\xc2\\x9d]\\xdb\\x82{\\xa5\\x00\\x90~\\xb3\\x059\\xd6\\xd4\\x1a\\xe5\\xd9\\xf0\\xfa\\x8fi\\x93\\x16\\xa0\\x9eG\\x8e\\x96\\xa1\\x1aQI8\\xb5\\xba\\xf1x\\x96\\x1d\\x14\\xd8\\x0c\\x00~\\tv+)q\\x9c\\x98\\xd3\\x07/S\\xe6\\xdc\\xa5\\xbaD\\x03\\x05\\x15 \\xdb\\xbb\\xdc\\ntX}\\xd9\\xa8\\xbb\\x84-\\n\\x97S3\\xd0\\x1c\\xcf\\xac\\x10\\xedg\\xc1\\xeecX\\xb9F3\\x1d\\x1b\\x898\\x16\\x17h\\x15\\xfd%\\xeb\\x7f\\x99\\x9f\\x97[=\\xaa.\\x96Y\\xbb\\x11\\xe1[\\xe8\\x94\\x1a\\xb5\\x05S\\xc9*\\xf3\\xb1Nwn\\xded\\xf1`$\\x86{\\xcc\\x08<\\x10\\x9c\\n\\xe4\\xdfwB\\xca\\xbf\\x1e%\\xa2Q\\xd2\\xff\\xd8i\\x15w\\xa1\\xedi\\x90\\xa9\\x94s\\xbe\\xab_!\\xb7ts|\\x14\\x9d\\xb0aj\\xd5\\x9a\\x95+${\\xb9\\xcd\\xb4\\xc5\\x07N}N\\xb9\\xa3Z\\xf1:\\x8b}\\xcc\\x02\\xfa\\x91\\xda4\\xe4.`\\xb4@&/x\\xb0~\\xf6X\\x96\\xbf;CF\\x8a\\x96\\xe2\\xa1I,%\\x17\\x95\\xda\\x8b\\xf7\\xbcp\\x1d\\xac\\xc4G+\\x07\\xdd\\x1cTB\\xdes\\n\\xc1\\xd0\\x9f\\xff\\xa5\\x18\\xbc\\xdb\\\\qY\\x99ZL\\xb0\\xa8\\x139\\xccN\\x81\\x92L\\xf1\\x13<\\xc1\\xad\\xc0\\xc2Q\\xfeu?4f`h\\\\\\xbb\\xe8\\x9ey\\xd2A\\xd2\\x0c\\xfbr\\xef\\xf4@\\x80c\\'\\xda\\xef=\\x8d\\x9b\\xd8\\xa0\\xe7h\\x8a\\x98Y\\x9e\\xf8\\x10\\xf5\\xc5|7%\\xbd\\x8e\\rk7\\xe8\\xff\\xd6Di\\x16\\x13\\xe9\\xb8K\\xeb\\x96\\xf8d9\\xe4|\\xe7\\xbd\\xe2\\xa5\\xe0\\xefZ\\t9t\\xaa\\x05\\x88\\xb4\\xd0\\xa9KES\\xd6\\x81\\xf6\\xd2m\\x14\\x1c\\xc3\\xf6BW\\x92\\r\\xb7\\xe3\\x85\\x0f\\xb6KY\\x80>/\\xf5\\x88\\x8b-\\xa2\\x12\\xcf\\xd5D\\x81\\xfa\\xf5\\x1b\\xb5\\xdboJ\\xe2/Fp\\xe7\\xa7\\xe6\\xc3\\xd6:\\xa1A)-\\xf1\\xcd\\xca\\x08\\xd0\\xe9\\x94|Y\\xc0\\xee6?rh\\xd1\\xe0\\xa2\\x9f\\xb6\\xf2\\xcei\\xfe\\x13\\xab\\xc5\\xa9\\x81\\x99\\xc1V\\xed\\xa5t*vW$\\xe1\\xce\\xc8\\xb0\\xb8\\x03M\\xe1c\\xd2a\\x9f\\xc6\\xda\\xe0X\\xa7\\x85\\xb60\\x8d\\x13sN\\xfd\\xa6\\x1du\\xe9\\x9cL\\xa5\\x1c\\xbd\\xd3\\x95uMi@\\xa0\\x8a=\\xaem[bW\\xcf{kz\\xe84\\x07o\\xf3:s=\\xec\\xf5\\xben\\xfd\\xb3b\\x94\\xcf\\xc2<~\\xa6\"+\\xd0m\\xe2\\xf1\\xb8\\x1fO\\x19\\x14\\x7fd\\x92s08\\x8f\\xa0\\x98}}]\\xcdD\\x93\\xb6wp\\xaa\\x19 \\x8c\\x1fx\\x0b\\xf3\\x10\\xd3\\xa3\\xb0\\x0f\\x97q\\xd4Wj\\x04\\xea\\x15\\xd9\\x1fU\\xcc!\\xc2\\xe0\\x0b\\xd4\\x0c\\xd7\\x13w\\xd2]\\x83\\xf2R\\xdf\\x0e/\\xc5\\x03\\xd0V;CM\\xbe|\\x9e\\x92\\xf351\\x84\\xd3\\x9b\\xd4\\xf8\\xf7\\xf5e}\\x01\\x83\\x1c\\x8d!\\xd3\\x0f\\x96\\xc8\\xeb8\\xbb\\xcd\\x8b/*\\xdd\\xa9\\xcf\\xeb\\x94!\\xddD\\xe8\\xb8M\\x96\\xb2q\\xcb\\xfe\\xa9\\x86\\xc1\\x82u\\xd9\\x1a\\x81\\xecn\\x86\\xb0\\xa3\\x13\\x1e4\\xc5!b\\xc8\\x1a\\x88O1pn\\x00\\xd1\\x1b\\x17\\x81h\\x92\\x1fR\\xda\\x13\\x87\\x9e\\xc8\\xe8\\xf7\\x809\\xda\\x16\\xe8eMx\\xda\\xb4\\xdf\\xa4&6n\\xb0S\\xf5\\x0cag0\\x06\\x96\\xe2\\xdfu3\\xda+oY\\xb7\\x1d\\xad\\xf1\\xe2C\\xbb\\xb0\\x00\\xe8\\xa8[]\\xb6\\xff_\\xfe\\x8d\\xe3e:\\x18\\xca\\xab\\x88z_Q\\x07\\x8e\\x8d$\\x15\\xab7\\x9b{\\xc6\\x87N\\xcar\\xc4\\r\\xbfg\\x03\\xe9]\\xc8\\x10\\x92\\x8c\\x95\\xe1jr\\xd3\\xee\\x9c\\xcbEB\\xaer\\x08J\\xef\\xaf\\xe2\\xdc\\xa1*s0 5\\x01\\x83\\xc2\\xb0\\xbbn\\xaf\\x89\\x84r\\x04\\n\\x8d\\xcakgm\\x01V\\xb5u\\x17\\x91\\xf7\\x97\\xb2\\x89\\xf8I\\x05\\x02B\\xe3j\\xd4\\xdb\\x16\\xf8\\x85\\x9e\\xbdo\\xb2\\xeb\\xa4\\x03\\r\\x81\\x97\\xa1\\x08\\xac\\x02d\\x95)L\\xbdV\\x1aE\\t\\xe6\\x8auAa\\x1a\\xe9\\'\\xd2=\\xb77\\xe1\\xb5;R\\xb0\\n\\xee\\x0b\\x9b\\xa5\\xca\\xbb\\xa2nRS\\x17ce\\xbb\\nu\"\\x08\\xd6\\x07\\x0bmr\\xa0\\x13{_\\x1e#\\x86c\\x08_y\\x86\\x90\\x95\\xc0i\\x1c\\x06;nx\\x9c\\xb7P\\xa1\\xa4\\x88\\x0c\\\\\\xdc\\x7f\\x0e\\x8a\\xb5!\\xccC\\x81>C\\xd1v\\xff\\x86\\xf8\\x8e\\xd8k\\xeeD\\xd0K\\x87g\\x12.\\xd9s\\xce\\x82!\\xfb\\x90*\\xb0\\xf4\\x1c\\xaeb\\x83$\\xfc\\x91C7r\\xa7\\xec\\xf5%<\\xf4\\x8e^&K\\x03bc\\xbc\\x97\\xe7\\xb4\\xce\\xef\\x89\\xa3\\x1eS\\xbd\\xee\\xf8:\\x86\\xc6\\xf9\\xe6\\x95\\xb6\\xb0\\x95\\\\B\\xb4\\x1f\\x18\\xdd,\\x11\\xc8\\n\\x81\\xff\\xc8\\x06\\x18\\x95\\x96\\xbf\\x9f\\x18\\x98\"\\x17\\xc1\\x07\\xe33\\xa3+\\xc8\\x1e\\x0e\\x03\\xb2<\\x1aWe\\x97jU\\x80\\xe6\\x82\\x1ca\\xaf\\xd6\\xcd\\xcfU\\xe5t\\xa7\\xd5[/\\'\\tS\\xed|\\xc6d\\xc6w\\xe5]KK\\x95]\\xb3\\x16\\xb8t\\xa7`:T\\xd3\\xaa\\xe6\\xf2[\\x97\\xb4\\xf2\\x03\\x92\\xecYca\\xc7\\xb0\\x9ff\\xda4L\\'a}B\\xdd\\xa7\\xd49\\x1b`\\x0bdn\\x96\\x03ab\\xf7\\x17\\x99jp\\x1d\\x9cTx\\xd0e\\x8f\\x83j\\x80\\xe9\\x8a<8`4\\xea\\xc5\\xb2\\xbaq\\xf0\\xdf\\xf9o\\xfd\\xfc:\\x0b\\xa5\\xcaa\\x80e\\x1ct\\x90\\xe4\\xc1\\xc7\\xb9\\xbc\\x15\\x0c\\xad\\xbcIbK\\x14\\xa44\\xcb\\xbf\\x93\\x9c\\x98\\xab\\xc9\\xb6\\xe6\\x07\\x83=a\\xb24y\\xbc\\xb2m\\x8eY\\xe40\\x0b\\xaa\\x8e\\xfc\\x999&\\xd3\\xd5\\x90%S\\x97\\xa6y\\xb1_u\\xc0o\\x1d\\xe6\\xec\\xe5s\\xf4~\\xe7\\\\,(\\xfa\\x8b\\xe2g:\\xe7\\xae\\xa7\\xcb\\xc4\\xaf\\x1d\\x06\\xdd\\x9e\\x10\\x1c\\x830$$\\xcd\\xc1G\\xc7\\x00t\\xa4\\'q\\xa3\\xea\\xfeQ\\xbe\\xa0\\xd1q\\x18\\x10\\xec\\xea\\xe6\\xd2\\x19Z-_\\xf4\"\\x96\\xb6\\x98~+\\xee\\xe1\\xc1}\\x0e_M{:\\xdey\\xb2\\xc9c\\x91P\\x8f\\x03\\xd9/\\xb4\\xec\\x87n\\xd0\\xcb\\x91\\xa3\\xab\\xff$\\\\7\\xa1\\x8ei\\xd2\\xf6\\xa6\\x1e\\x84\\x97G \\xd3WRe\\xa0:\\x8bT\\xc0JU\\x95\\xfc\\xaa\\x90?V\\x03j\\xac\\xbe\\xe0\\xc7-\\x06K\\xf7\\xd1\\xd1\\xf7\\xd3\\xa6 n\\r\\xb7\\xcb| oS\\t\\x9a\\xbdY\\x16\\x01<\\xef\\xf6@\\xf0uA\\x11\\xad\\xe2\\xbd\\xea\\x03`\\x10_-(\\xefJ\\xf9\\x9cv\\xfa\\xefu\\'\\x96sk\\xf5]=b\\x9a\\xf2\\xa2l\\xb2uB\\x07\\x96\\xa0\\xcf\\xfd@1W\\x9dhq\\xf1\\x0e\\x98I\\x97\\xae\\x86X\\x8c|A\\x07e\\xedU-\\xc1\\x91\\xe8\\xd8\\x85R\\x89\\xc7\\xa0h\\xed0\\x11|\\xd4%\\x9d\\x7fV\\xe2\\x839\\x9a\\xe0\\x1c%*\\x88g\\x0cser\\x88\\xcf\\xf2\"\\xf0K\\xbeg\\xb6\\xb4h\\xcf{3\\xb6\\xc2\\x97b\\xed\\x16\\xc6m\\xff\\xefo\\x06\\x94\\xcc\\x9f\\xcf9\\xe6\\xff~\\x94xF\\xa6\\x83\\xf9\\x1c>N\\x0bD%~rI\\xe2\\x03\\x11\\x7f\\x80\\xc0\\xfaY\\x18\\xb4y9\\xf8\\xba\\x9f\\xa1\\x9c\\x1e\\xe2\\x1f\\x10\\xcb\\xdf?h\\xd4\\xc2\\x85\\x9b\\x1fi\\xfd(\\x9dx6\\xce8\\x9e\\xb4\\xb5\\xf2\\x92\\xec\\t8\\xddzz\\xdb\\xaep\\xbd-\\xfe\\xd8\\xd37\\xcb\\xac\\xf5\\x84\\xc8\\rJ,\\x067u\\xe2>\\xfe\\xa1O\\xd2z2*\\xe8\\x90\\xd4\\'\\n\\xde\\x80y\\x03\\x9e\\x8b.\\x83:D\\xecsAJz\\x16_>^\\x00\\x96\\xb1\\x00V*\\x7f$\\x1e\\x8f\\xd0x\\ro\\x920\\x9a\\xf47\\x9d9\\x03\\xd9\\x88\\x85W\\xc0\\x1e\\x0f\\x8en\\xbb}\\xaeo,\\x8f)\\x83\\xc3]\\xb5Iv\\xd3\\xb8c\\t:O\\xf4!\\xbd|\\xf2\\xf2\\x1d\\xeb\\xb7\\x81\\xc8\\x12D\\xdb\\x01\\x97\\x7f\\x13\\xc9H\\x1e\\xe1S^\\xc1\\xf0\\xe8\\xdf\\x10\\x1eU\\x06\\xc2\\r\\xd7\\xa8O\\x0b\\xa1\\xea\\xec?WYd\\xa9\\x80\\xd9\\xff\\x19<\"\\x13\\x98\\xba\\x13\\x1d\\xa8j\\x86\\x82\\x9c\\xde\\xabx\\x836Q\\xac\\xb8\\x8f\\xbc\\xf1>\\x16\\xf2\\x96~\\x0f\\xe4-\\x0e\\xa0DepsU\\x86\\x9bi\\xcf{Y\\xb1\\xfa\\x9b8\\xda\\x85x\\x81C\\x06\\x19\\xb9R$\\xc4\\xf9\\xa8F\\x9e\\x1b\\x14\\x9f\\x7f\\xf6\\x06\\xf6\\xd8\\xee,E%S\\xc6*\\xf2\\x9aQ\\xb3\\xba,?\\xb1)n<\\x8e\\xd9\\x88\\xb9\\xdc01\\xf9\\xe0\\xd2s\\xc5H\"+\\xde\\x95\\xba\\xe0\\x05\\x94\\xd2\\x92g\\xe4\\x91U\\xbc\\xf6\\xe6)\\xf4\\xdf\\xffM.\\xab+\\x8b-Xzj\\xef\\xcf\\xb5x \\x9f_\\x19\\x95\\x14\\x17_-\\x02\\xff\\xc0\\x91\\x85 \\xfex\\x80k\\x80H*\\x08\\xa45U\\xac\\x97\\x80I2=\\xbd\\xd9\\xcb\\x18\\xff\\xbf\\xca\\xc7\\xca\\xe6\\xa7\\x93\\x1cE\\xb5\\x0fxq\\x05\\xe2\\xaa8-\\xf6\\xbbR\\x13&\\xa8i\\xd0\\xfe\\x91\\x0e\\xf8\\xba[?\\xda\\x04\\x94F\\xa3G\\xd8\\xc1nKD\\xfd\\xe3\\xba\\xda(S\\x02\\x9dK\\nw\\x8bv8\\x89\\xae\\rv|N\\x03\\xc0\\x07\\x02$_\\xb7=\\xede\"\\xd9\\xee\\xf6\\xb4/.\\xd53\\xd19\\x88\\xb5\\xf1\\x1d\\xb7[\\rN}T\\r/\\x8a6\\xb1\\xd9\\xd9\\xb9Al\\x1b\\xbc8=4+0Z\\xdb\\x1b\\xa8\\xf4g\\xa3P\\xb7X\\xab\\xec\\x05?\\x07\\xff\\xb6n\\x87,\\xf6\\xde\\xb3\\x93\\xee5\\xbck\\xb6\\xe4\\x8e\\xf5\\x89\\x19H\\xdf\\xba\\xf8V\\x07W\\x98\\x85\\x8a\\xef\\x82\\xe9\\xf9\\xcb\\xdb\\x117l\\x9bD\\xa8\\x1f))\\xa0\\xaa\\xa0\\x9b<\\xa7\\xd2\\xc4\\x7f0\\xa4\\x0bwW\\xec\\xfb\\x1b#N\\x15\\x12\\\\\\x0f\\xd8SN*7k\\xf6\\xf2\\xb7x\\xd8\\x952\\xeajV\\x12\\x04\\xb2O\\x98\\x957L\\x9a\\x06\\x9c\\xd8\\x17\\x96\\xfc{\\xfc}l\\xfe\\xd9\\x93\\x9a\\x8a`\\x93\\xe7\\xc6\\xfaK\\x7f\\t\\xcc\\x93ri\\x00*L\\x0c\\x7f\\x81]~\\xfer\\xb5\\x14\\x80\\t\\x1c\\x10<\\xb3twl\\xee$\\xe1\\xfe\\xbf/\\xe1\\x9d\\x19v\\xdb3\\xf5\\xe1e=\\xdf6\\xdb\\x8c\\x1ax\\xf5w3\\xdd1\\xdbh[0\\xa8\\x11\\xdd~\\x8e\\xe6\\xdc\\x17RB<\\xf1\\xb7\\xf8<zm\\xd3\\xb7;\\xa6\\xac\\xfb~\\xee\\xcdO*\\x00\\xd5?FI\\xb1\\x14\\xeeM\\x07\\xfa\\xc5\\x8f\\xe6O\\xc1\\x9f\\x00\\xa2|\\x84\\xf4\\xdf\\xbc\\x1f\\xee|Dz2L\\x93#\\x9b\\xc5\\x97\\x04I\\xe8\\xf8>\\xc3\\x1d&\\x8eW )\\r\\xf0\\x82\\xa8d\\xa4\\xc0|\\xdf\\xf8\\xe2\\x1ahlKbu\\x7f\\x0es;[\\x83<\\xa25\\xf1\\xffX<qg6\\xae\\xa6\\xa0Ji\\xdf\\xaf\\xcd\\x81\\r\\xcb\\x17\\x12P\\xb6\\xb5\\xeb\\x86.!\\'\\xf9\\xf4@\\x90\\x11rl\\x0bf\\xaa\\xee\\nv\\xe3h\\xc3\\xdd\\xa4\\xda\\xcd\\xbc\\xb6\\x90$\\x0b\\x14\\xcd\\xc5*\\xf1\\x96\\xb75K\\xcc\\xbc\\xa8\\x88\\xe6g\\x12\\xb9\\x9b\\x81\\xe8\\x12\\xb7\\xe77\\x1b1\\x92`&P\\xdb^y\\xf5\\xa91\\r}<\\xdbo-\\xbd\\xe5w\\x07\\xf4\\xbf\\x13\\xee\\xea\\xcbJ\\xd0\\xab\\xf7g/\\xfa\\xd4\\x0e\\xfe\\xa3\\x12C\\xae\\x9a\\xc1EFY\\xf8\\xe9A\\x93\\xe4\\x9d\\xfd\\xdb\\xa1\\x87T9\\xb31\\xa4\\x8b0a\\xe6\\xaa\\xf2&+\\xc2I<\\x0b\\xbc\\x98\\x89\\x92|*\\xf4\\xc2m\\xca\\x9bR\\x90\\xbc\\xd4s\\xc9-\\xf6\\x86\\xbb\\xc6\\x01\\xde\\xb4*D\\xdd\\xf4X\\xb7\\xdeGu;\\x85\\xbf2\\xde\\xbc\\xf5y+\\xc1h\\xfb\\x05M\\xf0n\\xb1!sx\\xb7\\x8e\\xd2\\x15\\xfc\\x90h\\xf2\\xd7\\xd1\\x8aZ)\\x81/]m\\x00\\xdd\\x93\\x0b?o:vK\\x92j\\r\\xeb\\xc2\\xcaS\\x88\\x9eI\\x8d\\xfb\\x8cv\\x04\\x16`\\xf9\\r\\xd2\\x15Rs!i\\x1b\\x05/!\\x8f\\xab5\\xd33\\xa7\\xd1CFZ\\xa0\\xc1G\\xd3ab\\x16\\x9em\\xaaQVt\\xb8X&`zxP<\\xe4\\xa0j\\xe8f\\xb0\\tI\\x14\\xddr?D\\x10\\xfeN\\x8c\\xd0\\xf2\\xba\\x1a\\xdeMa@\\x08\\xef\\xc8\\x01\\xeb\\x12\\xfdm\\xe0\\xeaP(\\xa4\\xe2\\x19\\xcbh?\\xe8AP#\\xe4\\xfaI\\xc3\\xa3q\\xbew\\xbb\\'k\\xd27@\\xcf\\xfc\\xe2\\x10\\xbdZ\\xbf\\x87\\t\"\\x89`\\x9f\\xb8\\xd7\\xd2\\xa3\\xab,\\xcf\\x98w\\xec\\x1d\\xdbT\\xe5\\xf4\\x1e\\xacm\\xdf\\x88\\x9fS\\x04\\xaeep\\xd0@\\xa5\\xab\\x1c0e\\x0f\\xbe\\xa8\\xf2\\x8f$\\x9e\\xfd\\x80\\xf3\\xb8t\\x92*\\xdaG\\xb0y>5\\xec\\x8a7\\x80\\x9c\\xca)\\xf0.Y\\x9e\\xec4\\x11\\xdb\\t\\xf3\\xfb|\\xd2\\xcd\\xb5\\x88D\\xc3F\\x9f\\x93\\x806\\xcb|S\\xaa\\xc6\\xea\\xe7\\xe4zf\\xbca.4\\x0b\\xcf\\x17X$\\x06\\xfc\\x11\\x88\\xcf\\xf5\\xfc(\\xb1[\\xe9m\\x9a\\x8f>\\xd8\\xeb9!A4jg\\x13u\\xd6\\xe3\\xda_7eo\\xdd\\xf8\\xac\\x9c\\xc2\\xa2\\xfb\\xd2\\xac5\\x9b\\xa7\\x9b\\xd6\\xca\\x0e\\xe1`u\\xee\\xaa\\xeb\\xcb\\xbc\\x1d\\x1d\\xca@\\x08\\xa1;:?\\x97\\x17m$\\xeb\\'3\\xde\\x95\\xa6\\x179\\xf9\\xea\\xc0\\xb6\\x81\\xfa5\\xa4l\\xde>\\xce\\x87\\x88D\\xf3\\xcd\\xf7\\x87iq\\xe4J\\x99\\xc2\\x06\\x8eQl\\x98d\\xec\\xd2\\xb4W\\x8b\\xed\\xde\\x19\\x88\\xc7\\x144r\\xcb\\xc4\\x1f\\xbf\\xe8SJ,{\\xd0j\\xb66F\\x13e\\xa4\\xe9\\xc2b\\xed\\x00\\x87c\\x0e\\xaa[\\x8aO\\xac\\x04\\xcd\\xaa\\xfb\"+a\\xd1EFb\\xa8\\xf6\\xac7\\x05\\x0eT\\xca@l\"H\\x10\\xd3X\\x1e\\xcb\\x8b\\xdd\\xd5\\xc6\\xc0\\xbewV\\x01 \\xd5RaE|\\x06\\xe7 ;g\\x80\\x7f=SS\\xf0\\x9a4\\xbe0\\xeaY\\xc4\\xe9pkB\\x85\\xabh\\xa2\\xfd\\x8c\\x19\\x9f\\x9e\\xce\\xc8Y\\xd3(\\xa7ei\\x02\\xb8\\xaf\\xee\\x98^ \\xdc\\x87<\\x8d\\x8c\\xcd\\xd6*\\x82\\xfaE\\x00l\\xb1\\x06KM\\xbd\\x9d\\xcb\\x0eY\\xd4\\xf8\\x93-9\\xa8\\x92\\x0fZ26\\x06@\\r\\xab\\xfc\\xba\\xc1\\xecI\\x95\\xc6\\xe3\\x1f\\xd67g\\xe2\\xf1(\\xccW\\xce\\x1e\\xb4\\xc9\\x8ap\\xcc\\x8b#\\x07\\x96\\x04\\x95\\xe2\\xfe\\xe1M\\xc9#\\xf0\\xc8I\\x9aE\\xd0\\xae\\xde~\\xfb\\xfe\\xef>\\xcfK\\x140\\xcd\\x06\\xeb\\x9c\\x08\\x9b\\xe4\\x9b\\xd5\\xa4\\x19\\x90\\xbc~\\x02\\xb4\\x99\\xbc\\xfbp]\\x9e\\xe3\\xa2&\\x83\\xc8\\xeb\\xecWD{\\x1d\\xa3\\xed\\x1fUUTq\\xc3\\xbfsQ\\xf9\\x17\\xa0.!\\xef\\xfc\\xc2\\xe1\\xb9z1\\xafc\\xa60\\xe8\\x828\\xe3\\x83\\xb6\\xb7\\xae3\\x1c^\\xfc0\\xac\\x10\\xb4\\xa8\\x01\\xab\\xb3\\t0\\x92\\x0c\\x14\\xea\\x19L?E\\x91\\xda\\xed*5\\x91$i%\\xa9u\\xf8G\\x04\\xd1&Mbv\\xcf\\x8e\\xa7\\x12\\xb8\\xf3\\x82\\xef\\xf0\\x81\\x99\\xc6M\\xeb\\xc9_v\\xca/g\\xd4\\xb7\\xc0\\x97W.\\'E\\'\\xecSz\\x17\\xcd\\xd6M3\\xb8\\x02\\xf2\\xea\\xcaa\\xa9\\x0f\\x86\\xb1X\\xaf*\\xe3\\xed}\\xa1\\x95c\\xa6\\xfa\\xabP\\x93\\xe7\\x8f\\x8e\\xfc\\xa8\\xdda\\x96u\\x1d\\xa0\\xf8\\xd3\\x86mK\\x86mi\\xdb\\x15M\\xf2\\x93?\\x15\\x1c5\\xb6\\xe3!\\x01\\x9cvE\\x98=\\xdf\\xa0F\\x89\\xf5\\xfa\\t\\x8f\\xff\\x83B\\xf1\\xbc\\xe3\\x11,o\\x03bG\\xffp\\\\S\\x7f\\x18\\xfe=\\x98\\xdc\\x07N\\xda]J,\\xe0Q\\xdf\\xefVo\\x12\\xdb\\x10\\xb3\\x83\\xab\\x88d]\\x05\\xdf\\x1b\\xae\\x05\\x83Nk0\\xbd\\x07\\x87\\xa8 :%@VL\\xc6\\xf3|\\x0fq\\x82\\xfd\\xf1R\\xd3V\\xe7,\\x0c\\xa6\\x97|\\x8cZ3\\x90\\xacn\\xf0\\xb6^\\x84\\x99}2\\x91\\x9a\\x10\\xe3\\x91\\xcbf\\x90\\xaa%\\xf3t\\xbc\\x966B\\xda\\xba\\xc0\\xb47\\xbd\\x9a\\xcd\\xcb\\x94n:->\\xaf\\xc6\\xfb\\x96[>Q\\xf8\\xab{wq\\xa1@\\xa9\\xfd\\x19\\xfc\\xab\\x06\\xf6\\xab\\x87\\xae\\x93\\xa4\\xa4p\\xb3|8\\xa8Na\\xec\\x1c%C,l\\xf9CC0M\\xa9\\xf9\\x14\\xe5\\x94\\xd5\\x99\\x90w\\x0bD\\xcc\\x86\\x1d\\x90O^\\x9d\\x1a\\x88\\x01\\x1d\\x15:\\xc0\\xda9u\\xb4\\xbb\\xb2UJ\\xaa\\x8d\\x03\\xa3hq@\\xe37`\\xddlz\\x8aU\\x97\\x16j\\x11&<]\\xe0\\xb1=\\xb5\\xb5\\x1e\\xdc\\xffA\\xf6d\\t?M\\xeb2\\x1b\\xd4/\\x05eA\\x89\\xe4\\x1f\\x9cp\\x95\\x02\\xe0l\\xc7\\xe7\\xae\\xbc\\xc0\\x13S\\xfe\\xe7O\\xaf@\\x188\\xe9\\rS\\x98u\\x04\\xc6\\xf68 \\xd9\\xd4\\xf0\\xbf\\xb68C\\x1b\\x17\\xbb\\xe2.\\xe7\\xf7p\\xc0\\xe4%\\x08\\xbc\\x04\\xc4\\xb8\\xb9\\xf8>.\\xadc\\x0e$\\xf6\\xb7\\x80G\\xee\\xd4\\xbd\\xa4Q\\\\\\xa0\\xa3\\x94{\\xdc\\x82H/\\xa5Kg]\\x8b\\x0c$\\xe1\\'\\x87u<\\xd7\\x0eq8\\x9a*\\xf9\\xba\\x14\\x96e\\xb9\\xd4\\xc7{\\xf4\\xa9\\xefl\\x9bT\\xb4 \\xb6\\xda\\xa7>\\x8f\\xf0\\xf5\\xaelLT@Y\\xcd\\x82[\\xf9L\\\\7\\xf2\\xbe\\x06=EC\\xdc\\xddt\\xdf\\x92Y`\\xeb\\x15L\\xd6F\\x8f^w\\x85_\\x1dC\\x87I\\xf5$j;\\x18\\xcb\\xe1\\xcaC=v\\xebH\\x0e\\x82\\xfdjC\\xf8\\x8e\\xab\\x13K\\x1eJ\\x15bY\\x90\\x0b\\xca\\xe7&\\xb3\\xfc{%\\xb6\\x1b\\x18|,/3\\x9d\\x1d\\x8c\\xe0\\x9b\\x7f\\x93\\x17\\\\)@\\x8ff\\xa5\\xc7P\\xbc\\xb2\\x99\\xb9n=p\\xee\\xa7\\xfa\\x92V\\xaep\\xff\\xf9\\x82-\\x99\\xda5\\xaf\\xb1\\xab\\xa5}!\\xc6\\xe5<=\\x8ah\\xb4?\\xb7\\x14 \\xef j\\xe5\\x94j\\x03P\\x88B\\xf1\\xc7<\\xc1\\x11\\xd3\\xddu\\xda\\xf9\\x87\"\\xe8\\xa9\\xffm\\xe0\\xc5N\\xbd0\\x86w\\x9er\\xb5\\xa1\\xc7\\xd7\\x04\\xbe\\xcc{\\xe1{\\x81\\r\\xbb\\x85ZT\\x95x\\t\\xb1z\\xaez_.\\n\\xe1\\x1f\\xb5\\xa0\\xab\\r\\xfb\\x9d\\xf7D \\xe9\\xf0x\\xc9\\xf7\\x13\\xd6z\\x06\\xb2$p\\xdd\\x85ym\\x80\\x8bK?\\xf6\\x94\\x06N\\x89\\xb4\\xd7u\\xf3\\x15\\x95i\\xb9#\\xe3\\xa4\\xf4\\xe2\\x0f\\xd25B-\\xd8\\x9a\\rE\\xde^9&\\x1a\\xe6\\x1b\\x04\\x9b\\xb9\\xa2\\xcb\\xdeL\\xa7B\\xa6\\xf8B\\x11-\\xe3L>\\xd4\\xe6}\\xba\\xc5;\\xeeR\\xd9\\xfb\\xbe(\\xec)y\\x19\\xf9\\xd7\\x92\\xb2\\xc8U\\x1e\\xdfy\\xbe\\x08\\xc8\\xe5\\xd9\\xea\\x17\\xee\\xd0%E\\xff\\xa8\\xc4\\xb5\\xef9b\\x87a\\x9e\\x0f\\xeb\\x15\\xfa\\\\Q\\x01\\x8dcX{\\xab\\xeeq\\xd7\\xc1\\x05\\xb6(\\xe3\\xe8a\\xd4\\xfch\\x14\\x92\\x17\\x7f\\xaa\\xbb\\xcd\\xe1\\x92\\x93>\\x1d<\\xff3\\xb8\\x9c\\xbe /\\xf1J\\x80\\x15\\\\W\\xa2\\x8d)nE\\xf0\\xbe\\xcc\\xed\\x08C\\xe5\"\\xe4\\xb4\\xf4jd\\x02\\xf3A\\xe0\\x01\\x08\\xfa\\x81]@\\xbb\\xad\\x17#\\xcc#\\xf0[\\xf03\\xe8\\'O\\xc6\\xd8\\x16\\x88\\xe7\\xdfk\\xf4)\\x97P\\xe2\\xa2\\xde\\xba\\xd7\\x8f/\\xa3\\xc2^\\xde\\x93\\x11}\\x80\\xfd\\xef\\xf8&Z\\x82\\xe0I\\x9e@\\xbb\\x82\\xc2\\x1aa\\xc3\\xac\\x87\\xac\\x80l\\x08\\xf4\\xbaM\\x01\\x80\\xa4SYI\\xa7\\x05~\\xb3\\xb0\\xe1\\xc6\\x0c\\xd6Q_\\xb4i\\x18$\\xfb\\xfe\\x96\\xac.\\xb8@+t\\x08{\\r\\x8f\\xaf\\x02@\\xef\\xc3M\\x90\\xd6\\xaa\\xef\\x16\\x9c\\\\\\xb8.\\xca\\xa9\\xc6\\xc2\\x9d\\x16S\\x86\\xc2f_Sx\\x8d\\xa7]\\xe5\\x82%\\xefz\\xdb\\x88os\\xa1\\xb0\\xd7\\x91\\x15k\\xb3v\\x80\\xcfZH2\\x1f\\xd6\\xdd\\xf1\\x8b+@<\\x02V\\x10\\x97\\n\\xacn\\xf1\\xb3\\x03B\\x8dkRG=\\xb8\\x8c\\xabB\\x8a\\xcf\\xe1W\\xd9\\xa5\\xd5\\xdb\\x85\\x91\\xb6\\x9d\\xe02riO\\xed\\xf1\\xf4S\\x01P\\x15\\x86\\x1f\\xc3;\\xbc\\x84\\xc2\\x9f-&\\x12l\\xc6\\x1b\\x91\\x01\\x9a\\xec\\xf2\\xf6 \\xd5\\x06A\\xc13\\xc1Q\\xa5\\xb8T]\\xa7\\xfaY\\xe8g\\x00\\x0eV\\x81\\x94z\\x98?\\xa5\\x91/]\\x85\\x04M\\t+\\xa3\\x9f\\xed\\x14\\xd9\\xa9\\xfd\\xd8\\x95}(e\\xb6\\x08\\xf8\\xee\\x11\\xce1\\xe1\\xa7~\"\\xb3\\x06P\\x17\\xe7\\x82\\x8c\\x9es\\xe0\\xc2\\x10\\xb5\\xa0\\xbf\\x0b\\x94\\x0e\\xe2\\xddkB\\xba\\xf0\\x8c\\x08\\xef\\xf2\\t\\xbc\\xe9\\r_\\xab\\xd4y\\x18\\x91\\x96\\x95_\\xc3\\xdd\\x80\\x7f\\xdc\\xa4\\xbc\\xd41f\\xa7.\\xb4q\\x86\\x0f<aO>t_Q\\x90\\xe7\\xd8\\xa0/\\xda1\\x85\\xd7\"$\\xcc\\x8d=\\xb1\\xcdR\\n\\xe3B\\xb4L\\x81?\\xa9(\\x07*-\\x0eKW\\xbe\\xe0\\x82T\\x96\"\\xda\\x8f\\xc3\\t\\xf5\\x05\\x9e\\x0b\\xc7`\\x12v\\x8f\\xb8\\x01\\xb1\\xbd8k\\x1e\\x08\\xc3\\xff\\xddn\\xb1/\\xdb4\\xd1\\xcfZ\\xee\\x8d\\x1d\\x1c\\x93\\x8d\\x0f&\\x10l\\xf2.\\x80\\xbay\\x01\\x8f\\xfb^\\xaa)oG\\xf5D\\xf9\\x01\\x86\\xe5G\\x98\\xbc\\xae7^\\xfc1\\xb3&\\xf1\\xdft\\xb9\\xa3\\xddE\\xfd\\x94)\\xf6\\xdb\\x12~ciw\\xc7\\xa6\\x83\\x841\\xca\\xe9\\xcc .UZ\\x02\\xe9\\x89\\xf1\\x1d'\n",
            "11810\n"
          ]
        }
      ]
    },
    {
      "cell_type": "markdown",
      "source": [
        "# Sign"
      ],
      "metadata": {
        "id": "7YkdMYVugaJ8"
      }
    },
    {
      "cell_type": "markdown",
      "source": [
        "## Generate Salt"
      ],
      "metadata": {
        "id": "S2wR6Ofw26Cx"
      }
    },
    {
      "cell_type": "code",
      "source": [
        "def generateSalt()->bytes:\n",
        "  return secrets.token_bytes(16)"
      ],
      "metadata": {
        "id": "t_qdIGAigZvg"
      },
      "execution_count": 16,
      "outputs": []
    },
    {
      "cell_type": "markdown",
      "source": [
        "## hash digest"
      ],
      "metadata": {
        "id": "ivkpnBTm-qIH"
      }
    },
    {
      "cell_type": "code",
      "source": [
        "def generate_hash_digest(message:str,salt:bytes,m:int,lvl:int,r:int)->bytes:\n",
        "  if lvl == 1:\n",
        "    h_digest_shake = hashlib.shake_128(message.encode(\"utf-8\")+b'\\x00'+salt)\n",
        "  else:\n",
        "    h_digest_shake = hashlib.shake_256(message.encode(\"utf-8\")+b'\\x00'+salt)\n",
        "\n",
        "  h_digest_bytes = h_digest_shake.digest(math.ceil(m*r/8))\n",
        "\n",
        "  # Join all the bytes into a single bit-string representation.\n",
        "  h_digest_bits = ''.join([int8_to_binString(i) for i in h_digest_bytes])\n",
        "\n",
        "  # Take r bits sequentialy from the string m times, to create a vector within the F(2**r) field\n",
        "  # The bits that remain after this are discarded.\n",
        "  h_digest = [int(h_digest_bits[i*r:i*r+r],base=2) for i in range(m)]\n",
        "\n",
        "  return h_digest\n"
      ],
      "metadata": {
        "id": "GMMt1oIOih_8"
      },
      "execution_count": 17,
      "outputs": []
    },
    {
      "cell_type": "markdown",
      "source": [
        "## Generate v"
      ],
      "metadata": {
        "id": "f2JbjFJt43v3"
      }
    },
    {
      "cell_type": "code",
      "source": [
        "def generateV(r:int, v:int)->list:\n",
        "  \"\"\"Generate the vinegar variables vector.\n",
        "\n",
        "  The function generates the closest amount of bytes to contain r*v bits in order\n",
        "  to be able to get a vector of size v, with each element having r bits.\n",
        "\n",
        "  Parameters\n",
        "  ----------\n",
        "  r : int\n",
        "    The r paramter of the LUOV specification.\n",
        "\n",
        "  v : int\n",
        "    The v paramter of the LUOV specification.\n",
        "\n",
        "  Returns\n",
        "  -------\n",
        "  list\n",
        "      A list that represents the vinegar variables.\n",
        "  \"\"\"\n",
        "  vinegar_bytes = secrets.token_bytes(math.ceil(r*v/8))\n",
        "\n",
        "  # Join all the bytes into a single bit-string representation.\n",
        "  vinegar_bits = ''.join([int8_to_binString(i) for i in vinegar_bytes])\n",
        "\n",
        "  # Take r bits sequentialy from the string v times, to create a vector within the F(2**r) field\n",
        "  # The bits that remain after this are discarded.\n",
        "  vinegar = [int(vinegar_bits[i*r:i*r+r],base=2) for i in range(v)]\n",
        "  return vinegar"
      ],
      "metadata": {
        "id": "zm_1KTuY48Se"
      },
      "execution_count": 18,
      "outputs": []
    },
    {
      "cell_type": "markdown",
      "source": [
        "## Build augmented matrix"
      ],
      "metadata": {
        "id": "XgEH3ik_uA3w"
      }
    },
    {
      "cell_type": "code",
      "source": [
        "def buildAugmentedMatrix(C:galois.FieldArray,\n",
        "                         L:galois.FieldArray,\n",
        "                         Q1:galois.FieldArray,\n",
        "                         T:galois.FieldArray,\n",
        "                         h:galois.FieldArray,\n",
        "                         v_array:galois.FieldArray,\n",
        "                         m:int,v:int,r:int\n",
        "                         )->tuple[galois.FieldArray,galois.FieldArray]:\n",
        "  \"\"\"The implementation of the buildAugmentedMatrix algorithm of the LUOV specification.\n",
        "\n",
        "  Parameters\n",
        "  ----------\n",
        "  C : galois.FieldArray\n",
        "    The C vector of the LUOV specification.\n",
        "\n",
        "  L : galois.FieldArray\n",
        "    The L matrix of the LUOV specification.\n",
        "\n",
        "  Q1 : galois.FieldArray\n",
        "    The Q1 matrix of the LUOV specification.\n",
        "\n",
        "  T : galois.FieldArray\n",
        "    The T matrix of the LUOV specification.\n",
        "\n",
        "  h : galois.FieldArray\n",
        "    The hash digest to target.\n",
        "\n",
        "  v_array : galois.FieldArray\n",
        "    A vector containing the vinegar variables.\n",
        "\n",
        "  m : int\n",
        "    The m paramter of the LUOV specification.\n",
        "\n",
        "  v : int\n",
        "    The v paramter of the LUOV specification.\n",
        "\n",
        "  r : int\n",
        "    The r paramter of the LUOV specification.\n",
        "\n",
        "  Returns\n",
        "  -------\n",
        "  (galois.FieldArray,galois.FieldArray)\n",
        "      The arrays representing the augmented matrix.\n",
        "      The first being the left part and the second being the right part.\n",
        "  \"\"\"\n",
        "  n = m+v\n",
        "  v_with_zeros = v_array.copy()\n",
        "  v_with_zeros.resize(n)\n",
        "  RHS = h - C-L@v_with_zeros\n",
        "  T_with_ones = np.concatenate((-T,np.identity(m)),axis=0)\n",
        "  LHS = L@T_with_ones\n",
        "\n",
        "  GF = galois.GF(2**r,irreducible_poly = 0x83)\n",
        "\n",
        "  for k in range(m):\n",
        "    Pk1=GF(findPk1(v,m,k,Q1))\n",
        "    Pk2=GF(findPk2(v,m,k,Q1))\n",
        "    RHS[k] = RHS[k] - v_array.T@Pk1@v_array\n",
        "\n",
        "    Fk2=-(Pk1+Pk1.T)@T+Pk2\n",
        "\n",
        "    LHS[k] = LHS[k] + v_array@Fk2\n",
        "  # Here the implementation differs from the specification,\n",
        "  # instead of returning the augmented matrix LHS and RHS are\n",
        "  # returned separately to use numpy's solving function\n",
        "  return LHS,RHS\n"
      ],
      "metadata": {
        "id": "0Op-V3s82O-H"
      },
      "execution_count": 19,
      "outputs": []
    },
    {
      "cell_type": "markdown",
      "source": [
        "## Sign"
      ],
      "metadata": {
        "id": "8LN4SqR7uInK"
      }
    },
    {
      "cell_type": "code",
      "source": [
        "def encode_field_element(element:galois.typing.DTypeLike,r:int)->str:\n",
        "  \"\"\"Get the r bit representation of an field element as a binary string\n",
        "     without the '0b' indicator.\n",
        "\n",
        "  The function takes one field element, turns it to binary\n",
        "  and returns an string containing the r bit representation of it.\n",
        "\n",
        "  Parameters\n",
        "  ----------\n",
        "  element : galois.typing.DTypeLike\n",
        "    The field element (The number if you prefer).\n",
        "\n",
        "  r : int\n",
        "    The ammount of bits required to encode the element.\n",
        "\n",
        "  Returns\n",
        "  -------\n",
        "  str\n",
        "      A string with r bits to represent the field element.\n",
        "  \"\"\"\n",
        "  return bin(element)[2:].zfill(r)"
      ],
      "metadata": {
        "id": "dKBtgjyzpZMm"
      },
      "execution_count": 20,
      "outputs": []
    },
    {
      "cell_type": "code",
      "source": [
        "def encode_siganture(signature:galois.FieldArray,salt:bytes,n:int,r:int)->bytes:\n",
        "  \"\"\"Encoding of the signature with the salt following the LUOV specification.\n",
        "\n",
        "  The function takes a FieldArray, converts all its elements to binary and\n",
        "  concatenates them in order, then it encodes the result into bytes (padding with\n",
        "  zeros at the end to achieve the number of bytes). Finaly, the result is concatenated\n",
        "  with the salt.\n",
        "\n",
        "  Parameters\n",
        "  ----------\n",
        "  signature : galois.FieldArray\n",
        "    The FieldArray containing the elements of the signature.\n",
        "\n",
        "  salt : bytes\n",
        "    The salt that will be added at the end of the signature.\n",
        "\n",
        "  n : int\n",
        "    The number of elements in the signature.\n",
        "\n",
        "  r : int\n",
        "    The ammount of bits of each element of the signature.\n",
        "\n",
        "  Returns\n",
        "  -------\n",
        "  bytes\n",
        "      The bytes of the signature and the salt concatenated.\n",
        "  \"\"\"\n",
        "  binary_signature = ''\n",
        "  # Turn all the elements in the signature vecto to an r-bit per element binary\n",
        "  # string.\n",
        "  for i in signature:\n",
        "    binary_signature += encode_field_element(i,r)\n",
        "  needed_bits = n*r\n",
        "  byte_signature = b''\n",
        "  # Iterate through the binary string, taking 8 bits at a time to get the bytes\n",
        "  # of the signature.\n",
        "  while needed_bits>8:\n",
        "    byte_signature += int(binary_signature[:8],2).to_bytes(1,byteorder='big')\n",
        "    binary_signature = binary_signature[8:]\n",
        "    needed_bits -= 8\n",
        "  # The remaining bits are padded with zeros at the end to make the last bytes.\n",
        "  if needed_bits>0:\n",
        "    for i in range(8-needed_bits):\n",
        "      binary_signature += '0'\n",
        "    byte_signature += int(binary_signature,2).to_bytes(1,byteorder='big')\n",
        "  return byte_signature + salt"
      ],
      "metadata": {
        "id": "GEglYhRDnrij"
      },
      "execution_count": 21,
      "outputs": []
    },
    {
      "cell_type": "code",
      "source": [
        "def sign(message:str,private_seed:bytes,v:int,m:int,r:int,lvl:int)->bytes:\n",
        "  private_sponge = create_private_sponge(private_seed,v,m,lvl)\n",
        "  public_seed = get_public_seed(private_sponge)\n",
        "  T_base = private_sponge[32:]\n",
        "  T = tMatrixGenerator(T_base,v,m)\n",
        "\n",
        "  GF = galois.GF(2**r,irreducible_poly = 0x83)\n",
        "\n",
        "  T = GF(T)\n",
        "\n",
        "  C,L,Q1 = G(v,m,lvl,public_seed)\n",
        "\n",
        "  C = GF(C)\n",
        "  L = GF(L)\n",
        "  Q1 = GF(Q1)\n",
        "\n",
        "  salt = generateSalt()\n",
        "  h = GF(generate_hash_digest(message,salt,m,lvl,r))\n",
        "\n",
        "  n = m+v\n",
        "  no_solution = True\n",
        "  s_prime = np.zeros([m,1])\n",
        "  while no_solution:\n",
        "    vinegar = GF(generateV(r=r,v=v))\n",
        "    A0,A1= buildAugmentedMatrix(C,L,Q1,T,h,vinegar,m,v,r)\n",
        "\n",
        "    try:\n",
        "      # Try to solve the equation system given the vinegar variables\n",
        "      oil = np.linalg.solve(A0,A1)\n",
        "      # If we find a solution we assume it's unique and end the loop.\n",
        "      no_solution = False\n",
        "      # The solution (oil) is concatenated to de vinegar variables vector.\n",
        "      s_prime = np.concatenate([vinegar,oil])\n",
        "    except np.linalg.LinAlgError:\n",
        "      # If no solution is found we stay in the loop to try with new\n",
        "      # vinegar variables\n",
        "      no_solution = True\n",
        "\n",
        "  # Build the matrix for the solution operation\n",
        "  solution_operand_left = np.concatenate([np.identity(v),np.zeros([m,v])],axis=0)\n",
        "  solution_operand_right = np.concatenate([-T,np.identity(m)],axis=0)\n",
        "  solution_operand = np.concatenate([solution_operand_left,solution_operand_right],axis=1)\n",
        "\n",
        "  # Build S using the matrix solution_operand\n",
        "  s = GF(solution_operand)@s_prime\n",
        "  encoded_signature=encode_siganture(s,salt,n,r)\n",
        "  return encoded_signature"
      ],
      "metadata": {
        "id": "69GxNrpXs0YZ"
      },
      "execution_count": 22,
      "outputs": []
    },
    {
      "cell_type": "code",
      "source": [
        "test_sign = sign(\"hi\",private_seed_test,197,57,7,1)\n",
        "print(test_sign)\n",
        "print(len(test_sign))"
      ],
      "metadata": {
        "colab": {
          "base_uri": "https://localhost:8080/"
        },
        "id": "aYJAHww65T1x",
        "outputId": "df665adc-4400-47fd-cb45-462489841d75"
      },
      "execution_count": 23,
      "outputs": [
        {
          "output_type": "stream",
          "name": "stdout",
          "text": [
            "b'b\\xa6\\x7fMv77K\\x80TC\\x96.\\xcf^\\'U\\xc8$\\xc2,-Mx\\xdcV\\xf9\\x8fch\\xc8\\xe0l\\x0c\\xd1V!\\xb2\\x16\\xcaX\\xc7\\xbcc\\xc7f\\x06\\xb8qks\\xe4\\xed\\xa8D\\xa5\\xc6\\x99\\x86P1h\\xa5\\xa9\\x8b\\xe2\\x00\\xfc\\x97z\\xd9*\"u\\x13\\x8b\\xf9Y\\xcc\\xacDz#]$\\x16\\x01X\\xf6d:\\xce\\x11ro\\xbd\\xd6\\x068J\\x11T\\xe5\\xe1<y\\xe0\\xe3\\x83\\xd8\\xd3#\\xa5\\xcf\\xd5\\xe1\\xfa\\xdb\\xfbf\\x0e3\\xb3\\xba\\xf0\\x02\\xcau+\\xc4\\xf1H\\x9di#=X\\xb1t\\xb3Kx\\x165_\\x1fr\\xf5[\\xe8\\xb9\\xc3-i\\t\\x91H\\xb4\\x9a\\x86\\xd4a\\xed\\x9d\\xc7<oM\\x021\\x9f\\x98\\xb0\\xfb\\xef41\\x07\\xc29{-\\xd17\\xeeG\\x07\\xfaS\\xaa\\x01\\xbdE\\xe1\\x90\\x18\\xa7\\xa2\\xb3\"\\x90|\\xe3 \\xf8\\xfbW\\xd4*\\xeds\\xf0\\xdd {\\xba\\x00\\xdc\\x81H\\xe1\\x87\\x80\\x94\\xc5\\x88\\x96\\x0f\\xa8d\\x1cR|\\xc3\\x04xbx\\t'\n",
            "239\n"
          ]
        }
      ]
    },
    {
      "cell_type": "markdown",
      "source": [
        "# Verify"
      ],
      "metadata": {
        "id": "cZpAp3jhdPiA"
      }
    },
    {
      "cell_type": "code",
      "source": [
        "def extract_seed_and_q2(public_key:bytes,m:int)->tuple[bytes,np.ndarray]:\n",
        "  \"\"\"Extract the public seed and Q2 from a public key.\n",
        "\n",
        "  The function takes a public key and extracts the public seed from it's first\n",
        "  32 bytes. The remaining bytes are interpreted as the columns of the Q2 matrix.\n",
        "\n",
        "  Parameters\n",
        "  ----------\n",
        "  public_key : bytes\n",
        "    A LUOV specification public key.\n",
        "\n",
        "  m : int\n",
        "    The m parameter of the LUOV specification.\n",
        "\n",
        "  Returns\n",
        "  -------\n",
        "  bytes\n",
        "      The public seed of the LUOV specification contained in the public key.\n",
        "\n",
        "  np.ndarray\n",
        "      The Q2 matrix of the LUOV specification contained in the public key.\n",
        "  \"\"\"\n",
        "  # Get the first 32 bytes that belong to the public seed.\n",
        "  public_seed = public_key[:32]\n",
        "\n",
        "  # The remaining bytes are the encoded elements of Q2.\n",
        "  Q2_bytes = public_key[32:]\n",
        "  Q2_bits = []\n",
        "  for i in Q2_bytes:\n",
        "    # The bits are extracted from the bytes.\n",
        "    reversed =int8_to_bits(i)\n",
        "    # The extracted bits are reversed back to their original value and\n",
        "    # concatenated in a list containing all the bits of Q2.\n",
        "    reversed.reverse()\n",
        "    Q2_bits+= reversed\n",
        "  #The padding zeros for the encoding of Q2 are discarded.\n",
        "  Q2_bits = Q2_bits[:int(m*(m*(m+1)/2))]\n",
        "  Q2 = np.array(Q2_bits)\n",
        "  # The array is reshaped to form the original Q2 matrix, column by column.\n",
        "  Q2 = np.reshape(Q2,(m,int(m*(m+1)/2)),order=\"F\")\n",
        "  return public_seed,Q2"
      ],
      "metadata": {
        "id": "RDsQVZwGBe5u"
      },
      "execution_count": 24,
      "outputs": []
    },
    {
      "cell_type": "code",
      "source": [
        "def decode_signature(signature:bytes,r:int)->np.ndarray:\n",
        "  \"\"\"Decode a signature.\n",
        "\n",
        "  The function takes a signature and discards the salt from it. Then it\n",
        "  extracts all the bits from the bytes of the signature and joins them in\n",
        "  a single r*m long string. Finally it takes the bits in r-sized chunks to\n",
        "  get each element of the Array of the field F_(2**r) with m elements.\n",
        "\n",
        "  Parameters\n",
        "  ----------\n",
        "  signature : bytes\n",
        "    A LUOV specification signature.\n",
        "\n",
        "  r : int\n",
        "    The r parameter of the LUOV specification.\n",
        "\n",
        "  Returns\n",
        "  -------\n",
        "  np.ndarray\n",
        "      The array contained in a signature of the LUOV specification.\n",
        "  \"\"\"\n",
        "  # Discard the salt.\n",
        "  signature_without_salt = signature[:-16]\n",
        "  signature_bits = ''\n",
        "  # Get all the bits that form the signature's array\n",
        "  for i in signature_without_salt:\n",
        "    signature_bits+=int8_to_binString(i)\n",
        "  signature_array = []\n",
        "  while len(signature_bits)>r:\n",
        "    # Get r bits from the signature_bit's string and interpret them as an\n",
        "    # element of the original array of the signature which has m elements of the\n",
        "    # F_(2**r) finite field.\n",
        "    signature_array.append(int(signature_bits[:r],2))\n",
        "    signature_bits = signature_bits[r:]\n",
        "  return np.array(signature_array)"
      ],
      "metadata": {
        "id": "fbkwxGdMUHPs"
      },
      "execution_count": 25,
      "outputs": []
    },
    {
      "cell_type": "code",
      "source": [
        "def get_salt(signature:bytes)->bytes:\n",
        "  \"\"\"Extract the salt from a signature.\n",
        "\n",
        "  The function takes a signature, then it extracts the salt from it, which is\n",
        "  contained in it's last 16 bytes.\n",
        "\n",
        "  Parameters\n",
        "  ----------\n",
        "  signature : bytes\n",
        "    A LUOV specification signature.\n",
        "\n",
        "  Returns\n",
        "  -------\n",
        "  bytes\n",
        "      The salt of a LUOV signature.\n",
        "  \"\"\"\n",
        "  return signature[-16:]"
      ],
      "metadata": {
        "id": "sNIlU7_YpCiz"
      },
      "execution_count": 26,
      "outputs": []
    },
    {
      "cell_type": "code",
      "source": [
        "def evaluatePublicMap(public_key:bytes,s:bytes,v:int,m:int,lvl:int,r:int)->galois.FieldArray:\n",
        "  \"\"\"The evaluatePublicMap algorithm of the LUOV specification.\n",
        "\n",
        "  The function takes a public key and a signature, then, given the\n",
        "  parameters of the LUOV specification used for both the key and signature, it\n",
        "  evaluates the public map e.\n",
        "\n",
        "  Parameters\n",
        "  ----------\n",
        "  public_key : bytes\n",
        "    The public key of the signer.\n",
        "\n",
        "  s : bytes\n",
        "    A signature.\n",
        "\n",
        "  v : int\n",
        "    The v parameter of the LUOV specification.\n",
        "\n",
        "  m : int\n",
        "    The m parameter of the LUOV specification.\n",
        "\n",
        "  lvl : int\n",
        "    The level of the LUOV specification.\n",
        "\n",
        "  r : int\n",
        "    The r parameter of the LUOV specification.\n",
        "\n",
        "  Returns\n",
        "  -------\n",
        "  galois.FieldArray\n",
        "      The evaluation of the public map.\n",
        "  \"\"\"\n",
        "  public_seed,Q2 = extract_seed_and_q2(public_key,m)\n",
        "  GF = galois.GF(2**r,irreducible_poly = 0x83)\n",
        "  C,L,Q1 = G(v,m,lvl,public_seed)\n",
        "\n",
        "  C = GF(C)\n",
        "  L = GF(L)\n",
        "  Q1 = GF(Q1)\n",
        "  Q = np.concatenate([Q1,GF(Q2)],axis=1)\n",
        "\n",
        "  s_decoded = GF(decode_signature(s,r))\n",
        "\n",
        "  e = C + L@s_decoded\n",
        "  column = 0\n",
        "  n= m+v\n",
        "  for i in range(n):\n",
        "    for j in range(i,n):\n",
        "      for k in range(m):\n",
        "        e[k] = e[k]+Q[k,column]*s_decoded[i]*s_decoded[j]\n",
        "      column = column + 1\n",
        "  return e"
      ],
      "metadata": {
        "id": "TSOUfHhCeFQ3"
      },
      "execution_count": 27,
      "outputs": []
    },
    {
      "cell_type": "code",
      "source": [
        "def verify(public_key:bytes,message:str,candidate_signature:bytes,v:int,m:int,lvl:int,r:int)->bool:\n",
        "  \"\"\"Verification of a signed message\n",
        "\n",
        "  The function takes a public key, a message and a signature, then, given the\n",
        "  parameters of the LUOV specification used for both the key and signature, it\n",
        "  evaluates if the signature is valid.\n",
        "\n",
        "  Parameters\n",
        "  ----------\n",
        "  public_key : bytes\n",
        "    The public key of the signer.\n",
        "\n",
        "  message : str\n",
        "    The message signed message.\n",
        "\n",
        "  candidate_signature : bytes\n",
        "    The signature of the message.\n",
        "\n",
        "  v : int\n",
        "    The v parameter of the LUOV specification.\n",
        "\n",
        "  m : int\n",
        "    The m parameter of the LUOV specification.\n",
        "\n",
        "  lvl : int\n",
        "    The level of the LUOV specification.\n",
        "\n",
        "  r : int\n",
        "    The r parameter of the LUOV specification.\n",
        "\n",
        "  Returns\n",
        "  -------\n",
        "  bool\n",
        "      The verification result (True if the signature for the message is valid).\n",
        "  \"\"\"\n",
        "  GF = galois.GF(2**r,irreducible_poly = 0x83)\n",
        "  h = GF(generate_hash_digest(message,get_salt(candidate_signature),m,lvl,r))\n",
        "  e = evaluatePublicMap(public_key,candidate_signature,v,m,lvl,r)\n",
        "  return np.array_equal(h,e)"
      ],
      "metadata": {
        "id": "QzWh8s_mmWDU"
      },
      "execution_count": 28,
      "outputs": []
    },
    {
      "cell_type": "code",
      "source": [
        "print(verify(public_key_test,\"hi\",test_sign,197,57,1,7))"
      ],
      "metadata": {
        "id": "E6ZtkZLbFpxz",
        "colab": {
          "base_uri": "https://localhost:8080/"
        },
        "outputId": "f3b04052-6e39-436b-a759-287971c5ad11"
      },
      "execution_count": 29,
      "outputs": [
        {
          "output_type": "stream",
          "name": "stdout",
          "text": [
            "True\n"
          ]
        }
      ]
    }
  ]
}
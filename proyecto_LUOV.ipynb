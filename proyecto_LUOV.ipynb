{
  "nbformat": 4,
  "nbformat_minor": 0,
  "metadata": {
    "colab": {
      "provenance": []
    },
    "kernelspec": {
      "name": "python3",
      "display_name": "Python 3"
    },
    "language_info": {
      "name": "python"
    }
  },
  "cells": [
    {
      "cell_type": "code",
      "source": [
        "pip install galois"
      ],
      "metadata": {
        "colab": {
          "base_uri": "https://localhost:8080/"
        },
        "id": "n0O-cNFV9WW2",
        "outputId": "364ec784-1dce-4b9b-d910-c1050de0cf02"
      },
      "execution_count": 98,
      "outputs": [
        {
          "output_type": "stream",
          "name": "stdout",
          "text": [
            "Requirement already satisfied: galois in /usr/local/lib/python3.10/dist-packages (0.4.2)\n",
            "Requirement already satisfied: numpy<2.2,>=1.21.0 in /usr/local/lib/python3.10/dist-packages (from galois) (1.26.4)\n",
            "Requirement already satisfied: numba<0.61,>=0.55 in /usr/local/lib/python3.10/dist-packages (from galois) (0.60.0)\n",
            "Requirement already satisfied: typing-extensions>=4.0.0 in /usr/local/lib/python3.10/dist-packages (from galois) (4.12.2)\n",
            "Requirement already satisfied: llvmlite<0.44,>=0.43.0dev0 in /usr/local/lib/python3.10/dist-packages (from numba<0.61,>=0.55->galois) (0.43.0)\n"
          ]
        }
      ]
    },
    {
      "cell_type": "code",
      "source": [
        "# Needed libraries\n",
        "import secrets\n",
        "import math\n",
        "import numpy as np\n",
        "import hashlib\n",
        "import galois"
      ],
      "metadata": {
        "id": "apHo-xJy5n3t"
      },
      "execution_count": 99,
      "outputs": []
    },
    {
      "cell_type": "markdown",
      "source": [
        "# Generate private seed"
      ],
      "metadata": {
        "id": "qpGjcl89Jdg9"
      }
    },
    {
      "cell_type": "code",
      "execution_count": 100,
      "metadata": {
        "id": "ExqwWkupIftS"
      },
      "outputs": [],
      "source": [
        "#Generate Private Seed\n",
        "def generate_private_seed()->bytes:\n",
        "  return secrets.token_bytes(32)"
      ]
    },
    {
      "cell_type": "markdown",
      "source": [
        "# SHAKE A.K.A function H (Squeeze public_seed and T)"
      ],
      "metadata": {
        "id": "0_2Pc2mqdRVu"
      }
    },
    {
      "cell_type": "markdown",
      "source": [
        "## SHAKE using hashlib"
      ],
      "metadata": {
        "id": "n-W_EB-__Ekh"
      }
    },
    {
      "cell_type": "code",
      "source": [
        "def create_private_sponge(private_seed:bytes,v:int,m:int,lvl)->bytes:\n",
        "  # USE SHAKE\n",
        "  if(lvl==1):\n",
        "    h_shake = hashlib.shake_128(private_seed)\n",
        "  else:\n",
        "    h_shake = hashlib.shake_256(private_seed)\n",
        "  # Private Sponge\n",
        "  return h_shake.digest(32+math.ceil(m/8)*v)"
      ],
      "metadata": {
        "id": "Napettqh_Jen"
      },
      "execution_count": 101,
      "outputs": []
    },
    {
      "cell_type": "markdown",
      "source": [
        "#Extract public seed"
      ],
      "metadata": {
        "id": "hJ0fqOZY7WlD"
      }
    },
    {
      "cell_type": "code",
      "source": [
        "def get_public_seed(private_sponge:bytes)->bytes:\n",
        "  return private_sponge[:32]"
      ],
      "metadata": {
        "id": "ZQ0HJIaHbVqW"
      },
      "execution_count": 102,
      "outputs": []
    },
    {
      "cell_type": "markdown",
      "source": [
        "#Extract T"
      ],
      "metadata": {
        "id": "3bIAq0Cx7f7g"
      }
    },
    {
      "cell_type": "code",
      "source": [
        "def int8_to_binString(intByte:int)->str:\n",
        "  \"\"\"Get the 8 bit representation of an integer as a binary string\n",
        "     without the '0b' indicator.\n",
        "\n",
        "  The function takes one integer byte, turns it to binary\n",
        "  and returns an string containing the 8 bit representation of it.\n",
        "\n",
        "  Parameters\n",
        "  ----------\n",
        "  intByte : int\n",
        "    The byte, labeled as an int by python.\n",
        "\n",
        "  Returns\n",
        "  -------\n",
        "  str\n",
        "      A string with 8 bits to represent the integer.\n",
        "  \"\"\"\n",
        "  binary = bin(intByte)[2:]\n",
        "  return binary.zfill(8)"
      ],
      "metadata": {
        "id": "PMZ5gXFyw63C"
      },
      "execution_count": 103,
      "outputs": []
    },
    {
      "cell_type": "code",
      "source": [
        "def int8_to_bits(intByte:int)->list:\n",
        "  \"\"\"Get the first 8 bits of an integer as an array.\n",
        "\n",
        "  The function takes one integer byte, extracts it's bits\n",
        "  and returns an array containing the bits starting from\n",
        "  the most significant bit.\n",
        "\n",
        "  Parameters\n",
        "  ----------\n",
        "  intByte : int\n",
        "    The byte, labeled as an int by python.\n",
        "\n",
        "  Returns\n",
        "  -------\n",
        "  list\n",
        "      An array with the first 8 bits of the integer\n",
        "      starting from the most significant one.\n",
        "  \"\"\"\n",
        "  bits_data = bin(intByte)[2:]\n",
        "  return [int(i) for i in bits_data.zfill(8 * ((len(bits_data) + 7) // 8))]"
      ],
      "metadata": {
        "id": "KQVLtrcxxkUP"
      },
      "execution_count": 104,
      "outputs": []
    },
    {
      "cell_type": "code",
      "source": [
        "def tMatrixRowGen(byteString:bytes,neededBits:int)->list:\n",
        "  \"\"\"Generate one row of the T matrix.\n",
        "\n",
        "  The function takes one byte-string and extracts the specified\n",
        "  ammount of bits (neededBits) to fill one row. When the ammount\n",
        "  of bits doesn't fit completely in a byte, the most significant\n",
        "  bits of the last byte are ignored.\n",
        "\n",
        "  Parameters\n",
        "  ----------\n",
        "  byteString : bytes\n",
        "    A byte-string containing the bits used to fill the row.\n",
        "  neededBits : int\n",
        "    The ammount of bits a row needs to have.\n",
        "\n",
        "  Returns\n",
        "  -------\n",
        "  list\n",
        "      An array representing one row of the T matrix\n",
        "  \"\"\"\n",
        "  row = []\n",
        "  while(neededBits>8):\n",
        "    row+=int8_to_bits(byteString[0])\n",
        "    byteString = byteString[1:]\n",
        "    neededBits = neededBits-8\n",
        "  if(neededBits>0):\n",
        "    row+=int8_to_bits(byteString[0])[-neededBits:]\n",
        "  return row\n",
        "\n",
        "def tMatrixGenerator(byteString:bytes,v:int,m:int)->np.ndarray:\n",
        "  \"\"\"Generate the T matrix.\n",
        "\n",
        "  The function takes one byte-string and generates v rows\n",
        "  each one with m bits extracted sequentially from a byteString\n",
        "  using the tMatrixRowGen() function.\n",
        "\n",
        "  Parameters\n",
        "  ----------\n",
        "  byteString : bytes\n",
        "    A byte-string containing the bits used to fill the matrix.\n",
        "  v : int\n",
        "    The ammount rows of the matrix.\n",
        "  m : int\n",
        "    The ammount columns of the matrix.\n",
        "\n",
        "  Returns\n",
        "  -------\n",
        "  list\n",
        "      An array representing the T matrix\n",
        "  \"\"\"\n",
        "  mdivided8 =math.ceil(m/8)\n",
        "  matrix = []\n",
        "  for i in range(v):\n",
        "    matrix.append(tMatrixRowGen(byteString,m))\n",
        "    byteString = byteString[mdivided8:]\n",
        "  return np.array(matrix)"
      ],
      "metadata": {
        "id": "oSe2MqZusb55"
      },
      "execution_count": 105,
      "outputs": []
    },
    {
      "cell_type": "markdown",
      "source": [
        "# SHAKE (squeeze public map)"
      ],
      "metadata": {
        "id": "Dt0Qr2nPJoR0"
      }
    },
    {
      "cell_type": "code",
      "source": [
        "def subMatrixGenerator(byteString:bytes)->np.ndarray:\n",
        "  \"\"\"Generate a part of the L or Q1 matrix.\n",
        "\n",
        "  The function takes one byte-string and returns one 16 row part\n",
        "  of the L or Q1 matrix. It must be noted that the rows are generated as columns\n",
        "  at first and then are transposed.\n",
        "\n",
        "  Parameters\n",
        "  ----------\n",
        "  byteString : bytes\n",
        "    A byte-string containing the bits used to fill the matrix.\n",
        "\n",
        "  Returns\n",
        "  -------\n",
        "  np.ndarray\n",
        "      A matrix\n",
        "  \"\"\"\n",
        "\n",
        "  matrix = [int8_to_bits(byteString[i*2])+int8_to_bits(byteString[i*2+1]) for i in range(len(byteString)//2)]\n",
        "\n",
        "  return np.array(matrix).T"
      ],
      "metadata": {
        "id": "xnISGIu4FL8D"
      },
      "execution_count": 106,
      "outputs": []
    },
    {
      "cell_type": "markdown",
      "source": [
        "## Obtain C, L, and $$Q_1$$"
      ],
      "metadata": {
        "id": "yvGATeTum1hy"
      }
    },
    {
      "cell_type": "code",
      "source": [
        "def G(v:int,m:int,lvl:int,public_seed:bytes)->tuple[np.ndarray,np.ndarray,np.ndarray]:\n",
        "  n = m+v\n",
        "  g_equation = 2+2*n+v*(v+1)+2*v*m\n",
        "  mdivided16 = math.ceil(m/16)\n",
        "  #first g function iteration\n",
        "  if(lvl==1):\n",
        "    g_shake = hashlib.shake_128(public_seed+bytes.fromhex('00'))\n",
        "  else:\n",
        "    g_shake = hashlib.shake_256(public_seed+bytes.fromhex('00'))\n",
        "  public_sponge = g_shake.digest(g_equation)\n",
        "  C_base=int8_to_bits(public_sponge[0])+int8_to_bits(public_sponge[1])\n",
        "  public_sponge = public_sponge[2:]\n",
        "  # L and Q1 have more than one dimension, so they are initilized differently\n",
        "  L_base = subMatrixGenerator(public_sponge[:2*n])\n",
        "  public_sponge = public_sponge[2*n:]\n",
        "  Q1_base = subMatrixGenerator(public_sponge)\n",
        "\n",
        "  #following g function iterations\n",
        "  if(lvl==1):\n",
        "    for i in range(1,mdivided16):\n",
        "      g_shake = hashlib.shake_128(public_seed+bytes.fromhex(f'0{i}'))\n",
        "      public_sponge = g_shake.digest(g_equation)\n",
        "      C_base+=int8_to_bits(public_sponge[0])+int8_to_bits(public_sponge[1])\n",
        "      public_sponge = public_sponge[2:]\n",
        "      L_base = np.concatenate((L_base,subMatrixGenerator(public_sponge[:2*n])))\n",
        "      public_sponge = public_sponge[2*n:]\n",
        "      Q1_base = np.concatenate((Q1_base,subMatrixGenerator(public_sponge)))\n",
        "  else:\n",
        "    for i in range(1,mdivided16):\n",
        "      g_shake = hashlib.shake_256(public_seed+bytes.fromhex(f'0{i}'))\n",
        "      public_sponge = g_shake.digest(g_equation)\n",
        "      C_base+=int8_to_bits(public_sponge[0])+int8_to_bits(public_sponge[1])\n",
        "      public_sponge = public_sponge[2:]\n",
        "      L_base = np.concatenate((L_base,subMatrixGenerator(public_sponge[:2*n])))\n",
        "      public_sponge = public_sponge[2*n:]\n",
        "      Q1_base = np.concatenate((Q1_base,subMatrixGenerator(public_sponge)))\n",
        "\n",
        "  # obtaining C: we take the m bits (starting from the last generated bit) we\n",
        "  # need fromthe total of bits generated\n",
        "  C = C_base[-m:]\n",
        "  C = np.array(C)\n",
        "  # obtaining L: We discard the upper rows to get the specified dimensions\n",
        "  L = L_base[-m:]\n",
        "  # obtaining Q_1: We discard the upper row to get the specified dimensions\n",
        "  Q1=Q1_base[-m:]\n",
        "  return C,L,Q1\n"
      ],
      "metadata": {
        "id": "m__RjLhdJztu"
      },
      "execution_count": 107,
      "outputs": []
    },
    {
      "cell_type": "markdown",
      "source": [
        "## Obtaining $$Q_2$$"
      ],
      "metadata": {
        "id": "skVOldbqnIhB"
      }
    },
    {
      "cell_type": "code",
      "source": [
        "def findPk1(v:int,m:int,k:int,q1:np.ndarray)->np.ndarray:\n",
        "  \"\"\"An implementation of the findPk1 algorithm of the LUOV specification.\n",
        "\n",
        "  Parameters\n",
        "  ----------\n",
        "  v : int\n",
        "    The v parameter of the LUOV specification.\n",
        "  m : int\n",
        "    The m parameter of the LUOV specification.\n",
        "  k : int\n",
        "    An integer between 1 and m.\n",
        "  q1 : np.ndarray\n",
        "    First part of Macaulay matrix of the quadratic part of P.\n",
        "\n",
        "  Returns\n",
        "  -------\n",
        "  np.ndarray\n",
        "      The v-by-v matrix representing the part of pk that is\n",
        "      quadratic in the vinegar variables.\n",
        "  \"\"\"\n",
        "  Pk1 = np.zeros([v,v],dtype=np.int8)\n",
        "  column = 0\n",
        "  for i in range(v):\n",
        "    for j in range(i,v):\n",
        "      Pk1[i,j]= q1[k,column]\n",
        "      column+=1\n",
        "    column+=m\n",
        "  return Pk1"
      ],
      "metadata": {
        "id": "mf4FpkwHzBoy"
      },
      "execution_count": 108,
      "outputs": []
    },
    {
      "cell_type": "code",
      "source": [
        "def findPk2(v:int,m:int,k:int,q1:np.ndarray)->np.ndarray:\n",
        "  \"\"\"An implementation of the findPk2 algorithm of the LUOV specification.\n",
        "\n",
        "  Parameters\n",
        "  ----------\n",
        "  v : int\n",
        "    The v parameter of the LUOV specification.\n",
        "  m : int\n",
        "    The m parameter of the LUOV specification.\n",
        "  k : int\n",
        "    An integer between 1 and m.\n",
        "  q1 : np.ndarray\n",
        "    First part of Macaulay matrix of the quadratic part of P.\n",
        "\n",
        "  Returns\n",
        "  -------\n",
        "  np.ndarray\n",
        "      The v-by-m matrix representing the part of pk that is bilinear in the\n",
        "      vinegar variables and the oil variables.\n",
        "  \"\"\"\n",
        "  Pk2 = np.zeros([v,m],dtype=np.int8)\n",
        "  column = 0\n",
        "  for i in range(v):\n",
        "    column += v-i\n",
        "    for j in range(m):\n",
        "      Pk2[i,j]= q1[k,column]\n",
        "      column+=1\n",
        "  return Pk2"
      ],
      "metadata": {
        "id": "to23ZqMWEToa"
      },
      "execution_count": 109,
      "outputs": []
    },
    {
      "cell_type": "code",
      "source": [
        "def findQ2(v:int,m:int,Q1:np.ndarray,T:np.ndarray)->galois.GF2:\n",
        "  \"\"\"An implementation of the findQ2 algorithm of the LUOV specification.\n",
        "\n",
        "  Parameters\n",
        "  ----------\n",
        "  v : int\n",
        "    The v parameter of the LUOV specification.\n",
        "  m : int\n",
        "    The m parameter of the LUOV specification.\n",
        "  q1 : np.ndarray\n",
        "    First part of Macaulay matrix of the quadratic part of P.\n",
        "  t : np.ndarray\n",
        "    A v-by-m matrix.\n",
        "\n",
        "  Returns\n",
        "  -------\n",
        "  np.ndarray\n",
        "      The second part of Macaulay matrix for quadratic part of P.\n",
        "  \"\"\"\n",
        "  # we use galois to prevent the results of the operations from\n",
        "  # being out of the finite field\n",
        "  GF = galois.GF(2)\n",
        "  T = GF(T)\n",
        "\n",
        "  Q2 = GF(np.zeros([m,int(m*(m+1)/2)],dtype=np.int8))\n",
        "  for k in range(m):\n",
        "    Pk1 = GF(findPk1(v,m,k,Q1))\n",
        "    Pk2 = GF(findPk2(v,m,k,Q1))\n",
        "    Pk3 = -np.transpose(T)@Pk1@T+np.transpose(T)@Pk2\n",
        "    column = 0\n",
        "    for i in range(m):\n",
        "      Q2[k,column]= Pk3[i,i]\n",
        "      column += 1\n",
        "      for j in range(i+1,m):\n",
        "        Q2[k,column] = Pk3[i,j] + Pk3[j,i]\n",
        "        column+=1\n",
        "  return Q2"
      ],
      "metadata": {
        "id": "d-i4SgxzGrfA"
      },
      "execution_count": 110,
      "outputs": []
    },
    {
      "cell_type": "markdown",
      "source": [
        "# Generate the public key"
      ],
      "metadata": {
        "id": "0vm6l3EMwD1n"
      }
    },
    {
      "cell_type": "code",
      "source": [
        "def keyGen(v:int,m:int,lvl:int,private_seed:bytes)->bytes:\n",
        "  private_sponge = create_private_sponge(private_seed,v,m,lvl)\n",
        "  public_seed = get_public_seed(private_sponge)\n",
        "\n",
        "  T_base = private_sponge[32:]\n",
        "  T = tMatrixGenerator(T_base,v,m)\n",
        "\n",
        "  C,L,Q1 = G(v,m,lvl,public_seed)\n",
        "  Q2 = findQ2(v,m,Q1,T)\n",
        "  Q2_copy = Q2.copy()\n",
        "  # The first 32 bytes of the public key come from the public seed\n",
        "  public_key = public_seed\n",
        "\n",
        "  Q2_bytes = b\"\"\n",
        "  Q2 = Q2.flatten(order=\"F\")\n",
        "  while len(Q2)>8:\n",
        "    byte = \"\"\n",
        "    byte += str(Q2[7])+str(Q2[6])+str(Q2[5])+str(Q2[4])+str(Q2[3])+str(Q2[2])+str(Q2[1])+str(Q2[0])\n",
        "    Q2_bytes += int(byte,2).to_bytes(1,byteorder=\"big\")\n",
        "    Q2 = Q2[8:]\n",
        "  if len(Q2)>0:\n",
        "    byte = \"\"\n",
        "    while len(Q2)>0:\n",
        "      byte += str(Q2[0])\n",
        "      Q2 = Q2[1:]\n",
        "    byte = byte.ljust(8,'0')[::-1]\n",
        "    Q2_bytes += int(byte,2).to_bytes(1,byteorder=\"big\")\n",
        "  public_key += Q2_bytes\n",
        "\n",
        "  return public_key"
      ],
      "metadata": {
        "id": "LWIGsyYLX9Be"
      },
      "execution_count": 127,
      "outputs": []
    },
    {
      "cell_type": "code",
      "source": [
        "private_seed_test = generate_private_seed()\n",
        "public_key_test = keyGen(197,57,1,private_seed_test)\n",
        "print(public_key_test)\n",
        "print(len(public_key_test))"
      ],
      "metadata": {
        "id": "T-hi9LrQLPM9",
        "colab": {
          "base_uri": "https://localhost:8080/"
        },
        "outputId": "244fd6c1-9546-49c6-a267-8ab401891317"
      },
      "execution_count": 128,
      "outputs": [
        {
          "output_type": "stream",
          "name": "stdout",
          "text": [
            "b'p\\xdd\\xc6/`\\xb7\\xcdl\\x98\\x16\\x10/\\xd3\\xdd\\x8e\\xa8\\xf9\\x8f9\\x0f\\x08\\xb3\\x13\\x01A\\x9e\\x8a\\x99\\x11\\x9d\\x8c^\\xa9pW$f\\x8b{\\xc2q\\x84`0\\xf2\\xc9\\xe6\\x18\\xee\\x8d\\'D\\x021\\xca5,\\xe0^\\xd9\\xd8-\\xe4<\\xffq\\x07\\x1801\\xf2L`_i\\x9b\\xb9\\x16:|\\xa8i=.7\\x83d\\xf7&\\x8e\\xed\\xa4\\x0e\\xcbl\\'\\x95\\x1e\\xd9\\r/\\x88d\\x89k\\xb2\\x8f\\xe2\\x836\\xa5\\x0b\\xca\\xa4[\\x0f~\\xff\\x9dc\\x85\\xbb/\\xc9\\xf9 ?;\\x96?l\\x9f\\xf6;-\\xec(u\\\\\\x19\\xbf\\xd1\\x96\\xde?\\xe2\\xeb\\x97\\xb1\\x96\\xca\\xbadT\\xd8\\xa8\\x9a\\xe3\\xda\\xd9V\\xfc\\x80R]%\\xb6\\xe9R\\xe4\\xe3p\\x94\\x1d{\\x9enK\\x06\\x1d\\t0\\xfe\\r\\x88{\\xea\\x99\\x02,\\x98\"\\xa4\\xefm\\x83\\xd3\\xf6^]\\xece\\xf2U\\xa6\\\\z\\x9ee\\xe4B\\xda,\\x93\\x9a\\'\\x87\\xd8\\xe5\\xfc\\x0b\\xe4\\xc1E/\\xd9:d\\x83\\xeb1\\xa9=\\xb4\\xc3\\xb4\\tX\\x94\\xb7\\xd4\\xc2\\x98p\\x9a\\xe8\\x80L@\\xd6\\xd8_\\x9d\\xf2\\x94o\\x0f\\n\\x15qf\\xe0\\x957\\xc4\\xf8\\xaf\\xe1\\xcb\\x12\\xb9\\x8c\\xbe\\xeew\\xc7E\\xeb@\\x98\\x8aJ\\x00\\x05]\\x8e\\x88u\\x9d\\x9fs\\\\\\x10b\\xb7\\xd7\\xa0\\xa5\\x95G\\x8b\\x16p\\x87x\\xd2Q\\r/\\xd1\\x9b(\\xf2\\x7fg\\xbfBC,g\\xd3\\xedyY(\\x1bg\\x91\\xd0\\x990\\xbbk@\\x1a\\x87\\x05\\xf4Q\\x9f\\xdd\\xedA\\xd8\\x9cu\\xdeS\\xb4\\xf7z\\xfds\\xe9\\n\\xab\\xaf\\xe9\\xff\\xee\\xad\\xc8\\xde\\xc3\\x92VV\\xa02\\xe6\\x83\\xc4\\x12{\\xcd\\x16\\xa0\\x8cC,\\x93v\\xf0\\xa0\\xbd\\xa4\\xbc\\xaf\\x873~\\xe5\\xa7\\xd5\\x88\\x83?\\x10Eb\\xcaPAEJg+!qM\\x8a-\\x85\\xb4\\xb30\\xf7\\xf8\\xf4\\x86\\x00?\\x9a=\\xd6\\xbeZ>\\xeaf\\xa9\\x04\\xa0\\x12\\xa5\\xd6~\\xaa0\\x97f\\xcd\\xec\\xd8\\x16\\x84vb0\\x82v\\xd8\\xac\\x97\\xd4\\xcc\\xb3\\x1co,x\\xb3J:k\\x05\\x00\\xe7\\xb5\\x80\\xee6\\xca\\x10\\n\\xc7\\x1c\\xdc\\x17\\xe6W\\t%T\\n\\x1b$\\xa9P0\\xc2\\x19\\x177G\\xe3\\x17\\xbbyvzl\\xfa\\xe2\\xc6<\\xd8\\xbe\\xa1\\xfa\\x8a\\xe3\\x1ev\\x0f}M$c\\x04,`;vi\\xba~9x\\xf1\\xd2\\xb5\\x95^_\\xf4\\xec~\\xf8\\xf5\\xea\\x9f\\x8fZn{\\xd1&U[z~%e\\xf7\\xdc\\x88\\xf0f/\\x97Wp\\xaf\\x91\\xee;r\\xf0\\xd4\\x9bp\\x14\\xc8\\xf1m\\xb3\\x05\\xd8\\xb7\\xef\\xf3\\xe0Gan\\xec\\xf6\\xff\\xa6\\x80q^\\x83\\xec\\xe0\\xa1|\\xf4w\\x89T\\xfb-\\xb7\\tx\\xeb\\rZC\\xb7\\x18{D#\\xa6\\x94~\\xefx\\xb6[\\xe9\\xa4\\x9b\\x13\\xb1\\x91R\\r\\xce=N~\\x0b\\x9c2\\xdf;\\x92q\\x05&\\xbb&!\\xfb\\xf0\\n}\\x1b\\x9e\\xe1\\xcfg\\xb5\\xe4\\xf0\\xb6CV\\xff\\x16\\xe5\\xbc\\xa9\\xff\\x88y\\xff#\\xdbw\\x91\\xa0\\xefz\\xdcY\\xa9\\x03\\xf3-\\xaa^L\\x1c\\x153]D\\x89,qm\\xa2\\xe4\\xda\\x97\\xf7\\xb2w\\xa8\\xdc\\x10\\x81\\xe0x\\x9a\\xd76\\x9d\\xd1e\\xe3\\xd7L\\x13\\xc0s\\xcf\\xdd6\\xa0\\x08rF\\xeb3\\xc5\\xcb;l\\xa1b\\xb6J\\x94\\x85\\xc6E\\x0c\\x8e\\xe1\\x9d8b\\xf3\\t\\xd5\\x1a\\xa5z\\xa2\\x15\\x81M+?\\x83\\xf5\\xdfu\\xdd\\rDI\\xb1L\\x818\\xfdD\\xdd\\xfaG\\xdep\\x0f\\xb6\\xb1\\x88O\\xcb\\xf6?J\\xd6s\\x16\\\\Wo\\x05\\x85;h\\xf7\\x81>\\x07\\xf2\\xce\\xfd\\xbf6\\xfbx\\x80n\\x97~+\"\\x06\\xa2\\xe0W[\\x93\\xc2*j\\xf7F\\xcc\\xf8\\xf5\\x8e@.\\xc9\\x1d\\xeb\\t\\xa7\\xdddE$fh\\xb6\\xe5\\x8c\\x14\\xba\\xec\\xfb_\\xd8SZkP\\xe0\\x11R\\x18\\x8b;\\xd4]\\xe5\\xdfh7\\xaa\\xf9\\xaan\\xd1\\x8a\\xf6Q8\\x9e\\xdf)\\xfez]V\\xa9:\\xf0\\xfe\\xfe$\\xb3nW?\\xe7>\\x87K\\xf2\\xe4n\\xb2\\xca9\\x81\\x9aQ\\xdbd\\xf3\\xb1\\'F\\x9c\\x05`z\\xa4\\x9dB\\xd2p#y\\x8b\\xc8S\\x99\\x05W\\n0\\x9b\\xfd\\xd1U\\x80\\xe6\\xaeX\\x87\\xe4\\x1b\"\\xd4\\x0eE\\x19\\x01gLC\\x80\\xcb!D\\xdf\\xbf\\xed*\\xda\\x1e\\x15\\x1e\\r\\xda\\x8d}(\\xfa\\xd0}\\xf3?\\xc3\\x95\\xef\\x9a\\x13\\x13\\t\\x05\\xf3T\\x94\\x9f\\x11-WK|G1\\xe4\\xc6\\xb4N \\xd0LGF\\x05\\xbeKQ\\x19\\xef9\\x04\\xc1nY\\xa7\\xd0\\x8b\\x1e\\xb3\\xf0\\xf4M\\xe2\\x87\\xdbA\\xb2\\x1e\\xdc\\x08\\x9e\\x0e.W\"\\xac\\xd4\\xba\\xba\\xab5\\xda\\xaf\\xfdD/\\xbd$\\x9dHCt\\x1f\\xc7kiQ\\xeapPy\\x15\\x16$\\x162hR~P\\x12\\xb3C:rHpj\\xad\\xeb?\\xfa(\\x9f\\xd0o\\x1b\\x10&\\x12\\x92)\\xab\\x8b\\xdaH\\x969\\xac\\x1d\\xd8\\xdaK\\xa0\\xb9\\x81\\x98b\\xd8\\xd3\\x84\\x03\\xaf\\x82\\x9f\\xdd\\x9b\\x97u\\x16,V\\x81C\\xe4\\x12\\xf1b\\xe4\\x05f`j\\xee\\xdb\\xe2\\xa1\\x82\\xfe\\x13\\xa2c\\x99=\\xccL<\\xa0\\xf4\\x94Kz\\xf2\\xa0\\x8fS\\xed\\xaeXw\\xc9\\x82/\\xb5\\xfdzk\\x8eO\\xf5h.\\xae\\xe3\\x13\\xfa\\x91\\xdb\\xf7\\xe23\\xe3\\xf4\\xc3f)b\\x11\\xe2\\x93\\xfa\\x90m\\xd60\\x0c\\xf6r\\\\\\xc7\\xab\\x1dF\\x899\\xb2\\x0b\\xca\\x04\\x12L\\x0c\\xc4\\xf0\\xdb\\x94\\x9eJ\\xbdl\\x1d{2\\xa7\\xe8\\x02\\x8b4|K\\x0b\\xa1\\x91)\\\\\\xf6\\xcd\\xea\\xa4j\\xd8^\\xed\\xb1\\xfa\\xb8\\xdcDq\\x8dU\\x16sY\\xe4}a\\xfc\\xc1F\\x88\\xd4\\xb7k0\\x9f\\x8d\\xf7\\xed\\xb9\\x0c\\x84\\xea\\x95\\xc4\\x11\\x8e[N\\x8e*\\xc1\\x1d\\xb9M/\\xd0o5\\x1c\\x88\\xc1\\x8e\\xb4\\xe2\\xd5\\xd7Z7\\xe7\\x83\\xcd\\xb7\\xf1\\xb3\\x0e\\xd8>\\'\\xd6\\xd4}\\xec\\xab\\xfd\\xc89\\xd8z\\x0f\\x81\\x99\\xf9\\xe0\\xe0t\\xb6f\\x16\\x80+ykU\\xca\\x80\\xb2\\xf4~/ \\xca\\x05?8\\xc4\\x814j\\x07\\xda\\xe24\\x8cc\"\\xec\\r\\x1f\\xc9\\x12\\xf3\\xa7\\xb6\\x16\\x10\\x8c.\\xd7\\x95^\\xc0\\xd7\\xcd,J\\xf4\\xbd2Z\\xdd\\xee\\xed\\xd6\\x01\\x9f\\xaa\\xbd\\x12Y\\xda\\xd3!\\x9bR\\xbc_\\x83\\xaaQ\\xfc\\xb9}\\xab\\x9b\\xc1\\xde\\xa3\\xd3\\xf8\\x0f\\\\\\xd1\"\\xa0\\x1d\\xa9se\\x88\\x07\\x05\\xc63\\xa9x \\xaf\\xa3<\\xef\\xa3\\x8a\\rua\\xd1(\\xb5\\xf3\\xeb\\x10\\xf1\\x16\\x0e\\xcd\\xb5x\\xadh\\x83f\\xbc/\\xc2\"\\x82\\x1c\\xe9\\x18\\xbb)\\xe3.\\xdbV\\x91Z\\x02<a\\x86vr\\x90\\t\\x19l\\x9c\\xa8\\xbe\\xc1m\\xd5\\x90jg\\xae\\x047=\\xff1\\xab\\xba\\xe35\\xc5\\x15\\xcf2\\x1bs<19d=\\xcf\\xb4\\xd7\\xd6A\\xbf\\xc2\\x12\\xa0\\xcf\\xd2\\xbcG\\xd8\\xd9x8u\\xf8i\\xb3\\xe1\\xa4\\x8f\\x88OK\\xc17<z\\xe4Gl\\xaa\\xfc\\xc8\\x963`M\\xcc\\x97\\xa9\\x03\\xdf\\x03\\xae\\x05\\x86/\\x0cQ\\x1eM \\xf2\\xde\\xe8W\\x8c\\x07!\\xd3\\xd0\\x82g\\x1d\\xc9\\x9f\\x98\\xcb\\xb5\\x8bj\\xe8$\\x03\\xc8\\xd9\\xfdI\\xfd`\\x7f\\x89\\xd1U\\x94\\x10\\x14N)\\xb6\\x80\\x1b\\xc8\\xea\\r\\x0b\\x0fVvw5\\xeb\\xbf`-\\xc9\\xa3\\xa4\\x9b\\xddq\\xb5\\xf5:\\x19Tmuk\\xf8*\\x02\\\\\\x15\\xddp\\xd1;\\xcb,r\\xc0\\xa5Y\\xc0S\\x8d\\xd9\\x8a\\t\\xd2\\x8b\\xfa\\xf9\\xe4\\xdd]\\xc9\\xa2wN\\x81\\x18J\\x0b\\x845]\\x1av\\xcd\\x8d\\xbc\\x87\\xdcnE\\x96#x+\\xf3\\x87\\xf2\\xe4\\xfd\\xd1\\xed\\xe44\\xf4\\xae\\x1e\\xea\\x02\\xd61\\xe8S\\x07\\x93\\xd9\\xf8\\xcfQ\\x94\\xfd\\'\\x9d\\xa7\\x9c0m\\xd1\\xe5\\x1e\\xd4\\xb9\\x99\\x9d\\'\\x9e\\xc1\\xd6\\xa8\\x0e\\xd5k\\xb0q\\x0f\\xd1\\r\\xf8h\\xc8obg(\\x80*\\xec\\xd0\\xba\\xc1\\x87\\\\&\\xfd\\xa1\\xa9F*\\x18o\\x03V7k+\\x1c=\\x95>O?\\xcfh9LD\\xedM\\xbc}\\xff\\xb5\\xdc\\xe1Q\\x97\\x0f\\x93\\xf5\\x83\\xd1\\xae\\x1974u\\xfe\\xf0E\\xfc\\x123\\x90\\x8f\\x88W9\\xea\\xd3\\xed\\x86l\\xf2\\xa9\\x1a*\\x0bY\\xac\\x9b\\xa4d\\r\\x08\\xb6\\x99\\xa2?[\\xb8h+\\x84c\\xf1I\\xe4\\xf9\\t\\x9c\\x91#\\x1d\\xf9\\xf4T\\x01v|\\xa8F\\x800\\xb9=\\xee\\xb1\\xb9\\xb1U\"J\\x1c\\xde\\xb42c\\xb6\\x0b\\xedc\\x1f\\xcf\\x03\\x84\\xa8\\x96z\\x96So\\x0eV\\x89\\xb9\\xb1\\x97\\xd6aS|%\\x82\\x95\\xd8#0\\x97\\x8a\\xc9\\xbe\\x9d\\xef\\xc2\\xf94p\\xe9\\xe7C\\xad\\x95\\x95\\x07+\\xc2w\\xc5{\\\\\\xbb\\x8c\\xec\\xfd\\xa1\\x91\\xb5\\x15\\xbah}+\\xbe\\x1b/\\xa4\\xda\\x81\\xc7$+\\x92=\\xad:\\xc8!W\\xb3\\x97\\xc9\\xa4\\xa0E\\xccT\\xee~\\x19y\\xe6\\xd84\\x18\\xbd.\\x9b\\xc1\\xaa\\x99\\x83\\x89\\xbe\\\\#\\tAWO\\x82\\xbe[\\x06\\xec\\x0f\\x92YI\\xba\\xda\\x9a\\xb3\\xb6:9\\xa6\\xcf\\xb0s(\\xb6z\\xd6\\x1f\\x84g\\xd3\\x1cY\\xef5\\x04\\xf4\\xfaa\\xf9\\xf7\\xe2I6\\xb0\\xa2\\xc3\\n}\\xfa\\x97\\xce\\x9e\\x98\\xff\\xde(\\xdc|\\x93\\xd8G\\xf0U\\x87J\\xfd\\xf5\\xc4\\'\\xe24\\xd5T\\x15\\x97$k\\xae\\xfc\\xb7\\x7f\"\\xcd\\xb2\\xa3v\\xa1\\xac\\xf5\\x8c\\x0f\\xe0a\\xa5\\xb8\\x81\\x9e\\xbc*\\xe7\\xce0\\xa5\\x07\\xf8\\x1f\\xc3\\x08v\\xa0\\xefV\\xbb9\\xe5\\x1c\\x9f\\x9f\\x91\\x8b\\x99`\\xc4\\'\\x92\\x88\\xfd\\xc8N\\xd5\\x14\\xf2>9\\x97\\x11\\xb5\\xdd\\x17?\\x07\\x84>\\xa6h\\xf7\\x87S\\xdf G\\x89c\\'h\\xdcT\\xd6\\x95\\xf4\\xad\\xe0\\xe3**p\\xc7Y\\xe4\\xf9ug\\r\\x9cwuy9m\\xeb\\x94`\\xff\\xc3\\n\\xbe\\xcd\\xbf:\\x11\\xba\\x15\\xfat\\x15\\'\\x18\\xeb}\\xbc.G\\xb4(\\x0e\\xa8\\xeb;i\\xb0\\xc7H\\xd7\\xbdU\\xae\\xea`\\xa3\\xfcKC1~\\x03Z\\xcb\\xf9\\xdd\\xa4\\x94z^\\xc1\\x8b\\x96\\x82\\x9b\\xd9\\\\\\xa6~\\xb1\\x81m\\x06\\xe6\\xaf\\x95[RQz\\x9f\\x03\\x02\\xeef\\xc8\\x1d\\xc5\\xb8\\xda\\xe8\\x0c\\xb0\\x84\\x1ek\\xd18\\xb3\\xca|\\xc7\\xe7\\xfa66\\xeb\\x18\\xde[\\x17u\\x18\\xdfZA$\\x00-\\xc8\\xcc\\x95\\xda\\xaae\\xd8^\\x9a\\x82Xe\\x07\\xea\\x97B\\x15a\\xf7v\\xb1\\xd3\\xa1\\x8c\\xb6\\xd6\\xdb\\xb3wG*\\xbcJ\\xfau\\xbd\\xd2i\\x0e\\x07\\xf1=b\\x9bHm\\xab\\n\\xde\\x12\\xc1m&\\xa5o\\xc6e\\x87-\\xb1\\xed\\x100\\xea\\xfb\\xb6`\\xfd\\x954\\xec\\x1ep\\xe3\\x8d\\xf0\\xaa,\\xf8\\x8b\\n/L)6U3ix\\xc4\\xc0&\\xae\\xb9\\xfc]\\xaf\\xeeV\\xcc\\xa0\"u\\x10D\\xce\\xd6}\\xcf\\x97]&\\x90!\\xeam\\xcf\\xf3\\x04\\x86p\\xb6\\x95u\\xcc\\x99\\x10\\xbe*3\\x18\\x0e\\xe6\\xc7d^l\\xde%I2\\xacolx\\x15\\xaf\\x18L6YI\\xa7\\xadlh\\'\\x83\\x8c\\xe0\\xab%\\xc0\\x9e\\xaa\\x8c\\xe98-\\x9d\\x07\\x1f\\xd8\\x8d\\x96\\xea\\xaeV6\\xa4\\xcf`f\\x90oR\\x19r\\xddYv\\xc9\\xb9\\xaa\\x00\\x12\\xc3\\x07?\\xab\\x86<\\xbb\\xc6.\\xd4X6\\x89\\x9c\\xff\\xdejB\\x9e\\x88BKt\\x96m\\x03a\\x81\\x12\\xc5ng\\xe5\\xd9\\x16\\x0c7\\xc8|;\\x8fV\\x80\\xd6(\\xb7B/\\xde\\x80\\x04\\x04\\x87|c\\xc4\\xd15\\x17\\xa4\\x00\\xe8b\\x02x=\\xae\\x82^?(\\xbct\\xcb\\x9a\\xdc8\\xa3\\x0e\\x1d\\\\^\\x1c\\xfeQ\\xa6\\x19\\xa7G\\\\\\x814i\\x05\\x8d}\\xacl\\x92\\xf1:v\\xeaqK\\xa0x\\x8c\\xe6_\\xfd\\xa7\\x03\\xb3\\xb5\\xc7|\\xe9L<\\xf3\\\\\\xde\\n4\\xf4\\x8c\\x9a\\x8e\\xc0\\xae`2\\xad~Z\\xd4;\\x0fv\\x97\\x04\\xf3\\xc7j\\xb9\\x8d\\xc2\\xdd\\x8c\\xd0\\x8ab\\x84\\x9f\\xac\\r\\xd7\\x83\\xb8\\xe6\\x91\\x07\\xc2^\\x08ArTi\\xedfv\\xf9\\x97\\xbe\\xc9\\x08\\xd4\\xefC\\xa3X/\\xf9\\x91\\xefio/\\x1f\\xd8\\xfe\\xf6\\xe8i\\x85\\xeb\\x88\\xe6\\xaf\\x19}\\xfd\\x9a3\\xe2\\x85\\x8b\\x0b\\xde\\x98\\xe6\\xb4\\xa6\\x18\\xd6Nv\\xf2^PEKT\\xcc\\xe4\\xfd[\\x19\\xb7\\xaf3\\xf5\\xc0q\\x82\\xeaD\\xea\\xf9\\xf79`\"Tpm\\x1b\\x01?\\xc2=\\xaf\\xf4\\xf1\\xb8\\xbf7J(\\xbc\\xba\\xecY\\x83\\xe6\\xc3$\\x15\\xc5\\x1a\\xbb\\xa3\\x1a\\xd5\\xd3o\\xb6g5\\xc1M\\xd9(.\\x07\\xb7\\x06\\x1f+X;\\xca\\xf8>\\xbc\\xec\\xeff\\xe8\\x16\\xf3\\xe4\\xc5\\xa1\\x1eSL\\xa1g\\xed\\xbb\\xa5k\\xe7\\xde\\xf6|\\x92\\xf6\\xd4\\x9d\\x1bsb\\x9c\\x91\\x9ev\\xe3j\\x92\\x19\\x83\\'\\x8c\\\\D\\xdcv\\x85\\xf9Y@\\x02\\xa35\\xfc\"\\xdc\\xae%=\\x9a\\x14\\xf5|k<oj\\x9b\\x98:\\xd7|Z\\xe7i\\xe30x\\xc8\\xe4\\xeb\\xa4\\x067N\\x01E\\xfc\\xa5\\x0b\\xcaG\\xc2Bvs\\xfe\\xc1\\x1fl\\xf5\\x12\\xba\\x19\\xcb$\\x91\\x7f\\xd5btoZJ\\xe9L\\x0f\\x1a\\x94nZ\\x85\\xef*q\\x10\\xaf|\\xe2i]\\x80r\\xe6P\\x0c\\xde9\\x84\\x9d5\\xddu\\x8b\\xe8\\xff\\x06I\\x83\\x0ey\\x96\\x0f%\\xa9.X+@\\xbeQ\\xf7\\xac\\x08\\xe2\\xdce\\xc7\\xd9\\xbe\\x89\\x8e\\x92\\x0e\\x12\\x9e\\x0b\\x83\\r\\x02\\xdb\\x99\\xa8qG \\xab\\tC\\x8f$\\x04\\xf2\"\\xac\\x0e\\\\V\\x90\\xb5\\xe8Lh\\xf8\\xf6\\xdcfD<\\x13\\xc5\\x86la\\xfa\\xc4\\x17\\xc1\\x14\\xb1\\x8a\\x0f\\x96\\xc51:\\xc0un\\x86(}\\xcb\\x02=\\xa9\\xb6\\xfe\\xa9\\xbbD!&c>\\xda.\\xebhC\\xbc{\\xe2y\\x13no\\x14G\\xd4<\\x1a\\xf0\\xc88\\xb4>\\x02\\x7f\\x80L\\xc8\\xfaZ\\x8bT\\xcd\\xa1.K\\x87\\xeb\\xa98\\x99]\\xb8\\xc8\\xcd_ps\\xbc\\xb6\\xe7\\x87\\x94\\x110\\xa1\\x0b\\xf1\\x8f(>\\xdeS N|5\\x01\\xd5\\x8aB\"\\xbbT\\xaf\\xb9\\xc2\\xd4\\x98+\\x92zP\\x86Cg\\x1daE\\xf6\\xba\\x1e\\x82\\x1b\\x92\\xe5\\xae\\xbc\\xc3\\x15\\xc4\\xcaY\\x83\\xde\\x96@\\xf8\\xaf\\x9f\\x00w\\x97z{u\\x8cW\\xe6\\x00V\\xb9\\x83\\xe2}\\xa7Z\\xa0\\xe0\\xe1\\xca\\xf0\\xf4\\xc5\\x18\\x01R8;\\x8bg\\xf6\\xfb\\xc8\\xbc\\x05+\\x80S\\xaeS\\xed\\xd6\\xfc\\xaa\\x9e\\xd2\\xbf_\\xe2\\xad\\xe4[-\\x8e\\xb7\\xa42\\xb2\\x18\\xe9\\xbe \\xb6\\xd9\\xf5\\xb9\\xcb\\xd7\"\\xad\\xc1\\x9bb\\x8fQ\\xbe\\xab\\xcd\\x17\\'[F:|\\x01\\xfa\\x86\\x08\\x1fx\\x1b\\xbb=s\\x80\\xd7\\x07\\xa7%]\\xa4\\xb1)Q*\\xa9\\xdf|\\xff=\\x9a\\xba4C\\xdf>QHP\\xca)\\xa0\\x80\\xd8EY\\xc2\\x1d\\xaf\\xde>\\xbfX\\x02\\xb2\\xde\\xd4\\xf3\\x13O\\xc0\\x1d(\\xde\\x16\\xc9\\xbb\\xac\\x07\\xdc\\xcal\\x1cR.\\xec\\xab\\xa0\\x91\\x1a\"9H\\r\\x8b\\xf9@T]w.\\x80\\xa7\\xdb%\\xe9\\x8a2\\xaa\\x04\\xd2>\\xa7^,\\x8e|;\\x8c$\\x08?\\x99\\x0c\\xb6\\x84p\\x8e{l\\xe1\\xa9\\xa3rE\\x08\\xed\\xd2*\\x17\\xef\\xad\\x00\\x8c\\xad\\x90!\\x874]\\xa2m\\xd1h\\xa0\\x86,N\\x85=\\x87\\x07\\xf4f\\xea#_\\xaa\\x8bCv\\x80|Z\\x91\\x1eTH!(\\x1e\\xd3J\\x8d|\\x00\\xd6\\x89%\\xe2\\x1dxY\\x9f\\xc7\\xc6\\xe7m=\\xb8\\x8a\\xee\\x0b\\xe2\\xc5\\x8d~\\x9f^\\xc1\\xbe\\x0e\\x1dLv\\x84\\xe0\\xbd\\x01X\\x9f\\xcb\\x15\\x0b\\xcaF\\xb4$J\\x1e\\xe6z\\tvz\\x94\\xbbk\\xb2\\xe0DZ\\xa1\\x07\\xd3{\\x02{<\\x14\\xb0\\x18\\xc9)\\x0c\\xda\\xc2\\x0b\\x0b\\xb0\\xa7\\x06\\x9e\\x0b{\\xec\\xc15\\x15\\x12;\\xa9\\xf6_.39\\xa2\\xcb\\x85\\xf2\\xa8\\x84(\\xa5(Z\\xfc\\x95\\xebs\\xfe\\xdb\\x11\\x87\\xb6\\xd2F\\xa4\\xa1pu\\x078\\x03\\xc6\\x17\\xc3^4T\\xc3B\\xe9\\xe6\\x12\\xe5r\\xe6m2\\xe8\\xca\\x10\\xdcI\\xf9\\x92\\xdecFW\\x0c$\\x84ZY\\xdc\\xd6-g\\xf6*\\xf0\\xd5D\\xf4\\xf4\\x0c+\\x1e\\xcf\\xe0*\\x04\\xd53\\xfdL\\xcf\\x07\\x90\\xe5\\xbc\\xd3\\xc5\\xf36\\x9e\\xdfi\\xcf\\xaeCi#\\\\\\x8a\\xad\\xc7\\x9e\\xd0t\\xf8P\\xb5\\xd8\\x81\\x1e=T\\xaaQ\\x91\\xda\\xceq\\xe8\\x12J\\xddWG\\xdcU~\\xa2mH\\x92w\"\\xb6+\\xf7}\\xa3\\xecK\\xdc\\xe8\\xd6\\x86\\xa7\\xcfyx\\xd2\\xe8m\\xd5)m)\\xbe\\xbb\\x91o~\\x9d\\xda>?\\xea\\xf2;\\rs\\x0e\\xc8\\x8ag\\xff~\\xb6s\\xa30t5\\x1b\\x86\\x11\\xa6\\xf4\\xc1,\\xccoV\\xad\\xefM\\x9e\\xebl\\x1dg\\x90\\xd9\\xc6\\xbaZ\\xff\\xa5\\x98\\x9b~\\xfe*XE\\xe9D\\xea\\xe7\\xd1\\x82dWX\\x0c5i\\xb7\\xbd\\xf7\\'\\xe3\\xa1\\xa9?\\xbbR\\xa9\\xa3\\xd5\\xf3\\x06\\x99\\x9d\\x80(q\\xb2\\xe4\\xf8\\xc8\\xa4p\\xba\\xc2\\x7fc\\xc0\\xdf\\xf0Z\\xb8\\x18\\xb5\\n\\xd4\\xc5\\n\\xc8h\\x0c\\x95\\x95U\\x05M\\xb8i\\xb3\\xe6\\xa6\\xb3!,\\x1dLh\\\\\\x19\\xc3yS.\\'f]\\xe0\\xe4X?O\\x98HK\\x80+\\x8f\\t<\\xd2\\xf4\\x87\\x14d\\x8a\\xe6;\\x14O\\x89%K\\x9a\\xd3\\xdb\\xca{r~q\\xce\\xf9R&kC\\xc8\\x03/\\x8c@\\x7f\\xa3`\\xb8\\xc8\\x8b$\\x85a\\x85\\xe1\\x1aZ\\xea<.\\xb5\\xfbNB\\x96\\x83\\x87\\x0bPg\\x1e\\xa7d\\x147C.\\xa2\\x9a\\xad\\xfff\\x9f\\x0c\\x13\\xe2\\xf6I\\'X\\xa8p\\xf9\\xad\\x14\\x8dn\\xf4\\n\\xb3]_\\x19\\xe7\\xc9\\xa03E\\x16\\xa9\\xa0N\\xfcB\\xa8~\\x1e\\x91)\\xcf\\xe1;U:4)\\xdaY\\x06\\xbbwac\\x1f}C\\xe2l&\\x97D+p\\xbb!\\xcd\\xd2E-\\\\\\'\\x03=c\\x98/\\xb95l}x\\x9c\\x83\\xf2]\\xab-;\\xd3YT\\x0f4>\\x03+U\\x88\\x90\\xb5\\x8el3\\xdf\\xec\\xfe\\xed\\x91AH\\xb7XI\\x0b\\xee\\x1c9\\x82p\\xd9_7\\x02\\xed/\\x83\\xf0zav\\xb5-\\x11r\\x8c\\n\\x0e(\\xf6OT\\x11W4\\xb5\\xac\\xf7\\xcc\\xcb(\\xb9,%`\\xc4l\\'k\\x91!\\xb5\\x9e\\xfc\\xe1@A\\xbd\\xf8!%\\t\\xbb\\xccR\\x87\\xb6Y^\\x93$,&8&\\x83M\\xdb?\\x01zkR\\xb5\\x85:n\\x80\\x14\\x89\\x98\\xaaM\\xe8d\\xacUs\\x8fb\\x90*\\xaeH\\xa4\\xf9\\xa1\\x04\\x90Q3\\xca\\xf6\\xbff\\x86z\\xd1f\\xe1\\x0ei\\xf8\\xe5\\x82\\xf3\\xe1@\\x0e\\xb6\\xf0W\\xc3g\\xc7\\xf2\\xec\\x06R$-j\\xb4\\xf3\\xd5\\xc5[7:\\x7f\\xbd\\x1f\\xa5D\\xee\\x8c\\x87m\\x9e\\x9e8\\xc2\\xc6\\x8f\\xbc\\xab6\\x88m\\x1cK\\x9a\\xef\\xd9\\xaa\\xc7Yi\\x17\\xd1\\x18\\xbcGw\\x14p\\xfbz\\x1eK\\x80\\x180N\\x08\\xbd\\x141\\x03\\x0ek_!|\\n\\xab\\xfa\\xad\\xe2\\xa1\\xab\\xa1\\xda\\x0b\\x83\\x03\\x9at\\x0b-:\\rp\\xa7\\x97\\xe2\\xda\\xb5\\x1b\\xff\\t\\xe5\\xdfD\\xc7\\xed\\x85\\xfdZ\\xaf\\\\\\xf6\\xb1\\xeb\\x14@\\x16\\xfd\\x8d\\x8d\\xe1\\xa7\\x85\\x1e=F\\xe9\\x17\\xca\\xfc.RR\\x18\\x02Kzc1LqW\\xa1Q\\xef\\xc8\\x83\\x9aM\\xe2\\xb9:{\\x02\"^\\xef$*:M_\\x02\\xdd\\x94\\xca\\xd0\\xdc\\x1e\\xc7\\x87\\xbb5a\\xe2s\\x8d7\\xea\\xf88_\\xba\\xa8|-\\x8e\\xf09\\xeb\\x98\\xbf\\x83\\xafx \\xef]\\x17?\\x90\\xa8l\\xf5\\xa4\\xb5\\x96\\xf7cj\\x08/\\xa1\\xb3\\x85\\xa4\\xdc\\x8f\\x04\\x91\\x96\\x85T\\x7f\\xda\\x8a0\\\\\\xf20\\xd4m<-S\\r\\r{\\n\\xff\\xdf\\xa2\\xc7\\x82\\xc8\\xcb\\xc5\\x07\\xf7\\xe7\\x04\\xf0\\xa16\\xa4o}L.\\xaf\\x97$\\xa8(\\xca\\xa6K\\xfa\\x9a,\\x15(lN~\\x83\\x1a\\xbc\\xcd:>\\xb1\\x94\\xc8$\\xfb\\xc0\\x11y\\x9a\"\\xcf\\xe7\\xda\\xefb\\xb0&\\x8a\\xc1(\\xa2\\xabs1\\xa2ZX\\x94+\\x00\\x95\\xc6\\xcd\\xae\\x1c\\xaa\\xfd\\xfb\\rUZ\\xf4\\x8a\\xc66\\xe5\\xeb\\xf2q?\\xa1)\\xcb&m\\xdf\\xea\\xda\\xa0\\xd4\\xf9\\xf4\\x07;/\\xf6s8\\x01`5F\\xc5\\xb0sd\\x03\\x0b\\xaa&A.\\xeag\\xf2K\\xd2\\xe1-3\\xd6\\x9c\\x8c\\xf6\\x1b\\x99\\x8f\\x18\\x9d\\x161t\\xcfH\\xf1\\xc4\\x922`\\xa3\\x90\\xcb\\xf6\\xff\\x98l\\x8b \\x0bvx\\xdd\\xb6\\xcbb\\xb4\\xdbF\\xca\\x84\\x82\\xd3\\xb7%\\xb6\\xec\\xf6\\xe2\\x82\\xf2B\\xbf\\xb8\\xaaq\\xe7\\x1e\\xe9ufw\\xe1X\\xe2\\xaf3isk\\xe3dN\\x07\\xe5W\\xe6\\x1dwg\\xbbfA\\x90}\\xb8;\\'\\x01\\xf3\\x93\\x9c\\x1a\\t\\x9d\\x026\\\\x!\\xbfQN5L\\x9e\\xf2\\xa4\\xe9\\xfc\\x0c\\xce\\\\q\\\\L\\xfb\\xa1\\xb8\\x9c#\\x11\\xb4 \\xe89\\xbdg\"\\x93\\xc1\\x0e\\xf4\\xbfn\\xcb\\xcd\\x96\\x8aK\\x99\\x0b\\xa0:s\\xd9\\x1d\\xec2\\x82\\xcfH\\t\\xe4\\'\\xd1\\xf5X\\x08\\x7f\\xfah\\xc0\\xe3\\xf9\\xd8\\x9b\\x0eT\\x083\\'\\x07\\t\\x7f^\\x15\\x8a.!C\\xc0\\x88N\\xa4\\xf9\\x8cu\\xde\\x83x\\x19\\xb0\\xd6dn\\xf3]f\\nT\\x06Y\\x1ah\\x14\\x1d\\xdd\\xf7\\xd2\\xdc\\xb5\\xcf[;e\\xecF\\x8d\\x89x\\xa1\\xd1E\\xc7~\\xde\\xca\\xf9\\xe7\\xf0\\x8b\\x0c\\xbbHu!y\\xe5\\xa9{A\\xb7<_gz=\\xadCwz#\\x8ah\\xfa\\x9e\\xb8\\xa2\\x95\\xaa\\xb2\\x99M<\\xae\\x99\\xda\\x90\\xee\\x8e\\xb2\\xe7\\xc5U\\xcc\\x19\\r\\x9a\\xbf{\\x95\\xfa\\xd6\\xbcil3Q\\x07\\x05\\x9fY\\xf8\\x7f\\xa5c?\"\\x9a\\xf2\\xf2\\xba\\x05\\x8c\\x0c\\xfc\\x9e\\xe3\\xc2VrJr\\x8c\\x10\\xe9\\xab\\xe4\\x86=\\xe1A\\xc4c\\xa5\\xb82@\\xe4\\x9b\\xbdJ\\xfa6\\x85\\xc7\\xac?\\n^e\\x83H\\xc3]}\\x9c\\xff`H|\\xff\\xb0\\xcas\\xabJy\\xda\\xe3\\xecU \\x92\\xbd5\\xd5\\x83\\x07x\\x96\\xce\\xa5/\\xb00;b\\x82\\xa0\\xce\\xec\\xbbW:\\xe1\\x9c\\xfe\\x1cjY\\n\\x16\\xf2\\x1b\\x97\\x1d\\xb6\\xf3\\xe2\\x0e\\xceQo\\xf6?\\x91\\xf2\\xff\\xa3\\xef\\x16\\x89\\\\\\x8e\\xcc\\xdcPH\\xec\\x14\\xe5C\\x19\\xed\\r\\xe1u\\xd1\\x94{\\xb4\\xbf\\x85O\\xb7\\xafHE\\xbfWv?\\x87U\\x96\\xf8\\x18\\xaf\\xfb~%u\\xe1_y\"q\\xe8\\x9e\\xf09\\xaa\\xce\\xc6uz-\\xe6\\xb5\\xf9U\\xbd7\\xdb\\xce\\xd2\\x8a\\x11\\x02\\x1d\\xec\\x949F\\xe2h\\'\\x93\\xd64\\x18\\xfe\\xd9_U\\xd9\\xc7\\xe8\\x9b\\xbeL\\x9d\"}~\\xceQf+\\xca\\x9f\\x01,\\xd9\\x13\\xc8\\x17\\x19\\x05\\x84\\xa7\\xd5\\x05\\xae\\xbd\\x9b\\xb3\\xe2\\xc7\\xe1\\xea}\\xde\\x1a*\\xd6\\xb7m\\xab\\xe0\\xc1r\\xfa\\x80\\x94r\\x8e-m.\\x1e\\xbc\\xbb\\x9a\\x8f\\xae\\xc7\\x0c\\xe3\\x97\\x00\\x873\\x8e/\\x93\\xae0\\x1e\\xc4\\xd2\\xd5\\xb2c\\x91\\xd35\\xf5Lk\\x88kMY]\\x0be\\xf6\\xb4\\x90\\x8f\\x92\\'#6J\\x10\\xe6]\\x1c\\xc2&\\x15nt9Gz\\xdc\\xec\\xfb\\x8dw\\xf7\\xcf\\x89D7\\xf6\\xeb\\xf0bph\\xe5f\\xb8\\x8d\\xac\\x85K\\x938e\\xfc\\x84\\x89\\xc2F\\x19[\\xc4\\x0e\\xfcv\\x02\\x0b\\xd5{\\xa8P\\xe8\\x8d\\xe8\\xab\\xb9\\x1c\\xa0\\xf6\\xa8/\\x92\\xf3\\x04\\x15NV\\xe3P\\x81\\x02\\xf4\\xfbf\\x9d\\xc2\\x81\\x8d\\x11t!\\xf2\\\\r\\xd0\\xdb$\\xd6\\x17;\\xf7\\xc7\\xe8\\xed\\x92%\\xe5\\xd1\\x1b\\xbf\\xe1\\x11\\xf7eJ\\x1e\\xbb\\x1d\\xb6\\x02\\xdf\\x02\\xc4D\\xb6>(\\xd3j\\xfc\\xa6j\\xdf:\\x1b\\xe8\\x859\\x81fv\\xf2d\\xb2\\xe8Re~c\\x15\\x87\\xab\\xfe`\\x16A]\\xa6\\xdc\\x11Eu4\\xb9(\\xcb\\xc1\\xc8s\\x9a6zp\\x91_P\\xaav}\\xb0\\x8a\\xa8\\xdb\\xdf\\x06\\xf9\\xf9\\xb7\\xdd\\x94/\\xa0q*hw\\xb7\\\\\\xd2\\x1d\\xd4\\xca\\x86\\x11i\\x9d\\xd1+\\xc8\\xc9\\x12Ar\\xb8\\xc5?\\xf2\\xa4\\xa2\\xa0\\xa5\\x91\\xd3MU{\\x80\\ra\\xe89{.\\xb7\"\\xe5{t%\\x96\\x08(\\xe2%\\xe8\\xc3~\\xda\\x0ed\\xa3\\xfc\\\\\\xe5\\x8d\\x11-\\x10t\\xf6wC\\x06\\xe6\\xc5\\x9c\\xa4\\xcf\\xf6*?\\x07\\xae\\'\\xd1\\x9fs\\xce\\xdc\\xb9\\xf9\\x07\\\\\\xf76\\xd5%\\xa6r\\x8d\\xb4\\xe0G\\x18\\\\\\t\\x8dG\\xc1\\xb7\\x85T\\xbf\\x85J\\xe4|;\\xf4W\\xb2\\x97\\xe8\\xf7{\\x16(\\x8c\\x08\\x1b\\xda\\xd4^0+/\\xb0;\\x1e\\x1dT\\xc2p\\xb4\\x90\\xecF\\xbd\\xae\\xf1\\xd6w\\x06\\x1d\\xa0\\xed7/\\xd5\\x04\\xce\\xc2.\\x0b;\\xaa\\xfdV\\xba]I\\x9c=\\xbc\\xcd\\x10\\x92.\\xc5\\xa7\\xd9\\x88\\x9b \\xd2,\\xbf\\xa3-H\\xef0\\x03M\\x857\\xe9\\x82\\'\\xb0\\xd5)n\\x91 \\xb0\\xdc6\\x11\\xd27\\x8f\\xddG@c\\xbdm5\\x96\\xc3d\\x96\\x83\\x88\\xd0\\xdec%@\\xff\\x15\\xa0\\xf1S\\x84\\x10s\\xdc\\xb6Bk\\xd6\\x9b\\xbdgM\\x9ajK\\xd95{\\xd2\\xe7\\xf4\\xe6\\xe5\\n(\\xcb\\xd5\\xc2\\xf2\\xc1\\xb2[\\x9a\\xc5\\xc1\\xa8kO\\xee8\\xc5h&\\xf7q\\xb7^\\xe1}\\xac\\x7f|\\x87;hn\\x14\\xe0*\\xfb$\\r\\x8aKv\\xe1\\x90\\xf0^\\x9e\\x96K\\x06\\xd4\\xa8\\xfcluh\\x82?_8\\xb7F\\xadUt\\xa5\\xda\\xcf3v\\x91QK\\xb0i\\xae\\xf2\\xa7U\\x97\\xaa\\xc7\\xe2\\xdfE\\xa4K\\xf3\\xc4\\x8f\\x0b\\xe9U\\xc3\\xfb\\xe7\\x8b\\xa3(yr\\xfb2\\xb9Nv(\\x0eP\\x99\\xbd\\x03c\\xa9k\\x17\\x86\\xf9\\xe2X\\xad^\\x88\"\\xd2m\\x17\\xc1\\x14O\\xc7\\xfb`-\\xc5\\xfb\\xfd(\\xf7\\xdfv\\xd78\\x95\\xea\\x10\\xc2c\\x10\\x11Q\\x0e\\xc5*2v\\xcc\\xc0\\x04\\xdc\\xb5p\\x89\\x0bE\\xbc\\xce!ZO\\x94\\x13\\xd5\\xf2\\xee\\x9b\\xe6\\xc2\\xbe\\x98\\x8aD\\xac\\xf0\\rK_\\xff\\x93\\xd9\\xee\\x8b\\x07+t\\xae>\\xbc\\x86\\x90\\xe2\\xce\\xff\\xa6q\\x8c\\xf8=\\x92\\x06C\\x00\\t\\xadC\\xc1\\xef}\\x9d\\xde\\x82u\\x19\\xc3u\\x80\\x18\\xc5\\x85jz\\xd6\\xf6E.r\\xe5\\x8f\\x98\\xa7\\x1d\\x1e\\xcc\\xc7{\\x1b\\xcf!\\x9b\\xd5\\x91\\xb3\\xa6K\\x96\\xd3\\xa5G\\x80\\x96\\xb7\\xc5\\xdc8\\x8d\\xc4*\\x04i\\xd7\\xf2!\\x1f/\\xd2\\xc3\\xad\\xfb\\x08b>7\\x15\\xa7t<\\x8e5u\\x99\\xe6\\xe8\\xb1\\x1c\\xa9\\xc3\\x00\\x81\\x830L\\xb6\\xdf8\\x00\\x14b\\xb4\\n\\x1a7h&\\x1e\\xfb9\\x05\\x93a\\x98\\xc9\\x910\\xd4\\xed\\x80\\xfb\\xa9\\xccw\\xa3M\\xc0\\x03T\\xe0\\xe7XMPT\\xc8\\xbd\\xb9H\\x93\\xba\\x9b\\x9d\\xd3rQ?U\\x10Ge:q\\xe5\\xef\\r8|\\xa7\\xb0\\xa1+|(\\x91Q\\xd0*n\\xa7\\xfa>;\\x89@\\x82i\\x81\\xea\\x9f\\xd8\\xd4\\x81\\xa8F\\xcf\\x97\\\\[f^\\xcd\\xea\\xb7\\xccZ\\xaa\\xfd\\x80Wvw\\x0c\\xc6\\xbd\\xcd\\xbc\\x07n\\xec\\x06x6\\x07\\x94\\x01\\x15\\x83\\xae\\x90_\\x04\\x91wf\\x1b\\x88\\xd0\\xf3\\xec\\xca`3\\xbao\\x85\\xb4\\xfd+\\xdc[\\xe4\\xe9]S%Aeh\\xcc\\t\\xe0|\\x11\\xdf\\xeb\\x9bf\\xfb\\xf9_\\xdd\\x06\\xb2\\x95L 0\\x036\"\\xdc\\x12\\xd3\\xfc\\xfd\\'\\xb7\\xd5\\xb1\\x9eDU\\xd9\\xbc\\xfa\\xa7\\x1cd.\\x92\\xa3\\x1f\\xbd\\xdc\\xc6u\\x0c\\xc4\\xb4\\x06\\'Y\\x8a\\x9cA\\xe0\\n^\\xe7\\xb0Y#\\xa3\\x03\\xd9\\x01\\xa3\\x13M\\xac\\xbc\\x9eoH\\xd9\\xc6\\x1bEN\\xdf(#\\xe5\\xff\\xa96\\x18%\\x8f\\xa5\\x04\\x8e)\\xe6\\x13\\xdf\\xdb|\\xc2F\\xa6\\x99.\\x9ey\\xf6\\xcb@f2\\xd8):t\\xfe,\\xea\\xe5\\xd1p\\xe5I\\xab[f\\xa36\\x1e(F\\x83\\xc1]\\xe4k\\xd4\\xf9\\xdd\\xb8\\x84}\\xee\\x8d\\x00\\n3\\xfaC\\xda\\xd7\\xf9\"\\xeb.\\x13Y\\x9b\\xcb\\xbb\\x95\\xe0I[~\\xf4\\xd76\\xae\\xc3.h*\\x01\\xbaf\\x04\\x9e\\n\\x90\\x9a\\xc8\\xff\\x04w\\x9aU\\xeaw2\\xe7\\xe1_\\x83x[\\xcdP\\x92\\x8e\\xdbt\\x9f2\\x19\\xccE\\x00\\x7fW\\r\\xf1\\x9c\\xd8\\x86\\x80-\\xc3\\xa2*\\'M\\x07\\xf4\\x9a\\x99\\x96\\x1d\\x8f%8\\xd9\\xecM\\xb3\\x07\\x13\\x1e\\x18\\xa6g\\x849a\\xeb\\x13w\\xe4:rDJ\\xe2q\\x81\\xa3\\r\\xf0\\x93^\\xffL\\x9e\\x0fa\\xc8!\\xf1\\xd1\\xb1\\xd6\\xaf\\x93o\\xfb$\\x94\\xe7\\xfb\\x98\\x11\\x96\\xf7\\xa5\\x10B\\x05W\\xe7\\x8e2b\\x97\\xb1c#\\xcaJ`\\xae]\\xd1Qc\\x97\\xfd4\\x0e\\x81^\\x86H\\x1d\\x85~\\xaf\\xa3\\xa0m\\xbd\\xf1S\\xacM\\x95X[2n?\\xe2\\xe2\\xf7\\x8eQ\\xff<w\\xe9\\xf7n\\x10\\xea\\xd9\\x8bt\\x8b\\xf8]\\xc2\\xc3\\xac\\xb0&&^0x\\x8a\\xd0\\xa0\\xaa\\xde\\xc6\\xbc\\xbc5p\\xbe\\xaa\\x8a\\xb9xZ=\\xcdX8\\xa0\\xb6Zw\\x9eT\\xd9!\\xe5\\xd7\\x92B\\xd4x\\x97\\xc3\\xe0\\xaeEr\\xf4\\xa6\\x9e\\xafM\\x0e\\xfd\\x86Z\\xa5\\xf8\\xf2\\xad[\\xbaf\\xc0\\xa5\\xc2\\xea\\x0c\\x9f\\x1b\\x8c\\xc6D_J\\x11Y-\\xfa\\xcb\\x83\\xe1\\xe9\\x8cr\\xeb\\x19\\x1d\\xe8\\x1c\\x06\\x1c\\xb6+\\x8a0\\x06\\xd2\\xf5o\\xe7\\xf8\\xccS\\xde>\\xffnB\\xc1\\xf0R\\x8c\\x81\\xffy\\x8e$\\xb5\\xa0\\x96\\xa3\\x10h\\x80\\xfe]\\xa9\\x93\\x1b\\x92;\\xdb\\x96\\xb8\\x11\\xc6\\xcf{J\\xcb v\\x97\\x99\\x9c\\xec\\x9a\\x87qFM<|B\\xdc\\x1f\\xaf/\\xa8\\xc6Q\\xa4\\xb2(i\\xb4]\\x1c\\x01\\t\\xcbb\\xf7\\xeb~\\xbe\\x81\\x87\\xe9\\xd4\\x9c\\x95(\\xbb\\xc9(i\\x8d\\x84\\xbb\\xedk\\x17\\x92\\xb6Y6\\xb0\\x9d\\x1c/\\x92L\\xe4\\x17\\xea\\x99\\xc4\\xa2\\xd4\\xb8gy\\x8dg\\xde\\x0f=g2\\xdd\\xd4\\x0c5H\\x1b\\x8f\\xc9q\\xc5M\\x9e$\\xc9\\xe5\\xd6\\x92\\xc7\\x82sR\\xc7K\\xa5U\\x07\\x03\\x14\\x94D\\xd9\\xc4\\x81\\xd4\\xc4\\xe0,V9\\xbfR>\\x08bS\\xe7\\x8d\\xcf*\\x02\\x87\\x8e.\"\\xa9\\xed%\\xb8J\\x8b4\\xab\\x99\\xa1\\xd6h#\\xf7HB\\xfbCp740>;\\xdf\\x07d\\xcb\\x16%Q\\x8b\\xcc\\x01C\\x8a\\xf3\\x12\\x81A\\x1e\\\\\\x10r\\x93ksPym\\x9d\\\\NE\\xef\\x19\\xf6\\x97\\xf8{Y\\xa8\\x10\\xb7]!R!\\x99\\xc5i\\xc31\\xbc\\x83\\xdb\\t\\xb7\\xa0l&\\x1e\\xce\\x99\\xad\\xef|\\xf4\\x14\\x8f\\xcc=\\xd7=p[\\xc0\\xd8\\xf3`b\\x98\\x9c\\xe6\\xad\\x8b;\\x80\\x1a\\xb4BBy\\xe7\\x11\\x93o\\xf8#\\r6\\x1b\\x8d\\x10\\x9a@\\xa5\\x93\\xafc\\xcc\\xc9\\x87\\xf3\\x98L\\xe9\\x92z\\x10\\x12\\xf97l\\xf1g\\xe0\\xeaj-Y\\xb98\\n\\xefL\\x93Q\\\\s\\xc0V\\x91\\xd5\\x87\\xad;(yx\\xd1\\xb7\\x1c\\x13\\xc9~\\xc8\\x13\\x11\\x8f\\x0c\\x86q@\\xfdM\\x90\\xd7g\\x0b\\x1bH\\x89\\xca\\xb1\\xf0\\x93\\xbd\\x02\\xb0\\x14\\xbfC]\\x07\\xb4\\x154\\xd8\\xbe\\x0e \\x99\\x04\\xddj\\x04\\x97\\x0c\\x0f@iB\\xacO! v\\xd9\\x9c\\xf4\\x92%<\\x98\\xd4\\xac\\x9e\\xfd1\\xbc\\xfe\\x87=\\x90\\xf7\\x9d\\x95\\xbdt2\\x18\\xf5\\xf6\\xd5\\xfbt)\\x84\\xf7u\\xf2\\xfd(\\xda\\x03\\x85\\x98\\x8d`\\x97A\\xc7>\\x93\\xa5\\x924d\\xd7\\x05\\xea\\x0c\\x15v>M\\x84\\xf9%_\\xb8\\xb7n\\xd3w|\\x8c\\xeb\\x10\\x8a\\xd3\\xb9\\x07>\\xdbN\\xdf\\xf9[\\xcb\"\\xc0\\xf26\\xea\\xe7Y~\\x9c}H<\\xda\\x99\\xc0S\\xd5\\xb4[\\xdb\\x16\\xe3w\\xcf\\x17C\\xa3\\x89\\x90\\xb1\\xbbC-\\xef\\xafl\\x1b\\xb1\\xfa\\tR\\xb6rNd\\xb2\\x1ae8\\x05\\xfa\\x8a~j\\xdc\\xe3\\xf4q\\xb1\\x8e\\x99:\\x9f\\xa8\\xfa\\xfc!\\xfe\\\\a\\xe5\\xad\\xdb\\x83\\xc10\\x88\\x1b\\xe7T\\xe6\\x9d\\x12\\x9ak\\x99\\x00\\xad8:0\\xbb\\xa1r`\\xaeG@Z1\\xe6B\\x14\\n>\\xc29L\\xa7r\\x13\\x11\\xfa\\xb0\\x0e\\x0f\\x93+\\x14\\x197>\\xf8\\xb4\\x9f\\xea\\x84\\x1c$\\xc0N\\xb3qN\\x021i#\\x8b\\x90\\xc5\\xd8\\x94\\x06\\xf5\\xa3\\xaf.\\xfc\\xbfH\\xdd\\xa4\\xf9\\xaf\\xcf\\x06\\xc8\"e\\xef\\x00\\xa6\\xe9/w\\x04\\xd4\\x03\\xe8\\xf5s\\xdf\\xeb\\x0f\\x81\\x81\\xb3\\x19\\xe1E\\xc1\\xbb\\xd5v\\x93\\xa0\\xe8[\\x17\\x8awWHc=\\xef\\xa4\\xcb01U#\\x8b\\xe1\\x94\\x94vR\\xb3\\x03\\xd9\\xa2\\x03\\xb8\\r\\xc9\\xa03\\x9b\\xb5\\xbc\\xe1\\x88\\xac6\\xa4\\xf5}\\xa86\\xba\\xa5?\\xb7z\\xbdbX/S$\\x13m\\xc8\\xbf\\x8c\\x9b\\xc92\\x82\\xbc\\nZ`\\xa9\\xb3\\x8c\\xff\\x86\\x980\\x06II\\x81\\xd0\\xb8sO\\x8d\\x0f:\\xb8\\xc93\\x88\\x81\\x8eT\\xdd\\x83/\\xaa~\\xe1Q\\xf3\\xb3\\x8e\\x83\\xe8\\x93A\\xfb\\xd6hQ\\xcbW\\xeaV\\x0e\\xf1J\\x1c\\xad\\xba\\x1e\\x1d\\x08\\x8d\\xd0\\xfc\\x96\\xdbh]\\xab\\x04\\x14oAX|\\xf3\\x11-\\x0b\\xddi\\xc0n\\xb5\\xf2\\xaf\\x93\\xbef\\'\\xe9z\\x1bh\\xbc<\\x99\\xb8p`\\xc1hPM\\x0f\\x94\\x0f\\xa4\\x8d\\xe7\\x06\\x1a\\xdeS\\x13\\x81\\x85\\xf9\\xd2\\xc5.v\\xca~w\\x0e\\x1c==3\\x9c\\xd6E\\xac\\x90\\x1e\\x96\\xf85\\xbfm\\xd59G\\xbb\\xcbI\\xadaV\\xb9\\x90 #k`\\xb4[\\x91\\x9b\\x05N8\\xd0X\\xea\\xf2\\x02\\x88\\xa0\\xea\\x11\\xb7*j\\x9c\\t\\x0cE\\xe9$SP:g\\xd594\\t\\xb8\\xbd\\x81\\x08\\xab\\xb4y\\xb9}.\\xeb\\x0f\\xc8\\x92\\xe5\\\\E1\\xe3n[\\x9f\\xc7s\\x00P\\xd4E\\xbbK\\xc3Qsw\\x8d\\xb6<a\\x12\\xf1b`\\xb3.j6[\\xa7=\\xe24\\xe0M\\xb1>_\\x89\\x98L\\x83/e\\xaf$\\x97\\x88\\x1fwFL\\xb7\\x9a\\x8c\\xa8\\x81\\xea\\x1e\\xe5f\\x85\\xf8\\xc8N>\\xbcz\\x947\\xe0\\x1a\\xd1I\\xd3\\xd4\\xa2\\x12Q\\x80\\'\\x0el\\x9fs\\xc8i<\\x00\\x0c\\xca\\x1dX@\\x00%\\t2|\\xe2E\\x13\\xe4<\\x04\\xc7\\x02\\x8f\\xc1T\\x0e\\\\f\\xeed\\x82\\xa7\\x00\\x8f@\\xd2\\xfe\\x94/O\\xb8\\x987\\xdd\\xaa\\xab\\xc4\\xba\\x9aeN\\xcc,@sg\\xed\\x841T\\x9c\\xa1<_\\xa6b\\xb1s)\\xf7yM\\x01\\xe5\\xe4\\xd21\\xfb\\x90\\x97Q\\x04\\xb0w\\xb6\\x9c\\xdc\\x98\\xf0\\xea\\x13\\xb3\\xe1\\xd3\\x97\\x8d\\xe5|\\x1d!ad\\xc3RA\\x17\\xfa\\xb4 \"\\xe2C\\xee5J\\x80-\\xe2:\\x05\\xf7\\x9bl\\xd4M\\x858\\xe9\\xaef!\\xc8\\x1f\\nF\\xd0\\xf9M%\\x11\\xba;H/\\xa6\\x07\\xc1\\x18O>\\xcb\\xdd`a\\xf7\\xae\\x86\\x83\\xc32\\x0f\\x1e\\xebrk\\xde\\xea\\x8b94\\x99\\x99}\\xfeal\\xc2\\x93.hD_\\xb8\\x1b\\xe8\\x12\\x975\\x12R\\xd1\\x19\\x88\\x07\\xde\\xeb\\xc10\\x13\\xb0\\xebA\\xbf\\xa6A\\x82\\xa0\\xf2\\x01m\\x9a\\xb6\\x0f\\xac\\xe3\\x96\\x9a\\xc4\\xed3\\x15\\x13\\x97\\xfa\\xa8\\xbc\\xbb\"2\\x8b\\x02\\xb4#\\xdd\\xd3t\\xb5\\xb3\\xf6\\x0eJ\\xc1\\\\:\\xc5\\x97<\\xb3o\\x08GO\\xaa\\\\0\\xabU\\xb1\\x15I\\xd5\\xb9\\n\\x93\\xe1\\xe57\\xcd7\\x13OE,;l\\x1a,\\x8a\\xa8\\x92Ry\\x08\\xb5\\xd9\\xe6q&\\x91tG\\x16u\\x8b_+\\r\\x17~:;Ne\\x01/\\x9d\\xa6\\xaeG\\r\\xcaFQ\\xcb`N\\xd3\\xacq,0c\\xfd\\xdb\\xd0(\\xa7\\xd62\\xc7\\x7f:\\xa0\\xc3T\\x89\\x10B\\xf3E]\\t\\xe2\\xbd\\xdd\\xdbo\\xd3%\\xb3\\xd2-\\xff\\xd9\\tO\\xc16\\'\\xe4m\\xe2\\x7f\\xff\\xfa\\xecu\\xf7\\x19-O\\xf5\\xd0a\\x847\\xa5$7\\x87J8\\x86eiA\\xb3\\xc5O\\x9e\\x964:H\\x9cK\\xbc\\xba\\xc5\\xb0\\xa0a#n6m\\xb5\\x07\\x8aG\\xb3\\x05\\x1dp\\xf2Nq\\xa1 Yw\\x0f\\xea\\xe9\\xf3\\x141\\x94N\\xfa\\xa0\\xec\\x02G\\xabFV\\x95\\xd1y8x\\x9b#\\xa3s\\xb1\\xb0J\\xf7\\x84\\xfe\\xc4f\\xb5%\\xdc\\x9c\\x18\\x0b@C\\x13w\\xf3\\x94\\x0f\\x97\\x8f$\\x7fcw\\xa9\\xff\\xb3i\\xff<\\x9d\\xc4X\\xc3\\x95\\xbc\\x14\\xff.F\\xcf,UG\\x9d\\xdb\\xd7\\xb3\\xe6x\\x0e\\xd1\\xf2a\\xdeG\\x86\\xb9\\xadp\"\\xf9\\xc5m\\xfc\\x8d~\\xed\\xfb\\x01\\x02\\xf1\\x94\\x0c\\x0f\\x91\\xe0E\\xef\\xe8\\x14\\xdd\\x87\\xeb\\xcej\\xfd\\xba\\xa2\\xc6\\xb4]\\x18\\x1fC\\xd4A\\xe6\\xae\\xe8\\x0fb\\x84\\xcf\\x914\\x95\\xb6\\x8d\\xdc\\x84\\xf5>\\xa4\\xaf\\x04\\x15\\x1a\\xefb\\xadwj\\xfc8\\x92\\xf9\\x03\\x90\\xe7x\\x0c\\x95\\xf9\\x85qX\\xc9\\xeew\\xb0mH\\xff-\\xebs\\xea \\x0c\\x1eT\\x83r\\\\\\xe7b\\x92\\xb8!\\xd6\\xc9\\xa7\\xf0\\xc9$\\xe9\\xc5<2{\\x93\\xeeOH!we\\xf4\\xc2\\xbe\\xb1U\\xd3\\xd3\\xa91\\x03b\\x03\\xceQKN\\x1b\\xb5\\xc4\\xaemA\\xea\\xcf\\xdf\\x80O\\x87\\x0e\\x17\\xb6\\x15\\xd8\\x9a\\x16\\x15x\\xd2\\xae|,\\xfb\\x01\\x9f&\"\\xf8\\xb5\\xccVX\\n\\xed\\xf22\\xe6\\x82\\x1e*4\\x113\\x12\"O\\xcdJ(\\x8b3Ae\\xe1=\\xb1o\\x07\\xd3-D\\xe2\\x93b\\x90X\\xdb\\x10\\x1b\\xab\\x04\\xe5\\x94\\xc2r\\xe4\\xb3\\xde\\x11\\x14\\xc7\\xfaHA\\xc2\"lZQ\\xa6\\xa5\\x05\\xd7\\xb6\\x087\\x87\\x04\\nG\\xed\\xb5\\xd1S\\x01!\\r5q:\\xb0\\xb3\\x84\\x8ao\\xcf\\xbcJ\\xc5\\x80\\xc3\\xb2o\\x0e\\x18\\r\\xbe\\x84\\x9e\\xf1\\xe5\\xe7\\xf6?\\xac\\x9f3\\xa5\\xcak\\xc9\\x1eq\\xd3\\x10\\x12\\x84VP\\x8d;)\\xfc\\x15L~y\\x94\\xdf\\x03v\\xd3x\\xcc\\xc9\\x10\\x1dp05\\x12\\xfc\\xa0\\x08=a:\\xf9!\\xe1/!\\xf7\\x8fs~\\xa7\\xb5gC=]<\\\\\\xefM\\x8b\\x08PS\\x0b;\\x13\\x14\\x8a\\xae\\x96\\xac\\x0c9\\x9f\\x87\\xaa[\\xbd\\nS\\xbb@\\xde\\x1f\\xfc4\\xd2%peA\\xd0\\xb5\\xa9\\xc5\\x80\\xa9h\\x91\\xdc\\xdd\\x07\\x87\\xed\\xc6\\xce\\xb7\\xbam\\xd83\\xdf\\xda\\xfd\"\\x97(\\xc9\\x82\\x02\\xef6m\\xcb\\xb6\\xde\\xda\\xa3\\x95\\x12\\xa2=9\\xaf\\xf1\\x0f_]\\xb6\\xd8\\xb9D\\xd4H\\xa2\\x007\\xa7\\xc7\\xbaO\\x17\\xdd\\xa0W%\\r\\xf4\\xd6\\xdc\\xbc\\x8bv\\x8b\\xf1$\\xf8\\x8cP\\x11\\xab\\xbe\\x86\\xec\\xa7\\xd9\\x96V\\xed\\x1a&#A;\\x19\\xca\\x00\\x00\\xc1\\x0b\\x07>\\xdeE\\x8a\\xc5\\x13\\x84\\xb9#\\xacf\\xf6\\r\\xb6\\xd8\\x04\\x06U\\xc4\\xae\\xc8\\xe7\\x03K\\x01?\\xe6H!\\xdeo\\x10\\xe2\\xb5D\\x94]\\x0b\\x94)\\xcd\\xd1u\\x19\\x0e\\xef\\x9a\\x96\\xaf\\x1e\\x81\\x8c(\\x1f\\xd5\\xb4\\xbf\\x88\\x15X\\xee{\\xdf\\xca1~\\x9en\\xe1\\x93\\x8b\\xce\\x9fe9=\\x9e\\xd0\\xbe\\xd5+\\xbb0\\xb6Wf\\x92S\\x01y\\x93\\xe1>\\x86\\xee,<;kH\\xc0Cnw\\xca/5\\x8aK\\xa4\\xa1\\xe0\\x01&\\x01\\xc5k&\\xb1M\\xdfrA\\xae\\x80?\\xef\\xb8g\\x1cM\\xe1\\'\\x0f\\x18\\xa7\\x1b\\x14/\\xfa7W\\xaa&J\\xde\\xd9|\\xea\\xf9\\xda\\x84\\xfc\\x9c\\xa6\\x01-\\xdb@L\\xc4\\xebO\\x83\\xe6~S\\xcf\\xa8\\'\\xb2\\xd53v\\xb1\\xd5G\\xf0vP\\x93\\x8f\\xed\\xd8\\xfc\\x8f7T\\x13\\xcf\\xc0^\\x11[\\x87\\xb9\\xde\\x17\\x8a\\xf0\\x8dt|\\xa9\\r*\\t\\x06:\\xbc\\xb1\\xd6\\xee\\xab\\xe1\\x19\\xf0\\xaa=\\xe5\\x05\\x00v\\xe9\\xfd\\x91\\xf6\\x82h\\x98G{:\\xb2\\x9f\\xed\\x92\\tQS\\xd5\\xd5\\xbc\\x92\\xa6W\\xa9\\x1f$\\xa4<\\xcc\\x13e\\xbe\\x14\\x04\\xa2\\x9d\\x08\\xf7\\x12\\xd7\\xacg\\xd48\\xdd_\"s\\x1d\\xd0\\xcd\\xe8\\x9a\\xf2\\xe0\\x1d\\x8cp\\x99\\x92P\\xfb\\xb6l\\xc5\\xb2-\\x95R\\x8d\\xfc\\\\\\xbcY\\x8c\\xfe!\\x0c]\\xab\\x80;\\xc6e\\xec\\xc4\\x1a}\\x15\\x95\\xd0X\\x7f{2\\xe1\\x98\\xb8\\x13\\xa5\\xc5\\xcc\\xed% a\\x85\\t\\xdck|\\x1dc3>\\xc4,-b\\x8a\\x94Z\\xf9\\x1d\\xaa>7J\\xa3\\xf0\\xce\\xf53\\xe3\\xa4\\xf9\\xe1\\x99q\\x01\\xa3\\xa3\\x9f\\x1a\\xe4C\\xf3=WI\\x89\\xc2\\x9dNc\\x94\\xfc\\x95=c\\xf1\\xf0D\\x1b\\r\\x99NZd\\xfe\\x99\\x18t\"a\\xbc\\xc2\\xe2\\xc0a\\x95\\xb4\\xc3\\xad\\xd8\\xf9\\xcaV\\xc9\\x90b\\x17W\\xee\\x13\\xd9\\rg\\x07J\\xf7\\xcb\\xb6\\xc7G\\xd0\\xab\\xcb\\x12\\xa0B\\x0bq.\\x1e\\xa5n\\xcd\\x96\\xc5\\'\\x8b?^8\\xacD|k\\x93\\xc2\\x1bY^\\xd5F\\xbf\\xe7?\\xa5\"\\xbc\\xc3\\x07\\xdb\\xd9)[\\x82\\x92\\xee\\x04\\xb9\\xc4\\xc4C3\\x0b\\x9e\\xd1\\x7fba6W\\xc0f\\xfa\\xe2\\xa6\\xe8\\xf6\\x9d$\\xb7\\xda\\xa0\\x0c\\x0b\\xb54\\xab8\\xe8\\x81\\x14\\x13\\xfb7\\xd3Y\\x90\\xd3\\xb0\\xc2\\x18\\x08^\\x08\\xd9\\x0e\\xf6?\\xe4s\\xd9\\xd1\\x1dALG8D%tv%%\\xcc\\x01\\xa6-XSq<\\x04\\x12\\xf1\\x97F\\xfa\\xf8\\xd4n<\\x11\\x0f\\xba\\xbb\\x05u6\\xe7!\\x9c\\xa0\\xb7eA\\xfa\\x96\\xba\\x83(\\xcc\\xc7\\xaa\\xade\\x17\\xb3P\\xf2\\x06LWP\\xf0bi\\xe8,\\x87f\\x81U\\xa3]\\x14(z\\xeb7\\xeb\\xdbJ\\xa2M\\xd3\\xc7\\x17\\xd1r`\\xf1\\x82\\xb9j\\xe3\\xe3f\\xd54\\xa3N\\xa3\\xecSMim\\xad\\x89L\\x17\\xa9[\\xe3i\\x10\\x1f\\xc1[\\xccY\\xf2\\xfb\\xaa\\x06\\xcdZ\\xed{\\x88\\x9e\\xc7\\xc1}\\x11C\\xb5\\xc6K\\xb7\\xefDT\\x1cy\\x9a\\x8e\\xb3G\\r\\xd2\\xfe\\xa1\\xbc\\xcco\\r\\t\\xb9\\x0b\\xbe\\xb5\\xa4\\xd5m7%\\x1e\\x1f\\xa2{R\\xfc\\x80\\xc9\\\\\\x8aN\\xda\\xb9R\\xff\\\\:\\xf74\\x1aV\\xae\\xfc#H!d\\x9cI\\xe5\\x96nA\\xeb\\xb8\\x00\\xde\\xce\\xfe\\xc9\\x00\\xdc*\\xdf\\xb7\\xd7\\xef\\xe1y7n\\xa1\\x1etR\\xcba*\\xe9\\x1c\\xa5\\r\\xccSI\\xe2\\xec\\xb9\\x89\\xa3\\xb2z\\xa1iK\\x0f\\xfa\\xf2\\x05\\xa1\\xf4\\xc3\\x875\\xbb?\\xbc\\xdf)U\\x1cG\\xcd\\x1a(\\x19\\xfc/\\xfb\\xd8\\xf4V\\x8c~\\xe3\\xcc~\\xa7KZ\\x8b\\x05\\x1f\\xbf\\xf4\\xdeco?\\n\\xe1\\xbd\\xeb?\\x8awp\\xcb;\\xfbK\\xe1\\x0e\\xcb\\xbb8\\x90\\xd6\\x93\\xf7\\xf0\\xc2\\xa7]H\\x1c~`\\x16y\\x0b\\xac\\xa6Q}\\x9aD\\xa6\\x18\\x1a\\x91\\x95\\x8cc\\x9e}\\xf8\\x9aL\\x81\\xfb\\x1c\\x1a`3\\xc1\\x00C\\x9b\\xda*\\r\\x15\\xb1\\xc6:\\xbd\\x12>\\xd4\\x12\\x80}<j\\xb7i\\x95\\x9eT\\xf5\\xc1\\xac\\x88K.F\\xbd\\xbd\\x1c\\xac\\x11\\x92~\\xc1?\\xb0\\x15\\xb7\\xa8\\xe9\\xdc\\x8c\\x11(OB\\xe4\\xb0O\\xc7\\x16\\xe3y4\\xfb\\x94\\x17\\t\\x15\\xa6\\x16\\x18p\\n\\x9a\\x94\\xe7W\\xd3\\xb8n\\xb0\\xa89!\\x9e\\xd8\\xc0-\\xd9\\x84\\x90\\xac9\\xbbV\\x7f\\x8d\\xc19\\xba\\x14\\xcd\\xfb\\xacc\\xc1\\x11k\\x98\\xb9\\x7f\\x02\\x9cn\\xde\\xdd\\xc7\\xcfv\\x15c\\xed\\x0e;rr\\x07\"i\\x95\\xa38o.\\xfaQ\\xf5~U\\xda\\x8e\\xcd\\xdd\\xae\\xff\\xeb\\x0b\\xa7\\xc5\\xfb]\\xf5RY-U\\x05\\x0b\\x84R\\xfe+\\'\\xf8\\xff\\xce\\x87\\xffn\\x1c\\xd9\\xab\\xa7\\xd9Qs\\x14\\xc3\\xc6\\xe9K\\x8e@\\x917\\xe5\\xd2\\xc6\\x10\\x15:\\xac\\x11\\\\\\xd7k\\xc3\\x01\\xb8\\xe4-\\xcf\\x99?\\xaf\\xc7\\xe8\\x07\\x12,\\n\\xe6D\\x9a\\x1b\\x96\\xba\\xe7\\xc4\\xfeMa\\xfd\\x8e4y\\xb4q\\x83\\x14\\xcdfI\\x86\\x19\\xd6-^\\xc1.\\t\\x1c\\x90\\xd1Z\\xe2C;M\\xdc\\x9a\\xd7H\\x00P~\\x80\\xd9e\\x85\\x9a\\xd7+\\xb7Vp8F\\x04\\xe8\\x07Kqh\\xf8\\x04;\\xf1\\xc0g\\x01\\xb3\\xb2[\\xe0\\xa8\\x10\\xf1\\x9e+\\xcb\\xb8I\\x05\\x85D$\\xe4\\xa1\\x05q\\xc0\\x03\\xf3\\x00\\x1e\\x08yI\\x10|\\x8b\\xc3\\xca\\x94\\xcb{\\xbdn\\x84\\xdd\\x10u\\x858\\x94\\x94\\xc0^$\\x18@\\xd4\\xa0\\x04,\\xce\\x15\\xbf\\xfd\\x9c\\xa4LU\\xcc\\x08\\x96\\xc4LM6\\xcdj\\xdc\\xec\\x89\\xa2\\xb3\\xa0\\x86\\xb0\\xb9\\x05[\\xa2\\xfb\\x9b\\xf8w\\x81\\xb1aw\\xfa\\xb1k\\x88\\t\\x98\\x8dtj\\xca\\x0e*\\xb1\\xa5\\x0e\\n!\\x9fN,N\\x15\\xd0\\xf1\\xe0\\x83\\xa09Lu\\x17\\xa7Q<\\xe2\\xe6\\x1b\\xff\\xeeg\\x0c\\xa8hN\\xf8s\\x8b_\\x80A\\x93\\xaf\\xee\\xfd9ps\\x19\\x88d\\xbfZ\\\\\\xd7\\xc0\"0\\xd2m\\x05E#\\x1a\\n8\\x9e=\\xd8\\xcf\\x94\\xed\\x13sY\\xe0\\tQ\\xfc\\xceb\\xf5~\\x9cNa\\xec\\x9f\\xc0\\xfa\\xac\\xff\\xbe\\x98Z\\xec9\\xa9w\\x9fs\\xe4\\x8f\\x8b\\xa6\\x07L\\x80<I\\xb0\\xa0\\xe9\\xc9\"\\n\\xc1.\\xe8\\xc9\\x13y\\xe2\\x04Fr\\x19$#\\xdb\\xa7v\\x1d\\xd5\\xac\\xae\\xb8%\\xa0\\xa3\\xab\\xb6F\\xe5\\x81\\x9d6\\x95M\\x01\\x9c\\x898\\xf9\\xd6Y\\x1f\\xc3\\x9b\\x191\\xc9\\xc6y`\\x18\\r-#\\xda?QV\\xa8M\\xb1\\xc5\\xdbs\\xe7\\xe2\\xf9\\xe0\\xd3\\xaaSv\\xa8_\\x02Q.\\r\\xc9\\xb9\\xb8\\xf5\\xa9t\\x93\\x95j\\x03\\xd9h\\xbd\\xebB a\\x80\\xaf\\x16\\xda?m\\x9b\\x10`&\\xca\\xc2\\xca5\\x8c\\x8c\\xf4\\xb8[\\xda\\xb1*\\xfd]}7\\xc4\\xe6%eH\\x81\\xa1QD\\'%\\xed \\x81\\x97\\xb95G\\x8d\\xaa\\x1a\\xee%W\\x91\\x1ba\\xd4\\xb1I4\\xf8\\x82?\\xf6\\xab\\x80\\xb9&\\xd9Q3\\xe3y]}\\x1f\\xc6]m\\x0b/\\xd6\\x8e\\xf1\\xbdM\\xda\\xf0O{\\xe8\\xda\\x8fb,\\xb4\\x91C]\\x13q]\\'d\\xf0\\x9d\\xe6\\xae\\x8c\\x11\\xbc\\xa6}\\xd1\\xf1\\xc6`\\xeb\\xef\\x0f\\xc2\\x92\\x7f\\xa6\\nT\\xcf\\xe7\\'\\x15\\x8a\\x8c\\x87@\\t\\xe1\\xe7UC[\\x8b\\x9e\\xd0\\xdb\\x90\\xa8\\x108\\xceq\\xcc\\'I\\xces\\xd7\\xd7^Qp\\x8cu+\\x1e\\x97\\xcdR\\x96\\xce\\xe0\\xd7\\x1bq]*\\xf5R\\xa6\\xd0\\x9f\\xa0\\xea.\\x06\\xdd\\xe7l?\\xd9TA\\x9d\\x03\\xe2\\xe3\\xf5\\xa5{8\\xd2\\xe8Lb\\xa3c\\n\\xd7\\xef\\xf8\\xf3\\x97[r\\xef\\xfb\\x81Q\\xafTI18g\\x9d\\x8b?\\x9d\\xa5\\xd3\\'z\\xfe\\x12=_\\xc6\\xaa\\xbd<\\xb7z\\x9b\\xb2\\xac#\\x90aE\\x80$\\xf0\\x89\\x0f~\\xe7\\xc9\\x0e\\xd4\\x84\\xbd\\x00Z]\\x81RYMCf\\xcf\\x05\\xc4\\xf5\\x97\\xea\\t\\xea}\\x9a\\x8bQ\\xdaj\\x8bi\\xbf\\xfc)\\xa9n\\xe0X\\x87U[\\xc1E\\x0c\\x00\\xc8\\xf5D\\xbd\\xb1\\x98G\\x84\\xf0\\x10T\\x98,Ox\\x13\\xd7\\'\\x14\\xf1:\\x9e\\x96\\x83B\"[=\\xd1 \\xe6q\\x8bY\\xeeA\\xb8\\xca\\xf5\\xb6\\x08`Y\\xa1a\\n\\x08p \\xfc\\x87\\xedQ\\x88\\xcdL\\xc1\\xa4\\x85\\xe7\\xb28\\x0b\\xcc,\\xf8\\x13\\x0f\\xe25J>D>\\xe4\\xe0fG@.\\x9b\\tw`\\x00L\\x9dX9\\xeb\\x1b\\x84\\xfe\\xac\\xca\\x1c\\xa03\\xf5\\xbb<\\x99(\\x1fk#&\\xe1\\x965\\xee\\x02l\\x93\\xb4t}>%\\xa5y\\x85\\xc0\\x86\\x05b\\x8a]\\x8c\\xe4E\\xa00\\x01\\x00`\\x95\\x85\\xa6\\xd5\\xc7\\x8a\\x10``\\x0cK@h8\\x10\\xd1l`\\x82/\\x83}\\xafeY\\x8fm\\xe8\\xe3\\xab\\xd2E\\xe0ze\\xb1.\\xabR8Um\\xb90N\\xd9y\\x8b\\x91W\\xee\\xc9\\x0e\\x8b\\xdd\\x14\\x17\\x87\\x15~\\x82\\xfc\\xe2\\xce\\x10\\x95|\\x00!\\xe7\\xe2\\t\\xdb5\\xcc^\\xf0\\xe2\\x8f\\rG\\xc1\\x9b:\\t\\xf8d\\xc8:\\x97u\\xf4\\x9bk\\xce\\x916y%\\xc3C\\xbde\\x87\\xcf\\xccAC\\xc6:\\xc3r\\xde\\x01\\xdbTk\\xb8\\x94?\\xbb\\xd4\\xf3\\xe1\\x11\\xd8K1#@\\xb4\\xa7#\\xc8\\x96Z]\\x02`\\xf2\\xb7\\x9fiD\\xed\\x9an\\xbf:\\xdd\\x13D-\\xac\\xc2\\xac\\xe2\\x98]\\xd8[\\x9b\\xc0\\xb0=G\\xc1eD\\xf9^\\x9c\\xcag\\x83A\\x94\\xb1n|j\\xfb\\x8a\\xa9\\x8f\\xfe+\\xaa\\x1c\\xa0\\x01\\xfd\"!\\xb5b\\x94\\xfdW\\x9a\\x8a[}\\xaf\\x87kl+f\\x1b\\xc8\\x86\\xc0\\xff;M\\x8b\\xfbq[\\xfe\\xf9\\x14\\xc4t\\x1eS\\xb4\\x88\\xe7@\\x7f\\xf2\\xef\\xc8\\x9d\\x03\\xdf?C\\xe7\\r\\x95\\xff\\x18\\xbaL\\x8e\\t \\x10\\xfb\\xfcu\\x80\\xc5\\xc4IzD6c\\xc5\\xe1\\x0b=\\'\\xe3\\x0e\\xb5q\\x7f\\xfeA\\xca\\xd4\\xbe\\x99Y\\xea7\\xd0\\xd4\\xbd\\x05Y\\xbckck\\xb1\\x1dAY\\xa0\\xed1\\xee\\xa3\\x96\\xe5\\x13\\xc1\\xa5\\xda\\xdbu~.\\xc0\\xde\\xf7\\x87,\\xcc\\x98F\\x02x\\xfd\\xcf\\xa8\\x97)g\\xdc\\xc49Z\\xc8\\xe5K\\xdb\\xe4\\xecZS*~\\x95[WHE^\\xa2\\xb3\\x8e\\x8e>y\\x04\\xa9V\\x81@\\x18\\x9b\\xb0\\xfd\\xfb\\x93\\x10\\xc4\\xc1A\\x15b-[\\xe9\\xfa\\x1f\\xaf\\x86\\xdb\\x92*I\\xfd\\x926\\xbd\\xe1\\xa8\\xbc\\xbca\\x93\\tP\\xce\\x8cI/\\xb8\\xcalm\\x9bR\\xd9[ \\xb4\\xcb\\x0e\\x9eQ\\xd5\"\\x11\\xa9c\\x17\\xeaA\\x83\\xe3i\\x9bt\\xe1@)<ECO4\\x1aj]\\xfbn:d?x\\xff3\\xb1\\xe5\\xa8\\xca\\xdd\\x8a\\xcf\\xb8 m\\xa7\\x924\\xa9*\\xd7d\\x86\\xbeR\\xad+x\\t\\xee)\\x0c\\x87\\x88\\xa4\\xc6w\\x01_\\xbb`\\x84T\\xf6\\xc8o9\\xc4\\xee\\x8d\\xab\\x01\\x87\\xdaW\\x92f\\xac\\x13\\xd7\\xf1\\xee\\xc7\\xadz\\xd4=\\t\\xd2q-\\xfc\\xac%\\xcb\\xbe\\xc6\\xabvRg\\xa1\\x99\\xab*3UAe\\xf4q\\xe3\\x84\\x13Ey\\xfb\\xa5\\xc6\\x7f.\\x834\\xd2yx.\\xf6^\\x82+^\\xb7\\x8a\\xb9\\x1f\\xc9p\\x07T>\\t?Z\\x86\\xea\\xf5\\xf6\\x9fo??B{e\\xa6.\\x8ek\\xcew\\xac\\x97\\x92\\xa6\\xcb\\xfe\\x018\\xc7\\xa4\\xc4\\xc8\\xbf5\\xe2\\xa9\\xa9\\xc3\\xddH\\xee\\xdc`1\\x91\\xba\\x17\\xf4\\xba\\xbe\\x03l`\\xd6\\x87\\xe2\\nN\\xc3f\\xae\\xb6\\xaf\\xc4g\\x93\\xfe\\x8b\\xe6\\xa5\\x19s\\x8f\\x84\\x1c\\x9e\\xd7\\x14\\x9a\\xd0c\\xa4M\\xbfP\\x1a\\xf8\\xbf\\xf6M\\x15\\x9cst\\xd0.=\\xb7\\xce\\xcd\\xb9\\xfa\\x91\\xe5\\x0e\\xfb-\\x9f8\\xa9\\xdd@0\\xc1\\x81V\\xca\\x0c\\xd8@\\x9f\\xcb\\x18\\x0eq\\x03\\xaf\\xbe\\n\\x93eq>\\x86\\xf4A\\x16\\x02^H\\xd8\\r\\x07a\\xe2\\x8c\\xcd\\xfeXI\\x98k\\x8bKUTh\\x04\\xabW\\xc9\\x82D\\x9c\\x9d\\xaa\\xbf\\x126<\\xccI.\\xdc\\x9bF@\\xa3\\x9e\\xb0\\x87a\\x01\\xd4`\\xd1\\xe0mq\\x06\\xe8\\xe6\\xc9\\x02\\xe8\\x05\\xf4\\xe1\\xfd\\x19o>\\xf5\\x9ao\\x99\\xack\\x87\\xf2\\xd4\\x84b\\xdeZ\\tT\\xedyaW\\xc5\\x8cQ\\xa6m\\x7f\\xce\\xe7=C|\\xab$&\\xc2\\xfc\\x86W\\'\\xe6\\x16K7?Q%\\x11\\x0b\\xd3\\x87\\xe0w\\x94[\\x12\\xc1\\xa4\\xf4\\xf6\\x07\\r\\x9b\\x16\\x95\\x1d$\\x15-\\xef\\x1du\\xfb:\\xe5e\\x0e\\xe9\\xc3\\\\\\xc5<:\\x18\\xd88\\xdb\\x94\\xb4\\x01\\x8f\\x81X\\xacW\\xdb\\xda\\xc5ay|l\\x91\\xf8Ct\\xbe\\x1e\\xa9\\r\\xd23i\\xd3\\xce\\xa7\\rR\\x8d\\xc6TNxRG\\xbe\\x9e\\x99\\x1f\\xea\\x1bq\\x11yI\\xad,?\\x86\\xf5yt\\xee\\xf8\\x11\\xcf\\xad\\xc8\\xa4w\\x90A\\xed\\x86\\xd5\\xf4\\x87\\x7fX9\\xb1<?)/d\\xc7\\xf4\\x17\\x81\\xcf\\x95\\x05`&\\xc7\\xa5T\\x97q\\xe8\\xf7t\\xd3\\x0c\\x00\\xaf\\xbc\\xbf\\x16\\xa0\\x18D\\xef\\xff\\xb7t/\\x8a~\\xf2s\\xdcm\\x131\\xe4\\x1e\\x06\\x9a\\xd7&tP\\xbf&\\xccV\\xa2\\x15\\xfb\\xf2\\xf8\\xe3\\xd5\\xbe\\xcd`\\x00\\xebb\\xed&\\xd4S~\\xb0\\xa9*\\x8a\\x9e\\xe0\\xd4x\\xd4\\xf2\\xc4V\\x96\\xf5\\x7f\\x15\\xebxc^\\x0c\\xa7\\xb1\\x0f\\nK\\xb4\\xc2\\x01\\x08Y!8J=\\xae\\xda\\x02\\x97\\x8aD\\x07\\x9aXT\\x7f\\x9ee\\xc2\\x19\\x12\\x8d\\xe9\\xc7\\xf7\\xc7\\xc3*2J\\x04\\xa6\\x8f\\xe9\\xf1\\x0b\\xd1s\\xef_\\xa8\\xc4\\xa9\\xb3\\xfdN\\x07?s_+\\xc8\\xe8h\\xa7r\\xc8\\x0f\\xbfb\\x13\\xfd$T`\\xd2\\x01\\x01\\x1b\\x19:S\\xe9h\\xca\\x08\\xbc&78=B\\\\\\x8dn+\\xc6\\x16\\xeed\\xcf+\\x13\\xcfmx\\x8d\\xed\\rM\\x8c?\\xadq\\xc20_Q}y\\x94\\xe1\\xb1\\xb0Z\\xcb}\\x02s\\xe4\\x07i<\\xff\"\\x8d=(\\xca\\x14}\\xb8\\\\c<\\xfe\\x08\\'\\xe9\\xbb%\\xde\\x05S\\xcf\\xcb?\\x1c\\xbf\\xfb\\xe7\\x1c\\xd1\\x9c\\x11\\x8e\\x8a\\x85\\xd5\\xdb\\xfa\\x94\\x0fK0\\xa4\\x91\\xf5\\x0f;kJX\\xff\\x13l\\x116h\\x89\\x0f\"\\xa7e\\xc0\\xf4\\xcc\\x87\\x08Q_\\xecbJ\\xeb\\xbbg<\\x14#\\xde\\x0cU\\x12\\x14?\\xebMlp\\x87e\\xa5)~\\xc1\\xa9\\xec_\\x99\\xbf\\x92(\\xe0\\xde\\xfa\\xc9\\x12\\n\\x9eC\\x06\\xbeJ\\x91y%Kj\\xb9\\xecr\\xf8\\xa3\\x8e$0\\xa9\\x05{\\xf6\\x80\\x89O\\x08\\xb6\\xbc\\xabPD[\\x98C\\xa56\\x04aX\\x00\\x90\\x0e\\xad\\xe2\\xf5\\xba\\x1d\\x12F~K\\xf3\\x99\\xe9\\x83\\xee3\\xc7iv\\xb07~|:\\x1c\\x97p`\\x88\\x025nV\\x7f \\xedF\\xeb\\xc2\\r\\x99Fg\\xe5\\x81\\xc3\\xd4\\xc0^Vv>r\\x9eAp\\xe3\\xd5L\\'xH}\\x97\\tsg\\x81a>\\x8b\\xef\\x9dyLZ\\xf7\\x9f\\x88\\r\\x1e\\x96\\xd6\\xc22\\xd1-\\xf6v\\xd0)5=\\xbfV\\x06\\xc9\\xbbtX\\xf7\\xc1\\xae\\x11+\\xd2\\x89\\xd8\\xebX\\x8aW\\x8d\\x9b\\xd4\\x001\\xe1sF\\x03\\x08\\xcb\\x96]\\xafV\\x05>(\\xdc\\x01\\xc5\\xf8`0\\xef\\x80\\xd3\\x88\\x9d\\xfd\\xd7G}\\x9d\\xce<\\xb7Y\\x958M\\xb5y\\xb0\\xa3\\xb6\\x02(\\xfe\\xae^\\xca\\xe6nK\\xa5\\x1e\\xcd\\xd3\\x9d\\xe8-\\xb6\\x1e\\x93\\x1f\\xf5\\x96\\x00\\x99\\x88\\x13\\xa8\\xa7)\\xe2.\\xd3\\xf3\\x11\\xe5L\\x88G\\xb5\\xc0,\\xbf\\x82\\xc0\\x0fY\\x944\\xd9\\x16\\xa0\\x18\\xdd7\\xa3\\x90\\x15{\\xbe\\x01k\\xafT\\xf4s\\xbd`\\x8ft\\xcajsE\\x02'\n",
            "11810\n"
          ]
        }
      ]
    },
    {
      "cell_type": "markdown",
      "source": [
        "# Sign"
      ],
      "metadata": {
        "id": "7YkdMYVugaJ8"
      }
    },
    {
      "cell_type": "markdown",
      "source": [
        "## Generate Salt"
      ],
      "metadata": {
        "id": "S2wR6Ofw26Cx"
      }
    },
    {
      "cell_type": "code",
      "source": [
        "def generateSalt()->bytes:\n",
        "  return secrets.token_bytes(16)"
      ],
      "metadata": {
        "id": "t_qdIGAigZvg"
      },
      "execution_count": 113,
      "outputs": []
    },
    {
      "cell_type": "markdown",
      "source": [
        "## hash digest"
      ],
      "metadata": {
        "id": "ivkpnBTm-qIH"
      }
    },
    {
      "cell_type": "code",
      "source": [
        "def generate_hash_digest(message:str,salt:bytes,m:int,lvl:int,r:int)->bytes:\n",
        "  if lvl == 1:\n",
        "    h_digest_shake = hashlib.shake_128(message.encode(\"utf-8\")+b'\\x00'+salt)\n",
        "  else:\n",
        "    h_digest_shake = hashlib.shake_256(message.encode(\"utf-8\")+b'\\x00'+salt)\n",
        "\n",
        "  h_digest_bytes = h_digest_shake.digest(math.ceil(m*r/8))\n",
        "\n",
        "  # Join all the bytes into a single bit-string representation.\n",
        "  h_digest_bits = ''.join([int8_to_binString(i) for i in h_digest_bytes])\n",
        "\n",
        "  # Take r bits sequentialy from the string m times, to create a vector within the F(2**r) field\n",
        "  # The bits that remain after this are discarded.\n",
        "  h_digest = [int(h_digest_bits[i*r:i*r+r],base=2) for i in range(m)]\n",
        "\n",
        "  return h_digest\n"
      ],
      "metadata": {
        "id": "GMMt1oIOih_8"
      },
      "execution_count": 114,
      "outputs": []
    },
    {
      "cell_type": "markdown",
      "source": [
        "## Generate v"
      ],
      "metadata": {
        "id": "f2JbjFJt43v3"
      }
    },
    {
      "cell_type": "code",
      "source": [
        "def generateV(r:int, v:int)->list:\n",
        "  \"\"\"Generate the vinegar variables vector.\n",
        "\n",
        "  The function generates the closest amount of bytes to contain r*v bits in order\n",
        "  to be able to get a vector of size v, with each element having r bits.\n",
        "\n",
        "  Parameters\n",
        "  ----------\n",
        "  r : int\n",
        "    The r paramter of the LUOV specification.\n",
        "\n",
        "  v : int\n",
        "    The v paramter of the LUOV specification.\n",
        "\n",
        "  Returns\n",
        "  -------\n",
        "  list\n",
        "      A list that represents the vinegar variables.\n",
        "  \"\"\"\n",
        "  vinegar_bytes = secrets.token_bytes(math.ceil(r*v/8))\n",
        "\n",
        "  # Join all the bytes into a single bit-string representation.\n",
        "  vinegar_bits = ''.join([int8_to_binString(i) for i in vinegar_bytes])\n",
        "\n",
        "  # Take r bits sequentialy from the string v times, to create a vector within the F(2**r) field\n",
        "  # The bits that remain after this are discarded.\n",
        "  vinegar = [int(vinegar_bits[i*r:i*r+r],base=2) for i in range(v)]\n",
        "  return vinegar"
      ],
      "metadata": {
        "id": "zm_1KTuY48Se"
      },
      "execution_count": 115,
      "outputs": []
    },
    {
      "cell_type": "markdown",
      "source": [
        "## Build augmented matrix"
      ],
      "metadata": {
        "id": "XgEH3ik_uA3w"
      }
    },
    {
      "cell_type": "code",
      "source": [
        "def buildAugmentedMatrix(C:galois.FieldArray,\n",
        "                         L:galois.FieldArray,\n",
        "                         Q1:galois.FieldArray,\n",
        "                         T:galois.FieldArray,\n",
        "                         h:galois.FieldArray,\n",
        "                         v_array:galois.FieldArray,\n",
        "                         m:int,v:int,r:int\n",
        "                         )->tuple[galois.FieldArray,galois.FieldArray]:\n",
        "  \"\"\"The implementation of the buildAugmentedMatrix algorithm of the LUOV specification.\n",
        "\n",
        "  Parameters\n",
        "  ----------\n",
        "  C : galois.FieldArray\n",
        "    The C vector of the LUOV specification.\n",
        "\n",
        "  L : galois.FieldArray\n",
        "    The L matrix of the LUOV specification.\n",
        "\n",
        "  Q1 : galois.FieldArray\n",
        "    The Q1 matrix of the LUOV specification.\n",
        "\n",
        "  T : galois.FieldArray\n",
        "    The T matrix of the LUOV specification.\n",
        "\n",
        "  h : galois.FieldArray\n",
        "    The hash digest to target.\n",
        "\n",
        "  v_array : galois.FieldArray\n",
        "    A vector containing the vinegar variables.\n",
        "\n",
        "  m : int\n",
        "    The m paramter of the LUOV specification.\n",
        "\n",
        "  v : int\n",
        "    The v paramter of the LUOV specification.\n",
        "\n",
        "  r : int\n",
        "    The r paramter of the LUOV specification.\n",
        "\n",
        "  Returns\n",
        "  -------\n",
        "  (galois.FieldArray,galois.FieldArray)\n",
        "      The arrays representing the augmented matrix.\n",
        "      The first being the left part and the second being the right part.\n",
        "  \"\"\"\n",
        "  n = m+v\n",
        "  v_with_zeros = v_array.copy()\n",
        "  v_with_zeros.resize(n)\n",
        "  RHS = h - C-L@v_with_zeros\n",
        "  T_with_ones = np.concatenate((-T,np.identity(m)),axis=0)\n",
        "  LHS = L@T_with_ones\n",
        "\n",
        "  GF = galois.GF(2**r,irreducible_poly = 0x83)\n",
        "\n",
        "  for k in range(m):\n",
        "    Pk1=GF(findPk1(v,m,k,Q1))\n",
        "    Pk2=GF(findPk2(v,m,k,Q1))\n",
        "    RHS[k] = RHS[k] - v_array.T@Pk1@v_array\n",
        "\n",
        "    Fk2=-(Pk1+Pk1.T)@T+Pk2\n",
        "\n",
        "    LHS[k] = LHS[k] + v_array@Fk2\n",
        "  # Here the implementation differs from the specification,\n",
        "  # instead of returning the augmented matrix LHS and RHS are\n",
        "  # returned separately to use numpy's solving function\n",
        "  return LHS,RHS\n"
      ],
      "metadata": {
        "id": "0Op-V3s82O-H"
      },
      "execution_count": 116,
      "outputs": []
    },
    {
      "cell_type": "markdown",
      "source": [
        "## Sign"
      ],
      "metadata": {
        "id": "8LN4SqR7uInK"
      }
    },
    {
      "cell_type": "code",
      "source": [
        "def encode_field_element(element:galois.typing.DTypeLike,r:int)->str:\n",
        "  \"\"\"Get the r bit representation of an field element as a binary string\n",
        "     without the '0b' indicator.\n",
        "\n",
        "  The function takes one field element, turns it to binary\n",
        "  and returns an string containing the r bit representation of it.\n",
        "\n",
        "  Parameters\n",
        "  ----------\n",
        "  element : galois.typing.DTypeLike\n",
        "    The field element (The number if you prefer).\n",
        "\n",
        "  r : int\n",
        "    The ammount of bits required to encode the element.\n",
        "\n",
        "  Returns\n",
        "  -------\n",
        "  str\n",
        "      A string with r bits to represent the field element.\n",
        "  \"\"\"\n",
        "  return bin(element)[2:].zfill(r)"
      ],
      "metadata": {
        "id": "dKBtgjyzpZMm"
      },
      "execution_count": 117,
      "outputs": []
    },
    {
      "cell_type": "code",
      "source": [
        "def encode_siganture(signature:galois.FieldArray,salt:bytes,n:int,r:int)->bytes:\n",
        "  \"\"\"Encoding of the signature with the salt following the LUOV specification.\n",
        "\n",
        "  The function takes a FieldArray, converts all its elements to binary and\n",
        "  concatenates them in order, then it encodes the result into bytes (padding with\n",
        "  zeros at the end to achieve the number of bytes). Finaly, the result is concatenated\n",
        "  with the salt.\n",
        "\n",
        "  Parameters\n",
        "  ----------\n",
        "  signature : galois.FieldArray\n",
        "    The FieldArray containing the elements of the signature.\n",
        "\n",
        "  salt : bytes\n",
        "    The salt that will be added at the end of the signature.\n",
        "\n",
        "  n : int\n",
        "    The number of elements in the signature.\n",
        "\n",
        "  r : int\n",
        "    The ammount of bits of each element of the signature.\n",
        "\n",
        "  Returns\n",
        "  -------\n",
        "  bytes\n",
        "      The bytes of the signature and the salt concatenated.\n",
        "  \"\"\"\n",
        "  binary_signature = ''\n",
        "  # Turn all the elements in the signature vecto to an r-bit per element\n",
        "  # binary string\n",
        "  for i in signature:\n",
        "    binary_signature += encode_field_element(i,r)\n",
        "  needed_bits = n*r\n",
        "  byte_signature = b''\n",
        "  # Iterate through the binary string, taking 8 bits at a time to get the bytes\n",
        "  # of the signature\n",
        "  while needed_bits>8:\n",
        "    byte_signature += int(binary_signature[:8],2).to_bytes(1,byteorder='big')\n",
        "    binary_signature = binary_signature[8:]\n",
        "    needed_bits -= 8\n",
        "  # The remaining bits are padded with zeros at the end to make the last bytes\n",
        "  if needed_bits>0:\n",
        "    for i in range(8-needed_bits):\n",
        "      binary_signature += '0'\n",
        "    byte_signature += int(binary_signature,2).to_bytes(1,byteorder='big')\n",
        "  return byte_signature + salt"
      ],
      "metadata": {
        "id": "GEglYhRDnrij"
      },
      "execution_count": 118,
      "outputs": []
    },
    {
      "cell_type": "code",
      "source": [
        "def sign(message:str,private_seed:bytes,v:int,m:int,r:int,lvl:int)->bytes:\n",
        "  private_sponge = create_private_sponge(private_seed,v,m,lvl)\n",
        "  public_seed = get_public_seed(private_sponge)\n",
        "  T_base = private_sponge[32:]\n",
        "  T = tMatrixGenerator(T_base,v,m)\n",
        "\n",
        "  GF = galois.GF(2**r,irreducible_poly = 0x83)\n",
        "\n",
        "  T = GF(T)\n",
        "\n",
        "  C,L,Q1 = G(v,m,lvl,public_seed)\n",
        "\n",
        "  C = GF(C)\n",
        "  L = GF(L)\n",
        "  Q1 = GF(Q1)\n",
        "\n",
        "  salt = generateSalt()\n",
        "  h = GF(generate_hash_digest(message,salt,m,lvl,r))\n",
        "\n",
        "  n = m+v\n",
        "  no_solution = True\n",
        "  s_prime = np.zeros([m,1])\n",
        "  while no_solution:\n",
        "    vinegar = GF(generateV(r=r,v=v))\n",
        "    A0,A1= buildAugmentedMatrix(C,L,Q1,T,h,vinegar,m,v,r)\n",
        "\n",
        "    try:\n",
        "      # Try to solve the equation system given the vinegar variables\n",
        "      oil = np.linalg.solve(A0,A1)\n",
        "      # If we find a solution we assume it's unique and end the loop.\n",
        "      no_solution = False\n",
        "      # The solution (oil) is concatenated to de vinegar variables vector.\n",
        "      s_prime = np.concatenate([vinegar,oil])\n",
        "    except np.linalg.LinAlgError:\n",
        "      # If no solution is found we stay in the loop to try with new\n",
        "      # vinegar variables\n",
        "      no_solution = True\n",
        "\n",
        "  # Build the matrix for the solution operation\n",
        "  solution_operand_left = np.concatenate([np.identity(v),np.zeros([m,v])],axis=0)\n",
        "  solution_operand_right = np.concatenate([-T,np.identity(m)],axis=0)\n",
        "  solution_operand = np.concatenate([solution_operand_left,solution_operand_right],axis=1)\n",
        "\n",
        "  # Build S using the matrix solution_operand\n",
        "  s = GF(solution_operand)@s_prime\n",
        "  encoded_signature=encode_siganture(s,salt,n,r)\n",
        "  return encoded_signature"
      ],
      "metadata": {
        "id": "69GxNrpXs0YZ"
      },
      "execution_count": 119,
      "outputs": []
    },
    {
      "cell_type": "code",
      "source": [
        "test_sign = sign(\"hi\",private_seed_test,197,57,7,1)\n",
        "print(test_sign)\n",
        "print(len(test_sign))"
      ],
      "metadata": {
        "colab": {
          "base_uri": "https://localhost:8080/"
        },
        "id": "aYJAHww65T1x",
        "outputId": "bc5e9b10-57fa-4c5f-ad90-08e4158bb63b"
      },
      "execution_count": 129,
      "outputs": [
        {
          "output_type": "stream",
          "name": "stdout",
          "text": [
            "b'\\xb3\"\\xf3\\xb4\\xfc\\xaf\\xc1\\xbb\\xf9\\x1a\\xb8\\t\\xe5a\\xa6\\x03\\x07\\x00\\r\\xab\\x00\\xa3\\x84o\\x04p\\xef\\xb7\\x00\\x19d\\x04\\xbb\\xbc\\xe7\\xbdmM1\\xce\\xb6>\\xf1\\xeaB r\\x83(\\xdaB\\xd5\\xff\\xf0T{\\xf6\\x86\\xf0-k\\x9d\\x94\\xb0\\xb2}\\xce\\x14Y\\xca\\xf4#(\\x0f\\xc9\\xea\\xd2\\xfb\\x02;\\xef\\xf1R9\\x0cY`\\xf1r\\xf0 \\xbc\\xa0\\xb8\\x1b(\\x9cw\\xf9V\\xf5\\xa0/\\xf3\\xee*\\xa8$\\x17\\x8c\\x12\\x96\\x99\\x86-[9\\xb9o\\xf2)b8\\x86\\xfd\\xc0`^\\xc3\\xb9\\t\\xa5\\xbe\\x80\\xa2\\xf4(\\x90\\x9eE\\xef\\x14=\\xea:\\x87\\xa6\\xd7\"\\x07J(f\\x7fM\\xd42\\x95fC\\xef\\x93\\xee*D5\\x8ba\\xeb\\x87R\\xdf\\xe0\\x96j\\xc2\\x06[\\x91\\xae\\x92c\\xe4y\\xf8\\x99\\xf2\\x1b8\\xe9\\xeb\\xe5n\\x1c\\xf5#\\xe5\\xf2\\x08\\xeel\\xab\\xa8\\x9dl\\x9e\\xd66&\\xd5Y\\xc3\\x9f\\xfbf\\x83\\xa8\\n\\xaa\\xd8\\xf1\\xa4@\\x88\\xc0\\xd5\\xa7}\\xf8X\\xa7\\x9c\\xb78\\xc9\\xb4\\'P\\x1d'\n",
            "239\n"
          ]
        }
      ]
    },
    {
      "cell_type": "markdown",
      "source": [
        "# Verify"
      ],
      "metadata": {
        "id": "cZpAp3jhdPiA"
      }
    },
    {
      "cell_type": "code",
      "source": [
        "def extract_seed_and_q2(public_key:bytes,m:int)->tuple[bytes,np.ndarray]:\n",
        "  public_seed = public_key[:32]\n",
        "  Q2_bytes = public_key[32:]\n",
        "  Q2_bits = []\n",
        "  for i in Q2_bytes:\n",
        "    reversed =int8_to_bits(i)\n",
        "    reversed.reverse()\n",
        "    Q2_bits+= reversed\n",
        "  Q2_bits = Q2_bits[:int(m*(m*(m+1)/2))]\n",
        "  Q2 = np.array(Q2_bits)\n",
        "  Q2 = np.reshape(Q2,(m,int(m*(m+1)/2)),order=\"F\")\n",
        "  return public_seed,Q2"
      ],
      "metadata": {
        "id": "RDsQVZwGBe5u"
      },
      "execution_count": 130,
      "outputs": []
    },
    {
      "cell_type": "code",
      "source": [
        "def decode_signature(signature:bytes,r:int)->np.ndarray:\n",
        "  signature_without_salt = signature[:-16]\n",
        "  signature_bits = ''\n",
        "  for i in signature_without_salt:\n",
        "    signature_bits+=int8_to_binString(i)\n",
        "  signature_array = []\n",
        "  while len(signature_bits)>r:\n",
        "    signature_array.append(int(signature_bits[:r],2))\n",
        "    signature_bits = signature_bits[r:]\n",
        "  return np.array(signature_array)"
      ],
      "metadata": {
        "id": "fbkwxGdMUHPs"
      },
      "execution_count": 131,
      "outputs": []
    },
    {
      "cell_type": "code",
      "source": [
        "def get_salt(signature:bytes)->bytes:\n",
        "  return signature[-16:]"
      ],
      "metadata": {
        "id": "sNIlU7_YpCiz"
      },
      "execution_count": 132,
      "outputs": []
    },
    {
      "cell_type": "code",
      "source": [
        "def evaluatePublicMap(public_key:bytes,s:bytes,v:int,m:int,lvl:int,r:int)->galois.FieldArray:\n",
        "  public_seed,Q2 = extract_seed_and_q2(public_key,m)\n",
        "  GF = galois.GF(2**r,irreducible_poly = 0x83)\n",
        "  C,L,Q1 = G(v,m,lvl,public_seed)\n",
        "\n",
        "  C = GF(C)\n",
        "  L = GF(L)\n",
        "  Q1 = GF(Q1)\n",
        "  Q = np.concatenate([Q1,GF(Q2)],axis=1)\n",
        "\n",
        "  s_decoded = GF(decode_signature(s,r))\n",
        "\n",
        "  e = C + L@s_decoded\n",
        "  column = 0\n",
        "  n= m+v\n",
        "  for i in range(n):\n",
        "    for j in range(i,n):\n",
        "      for k in range(m):\n",
        "        e[k] = e[k]+Q[k,column]*s_decoded[i]*s_decoded[j]\n",
        "      column = column + 1\n",
        "  return e"
      ],
      "metadata": {
        "id": "TSOUfHhCeFQ3"
      },
      "execution_count": 133,
      "outputs": []
    },
    {
      "cell_type": "code",
      "source": [
        "def verify(public_key:bytes,message:str,candidate_signature:bytes,v:int,m:int,lvl:int,r:int)->bool:\n",
        "  GF = galois.GF(2**r,irreducible_poly = 0x83)\n",
        "  h = GF(generate_hash_digest(message,get_salt(candidate_signature),m,lvl,r))\n",
        "  e = evaluatePublicMap(public_key,candidate_signature,v,m,lvl,r)\n",
        "  return np.array_equal(h,e)"
      ],
      "metadata": {
        "id": "QzWh8s_mmWDU"
      },
      "execution_count": 134,
      "outputs": []
    },
    {
      "cell_type": "code",
      "source": [
        "print(verify(public_key_test,\"hi\",test_sign,197,57,1,7))"
      ],
      "metadata": {
        "id": "E6ZtkZLbFpxz",
        "colab": {
          "base_uri": "https://localhost:8080/"
        },
        "outputId": "678cba2f-4d27-4709-8378-af7dbe717470"
      },
      "execution_count": 135,
      "outputs": [
        {
          "output_type": "stream",
          "name": "stdout",
          "text": [
            "True\n"
          ]
        }
      ]
    }
  ]
}
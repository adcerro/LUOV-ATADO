{
  "nbformat": 4,
  "nbformat_minor": 0,
  "metadata": {
    "colab": {
      "provenance": [],
      "collapsed_sections": [
        "qpGjcl89Jdg9",
        "0_2Pc2mqdRVu",
        "n-W_EB-__Ekh",
        "hJ0fqOZY7WlD",
        "3bIAq0Cx7f7g",
        "Dt0Qr2nPJoR0",
        "0vm6l3EMwD1n",
        "7YkdMYVugaJ8",
        "S2wR6Ofw26Cx",
        "ivkpnBTm-qIH",
        "f2JbjFJt43v3",
        "XgEH3ik_uA3w",
        "8LN4SqR7uInK",
        "--UJHh_zy3Z0"
      ]
    },
    "kernelspec": {
      "name": "python3",
      "display_name": "Python 3"
    },
    "language_info": {
      "name": "python"
    }
  },
  "cells": [
    {
      "cell_type": "code",
      "source": [
        "pip install galois"
      ],
      "metadata": {
        "colab": {
          "base_uri": "https://localhost:8080/"
        },
        "id": "n0O-cNFV9WW2",
        "outputId": "771b097c-c6e6-48b4-9db3-30d85a923b91"
      },
      "execution_count": 30,
      "outputs": [
        {
          "output_type": "stream",
          "name": "stdout",
          "text": [
            "Requirement already satisfied: galois in /usr/local/lib/python3.10/dist-packages (0.4.2)\n",
            "Requirement already satisfied: numpy<2.2,>=1.21.0 in /usr/local/lib/python3.10/dist-packages (from galois) (1.26.4)\n",
            "Requirement already satisfied: numba<0.61,>=0.55 in /usr/local/lib/python3.10/dist-packages (from galois) (0.60.0)\n",
            "Requirement already satisfied: typing-extensions>=4.0.0 in /usr/local/lib/python3.10/dist-packages (from galois) (4.12.2)\n",
            "Requirement already satisfied: llvmlite<0.44,>=0.43.0dev0 in /usr/local/lib/python3.10/dist-packages (from numba<0.61,>=0.55->galois) (0.43.0)\n"
          ]
        }
      ]
    },
    {
      "cell_type": "code",
      "source": [
        "# Needed libraries\n",
        "import secrets\n",
        "import math\n",
        "import numpy as np\n",
        "import hashlib\n",
        "import galois"
      ],
      "metadata": {
        "id": "apHo-xJy5n3t"
      },
      "execution_count": 31,
      "outputs": []
    },
    {
      "cell_type": "markdown",
      "source": [
        "# Generate private seed"
      ],
      "metadata": {
        "id": "qpGjcl89Jdg9"
      }
    },
    {
      "cell_type": "code",
      "execution_count": 32,
      "metadata": {
        "id": "ExqwWkupIftS"
      },
      "outputs": [],
      "source": [
        "#Generate Private Seed\n",
        "def generate_private_seed()->bytes:\n",
        "  return secrets.token_bytes(32)"
      ]
    },
    {
      "cell_type": "markdown",
      "source": [
        "# SHAKE A.K.A function H (Squeeze public_seed and T)"
      ],
      "metadata": {
        "id": "0_2Pc2mqdRVu"
      }
    },
    {
      "cell_type": "markdown",
      "source": [
        "## SHAKE using hashlib"
      ],
      "metadata": {
        "id": "n-W_EB-__Ekh"
      }
    },
    {
      "cell_type": "code",
      "source": [
        "def create_private_sponge(private_seed:bytes,v:int,m:int,lvl)->bytes:\n",
        "  # USE SHAKE\n",
        "  if(lvl==1):\n",
        "    h_shake = hashlib.shake_128(private_seed)\n",
        "  else:\n",
        "    h_shake = hashlib.shake_256(private_seed)\n",
        "  # Private Sponge\n",
        "  return h_shake.digest(32+math.ceil(m/8)*v)"
      ],
      "metadata": {
        "id": "Napettqh_Jen"
      },
      "execution_count": 33,
      "outputs": []
    },
    {
      "cell_type": "markdown",
      "source": [
        "#Extract public seed"
      ],
      "metadata": {
        "id": "hJ0fqOZY7WlD"
      }
    },
    {
      "cell_type": "code",
      "source": [
        "def get_public_seed(private_sponge:bytes)->bytes:\n",
        "  return private_sponge[:32]"
      ],
      "metadata": {
        "id": "ZQ0HJIaHbVqW"
      },
      "execution_count": 34,
      "outputs": []
    },
    {
      "cell_type": "markdown",
      "source": [
        "#Extract T"
      ],
      "metadata": {
        "id": "3bIAq0Cx7f7g"
      }
    },
    {
      "cell_type": "code",
      "source": [
        "def int8_to_binString(intByte:int)->str:\n",
        "  \"\"\"Get the 8 bit representation of an integer as a binary string\n",
        "     without the '0b' indicator.\n",
        "\n",
        "  The function takes one integer byte, turns it to binary\n",
        "  and returns an string containing the 8 bit representation of it.\n",
        "\n",
        "  Parameters\n",
        "  ----------\n",
        "  intByte : int\n",
        "    The byte, labeled as an int by python.\n",
        "\n",
        "  Returns\n",
        "  -------\n",
        "  str\n",
        "      A string with 8 bits to represent the integer.\n",
        "  \"\"\"\n",
        "  binary = bin(intByte)[2:]\n",
        "  return binary.zfill(8)"
      ],
      "metadata": {
        "id": "PMZ5gXFyw63C"
      },
      "execution_count": 35,
      "outputs": []
    },
    {
      "cell_type": "code",
      "source": [
        "def int8_to_bits(intByte:int)->list:\n",
        "  \"\"\"Get the first 8 bits of an integer as an array.\n",
        "\n",
        "  The function takes one integer byte, extracts it's bits\n",
        "  and returns an array containing the bits starting from\n",
        "  the most significant bit.\n",
        "\n",
        "  Parameters\n",
        "  ----------\n",
        "  intByte : int\n",
        "    The byte, labeled as an int by python.\n",
        "\n",
        "  Returns\n",
        "  -------\n",
        "  list\n",
        "      An array with the first 8 bits of the integer\n",
        "      starting from the most significant one.\n",
        "  \"\"\"\n",
        "  bits_data = bin(intByte)[2:]\n",
        "  return [int(i) for i in bits_data.zfill(8 * ((len(bits_data) + 7) // 8))]"
      ],
      "metadata": {
        "id": "KQVLtrcxxkUP"
      },
      "execution_count": 36,
      "outputs": []
    },
    {
      "cell_type": "code",
      "source": [
        "def tMatrixRowGen(byteString:bytes,neededBits:int)->list:\n",
        "  \"\"\"Generate one row of the T matrix.\n",
        "\n",
        "  The function takes one byte-string and extracts the specified\n",
        "  ammount of bits (neededBits) to fill one row. When the ammount\n",
        "  of bits doesn't fit completely in a byte, the most significant\n",
        "  bits of the last byte are ignored.\n",
        "\n",
        "  Parameters\n",
        "  ----------\n",
        "  byteString : bytes\n",
        "    A byte-string containing the bits used to fill the row.\n",
        "  neededBits : int\n",
        "    The ammount of bits a row needs to have.\n",
        "\n",
        "  Returns\n",
        "  -------\n",
        "  list\n",
        "      An array representing one row of the T matrix\n",
        "  \"\"\"\n",
        "  row = []\n",
        "  while(neededBits>8):\n",
        "    row+=int8_to_bits(byteString[0])\n",
        "    byteString = byteString[1:]\n",
        "    neededBits = neededBits-8\n",
        "  if(neededBits>0):\n",
        "    row+=int8_to_bits(byteString[0])[-neededBits:]\n",
        "  return row\n",
        "\n",
        "def tMatrixGenerator(byteString:bytes,v:int,m:int)->np.ndarray:\n",
        "  \"\"\"Generate the T matrix.\n",
        "\n",
        "  The function takes one byte-string and generates v rows\n",
        "  each one with m bits extracted sequentially from a byteString\n",
        "  using the tMatrixRowGen() function.\n",
        "\n",
        "  Parameters\n",
        "  ----------\n",
        "  byteString : bytes\n",
        "    A byte-string containing the bits used to fill the matrix.\n",
        "  v : int\n",
        "    The ammount rows of the matrix.\n",
        "  m : int\n",
        "    The ammount columns of the matrix.\n",
        "\n",
        "  Returns\n",
        "  -------\n",
        "  list\n",
        "      An array representing the T matrix\n",
        "  \"\"\"\n",
        "  mdivided8 =math.ceil(m/8)\n",
        "  matrix = []\n",
        "  for i in range(v):\n",
        "    matrix.append(tMatrixRowGen(byteString,m))\n",
        "    byteString = byteString[mdivided8:]\n",
        "  return np.array(matrix)"
      ],
      "metadata": {
        "id": "oSe2MqZusb55"
      },
      "execution_count": 37,
      "outputs": []
    },
    {
      "cell_type": "markdown",
      "source": [
        "# SHAKE (squeeze public map)"
      ],
      "metadata": {
        "id": "Dt0Qr2nPJoR0"
      }
    },
    {
      "cell_type": "code",
      "source": [
        "def subMatrixGenerator(byteString:bytes)->np.ndarray:\n",
        "  \"\"\"Generate a part of the L or Q1 matrix.\n",
        "\n",
        "  The function takes one byte-string and returns one 16 row part\n",
        "  of the L or Q1 matrix. It must be noted that the rows are generated as columns\n",
        "  at first and then are transposed.\n",
        "\n",
        "  Parameters\n",
        "  ----------\n",
        "  byteString : bytes\n",
        "    A byte-string containing the bits used to fill the matrix.\n",
        "\n",
        "  Returns\n",
        "  -------\n",
        "  np.ndarray\n",
        "      A matrix\n",
        "  \"\"\"\n",
        "\n",
        "  matrix = [int8_to_bits(byteString[i*2])+int8_to_bits(byteString[i*2+1]) for i in range(len(byteString)//2)]\n",
        "\n",
        "  return np.array(matrix).T"
      ],
      "metadata": {
        "id": "xnISGIu4FL8D"
      },
      "execution_count": 38,
      "outputs": []
    },
    {
      "cell_type": "markdown",
      "source": [
        "## Obtain C, L, and $$Q_1$$"
      ],
      "metadata": {
        "id": "yvGATeTum1hy"
      }
    },
    {
      "cell_type": "code",
      "source": [
        "def G(v:int,m:int,lvl:int,public_seed:bytes)->tuple[np.ndarray,np.ndarray,np.ndarray]:\n",
        "  n = m+v\n",
        "  g_equation = 2+2*n+v*(v+1)+2*v*m\n",
        "  mdivided16 = math.ceil(m/16)\n",
        "  #first g function iteration\n",
        "  if(lvl==1):\n",
        "    g_shake = hashlib.shake_128(public_seed+bytes.fromhex('00'))\n",
        "  else:\n",
        "    g_shake = hashlib.shake_256(public_seed+bytes.fromhex('00'))\n",
        "  public_sponge = g_shake.digest(g_equation)\n",
        "  C_base=int8_to_bits(public_sponge[0])+int8_to_bits(public_sponge[1])\n",
        "  public_sponge = public_sponge[2:]\n",
        "  # L and Q1 have more than one dimension, so they are initilized differently\n",
        "  L_base = subMatrixGenerator(public_sponge[:2*n])\n",
        "  public_sponge = public_sponge[2*n:]\n",
        "  Q1_base = subMatrixGenerator(public_sponge)\n",
        "\n",
        "  #following g function iterations\n",
        "  if(lvl==1):\n",
        "    for i in range(1,mdivided16):\n",
        "      g_shake = hashlib.shake_128(public_seed+bytes.fromhex(f'0{i}'))\n",
        "      public_sponge = g_shake.digest(g_equation)\n",
        "      C_base+=int8_to_bits(public_sponge[0])+int8_to_bits(public_sponge[1])\n",
        "      public_sponge = public_sponge[2:]\n",
        "      L_base = np.concatenate((L_base,subMatrixGenerator(public_sponge[:2*n])))\n",
        "      public_sponge = public_sponge[2*n:]\n",
        "      Q1_base = np.concatenate((Q1_base,subMatrixGenerator(public_sponge)))\n",
        "  else:\n",
        "    for i in range(1,mdivided16):\n",
        "      g_shake = hashlib.shake_256(public_seed+bytes.fromhex(f'0{i}'))\n",
        "      public_sponge = g_shake.digest(g_equation)\n",
        "      C_base+=int8_to_bits(public_sponge[0])+int8_to_bits(public_sponge[1])\n",
        "      public_sponge = public_sponge[2:]\n",
        "      L_base = np.concatenate((L_base,subMatrixGenerator(public_sponge[:2*n])))\n",
        "      public_sponge = public_sponge[2*n:]\n",
        "      Q1_base = np.concatenate((Q1_base,subMatrixGenerator(public_sponge)))\n",
        "\n",
        "  # obtaining C: we take the m bits (starting from the last generated bit) we\n",
        "  # need fromthe total of bits generated\n",
        "  C = C_base[-m:]\n",
        "  C = np.array(C)\n",
        "  # obtaining L: We discard the upper rows to get the specified dimensions\n",
        "  L = L_base[-m:]\n",
        "  # obtaining Q_1: We discard the upper row to get the specified dimensions\n",
        "  Q1=Q1_base[-m:]\n",
        "  return C,L,Q1\n"
      ],
      "metadata": {
        "id": "m__RjLhdJztu"
      },
      "execution_count": 39,
      "outputs": []
    },
    {
      "cell_type": "markdown",
      "source": [
        "## Obtaining $$Q_2$$"
      ],
      "metadata": {
        "id": "skVOldbqnIhB"
      }
    },
    {
      "cell_type": "code",
      "source": [
        "def findPk1(v:int,m:int,k:int,q1:np.ndarray)->np.ndarray:\n",
        "  \"\"\"An implementation of the findPk1 algorithm of the LUOV specification.\n",
        "\n",
        "  Parameters\n",
        "  ----------\n",
        "  v : int\n",
        "    The v parameter of the LUOV specification.\n",
        "  m : int\n",
        "    The m parameter of the LUOV specification.\n",
        "  k : int\n",
        "    An integer between 1 and m.\n",
        "  q1 : np.ndarray\n",
        "    First part of Macaulay matrix of the quadratic part of P.\n",
        "\n",
        "  Returns\n",
        "  -------\n",
        "  np.ndarray\n",
        "      The v-by-v matrix representing the part of pk that is\n",
        "      quadratic in the vinegar variables.\n",
        "  \"\"\"\n",
        "  Pk1 = np.zeros([v,v],dtype=np.int8)\n",
        "  column = 0\n",
        "  for i in range(v):\n",
        "    for j in range(i,v):\n",
        "      Pk1[i,j]= q1[k,column]\n",
        "      column+=1\n",
        "    column+=m\n",
        "  return Pk1"
      ],
      "metadata": {
        "id": "mf4FpkwHzBoy"
      },
      "execution_count": 40,
      "outputs": []
    },
    {
      "cell_type": "code",
      "source": [
        "def findPk2(v:int,m:int,k:int,q1:np.ndarray)->np.ndarray:\n",
        "  \"\"\"An implementation of the findPk2 algorithm of the LUOV specification.\n",
        "\n",
        "  Parameters\n",
        "  ----------\n",
        "  v : int\n",
        "    The v parameter of the LUOV specification.\n",
        "  m : int\n",
        "    The m parameter of the LUOV specification.\n",
        "  k : int\n",
        "    An integer between 1 and m.\n",
        "  q1 : np.ndarray\n",
        "    First part of Macaulay matrix of the quadratic part of P.\n",
        "\n",
        "  Returns\n",
        "  -------\n",
        "  np.ndarray\n",
        "      The v-by-m matrix representing the part of pk that is bilinear in the\n",
        "      vinegar variables and the oil variables.\n",
        "  \"\"\"\n",
        "  Pk2 = np.zeros([v,m],dtype=np.int8)\n",
        "  column = 0\n",
        "  for i in range(v):\n",
        "    column += v-i\n",
        "    for j in range(m):\n",
        "      Pk2[i,j]= q1[k,column]\n",
        "      column+=1\n",
        "  return Pk2"
      ],
      "metadata": {
        "id": "to23ZqMWEToa"
      },
      "execution_count": 41,
      "outputs": []
    },
    {
      "cell_type": "code",
      "source": [
        "def findQ2(v:int,m:int,Q1:np.ndarray,T:np.ndarray)->galois.GF2:\n",
        "  \"\"\"An implementation of the findQ2 algorithm of the LUOV specification.\n",
        "\n",
        "  Parameters\n",
        "  ----------\n",
        "  v : int\n",
        "    The v parameter of the LUOV specification.\n",
        "  m : int\n",
        "    The m parameter of the LUOV specification.\n",
        "  q1 : np.ndarray\n",
        "    First part of Macaulay matrix of the quadratic part of P.\n",
        "  t : np.ndarray\n",
        "    A v-by-m matrix.\n",
        "\n",
        "  Returns\n",
        "  -------\n",
        "  np.ndarray\n",
        "      The second part of Macaulay matrix for quadratic part of P.\n",
        "  \"\"\"\n",
        "  # we use galois to prevent the results of the operations from\n",
        "  # being out of the finite field\n",
        "  GF = galois.GF(2)\n",
        "  T = GF(T)\n",
        "\n",
        "  Q2 = GF(np.zeros([m,int(m*(m+1)/2)],dtype=np.int8))\n",
        "  for k in range(m):\n",
        "    Pk1 = GF(findPk1(v,m,k,Q1))\n",
        "    Pk2 = GF(findPk2(v,m,k,Q1))\n",
        "    Pk3 = -np.transpose(T)@Pk1@T+np.transpose(T)@Pk2\n",
        "    column = 0\n",
        "    for i in range(m):\n",
        "      Q2[k,column]= Pk3[i,i]\n",
        "      column += 1\n",
        "      for j in range(i+1,m):\n",
        "        Q2[k,column] = Pk3[i,j] + Pk3[j,i]\n",
        "        column+=1\n",
        "  return Q2"
      ],
      "metadata": {
        "id": "d-i4SgxzGrfA"
      },
      "execution_count": 42,
      "outputs": []
    },
    {
      "cell_type": "markdown",
      "source": [
        "# Generate the public key"
      ],
      "metadata": {
        "id": "0vm6l3EMwD1n"
      }
    },
    {
      "cell_type": "code",
      "source": [
        "def keyGen(v:int,m:int,lvl:int,private_seed:bytes)->bytes:\n",
        "  private_sponge = create_private_sponge(private_seed,v,m,lvl)\n",
        "  public_seed = get_public_seed(private_sponge)\n",
        "\n",
        "  T_base = private_sponge[32:]\n",
        "  T = tMatrixGenerator(T_base,v,m)\n",
        "\n",
        "  C,L,Q1 = G(v,m,lvl,public_seed)\n",
        "  Q2 = findQ2(v,m,Q1,T)\n",
        "  Q2_copy = Q2.copy()\n",
        "  # The first 32 bytes of the public key come from the public seed.\n",
        "  public_key = public_seed\n",
        "\n",
        "  # Enconding of Q2\n",
        "  Q2_bytes = b\"\"\n",
        "  # Get an array that contains all the elements of Q2 iterating column-wise.\n",
        "  Q2 = Q2.flatten(order=\"F\")\n",
        "  while len(Q2)>8:\n",
        "    # Take 8 elements of the Q2 flattened array, reverse their order, turn them\n",
        "    # into a byte and add them to the bytes representing Q2.\n",
        "    byte = str(Q2[7])+str(Q2[6])+str(Q2[5])+str(Q2[4])+str(Q2[3])+str(Q2[2])+str(Q2[1])+str(Q2[0])\n",
        "    Q2_bytes += int(byte,2).to_bytes(1,byteorder=\"big\")\n",
        "    Q2 = Q2[8:]\n",
        "  if len(Q2)>0:\n",
        "    byte = \"\"\n",
        "    while len(Q2)>0:\n",
        "      byte += str(Q2[0])\n",
        "      Q2 = Q2[1:]\n",
        "    # Pad with zeros the remaining elements to encode, reverse their order, turn\n",
        "    # them into a byte and add them to the bytes representing Q2.\n",
        "    byte = byte.ljust(8,'0')[::-1]\n",
        "    Q2_bytes += int(byte,2).to_bytes(1,byteorder=\"big\")\n",
        "  # Add the byte encoding of Q2 to the public key.\n",
        "  public_key += Q2_bytes\n",
        "\n",
        "  return public_key"
      ],
      "metadata": {
        "id": "LWIGsyYLX9Be"
      },
      "execution_count": 43,
      "outputs": []
    },
    {
      "cell_type": "markdown",
      "source": [
        "# Sign"
      ],
      "metadata": {
        "id": "7YkdMYVugaJ8"
      }
    },
    {
      "cell_type": "markdown",
      "source": [
        "## Generate Salt"
      ],
      "metadata": {
        "id": "S2wR6Ofw26Cx"
      }
    },
    {
      "cell_type": "code",
      "source": [
        "def generateSalt()->bytes:\n",
        "  return secrets.token_bytes(16)"
      ],
      "metadata": {
        "id": "t_qdIGAigZvg"
      },
      "execution_count": 44,
      "outputs": []
    },
    {
      "cell_type": "markdown",
      "source": [
        "## hash digest"
      ],
      "metadata": {
        "id": "ivkpnBTm-qIH"
      }
    },
    {
      "cell_type": "code",
      "source": [
        "def generate_hash_digest(message:str,salt:bytes,m:int,r:int,lvl:int)->bytes:\n",
        "  \"\"\"Generate the hash digest (h of the LUOV specification).\n",
        "\n",
        "  Parameters\n",
        "  ----------\n",
        "  message : str\n",
        "    The message.\n",
        "\n",
        "  salt : bytes\n",
        "    The salt.\n",
        "\n",
        "  m : int\n",
        "    The m paramter of the LUOV specification.\n",
        "\n",
        "  r : int\n",
        "    The r paramter of the LUOV specification.\n",
        "\n",
        "  lvl : int\n",
        "    The lvl paramter of the LUOV specification.\n",
        "\n",
        "  Returns\n",
        "  -------\n",
        "  bytes\n",
        "      h (the bytes digested for the h variable of the LUOV specification).\n",
        "  \"\"\"\n",
        "  if lvl == 1:\n",
        "    h_digest_shake = hashlib.shake_128(message.encode(\"utf-8\")+b'\\x00'+salt)\n",
        "  else:\n",
        "    h_digest_shake = hashlib.shake_256(message.encode(\"utf-8\")+b'\\x00'+salt)\n",
        "\n",
        "  h_digest_bytes = h_digest_shake.digest(math.ceil(m*r/8))\n",
        "\n",
        "  # Join all the bytes into a single bit-string representation.\n",
        "  h_digest_bits = ''.join([int8_to_binString(i) for i in h_digest_bytes])\n",
        "\n",
        "  # Take r bits sequentialy from the string m times, to create a vector within the F(2**r) field\n",
        "  # The bits that remain after this are discarded.\n",
        "  h_digest = [int(h_digest_bits[i*r:i*r+r],base=2) for i in range(m)]\n",
        "\n",
        "  return h_digest\n"
      ],
      "metadata": {
        "id": "GMMt1oIOih_8"
      },
      "execution_count": 45,
      "outputs": []
    },
    {
      "cell_type": "markdown",
      "source": [
        "## Generate v"
      ],
      "metadata": {
        "id": "f2JbjFJt43v3"
      }
    },
    {
      "cell_type": "code",
      "source": [
        "def generateV(r:int, v:int)->list:\n",
        "  \"\"\"Generate the vinegar variables vector.\n",
        "\n",
        "  The function generates the closest amount of bytes to contain r*v bits in order\n",
        "  to be able to get a vector of size v, with each element having r bits.\n",
        "\n",
        "  Parameters\n",
        "  ----------\n",
        "  r : int\n",
        "    The r paramter of the LUOV specification.\n",
        "\n",
        "  v : int\n",
        "    The v paramter of the LUOV specification.\n",
        "\n",
        "  Returns\n",
        "  -------\n",
        "  list\n",
        "      A list that represents the vinegar variables.\n",
        "  \"\"\"\n",
        "  vinegar_bytes = secrets.token_bytes(math.ceil(r*v/8))\n",
        "\n",
        "  # Join all the bytes into a single bit-string representation.\n",
        "  vinegar_bits = ''.join([int8_to_binString(i) for i in vinegar_bytes])\n",
        "\n",
        "  # Take r bits sequentialy from the string v times, to create a vector within the F(2**r) field\n",
        "  # The bits that remain after this are discarded.\n",
        "  vinegar = [int(vinegar_bits[i*r:i*r+r],base=2) for i in range(v)]\n",
        "  return vinegar"
      ],
      "metadata": {
        "id": "zm_1KTuY48Se"
      },
      "execution_count": 46,
      "outputs": []
    },
    {
      "cell_type": "markdown",
      "source": [
        "## Build augmented matrix"
      ],
      "metadata": {
        "id": "XgEH3ik_uA3w"
      }
    },
    {
      "cell_type": "code",
      "source": [
        "def buildAugmentedMatrix(C:galois.FieldArray,\n",
        "                         L:galois.FieldArray,\n",
        "                         Q1:galois.FieldArray,\n",
        "                         T:galois.FieldArray,\n",
        "                         h:galois.FieldArray,\n",
        "                         v_array:galois.FieldArray,\n",
        "                         m:int,v:int,r:int\n",
        "                         )->tuple[galois.FieldArray,galois.FieldArray]:\n",
        "  \"\"\"The implementation of the buildAugmentedMatrix algorithm of the LUOV specification.\n",
        "\n",
        "  Parameters\n",
        "  ----------\n",
        "  C : galois.FieldArray\n",
        "    The C vector of the LUOV specification.\n",
        "\n",
        "  L : galois.FieldArray\n",
        "    The L matrix of the LUOV specification.\n",
        "\n",
        "  Q1 : galois.FieldArray\n",
        "    The Q1 matrix of the LUOV specification.\n",
        "\n",
        "  T : galois.FieldArray\n",
        "    The T matrix of the LUOV specification.\n",
        "\n",
        "  h : galois.FieldArray\n",
        "    The hash digest to target.\n",
        "\n",
        "  v_array : galois.FieldArray\n",
        "    A vector containing the vinegar variables.\n",
        "\n",
        "  m : int\n",
        "    The m paramter of the LUOV specification.\n",
        "\n",
        "  v : int\n",
        "    The v paramter of the LUOV specification.\n",
        "\n",
        "  r : int\n",
        "    The r paramter of the LUOV specification.\n",
        "\n",
        "  Returns\n",
        "  -------\n",
        "  (galois.FieldArray,galois.FieldArray)\n",
        "      The arrays representing the augmented matrix.\n",
        "      The first being the left part and the second being the right part.\n",
        "  \"\"\"\n",
        "  n = m+v\n",
        "  v_with_zeros = v_array.copy()\n",
        "  v_with_zeros.resize(n)\n",
        "  RHS = h - C-L@v_with_zeros\n",
        "  T_with_ones = np.concatenate((-T,galois.Array.Identity(m)),axis=0)\n",
        "  LHS = L@T_with_ones\n",
        "\n",
        "  GF = galois.GF(2**r)\n",
        "\n",
        "  for k in range(m):\n",
        "    Pk1=GF(findPk1(v,m,k,Q1))\n",
        "    Pk2=GF(findPk2(v,m,k,Q1))\n",
        "    RHS[k] = RHS[k] - v_array.T@Pk1@v_array\n",
        "\n",
        "    Fk2=-(Pk1+Pk1.T)@T+Pk2\n",
        "\n",
        "    LHS[k] = LHS[k] + v_array@Fk2\n",
        "  # Here the implementation differs from the specification,\n",
        "  # instead of returning the augmented matrix LHS and RHS are\n",
        "  # returned separately to use numpy's solving function\n",
        "  return LHS,RHS\n"
      ],
      "metadata": {
        "id": "0Op-V3s82O-H"
      },
      "execution_count": 47,
      "outputs": []
    },
    {
      "cell_type": "markdown",
      "source": [
        "## Sign"
      ],
      "metadata": {
        "id": "8LN4SqR7uInK"
      }
    },
    {
      "cell_type": "code",
      "source": [
        "def encode_field_element(element:galois.typing.DTypeLike,r:int)->str:\n",
        "  \"\"\"Get the r bit representation of an field element as a binary string\n",
        "     without the '0b' indicator.\n",
        "\n",
        "  The function takes one field element, turns it to binary\n",
        "  and returns an string containing the r bit representation of it.\n",
        "\n",
        "  Parameters\n",
        "  ----------\n",
        "  element : galois.typing.DTypeLike\n",
        "    The field element (The number if you prefer).\n",
        "\n",
        "  r : int\n",
        "    The ammount of bits required to encode the element.\n",
        "\n",
        "  Returns\n",
        "  -------\n",
        "  str\n",
        "      A string with r bits to represent the field element.\n",
        "  \"\"\"\n",
        "  return bin(element)[2:].zfill(r)"
      ],
      "metadata": {
        "id": "dKBtgjyzpZMm"
      },
      "execution_count": 48,
      "outputs": []
    },
    {
      "cell_type": "code",
      "source": [
        "def encode_siganture(signature:galois.FieldArray,salt:bytes,n:int,r:int)->bytes:\n",
        "  \"\"\"Encoding of the signature with the salt following the LUOV specification.\n",
        "\n",
        "  The function takes a FieldArray, converts all its elements to binary and\n",
        "  concatenates them in order, then it encodes the result into bytes (padding with\n",
        "  zeros at the end to achieve the number of bytes). Finaly, the result is concatenated\n",
        "  with the salt.\n",
        "\n",
        "  Parameters\n",
        "  ----------\n",
        "  signature : galois.FieldArray\n",
        "    The FieldArray containing the elements of the signature.\n",
        "\n",
        "  salt : bytes\n",
        "    The salt that will be added at the end of the signature.\n",
        "\n",
        "  n : int\n",
        "    The number of elements in the signature.\n",
        "\n",
        "  r : int\n",
        "    The ammount of bits of each element of the signature.\n",
        "\n",
        "  Returns\n",
        "  -------\n",
        "  bytes\n",
        "      The bytes of the signature and the salt concatenated.\n",
        "  \"\"\"\n",
        "  binary_signature = ''\n",
        "  # Turn all the elements in the signature vecto to an r-bit per element binary\n",
        "  # string.\n",
        "  for i in signature:\n",
        "    binary_signature += encode_field_element(i,r)\n",
        "  needed_bits = n*r\n",
        "  byte_signature = b''\n",
        "  # Iterate through the binary string, taking 8 bits at a time to get the bytes\n",
        "  # of the signature.\n",
        "  while needed_bits>8:\n",
        "    byte_signature += int(binary_signature[:8],2).to_bytes(1,byteorder='big')\n",
        "    binary_signature = binary_signature[8:]\n",
        "    needed_bits -= 8\n",
        "  # The remaining bits are padded with zeros at the end to make the last byte.\n",
        "  if needed_bits>0:\n",
        "    for i in range(8-needed_bits):\n",
        "      binary_signature += '0'\n",
        "    byte_signature += int(binary_signature,2).to_bytes(1,byteorder='big')\n",
        "  return byte_signature + salt"
      ],
      "metadata": {
        "id": "GEglYhRDnrij"
      },
      "execution_count": 49,
      "outputs": []
    },
    {
      "cell_type": "code",
      "source": [
        "def sign(message:str,private_seed:bytes,v:int,m:int,r:int,lvl:int)->bytes:\n",
        "  \"\"\"The sign algorithm of the LUOV specification.\n",
        "\n",
        "  The function takes a private seed and a message. Then, given the parameters of\n",
        "  the LUOV specification, it generates a signature.\n",
        "\n",
        "  Parameters\n",
        "  ----------\n",
        "  message : str\n",
        "    The message to be signed.\n",
        "\n",
        "  private_seed : bytes\n",
        "    The private seed of the LUOV specification.\n",
        "\n",
        "  v : int\n",
        "    The v parameter of the LUOV specification.\n",
        "\n",
        "  m : int\n",
        "    The m parameter of the LUOV specification.\n",
        "\n",
        "  r : int\n",
        "    The r parameter of the LUOV specification.\n",
        "\n",
        "  lvl : int\n",
        "    The level of the LUOV specification.\n",
        "\n",
        "  Returns\n",
        "  -------\n",
        "  bytes\n",
        "      The signature for the given message.\n",
        "  \"\"\"\n",
        "  private_sponge = create_private_sponge(private_seed,v,m,lvl)\n",
        "  public_seed = get_public_seed(private_sponge)\n",
        "  T_base = private_sponge[32:]\n",
        "  T = tMatrixGenerator(T_base,v,m)\n",
        "\n",
        "  GF = galois.GF(2**r)\n",
        "\n",
        "  T = GF(T)\n",
        "\n",
        "  C,L,Q1 = G(v,m,lvl,public_seed)\n",
        "\n",
        "  C = GF(C)\n",
        "  L = GF(L)\n",
        "  Q1 = GF(Q1)\n",
        "\n",
        "  salt = generateSalt()\n",
        "  h = GF(generate_hash_digest(message,salt,m,r,lvl))\n",
        "\n",
        "  n = m+v\n",
        "  no_solution = True\n",
        "  s_prime = np.zeros([m,1])\n",
        "  while no_solution:\n",
        "    vinegar = GF(generateV(r=r,v=v))\n",
        "    A0,A1= buildAugmentedMatrix(C,L,Q1,T,h,vinegar,m,v,r)\n",
        "\n",
        "    try:\n",
        "      # Try to solve the equation system given the vinegar variables\n",
        "      oil = np.linalg.solve(A0,A1)\n",
        "      # If we find a solution we assume it's unique and end the loop.\n",
        "      no_solution = False\n",
        "      # The solution (oil) is concatenated to de vinegar variables vector.\n",
        "      s_prime = np.concatenate([vinegar,oil])\n",
        "    except np.linalg.LinAlgError:\n",
        "      # If no solution is found we stay in the loop to try with new\n",
        "      # vinegar variables\n",
        "      no_solution = True\n",
        "\n",
        "  # Build the matrix for the solution operation\n",
        "  solution_operand_left = np.concatenate([np.identity(v),np.zeros([m,v])],axis=0)\n",
        "  solution_operand_right = np.concatenate([-T,np.identity(m)],axis=0)\n",
        "  solution_operand = GF(np.concatenate([solution_operand_left,solution_operand_right],axis=1))\n",
        "\n",
        "  s_prime = GF(s_prime)\n",
        "  # Build S using the matrix solution_operand\n",
        "  s = solution_operand@s_prime\n",
        "  encoded_signature=encode_siganture(s,salt,n,r)\n",
        "  return encoded_signature"
      ],
      "metadata": {
        "id": "69GxNrpXs0YZ"
      },
      "execution_count": 59,
      "outputs": []
    },
    {
      "cell_type": "markdown",
      "source": [
        "# Verify"
      ],
      "metadata": {
        "id": "cZpAp3jhdPiA"
      }
    },
    {
      "cell_type": "code",
      "source": [
        "def extract_seed_and_q2(public_key:bytes,m:int)->tuple[bytes,np.ndarray]:\n",
        "  \"\"\"Extract the public seed and Q2 from a public key.\n",
        "\n",
        "  The function takes a public key and extracts the public seed from it's first\n",
        "  32 bytes. The remaining bytes are interpreted as the columns of the Q2 matrix.\n",
        "\n",
        "  Parameters\n",
        "  ----------\n",
        "  public_key : bytes\n",
        "    A LUOV specification public key.\n",
        "\n",
        "  m : int\n",
        "    The m parameter of the LUOV specification.\n",
        "\n",
        "  Returns\n",
        "  -------\n",
        "  bytes\n",
        "      The public seed of the LUOV specification contained in the public key.\n",
        "\n",
        "  np.ndarray\n",
        "      The Q2 matrix of the LUOV specification contained in the public key.\n",
        "  \"\"\"\n",
        "  # Get the first 32 bytes that belong to the public seed.\n",
        "  public_seed = public_key[:32]\n",
        "\n",
        "  # The remaining bytes are the encoded elements of Q2.\n",
        "  Q2_bytes = public_key[32:]\n",
        "  Q2_bits = []\n",
        "  for i in Q2_bytes:\n",
        "    # The bits are extracted from the bytes.\n",
        "    reversed =int8_to_bits(i)\n",
        "    # The extracted bits are reversed back to their original value and\n",
        "    # concatenated in a list containing all the bits of Q2.\n",
        "    reversed.reverse()\n",
        "    Q2_bits+= reversed\n",
        "  #The padding zeros for the encoding of Q2 are discarded.\n",
        "  Q2_bits = Q2_bits[:int(m*(m*(m+1)/2))]\n",
        "  Q2 = np.array(Q2_bits)\n",
        "  # The array is reshaped to form the original Q2 matrix, column by column.\n",
        "  Q2 = np.reshape(Q2,(m,int(m*(m+1)/2)),order=\"F\")\n",
        "  return public_seed,Q2"
      ],
      "metadata": {
        "id": "RDsQVZwGBe5u"
      },
      "execution_count": 51,
      "outputs": []
    },
    {
      "cell_type": "code",
      "source": [
        "def decode_signature(signature:bytes,r:int)->np.ndarray:\n",
        "  \"\"\"Decode a signature.\n",
        "\n",
        "  The function takes a signature and discards the salt from it. Then it\n",
        "  extracts all the bits from the bytes of the signature and joins them in\n",
        "  a single r*m long string. Finally it takes the bits in r-sized chunks to\n",
        "  get each element of the Array of the field F_(2**r) with m elements.\n",
        "\n",
        "  Parameters\n",
        "  ----------\n",
        "  signature : bytes\n",
        "    A LUOV specification signature.\n",
        "\n",
        "  r : int\n",
        "    The r parameter of the LUOV specification.\n",
        "\n",
        "  Returns\n",
        "  -------\n",
        "  np.ndarray\n",
        "      The array contained in a signature of the LUOV specification.\n",
        "  \"\"\"\n",
        "  # Discard the salt.\n",
        "  signature_without_salt = signature[:-16]\n",
        "  signature_bits = ''\n",
        "  # Get all the bits that form the signature's array\n",
        "  for i in signature_without_salt:\n",
        "    signature_bits+=int8_to_binString(i)\n",
        "  signature_array = []\n",
        "  while len(signature_bits)>=r:\n",
        "    # Get r bits from the signature_bit's string and interpret them as an\n",
        "    # element of the original array of the signature which has m elements of the\n",
        "    # F_(2**r) finite field.\n",
        "    signature_array.append(int(signature_bits[:r],2))\n",
        "    signature_bits = signature_bits[r:]\n",
        "  return np.ravel(signature_array)"
      ],
      "metadata": {
        "id": "fbkwxGdMUHPs"
      },
      "execution_count": 52,
      "outputs": []
    },
    {
      "cell_type": "code",
      "source": [
        "def get_salt(signature:bytes)->bytes:\n",
        "  \"\"\"Extract the salt from a signature.\n",
        "\n",
        "  The function takes a signature, then it extracts the salt from it, which is\n",
        "  contained in it's last 16 bytes.\n",
        "\n",
        "  Parameters\n",
        "  ----------\n",
        "  signature : bytes\n",
        "    A LUOV specification signature.\n",
        "\n",
        "  Returns\n",
        "  -------\n",
        "  bytes\n",
        "      The salt of a LUOV signature.\n",
        "  \"\"\"\n",
        "  return signature[-16:]"
      ],
      "metadata": {
        "id": "sNIlU7_YpCiz"
      },
      "execution_count": 53,
      "outputs": []
    },
    {
      "cell_type": "code",
      "source": [
        "def evaluatePublicMap(public_key:bytes,s:bytes,v:int,m:int,r:int,lvl:int)->galois.FieldArray:\n",
        "  \"\"\"The evaluatePublicMap algorithm of the LUOV specification.\n",
        "\n",
        "  The function takes a public key and a signature, then, given the\n",
        "  parameters of the LUOV specification used for both the key and signature, it\n",
        "  evaluates the public map e.\n",
        "\n",
        "  Parameters\n",
        "  ----------\n",
        "  public_key : bytes\n",
        "    The public key of the signer.\n",
        "\n",
        "  s : bytes\n",
        "    A signature.\n",
        "\n",
        "  v : int\n",
        "    The v parameter of the LUOV specification.\n",
        "\n",
        "  m : int\n",
        "    The m parameter of the LUOV specification.\n",
        "\n",
        "  r : int\n",
        "    The r parameter of the LUOV specification.\n",
        "\n",
        "  lvl : int\n",
        "    The level of the LUOV specification.\n",
        "\n",
        "  Returns\n",
        "  -------\n",
        "  galois.FieldArray\n",
        "      The evaluation of the public map.\n",
        "  \"\"\"\n",
        "  public_seed,Q2 = extract_seed_and_q2(public_key,m)\n",
        "  GF = galois.GF(2**r)\n",
        "  C,L,Q1 = G(v,m,lvl,public_seed)\n",
        "\n",
        "  C = GF(C)\n",
        "  L = GF(L)\n",
        "  Q1 = GF(Q1)\n",
        "  Q = np.concatenate([Q1,GF(Q2)],axis=1)\n",
        "\n",
        "  s_decoded = GF(decode_signature(s,r))\n",
        "\n",
        "  e = C + L@s_decoded\n",
        "  column = 0\n",
        "  n= m+v\n",
        "  for i in range(n):\n",
        "    for j in range(i,n):\n",
        "      for k in range(m):\n",
        "        e[k] = e[k]+Q[k,column]*s_decoded[i]*s_decoded[j]\n",
        "      column = column + 1\n",
        "  return e"
      ],
      "metadata": {
        "id": "TSOUfHhCeFQ3"
      },
      "execution_count": 54,
      "outputs": []
    },
    {
      "cell_type": "code",
      "source": [
        "def verify(public_key:bytes,message:str,candidate_signature:bytes,v:int,m:int,r:int,lvl:int)->bool:\n",
        "  \"\"\"Verification of a signed message\n",
        "\n",
        "  The function takes a public key, a message and a signature, then, given the\n",
        "  parameters of the LUOV specification used for both the key and signature, it\n",
        "  evaluates if the signature is valid.\n",
        "\n",
        "  Parameters\n",
        "  ----------\n",
        "  public_key : bytes\n",
        "    The public key of the signer.\n",
        "\n",
        "  message : str\n",
        "    The message signed message.\n",
        "\n",
        "  candidate_signature : bytes\n",
        "    The signature of the message.\n",
        "\n",
        "  v : int\n",
        "    The v parameter of the LUOV specification.\n",
        "\n",
        "  m : int\n",
        "    The m parameter of the LUOV specification.\n",
        "\n",
        "  r : int\n",
        "    The r parameter of the LUOV specification.\n",
        "\n",
        "  lvl : int\n",
        "    The level of the LUOV specification.\n",
        "\n",
        "  Returns\n",
        "  -------\n",
        "  bool\n",
        "      The verification result (True if the signature for the message is valid).\n",
        "  \"\"\"\n",
        "  GF = galois.GF(2**r)\n",
        "  h = GF(generate_hash_digest(message,get_salt(candidate_signature),m,r,lvl))\n",
        "  e = evaluatePublicMap(public_key,candidate_signature,v,m,r,lvl)\n",
        "  return np.array_equal(h,e)"
      ],
      "metadata": {
        "id": "QzWh8s_mmWDU"
      },
      "execution_count": 55,
      "outputs": []
    },
    {
      "cell_type": "markdown",
      "source": [
        "# Tests"
      ],
      "metadata": {
        "id": "--UJHh_zy3Z0"
      }
    },
    {
      "cell_type": "code",
      "source": [
        "private_seed_test = generate_private_seed()"
      ],
      "metadata": {
        "id": "lacXs8UWy2FW"
      },
      "execution_count": 56,
      "outputs": []
    },
    {
      "cell_type": "code",
      "source": [
        "public_key_test = keyGen(197,57,1,private_seed_test)\n",
        "test_sign = sign(\"hi\",private_seed_test,197,57,7,1)\n",
        "print(verify(public_key_test,\"hi\",test_sign,197,57,7,1))"
      ],
      "metadata": {
        "id": "E6ZtkZLbFpxz",
        "colab": {
          "base_uri": "https://localhost:8080/"
        },
        "outputId": "ee7084c2-e095-4d30-c95d-64680cdb32ec"
      },
      "execution_count": 60,
      "outputs": [
        {
          "output_type": "stream",
          "name": "stdout",
          "text": [
            "True\n"
          ]
        }
      ]
    },
    {
      "cell_type": "code",
      "source": [
        "public_key_test = keyGen(v=283,m=83,lvl=3,private_seed=private_seed_test)\n",
        "test_sign = sign(\"hi\",private_seed=private_seed_test,v=283,m=83,r=7,lvl=3)\n",
        "print(verify(public_key=public_key_test,message=\"hi\",candidate_signature=test_sign,v=283,m=83,r=7,lvl=3))"
      ],
      "metadata": {
        "colab": {
          "base_uri": "https://localhost:8080/"
        },
        "id": "-oKVHm4uq8VD",
        "outputId": "57ef070f-2e2c-429f-bc99-b670cc88abae"
      },
      "execution_count": 61,
      "outputs": [
        {
          "output_type": "stream",
          "name": "stdout",
          "text": [
            "True\n"
          ]
        }
      ]
    },
    {
      "cell_type": "code",
      "source": [
        "public_key_test = keyGen(v=374,m=110,lvl=5,private_seed=private_seed_test)\n",
        "test_sign = sign(\"hi\",private_seed=private_seed_test,v=374,m=110,r=7,lvl=5)\n",
        "print(verify(public_key=public_key_test,message=\"hi\",candidate_signature=test_sign,v=374,m=110,r=7,lvl=5))"
      ],
      "metadata": {
        "colab": {
          "base_uri": "https://localhost:8080/"
        },
        "id": "r7DiTunuq9yV",
        "outputId": "72e141d8-4b92-4682-e370-bba56a161066"
      },
      "execution_count": 62,
      "outputs": [
        {
          "output_type": "stream",
          "name": "stdout",
          "text": [
            "True\n"
          ]
        }
      ]
    },
    {
      "cell_type": "code",
      "source": [
        "public_key_test = keyGen(v=182,m=42,lvl=1,private_seed=private_seed_test)\n",
        "test_sign = sign(\"hi\",private_seed=private_seed_test,v=182,m=42,r=47,lvl=1)\n",
        "print(verify(public_key=public_key_test,message=\"hi\",candidate_signature=test_sign,v=182,m=42,r=47,lvl=1))"
      ],
      "metadata": {
        "colab": {
          "base_uri": "https://localhost:8080/"
        },
        "id": "P4KGwkGXYXie",
        "outputId": "9df7b3db-2c3b-4c6c-a4ac-355e8b195340"
      },
      "execution_count": 63,
      "outputs": [
        {
          "output_type": "stream",
          "name": "stdout",
          "text": [
            "True\n"
          ]
        }
      ]
    },
    {
      "cell_type": "code",
      "source": [
        "public_key_test = keyGen(v=261,m=60,lvl=3,private_seed=private_seed_test)\n",
        "test_sign = sign(\"hi\",private_seed=private_seed_test,v=261,m=60,r=61,lvl=3)\n",
        "print(verify(public_key=public_key_test,message=\"hi\",candidate_signature=test_sign,v=261,m=60,r=61,lvl=3))"
      ],
      "metadata": {
        "colab": {
          "base_uri": "https://localhost:8080/"
        },
        "id": "-ir9q8mBZXxq",
        "outputId": "83658398-a3eb-40ba-893c-13e1f86084a6"
      },
      "execution_count": 64,
      "outputs": [
        {
          "output_type": "stream",
          "name": "stdout",
          "text": [
            "True\n"
          ]
        }
      ]
    },
    {
      "cell_type": "code",
      "source": [
        "public_key_test = keyGen(v=341,m=76,lvl=5,private_seed=private_seed_test)\n",
        "test_sign = sign(\"hi\",private_seed=private_seed_test,v=341,m=76,r=79,lvl=5)\n",
        "print(verify(public_key=public_key_test,message=\"hi\",candidate_signature=test_sign,v=341,m=76,r=79,lvl=5))"
      ],
      "metadata": {
        "colab": {
          "base_uri": "https://localhost:8080/",
          "height": 1000
        },
        "id": "8PcXCJGaZcBA",
        "outputId": "f57723a2-1bfa-42a1-eb94-0629814c6dbe"
      },
      "execution_count": 65,
      "outputs": [
        {
          "output_type": "error",
          "ename": "TypeError",
          "evalue": "unsupported operand type(s) for &: 'float' and 'int'",
          "traceback": [
            "\u001b[0;31m---------------------------------------------------------------------------\u001b[0m",
            "\u001b[0;31mTypeError\u001b[0m                                 Traceback (most recent call last)",
            "\u001b[0;32m<ipython-input-65-0e546885de6e>\u001b[0m in \u001b[0;36m<cell line: 2>\u001b[0;34m()\u001b[0m\n\u001b[1;32m      1\u001b[0m \u001b[0mpublic_key_test\u001b[0m \u001b[0;34m=\u001b[0m \u001b[0mkeyGen\u001b[0m\u001b[0;34m(\u001b[0m\u001b[0mv\u001b[0m\u001b[0;34m=\u001b[0m\u001b[0;36m341\u001b[0m\u001b[0;34m,\u001b[0m\u001b[0mm\u001b[0m\u001b[0;34m=\u001b[0m\u001b[0;36m76\u001b[0m\u001b[0;34m,\u001b[0m\u001b[0mlvl\u001b[0m\u001b[0;34m=\u001b[0m\u001b[0;36m5\u001b[0m\u001b[0;34m,\u001b[0m\u001b[0mprivate_seed\u001b[0m\u001b[0;34m=\u001b[0m\u001b[0mprivate_seed_test\u001b[0m\u001b[0;34m)\u001b[0m\u001b[0;34m\u001b[0m\u001b[0;34m\u001b[0m\u001b[0m\n\u001b[0;32m----> 2\u001b[0;31m \u001b[0mtest_sign\u001b[0m \u001b[0;34m=\u001b[0m \u001b[0msign\u001b[0m\u001b[0;34m(\u001b[0m\u001b[0;34m\"hi\"\u001b[0m\u001b[0;34m,\u001b[0m\u001b[0mprivate_seed\u001b[0m\u001b[0;34m=\u001b[0m\u001b[0mprivate_seed_test\u001b[0m\u001b[0;34m,\u001b[0m\u001b[0mv\u001b[0m\u001b[0;34m=\u001b[0m\u001b[0;36m341\u001b[0m\u001b[0;34m,\u001b[0m\u001b[0mm\u001b[0m\u001b[0;34m=\u001b[0m\u001b[0;36m76\u001b[0m\u001b[0;34m,\u001b[0m\u001b[0mr\u001b[0m\u001b[0;34m=\u001b[0m\u001b[0;36m79\u001b[0m\u001b[0;34m,\u001b[0m\u001b[0mlvl\u001b[0m\u001b[0;34m=\u001b[0m\u001b[0;36m5\u001b[0m\u001b[0;34m)\u001b[0m\u001b[0;34m\u001b[0m\u001b[0;34m\u001b[0m\u001b[0m\n\u001b[0m\u001b[1;32m      3\u001b[0m \u001b[0mprint\u001b[0m\u001b[0;34m(\u001b[0m\u001b[0mverify\u001b[0m\u001b[0;34m(\u001b[0m\u001b[0mpublic_key\u001b[0m\u001b[0;34m=\u001b[0m\u001b[0mpublic_key_test\u001b[0m\u001b[0;34m,\u001b[0m\u001b[0mmessage\u001b[0m\u001b[0;34m=\u001b[0m\u001b[0;34m\"hi\"\u001b[0m\u001b[0;34m,\u001b[0m\u001b[0mcandidate_signature\u001b[0m\u001b[0;34m=\u001b[0m\u001b[0mtest_sign\u001b[0m\u001b[0;34m,\u001b[0m\u001b[0mv\u001b[0m\u001b[0;34m=\u001b[0m\u001b[0;36m341\u001b[0m\u001b[0;34m,\u001b[0m\u001b[0mm\u001b[0m\u001b[0;34m=\u001b[0m\u001b[0;36m76\u001b[0m\u001b[0;34m,\u001b[0m\u001b[0mr\u001b[0m\u001b[0;34m=\u001b[0m\u001b[0;36m79\u001b[0m\u001b[0;34m,\u001b[0m\u001b[0mlvl\u001b[0m\u001b[0;34m=\u001b[0m\u001b[0;36m5\u001b[0m\u001b[0;34m)\u001b[0m\u001b[0;34m)\u001b[0m\u001b[0;34m\u001b[0m\u001b[0;34m\u001b[0m\u001b[0m\n",
            "\u001b[0;32m<ipython-input-59-f6f02cc903e1>\u001b[0m in \u001b[0;36msign\u001b[0;34m(message, private_seed, v, m, r, lvl)\u001b[0m\n\u001b[1;32m     74\u001b[0m   \u001b[0ms_prime\u001b[0m \u001b[0;34m=\u001b[0m \u001b[0mGF\u001b[0m\u001b[0;34m(\u001b[0m\u001b[0ms_prime\u001b[0m\u001b[0;34m)\u001b[0m\u001b[0;34m\u001b[0m\u001b[0;34m\u001b[0m\u001b[0m\n\u001b[1;32m     75\u001b[0m   \u001b[0;31m# Build S using the matrix solution_operand\u001b[0m\u001b[0;34m\u001b[0m\u001b[0;34m\u001b[0m\u001b[0m\n\u001b[0;32m---> 76\u001b[0;31m   \u001b[0ms\u001b[0m \u001b[0;34m=\u001b[0m \u001b[0msolution_operand\u001b[0m\u001b[0;34m@\u001b[0m\u001b[0ms_prime\u001b[0m\u001b[0;34m\u001b[0m\u001b[0;34m\u001b[0m\u001b[0m\n\u001b[0m\u001b[1;32m     77\u001b[0m   \u001b[0mencoded_signature\u001b[0m\u001b[0;34m=\u001b[0m\u001b[0mencode_siganture\u001b[0m\u001b[0;34m(\u001b[0m\u001b[0ms\u001b[0m\u001b[0;34m,\u001b[0m\u001b[0msalt\u001b[0m\u001b[0;34m,\u001b[0m\u001b[0mn\u001b[0m\u001b[0;34m,\u001b[0m\u001b[0mr\u001b[0m\u001b[0;34m)\u001b[0m\u001b[0;34m\u001b[0m\u001b[0;34m\u001b[0m\u001b[0m\n\u001b[1;32m     78\u001b[0m   \u001b[0;32mreturn\u001b[0m \u001b[0mencoded_signature\u001b[0m\u001b[0;34m\u001b[0m\u001b[0;34m\u001b[0m\u001b[0m\n",
            "\u001b[0;32m/usr/local/lib/python3.10/dist-packages/galois/_domains/_array.py\u001b[0m in \u001b[0;36m__matmul__\u001b[0;34m(self, other)\u001b[0m\n\u001b[1;32m    522\u001b[0m \u001b[0;34m\u001b[0m\u001b[0m\n\u001b[1;32m    523\u001b[0m     \u001b[0;32mdef\u001b[0m \u001b[0m__matmul__\u001b[0m\u001b[0;34m(\u001b[0m\u001b[0mself\u001b[0m\u001b[0;34m,\u001b[0m \u001b[0mother\u001b[0m\u001b[0;34m:\u001b[0m \u001b[0mnpt\u001b[0m\u001b[0;34m.\u001b[0m\u001b[0mNDArray\u001b[0m\u001b[0;34m)\u001b[0m \u001b[0;34m->\u001b[0m \u001b[0mSelf\u001b[0m\u001b[0;34m:\u001b[0m\u001b[0;34m\u001b[0m\u001b[0;34m\u001b[0m\u001b[0m\n\u001b[0;32m--> 524\u001b[0;31m         \u001b[0;32mreturn\u001b[0m \u001b[0msuper\u001b[0m\u001b[0;34m(\u001b[0m\u001b[0;34m)\u001b[0m\u001b[0;34m.\u001b[0m\u001b[0m__matmul__\u001b[0m\u001b[0;34m(\u001b[0m\u001b[0mother\u001b[0m\u001b[0;34m)\u001b[0m\u001b[0;34m\u001b[0m\u001b[0;34m\u001b[0m\u001b[0m\n\u001b[0m\u001b[1;32m    525\u001b[0m \u001b[0;34m\u001b[0m\u001b[0m\n\u001b[1;32m    526\u001b[0m     \u001b[0;32mdef\u001b[0m \u001b[0m__rmatmul__\u001b[0m\u001b[0;34m(\u001b[0m\u001b[0mself\u001b[0m\u001b[0;34m,\u001b[0m \u001b[0mother\u001b[0m\u001b[0;34m:\u001b[0m \u001b[0mnpt\u001b[0m\u001b[0;34m.\u001b[0m\u001b[0mNDArray\u001b[0m\u001b[0;34m)\u001b[0m \u001b[0;34m->\u001b[0m \u001b[0mSelf\u001b[0m\u001b[0;34m:\u001b[0m\u001b[0;34m\u001b[0m\u001b[0;34m\u001b[0m\u001b[0m\n",
            "\u001b[0;32m/usr/local/lib/python3.10/dist-packages/galois/_domains/_ufunc.py\u001b[0m in \u001b[0;36m__array_ufunc__\u001b[0;34m(self, ufunc, method, *inputs, **kwargs)\u001b[0m\n\u001b[1;32m    687\u001b[0m                 \u001b[0mkwargs\u001b[0m\u001b[0;34m[\u001b[0m\u001b[0;34m\"dtype\"\u001b[0m\u001b[0;34m]\u001b[0m \u001b[0;34m=\u001b[0m \u001b[0mfield\u001b[0m\u001b[0;34m.\u001b[0m\u001b[0mdtypes\u001b[0m\u001b[0;34m[\u001b[0m\u001b[0;34m-\u001b[0m\u001b[0;36m1\u001b[0m\u001b[0;34m]\u001b[0m\u001b[0;34m\u001b[0m\u001b[0;34m\u001b[0m\u001b[0m\n\u001b[1;32m    688\u001b[0m \u001b[0;34m\u001b[0m\u001b[0m\n\u001b[0;32m--> 689\u001b[0;31m             \u001b[0;32mreturn\u001b[0m \u001b[0mgetattr\u001b[0m\u001b[0;34m(\u001b[0m\u001b[0mfield\u001b[0m\u001b[0;34m,\u001b[0m \u001b[0mfield\u001b[0m\u001b[0;34m.\u001b[0m\u001b[0m_OVERRIDDEN_UFUNCS\u001b[0m\u001b[0;34m[\u001b[0m\u001b[0mufunc\u001b[0m\u001b[0;34m]\u001b[0m\u001b[0;34m)\u001b[0m\u001b[0;34m(\u001b[0m\u001b[0mufunc\u001b[0m\u001b[0;34m,\u001b[0m \u001b[0mmethod\u001b[0m\u001b[0;34m,\u001b[0m \u001b[0minputs\u001b[0m\u001b[0;34m,\u001b[0m \u001b[0mkwargs\u001b[0m\u001b[0;34m,\u001b[0m \u001b[0mmeta\u001b[0m\u001b[0;34m)\u001b[0m\u001b[0;34m\u001b[0m\u001b[0;34m\u001b[0m\u001b[0m\n\u001b[0m\u001b[1;32m    690\u001b[0m \u001b[0;34m\u001b[0m\u001b[0m\n\u001b[1;32m    691\u001b[0m         \u001b[0;32mif\u001b[0m \u001b[0mufunc\u001b[0m \u001b[0;32min\u001b[0m \u001b[0mfield\u001b[0m\u001b[0;34m.\u001b[0m\u001b[0m_UNSUPPORTED_UFUNCS\u001b[0m\u001b[0;34m:\u001b[0m\u001b[0;34m\u001b[0m\u001b[0;34m\u001b[0m\u001b[0m\n",
            "\u001b[0;32m/usr/local/lib/python3.10/dist-packages/galois/_domains/_ufunc.py\u001b[0m in \u001b[0;36m__call__\u001b[0;34m(self, ufunc, method, inputs, kwargs, meta)\u001b[0m\n\u001b[1;32m    553\u001b[0m     \u001b[0;32mdef\u001b[0m \u001b[0m__call__\u001b[0m\u001b[0;34m(\u001b[0m\u001b[0mself\u001b[0m\u001b[0;34m,\u001b[0m \u001b[0mufunc\u001b[0m\u001b[0;34m,\u001b[0m \u001b[0mmethod\u001b[0m\u001b[0;34m,\u001b[0m \u001b[0minputs\u001b[0m\u001b[0;34m,\u001b[0m \u001b[0mkwargs\u001b[0m\u001b[0;34m,\u001b[0m \u001b[0mmeta\u001b[0m\u001b[0;34m)\u001b[0m\u001b[0;34m:\u001b[0m\u001b[0;34m\u001b[0m\u001b[0;34m\u001b[0m\u001b[0m\n\u001b[1;32m    554\u001b[0m         \u001b[0mself\u001b[0m\u001b[0;34m.\u001b[0m\u001b[0m_verify_method_only_call\u001b[0m\u001b[0;34m(\u001b[0m\u001b[0mufunc\u001b[0m\u001b[0;34m,\u001b[0m \u001b[0mmethod\u001b[0m\u001b[0;34m)\u001b[0m\u001b[0;34m\u001b[0m\u001b[0;34m\u001b[0m\u001b[0m\n\u001b[0;32m--> 555\u001b[0;31m         \u001b[0;32mreturn\u001b[0m \u001b[0mmatmul_jit\u001b[0m\u001b[0;34m(\u001b[0m\u001b[0mself\u001b[0m\u001b[0;34m.\u001b[0m\u001b[0mfield\u001b[0m\u001b[0;34m)\u001b[0m\u001b[0;34m(\u001b[0m\u001b[0;34m*\u001b[0m\u001b[0minputs\u001b[0m\u001b[0;34m,\u001b[0m \u001b[0;34m**\u001b[0m\u001b[0mkwargs\u001b[0m\u001b[0;34m)\u001b[0m\u001b[0;34m\u001b[0m\u001b[0;34m\u001b[0m\u001b[0m\n\u001b[0m\u001b[1;32m    556\u001b[0m \u001b[0;34m\u001b[0m\u001b[0m\n\u001b[1;32m    557\u001b[0m \u001b[0;34m\u001b[0m\u001b[0m\n",
            "\u001b[0;32m/usr/local/lib/python3.10/dist-packages/galois/_domains/_linalg.py\u001b[0m in \u001b[0;36m__call__\u001b[0;34m(self, A, B, out, **kwargs)\u001b[0m\n\u001b[1;32m    216\u001b[0m             \u001b[0mC\u001b[0m \u001b[0;34m=\u001b[0m \u001b[0mC\u001b[0m\u001b[0;34m.\u001b[0m\u001b[0mastype\u001b[0m\u001b[0;34m(\u001b[0m\u001b[0mdtype\u001b[0m\u001b[0;34m)\u001b[0m\u001b[0;34m\u001b[0m\u001b[0;34m\u001b[0m\u001b[0m\n\u001b[1;32m    217\u001b[0m         \u001b[0;32melse\u001b[0m\u001b[0;34m:\u001b[0m\u001b[0;34m\u001b[0m\u001b[0;34m\u001b[0m\u001b[0m\n\u001b[0;32m--> 218\u001b[0;31m             \u001b[0mC\u001b[0m \u001b[0;34m=\u001b[0m \u001b[0mself\u001b[0m\u001b[0;34m.\u001b[0m\u001b[0mpython\u001b[0m\u001b[0;34m(\u001b[0m\u001b[0mA\u001b[0m\u001b[0;34m.\u001b[0m\u001b[0mview\u001b[0m\u001b[0;34m(\u001b[0m\u001b[0mnp\u001b[0m\u001b[0;34m.\u001b[0m\u001b[0mndarray\u001b[0m\u001b[0;34m)\u001b[0m\u001b[0;34m,\u001b[0m \u001b[0mB\u001b[0m\u001b[0;34m.\u001b[0m\u001b[0mview\u001b[0m\u001b[0;34m(\u001b[0m\u001b[0mnp\u001b[0m\u001b[0;34m.\u001b[0m\u001b[0mndarray\u001b[0m\u001b[0;34m)\u001b[0m\u001b[0;34m)\u001b[0m\u001b[0;34m\u001b[0m\u001b[0;34m\u001b[0m\u001b[0m\n\u001b[0m\u001b[1;32m    219\u001b[0m         \u001b[0mC\u001b[0m \u001b[0;34m=\u001b[0m \u001b[0mself\u001b[0m\u001b[0;34m.\u001b[0m\u001b[0mfield\u001b[0m\u001b[0;34m.\u001b[0m\u001b[0m_view\u001b[0m\u001b[0;34m(\u001b[0m\u001b[0mC\u001b[0m\u001b[0;34m)\u001b[0m\u001b[0;34m\u001b[0m\u001b[0;34m\u001b[0m\u001b[0m\n\u001b[1;32m    220\u001b[0m \u001b[0;34m\u001b[0m\u001b[0m\n",
            "\u001b[0;32m/usr/local/lib/python3.10/dist-packages/galois/_domains/_linalg.py\u001b[0m in \u001b[0;36mimplementation\u001b[0;34m(A, B)\u001b[0m\n\u001b[1;32m    253\u001b[0m             \u001b[0;32mfor\u001b[0m \u001b[0mj\u001b[0m \u001b[0;32min\u001b[0m \u001b[0mnumba\u001b[0m\u001b[0;34m.\u001b[0m\u001b[0mprange\u001b[0m\u001b[0;34m(\u001b[0m\u001b[0mN\u001b[0m\u001b[0;34m)\u001b[0m\u001b[0;34m:\u001b[0m\u001b[0;34m\u001b[0m\u001b[0;34m\u001b[0m\u001b[0m\n\u001b[1;32m    254\u001b[0m                 \u001b[0;32mfor\u001b[0m \u001b[0mk\u001b[0m \u001b[0;32min\u001b[0m \u001b[0mrange\u001b[0m\u001b[0;34m(\u001b[0m\u001b[0mK\u001b[0m\u001b[0;34m)\u001b[0m\u001b[0;34m:\u001b[0m\u001b[0;34m\u001b[0m\u001b[0;34m\u001b[0m\u001b[0m\n\u001b[0;32m--> 255\u001b[0;31m                     \u001b[0mC\u001b[0m\u001b[0;34m[\u001b[0m\u001b[0mi\u001b[0m\u001b[0;34m,\u001b[0m \u001b[0mj\u001b[0m\u001b[0;34m]\u001b[0m \u001b[0;34m=\u001b[0m \u001b[0mADD\u001b[0m\u001b[0;34m(\u001b[0m\u001b[0mC\u001b[0m\u001b[0;34m[\u001b[0m\u001b[0mi\u001b[0m\u001b[0;34m,\u001b[0m \u001b[0mj\u001b[0m\u001b[0;34m]\u001b[0m\u001b[0;34m,\u001b[0m \u001b[0mMULTIPLY\u001b[0m\u001b[0;34m(\u001b[0m\u001b[0mA\u001b[0m\u001b[0;34m[\u001b[0m\u001b[0mi\u001b[0m\u001b[0;34m,\u001b[0m \u001b[0mk\u001b[0m\u001b[0;34m]\u001b[0m\u001b[0;34m,\u001b[0m \u001b[0mB\u001b[0m\u001b[0;34m[\u001b[0m\u001b[0mk\u001b[0m\u001b[0;34m,\u001b[0m \u001b[0mj\u001b[0m\u001b[0;34m]\u001b[0m\u001b[0;34m)\u001b[0m\u001b[0;34m)\u001b[0m\u001b[0;34m\u001b[0m\u001b[0;34m\u001b[0m\u001b[0m\n\u001b[0m\u001b[1;32m    256\u001b[0m \u001b[0;34m\u001b[0m\u001b[0m\n\u001b[1;32m    257\u001b[0m         \u001b[0;32mreturn\u001b[0m \u001b[0mC\u001b[0m\u001b[0;34m\u001b[0m\u001b[0;34m\u001b[0m\u001b[0m\n",
            "\u001b[0;32m/usr/local/lib/python3.10/dist-packages/galois/_domains/_calculate.py\u001b[0m in \u001b[0;36mcalculate\u001b[0;34m(a, b)\u001b[0m\n\u001b[1;32m    314\u001b[0m         \u001b[0mc\u001b[0m \u001b[0;34m=\u001b[0m \u001b[0;36m0\u001b[0m\u001b[0;34m\u001b[0m\u001b[0;34m\u001b[0m\u001b[0m\n\u001b[1;32m    315\u001b[0m         \u001b[0;32mwhile\u001b[0m \u001b[0mb\u001b[0m \u001b[0;34m>\u001b[0m \u001b[0;36m0\u001b[0m\u001b[0;34m:\u001b[0m\u001b[0;34m\u001b[0m\u001b[0;34m\u001b[0m\u001b[0m\n\u001b[0;32m--> 316\u001b[0;31m             \u001b[0;32mif\u001b[0m \u001b[0mb\u001b[0m \u001b[0;34m&\u001b[0m \u001b[0;36m0b1\u001b[0m\u001b[0;34m:\u001b[0m\u001b[0;34m\u001b[0m\u001b[0;34m\u001b[0m\u001b[0m\n\u001b[0m\u001b[1;32m    317\u001b[0m                 \u001b[0mc\u001b[0m \u001b[0;34m^=\u001b[0m \u001b[0ma\u001b[0m  \u001b[0;31m# Add a(x) to c(x)\u001b[0m\u001b[0;34m\u001b[0m\u001b[0;34m\u001b[0m\u001b[0m\n\u001b[1;32m    318\u001b[0m \u001b[0;34m\u001b[0m\u001b[0m\n",
            "\u001b[0;31mTypeError\u001b[0m: unsupported operand type(s) for &: 'float' and 'int'"
          ]
        }
      ]
    }
  ]
}
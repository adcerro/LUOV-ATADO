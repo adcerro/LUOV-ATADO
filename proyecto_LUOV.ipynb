{
  "nbformat": 4,
  "nbformat_minor": 0,
  "metadata": {
    "colab": {
      "provenance": []
    },
    "kernelspec": {
      "name": "python3",
      "display_name": "Python 3"
    },
    "language_info": {
      "name": "python"
    }
  },
  "cells": [
    {
      "cell_type": "code",
      "source": [
        "pip install galois"
      ],
      "metadata": {
        "colab": {
          "base_uri": "https://localhost:8080/"
        },
        "id": "n0O-cNFV9WW2",
        "outputId": "005426b5-96da-4074-ab8e-35d707a56965"
      },
      "execution_count": 88,
      "outputs": [
        {
          "output_type": "stream",
          "name": "stdout",
          "text": [
            "Requirement already satisfied: galois in /usr/local/lib/python3.10/dist-packages (0.4.2)\n",
            "Requirement already satisfied: numpy<2.2,>=1.21.0 in /usr/local/lib/python3.10/dist-packages (from galois) (1.26.4)\n",
            "Requirement already satisfied: numba<0.61,>=0.55 in /usr/local/lib/python3.10/dist-packages (from galois) (0.60.0)\n",
            "Requirement already satisfied: typing-extensions>=4.0.0 in /usr/local/lib/python3.10/dist-packages (from galois) (4.12.2)\n",
            "Requirement already satisfied: llvmlite<0.44,>=0.43.0dev0 in /usr/local/lib/python3.10/dist-packages (from numba<0.61,>=0.55->galois) (0.43.0)\n"
          ]
        }
      ]
    },
    {
      "cell_type": "code",
      "source": [
        "# Needed libraries\n",
        "import secrets\n",
        "import math\n",
        "import numpy as np\n",
        "import hashlib\n",
        "import galois"
      ],
      "metadata": {
        "id": "apHo-xJy5n3t"
      },
      "execution_count": 89,
      "outputs": []
    },
    {
      "cell_type": "markdown",
      "source": [
        "# Generate private seed"
      ],
      "metadata": {
        "id": "qpGjcl89Jdg9"
      }
    },
    {
      "cell_type": "code",
      "execution_count": 90,
      "metadata": {
        "id": "ExqwWkupIftS"
      },
      "outputs": [],
      "source": [
        "#Generate Private Seed\n",
        "def generate_private_seed()->bytes:\n",
        "  return secrets.token_bytes(32)"
      ]
    },
    {
      "cell_type": "markdown",
      "source": [
        "# SHAKE A.K.A function H (Squeeze public_seed and T)"
      ],
      "metadata": {
        "id": "0_2Pc2mqdRVu"
      }
    },
    {
      "cell_type": "markdown",
      "source": [
        "## SHAKE using hashlib"
      ],
      "metadata": {
        "id": "n-W_EB-__Ekh"
      }
    },
    {
      "cell_type": "code",
      "source": [
        "def create_private_sponge(private_seed:bytes,v:int,m:int,lvl)->bytes:\n",
        "  # USE SHAKE\n",
        "  if(lvl==1):\n",
        "    h_shake = hashlib.shake_128(private_seed)\n",
        "  else:\n",
        "    h_shake = hashlib.shake_256(private_seed)\n",
        "  # Private Sponge\n",
        "  return h_shake.digest(32+math.ceil(m/8)*v)"
      ],
      "metadata": {
        "id": "Napettqh_Jen"
      },
      "execution_count": 91,
      "outputs": []
    },
    {
      "cell_type": "markdown",
      "source": [
        "#Extract public seed"
      ],
      "metadata": {
        "id": "hJ0fqOZY7WlD"
      }
    },
    {
      "cell_type": "code",
      "source": [
        "def get_public_seed(private_sponge:bytes)->bytes:\n",
        "  return private_sponge[:32]"
      ],
      "metadata": {
        "id": "ZQ0HJIaHbVqW"
      },
      "execution_count": 92,
      "outputs": []
    },
    {
      "cell_type": "markdown",
      "source": [
        "#Extract T"
      ],
      "metadata": {
        "id": "3bIAq0Cx7f7g"
      }
    },
    {
      "cell_type": "code",
      "source": [
        "def int8_to_binString(intByte:int)->str:\n",
        "  \"\"\"Get the 8 bit representation of an integer as a binary string\n",
        "     without the '0b' indicator.\n",
        "\n",
        "  The function takes one integer byte, turns it to binary\n",
        "  and returns an string containing the 8 bit representation of it.\n",
        "\n",
        "  Parameters\n",
        "  ----------\n",
        "  intByte : int\n",
        "    The byte, labeled as an int by python.\n",
        "\n",
        "  Returns\n",
        "  -------\n",
        "  str\n",
        "      A string with 8 bits to represent the integer.\n",
        "  \"\"\"\n",
        "  binary = bin(intByte)[2:]\n",
        "  return binary.zfill(8)"
      ],
      "metadata": {
        "id": "PMZ5gXFyw63C"
      },
      "execution_count": 93,
      "outputs": []
    },
    {
      "cell_type": "code",
      "source": [
        "def int8_to_bits(intByte:int)->list:\n",
        "  \"\"\"Get the first 8 bits of an integer as an array.\n",
        "\n",
        "  The function takes one integer byte, extracts it's bits\n",
        "  and returns an array containing the bits starting from\n",
        "  the most significant bit.\n",
        "\n",
        "  Parameters\n",
        "  ----------\n",
        "  intByte : int\n",
        "    The byte, labeled as an int by python.\n",
        "\n",
        "  Returns\n",
        "  -------\n",
        "  list\n",
        "      An array with the first 8 bits of the integer\n",
        "      starting from the most significant one.\n",
        "  \"\"\"\n",
        "  bits_data = bin(intByte)[2:]\n",
        "  return [int(i) for i in bits_data.zfill(8 * ((len(bits_data) + 7) // 8))]"
      ],
      "metadata": {
        "id": "KQVLtrcxxkUP"
      },
      "execution_count": 94,
      "outputs": []
    },
    {
      "cell_type": "code",
      "source": [
        "def tMatrixRowGen(byteString:bytes,neededBits:int)->list:\n",
        "  \"\"\"Generate one row of the T matrix.\n",
        "\n",
        "  The function takes one byte-string and extracts the specified\n",
        "  ammount of bits (neededBits) to fill one row. When the ammount\n",
        "  of bits doesn't fit completely in a byte, the most significant\n",
        "  bits of the last byte are ignored.\n",
        "\n",
        "  Parameters\n",
        "  ----------\n",
        "  byteString : bytes\n",
        "    A byte-string containing the bits used to fill the row.\n",
        "  neededBits : int\n",
        "    The ammount of bits a row needs to have.\n",
        "\n",
        "  Returns\n",
        "  -------\n",
        "  list\n",
        "      An array representing one row of the T matrix\n",
        "  \"\"\"\n",
        "  row = []\n",
        "  while(neededBits>8):\n",
        "    row+=int8_to_bits(byteString[0])\n",
        "    byteString = byteString[1:]\n",
        "    neededBits = neededBits-8\n",
        "  if(neededBits>0):\n",
        "    row+=int8_to_bits(byteString[0])[-neededBits:]\n",
        "  return row\n",
        "\n",
        "def tMatrixGenerator(byteString:bytes,v:int,m:int)->np.ndarray:\n",
        "  \"\"\"Generate the T matrix.\n",
        "\n",
        "  The function takes one byte-string and generates v rows\n",
        "  each one with m bits extracted sequentially from a byteString\n",
        "  using the tMatrixRowGen() function.\n",
        "\n",
        "  Parameters\n",
        "  ----------\n",
        "  byteString : bytes\n",
        "    A byte-string containing the bits used to fill the matrix.\n",
        "  v : int\n",
        "    The ammount rows of the matrix.\n",
        "  m : int\n",
        "    The ammount columns of the matrix.\n",
        "\n",
        "  Returns\n",
        "  -------\n",
        "  list\n",
        "      An array representing the T matrix\n",
        "  \"\"\"\n",
        "  mdivided8 =math.ceil(m/8)\n",
        "  matrix = []\n",
        "  for i in range(v):\n",
        "    matrix.append(tMatrixRowGen(byteString,m))\n",
        "    byteString = byteString[mdivided8:]\n",
        "  return np.array(matrix)"
      ],
      "metadata": {
        "id": "oSe2MqZusb55"
      },
      "execution_count": 95,
      "outputs": []
    },
    {
      "cell_type": "markdown",
      "source": [
        "# SHAKE (squeeze public map)"
      ],
      "metadata": {
        "id": "Dt0Qr2nPJoR0"
      }
    },
    {
      "cell_type": "code",
      "source": [
        "def subMatrixGenerator(byteString:bytes)->np.ndarray:\n",
        "  \"\"\"Generate a part of the L or Q1 matrix.\n",
        "\n",
        "  The function takes one byte-string and returns one 16 row part\n",
        "  of the L or Q1 matrix. It must be noted that the rows are generated as columns\n",
        "  at first and then are transposed.\n",
        "\n",
        "  Parameters\n",
        "  ----------\n",
        "  byteString : bytes\n",
        "    A byte-string containing the bits used to fill the matrix.\n",
        "\n",
        "  Returns\n",
        "  -------\n",
        "  np.ndarray\n",
        "      A matrix\n",
        "  \"\"\"\n",
        "\n",
        "  matrix = [int8_to_bits(byteString[i*2])+int8_to_bits(byteString[i*2+1]) for i in range(len(byteString)//2)]\n",
        "\n",
        "  return np.array(matrix).T"
      ],
      "metadata": {
        "id": "xnISGIu4FL8D"
      },
      "execution_count": 96,
      "outputs": []
    },
    {
      "cell_type": "markdown",
      "source": [
        "## Obtain C, L, and $$Q_1$$"
      ],
      "metadata": {
        "id": "yvGATeTum1hy"
      }
    },
    {
      "cell_type": "code",
      "source": [
        "def G(v:int,m:int,lvl:int,public_seed:bytes)->tuple[np.ndarray,np.ndarray,np.ndarray]:\n",
        "  n = m+v\n",
        "  g_equation = 2+2*n+v*(v+1)+2*v*m\n",
        "  mdivided16 = math.ceil(m/16)\n",
        "  #first g function iteration\n",
        "  if(lvl==1):\n",
        "    g_shake = hashlib.shake_128(public_seed+bytes.fromhex('00'))\n",
        "  else:\n",
        "    g_shake = hashlib.shake_256(public_seed+bytes.fromhex('00'))\n",
        "  public_sponge = g_shake.digest(g_equation)\n",
        "  C_base=int8_to_bits(public_sponge[0])+int8_to_bits(public_sponge[1])\n",
        "  public_sponge = public_sponge[2:]\n",
        "  # L and Q1 have more than one dimension, so they are initilized differently\n",
        "  L_base = subMatrixGenerator(public_sponge[:2*n])\n",
        "  public_sponge = public_sponge[2*n:]\n",
        "  Q1_base = subMatrixGenerator(public_sponge)\n",
        "\n",
        "  #following g function iterations\n",
        "  if(lvl==1):\n",
        "    for i in range(1,mdivided16):\n",
        "      g_shake = hashlib.shake_128(public_seed+bytes.fromhex(f'0{i}'))\n",
        "      public_sponge = g_shake.digest(g_equation)\n",
        "      C_base+=int8_to_bits(public_sponge[0])+int8_to_bits(public_sponge[1])\n",
        "      public_sponge = public_sponge[2:]\n",
        "      L_base = np.concatenate((L_base,subMatrixGenerator(public_sponge[:2*n])))\n",
        "      public_sponge = public_sponge[2*n:]\n",
        "      Q1_base = np.concatenate((Q1_base,subMatrixGenerator(public_sponge)))\n",
        "  else:\n",
        "    for i in range(1,mdivided16):\n",
        "      g_shake = hashlib.shake_256(public_seed+bytes.fromhex(f'0{i}'))\n",
        "      public_sponge = g_shake.digest(g_equation)\n",
        "      C_base+=int8_to_bits(public_sponge[0])+int8_to_bits(public_sponge[1])\n",
        "      public_sponge = public_sponge[2:]\n",
        "      L_base = np.concatenate((L_base,subMatrixGenerator(public_sponge[:2*n])))\n",
        "      public_sponge = public_sponge[2*n:]\n",
        "      Q1_base = np.concatenate((Q1_base,subMatrixGenerator(public_sponge)))\n",
        "\n",
        "  # obtaining C: we take the m bits (starting from the last generated bit) we\n",
        "  # need fromthe total of bits generated\n",
        "  C = C_base[-m:]\n",
        "  C = np.array(C)\n",
        "  # obtaining L: We discard the upper rows to get the specified dimensions\n",
        "  L = L_base[-m:]\n",
        "  # obtaining Q_1: We discard the upper row to get the specified dimensions\n",
        "  Q1=Q1_base[-m:]\n",
        "  return C,L,Q1\n"
      ],
      "metadata": {
        "id": "m__RjLhdJztu"
      },
      "execution_count": 97,
      "outputs": []
    },
    {
      "cell_type": "markdown",
      "source": [
        "## Obtaining $$Q_2$$"
      ],
      "metadata": {
        "id": "skVOldbqnIhB"
      }
    },
    {
      "cell_type": "code",
      "source": [
        "def findPk1(v:int,m:int,k:int,q1:np.ndarray)->np.ndarray:\n",
        "  \"\"\"An implementation of the findPk1 algorithm of the LUOV specification.\n",
        "\n",
        "  Parameters\n",
        "  ----------\n",
        "  v : int\n",
        "    The v parameter of the LUOV specification.\n",
        "  m : int\n",
        "    The m parameter of the LUOV specification.\n",
        "  k : int\n",
        "    An integer between 1 and m.\n",
        "  q1 : np.ndarray\n",
        "    First part of Macaulay matrix of the quadratic part of P.\n",
        "\n",
        "  Returns\n",
        "  -------\n",
        "  np.ndarray\n",
        "      The v-by-v matrix representing the part of pk that is\n",
        "      quadratic in the vinegar variables.\n",
        "  \"\"\"\n",
        "  Pk1 = np.zeros([v,v],dtype=np.int8)\n",
        "  column = 0\n",
        "  for i in range(v):\n",
        "    for j in range(i,v):\n",
        "      Pk1[i,j]= q1[k,column]\n",
        "      column+=1\n",
        "    column+=m\n",
        "  return Pk1"
      ],
      "metadata": {
        "id": "mf4FpkwHzBoy"
      },
      "execution_count": 98,
      "outputs": []
    },
    {
      "cell_type": "code",
      "source": [
        "def findPk2(v:int,m:int,k:int,q1:np.ndarray)->np.ndarray:\n",
        "  \"\"\"An implementation of the findPk2 algorithm of the LUOV specification.\n",
        "\n",
        "  Parameters\n",
        "  ----------\n",
        "  v : int\n",
        "    The v parameter of the LUOV specification.\n",
        "  m : int\n",
        "    The m parameter of the LUOV specification.\n",
        "  k : int\n",
        "    An integer between 1 and m.\n",
        "  q1 : np.ndarray\n",
        "    First part of Macaulay matrix of the quadratic part of P.\n",
        "\n",
        "  Returns\n",
        "  -------\n",
        "  np.ndarray\n",
        "      The v-by-m matrix representing the part of pk that is bilinear in the\n",
        "      vinegar variables and the oil variables.\n",
        "  \"\"\"\n",
        "  Pk2 = np.zeros([v,m],dtype=np.int8)\n",
        "  column = 0\n",
        "  for i in range(v):\n",
        "    column += v-i\n",
        "    for j in range(m):\n",
        "      Pk2[i,j]= q1[k,column]\n",
        "      column+=1\n",
        "  return Pk2"
      ],
      "metadata": {
        "id": "to23ZqMWEToa"
      },
      "execution_count": 99,
      "outputs": []
    },
    {
      "cell_type": "code",
      "source": [
        "def findQ2(v:int,m:int,Q1:np.ndarray,T:np.ndarray)->galois.GF2:\n",
        "  \"\"\"An implementation of the findQ2 algorithm of the LUOV specification.\n",
        "\n",
        "  Parameters\n",
        "  ----------\n",
        "  v : int\n",
        "    The v parameter of the LUOV specification.\n",
        "  m : int\n",
        "    The m parameter of the LUOV specification.\n",
        "  q1 : np.ndarray\n",
        "    First part of Macaulay matrix of the quadratic part of P.\n",
        "  t : np.ndarray\n",
        "    A v-by-m matrix.\n",
        "\n",
        "  Returns\n",
        "  -------\n",
        "  np.ndarray\n",
        "      The second part of Macaulay matrix for quadratic part of P.\n",
        "  \"\"\"\n",
        "  # we use galois to prevent the results of the operations from\n",
        "  # being out of the finite field\n",
        "  GF = galois.GF(2)\n",
        "  T = GF(T)\n",
        "\n",
        "  Q2 = GF(np.zeros([m,int(m*(m+1)/2)],dtype=np.int8))\n",
        "  for k in range(m):\n",
        "    Pk1 = GF(findPk1(v,m,k,Q1))\n",
        "    Pk2 = GF(findPk2(v,m,k,Q1))\n",
        "    Pk3 = -np.transpose(T)@Pk1@T+np.transpose(T)@Pk2\n",
        "    column = 0\n",
        "    for i in range(m):\n",
        "      Q2[k,column]= Pk3[i,i]\n",
        "      column += 1\n",
        "      for j in range(i+1,m):\n",
        "        Q2[k,column] = Pk3[i,j] + Pk3[j,i]\n",
        "        column+=1\n",
        "  return Q2"
      ],
      "metadata": {
        "id": "d-i4SgxzGrfA"
      },
      "execution_count": 100,
      "outputs": []
    },
    {
      "cell_type": "markdown",
      "source": [
        "# Generate the public key"
      ],
      "metadata": {
        "id": "0vm6l3EMwD1n"
      }
    },
    {
      "cell_type": "code",
      "source": [
        "def keyGen(v:int,m:int,lvl:int,private_seed:bytes)->bytes:\n",
        "  private_sponge = create_private_sponge(private_seed,v,m,lvl)\n",
        "  public_seed = get_public_seed(private_sponge)\n",
        "\n",
        "  T_base = private_sponge[32:]\n",
        "  T = tMatrixGenerator(T_base,v,m)\n",
        "\n",
        "  C,L,Q1 = G(v,m,lvl,public_seed)\n",
        "  Q2 = findQ2(v,m,Q1,T)\n",
        "  Q2_copy = Q2.copy()\n",
        "  # The first 32 bytes of the public key come from the public seed.\n",
        "  public_key = public_seed\n",
        "\n",
        "  # Enconding of Q2\n",
        "  Q2_bytes = b\"\"\n",
        "  # Get an array that contains all the elements of Q2 iterating column-wise.\n",
        "  Q2 = Q2.flatten(order=\"F\")\n",
        "  while len(Q2)>8:\n",
        "    # Take 8 elements of the Q2 flattened array, reverse their order, turn them\n",
        "    # into a byte and add them to the bytes representing Q2.\n",
        "    byte = str(Q2[7])+str(Q2[6])+str(Q2[5])+str(Q2[4])+str(Q2[3])+str(Q2[2])+str(Q2[1])+str(Q2[0])\n",
        "    Q2_bytes += int(byte,2).to_bytes(1,byteorder=\"big\")\n",
        "    Q2 = Q2[8:]\n",
        "  if len(Q2)>0:\n",
        "    byte = \"\"\n",
        "    while len(Q2)>0:\n",
        "      byte += str(Q2[0])\n",
        "      Q2 = Q2[1:]\n",
        "    # Pad with zeros the remaining elements to encode, reverse their order, turn\n",
        "    # them into a byte and add them to the bytes representing Q2.\n",
        "    byte = byte.ljust(8,'0')[::-1]\n",
        "    Q2_bytes += int(byte,2).to_bytes(1,byteorder=\"big\")\n",
        "  # Add the byte encoding of Q2 to the public key.\n",
        "  public_key += Q2_bytes\n",
        "\n",
        "  return public_key"
      ],
      "metadata": {
        "id": "LWIGsyYLX9Be"
      },
      "execution_count": 101,
      "outputs": []
    },
    {
      "cell_type": "code",
      "source": [
        "private_seed_test = generate_private_seed()\n",
        "public_key_test = keyGen(197,57,1,private_seed_test)\n",
        "print(public_key_test)\n",
        "print(len(public_key_test))"
      ],
      "metadata": {
        "id": "T-hi9LrQLPM9",
        "colab": {
          "base_uri": "https://localhost:8080/"
        },
        "outputId": "35a673ea-6f63-4a6b-cfed-c5687f23eed1"
      },
      "execution_count": 102,
      "outputs": [
        {
          "output_type": "stream",
          "name": "stdout",
          "text": [
            "b'h&\\xec\\r~ uH\\xee?\\xed\\x07P+\\x94\\xa5P\\xb5;B\\xbb\\x15\\xba\\xe6\\xc9\\x14\\xfa\\x14\\x11\\x18x\\xbexc\\x03\\xea8\\x0e\\x1b\\x88OU\\x90\\xf0W{\\xcf\\xb5\\xea~V\\xca\\xd7,S\\x1c}\\x96T6\\xbc\\x04DJ\\xf0\\xb5q}\\xbd\\x1e\\xdaq\\x94\\xdc|\\xad\\n\\xa7\\xbe\\xeaAF\\x15Q_\\xf3\\xf7\\x0b\\x08\\x01O\\x86\\x86kW\\xe4\\xe2\\x98v\\xe7^J\\xf1\\x14\\ra\\xe7\\xc2\\x11\\xb3\\xa8\\xf80\\xec\\xef>lx\\xa7z\\xc3K\\x99\\x85\\xb5\\x9f\";\\xd6\\x02V\\xae\\x82\\xd1$\\xe9\\x80oF\\xc9\\xf3\\xc4\\xe0UN\\xb6;\\x9e\\x9a0I\\xb9qA\\xc0-\\x1e\\xdb\\x00N\\xe4yR\\xcf\\x07\\x17\\xbff r\\xe4rW\\x08s^m\\xf2\\n\\x12\\x1b\\x1fX\\xe7\\xb4\\x8f\\xeb\\xden\\xe6\\x8e\\x96D%\\x8ew\\xaa}\\xc0n\\x9b\\xbfP\\xef\\x02\\x8f\\xd0\\x94*\\xadS\\xdb~\\x01A\\xf06fR~N\\xb8\\xb6\\xdfF\\xd9.3c\\x1d&\\x7f\\xd5\\x0f:\\xcf\\x01{\\x02\\x08\\x82\\xc4$\\xf7\\xa0|e\\xa7\\xdb\\xf8\\xae\\xfa(\\x06~\\xb3M\\xf3\\x8c\\xb8N\\x08Qi\\x98_\\x179\\x9e\\x8c+\\xaa$bCLn;\\xd84\\x83\\x0c9?\\x8c\\x8b\\x01\\xa8W\\x06\\x98~8\\n\\xc7m\\xef\\xb1Z\\rT\\xb5\\xd2\\xb7\\xbe\\x14\\xb5\\x88\\x14U\\xf7|\\x0c\\xf2\\xeam\\x1e\\n\\xd3\\xdc]D\\xd1E\\xafGy-\\xb7\\xc4?\\xe4RR\\xd4;u\\xc4\\xd0/\\xe0\\xc5\\xae\\x02\\x8a\\x91\\xbf\\xd8!R\\x1fR\\x12\\x8e\\x98\\xc9n\\x1d\\xa5\\xa8\\xf4\\xe0A\\xc3\\x19\\xc39\\xc6\\xbd\\x8a\\xa0\\x17\\x15I[\\xc6\\x9e\\xdfo\\nx\\x15\\xdfLx\\t\\x06\\xbf\\x0c\\x1d\\xc3\\x026f\\x03\\x9dF\\x83\\x92RA\\xbb\\x9f9\\r\\x18\\xb9\\xb4\\xabnp{e\\x818\\x1d\\xdf4\\xa68U\\xbf%\\xd1\\xac\\xe8\\x83\\x00/\\x94\\xbc|\\x11\\xbd\\xf4]a\\xb2\\x1e\\xfe1\\x12]\\xac\\x07\\x89\\xcf\\xf4\\xf3\\xbda\\x08_\\xf4\\xea\\x9f\\xb0\\x99\\xea\\x15\\x1a\\x15\\xc7:\\xe4?\\xdb/\\x0f\\xce\\n}\\xbcw\\x96NP6A8\\xd1\\xa4D\\xdc4/\\x99\\x89\\x9a\\xc3\\xb9\\x806\\xfbYZ\\xa8\\x96\\x1a\\xab_q\\xfe\\x8f\\x1a\\x054\\xc6\\xe5A2\\xc0\\xbc\\xf5e \\t\\xff|\\x99\\xd0Jn\\xa2)\\xa5.K\\x13\\x0b\\xeao\\n\\xb9\\xa4\\x99\\xb5>2\\xdf\\x8e$J:\\x98\\xb3z\\xc5y\\x89\\x93\\x8a\\xc2\\x03I\\x02\\xbe\\xca\\xe1\\xddx&\\xf3\\x18\\xe58\\xbbDT\\xc7^\\xcd\\xb1\\x94\\xa34\\xf4\\xa8\\x02\\xa4O\\xf6^\\xb7\\xcc\\xe1\\x15\\xc2\\xcc\\xa4\\x19UL1 \\x86\\xf25\\xfb_\\x8a\\xda\\x1d\\x86xR\\xd8\\x086\\xb9s\\x8c\\xf8\\xffY\\xfb\\x1a\\x83\\xe8I\\x12\\xcf\\x80\\xe0=1\\xd3\\x8e\\xff\\x8f\\xd4\\xe5\\x9b\\xca\\xfe\\xbd4\\xf8\\x87\\xc2M\\xeb\\x82\\x83\\xe0h\\xf5\\xabI\\x9a$\\x95_f\\xda\\xa6t\\xf1[o0\\xba\\x8f.\\xb0\\x1c.[\\xb3\"]Y\\x83\\xe0d~X\\xb1\\xe8\\xe9\\x0c\\xb1iu\\x9a\\x1b\\x84~\\xaan\\x95_\\x1e\\xeb\\xb9T\\x81/\\xfbF\\xc8\\xa9\\xe8dRc>-\\xeb]C\\x80\\x10\\xf9o\\xb2\\x8e\\xcb\\xafu\\x87\\xfe\\x9ea}\\xd1\\x82\\xdc^r\\x07\\x86\\xd0\\xf4\\xea\\xf0\\x84\\x9e\\x9c\\xf3\\xab\\xdf(\\xc3n\\xf4TT\\xdb\\xa34\\xdd\\x9d\\xf5u\\x15\\xab\\xa3<\\xf6w<\\xa73\\xb6\\x17\\xa5\\xd7\"\\xa4&\\x98\\xc5\\x12j\\x866\\xe5R\\x889D\\xbeE\\xd7\\xf0\\xca\\xb8]^\\x16K\\xc1\\x81\\xe1\\xdc\\xa1\\x86\\x99\\x81\\xea\\xea\\xa3\\t\\xc2\\x04\\xeaoJ\\xad\\xbc\\xa9]`3\\x0b\\x9e5\\xaa\\xb9\\xe8\\xe4s\\x1d\\x94\\x9dQn\\xf4\\x80\\xbcu3&\\x1fi\\xb6\\xc3V\\xb8\\x06E\\x8b;f5\\xf9\\xba%\\xaf<*D\\x84NT\\x18\\xea\\xca\\xcd\\xed\\x06T\\xc6\\xa2O\\xf8x0A\\x8c*\\xc5\\xcb\\xe2\\x0f\\x99\\xe0Q(\\xc9*A\\x8d\\xbb\\xa2\\x1a\\x16\\xe7\\xf0G\\xbbH\\xaaD\\xc9\\xb8\\xfb\\xe9\\xe3\\xe7\\x12\\x0fq\\xa4\\x90X\\xf8\\xaduQ\\x19\\xd1:\\xc2\\x9fb%!H\\xc7\\xb0GO\\xa5\\xad\\xce\\x9e?\\xe5\\x0b\\x8e\\x94-\\xeaU\\xf7\\xb5\\xef\\x84\\x19\\xc2M\\xbe<\\xa2\\x9fc\\xcc\\x8fO(.7-o2Ue\\x9a:\\x10\\xa1\\x14\\xc6Z\\x94\\xcch_\\x04\\xc4\\x11\\x96p\\x8c\\xe4v\\xea\\xb5L\\xc2\\x93\\xfag\\x16\\x1c\\x96\\xe1\\xe8\\xb1\\xb4\\x81\\xc5\\xf0g\\x8c7s\\x10\\xa8\\x8cQ\\xdb~p\\r\\x91^\\xb5\\x1dC?\\x13\\xd1F\\x91\\xdf\\xbe\\xaf\\'2\\x16\\xf5\\x84\\xfd\\xfaV\\xe0\\xeb\\xc9\\x06<,\\xb9\\x1f\\xa1\\xdc\\xd9\"\\xf5\\x1b\\xe6\\x90PA\\xb1$\\x95K1\\xf7 N\\x8a;q\\x04\\x1e\\xb0#{!)\\xcf\\x801m\\xfexi\\x8f4\\xa0\\x9aFl\\xb2~\\x08D4\\xc9-\\xc0\\xaeU\\xb5\\x918\\xe8\\xe44)\\x14\\x96f\\xa8\\xf8\\xd1\\x12\\xf0\\xc5\\xd4\\xf3\\xa0\\x10\\x867\\xae\\xaa\\x8b\\x0cT&\\xc3\\xa2b\\xa4\\xbc^\\xfb\\x88\\xb7\\x91}VZA\\xe0\\x9c\\xe2\\x87\\xde\\x8a\\xa4bl[]\\x08\\xda;7\\xc4\\xb5\\x96\\xf7\\x9c(\\x8d\\xcb\\x82\\xe6\\xfb:\\xbc\\xbbj\\xa1\\xe5\\x9a\\x1b\\xfaS\\xcf\\xf2\\x15\\x0f\\xa7\\xbb\\xcf\\x9e|E\\xfe\\xd1\\xd0\\xa2N\\xe0\\x9eh\\xd2\\xbd0\\xeb\\xe4\\xca\\xced\\x1c\\xcdL\\x96U\\xf7\\x18\\xd4\\xeb\\xaa\\x96)@`\\xcaN(0V\\xd3\\x99\\x86\\xec\\xc4y\\x8f:\\x99\"a\\xecR\\xf6\\xe0\\xcd%\\xda\\x1dx\\x9d\\x85\\xad\\xb3\\xf3\\xab\\xe8D\\x82(DE\\x7f\\xa3>\\xd7\\xcf\\x86\\xde\\xca\\xf2\\x83\\xf9!\\xf3\\xf4\\xc4\\xcc\\x94\\xdf\\xc1\\xd0C\\xd1\\xfe\\x8c\\xa6IuuJ\\x02\\xe4\\x8d\\xef\\xca\\xc5Eh\\xe1\\x16yy\\xdbf\\x05\\x13\\xc1F\\xaa\\xd7oSB\\x1f\\xe7\\xb2\\xfcD\\xb2\\xac\\x10m\\x08\\xa6q\\xb8\\xf8\\xcb)\\xe2\\x137\\x92\\x1d\\xf9\\xe0c\\x9bX\\xa5{]\\x07\\x0c\\x87F\\xce\\xc70\\x88\\x1d\\x00\\xeb\\xe4\\x1dNy\\xb6C\\xeaSE\\x16\\x9e\\xa0\\xf1\\xc3\\xda\\xac\\xddpwG2\\x08\\xb4\\xd3\\x1b\\'\\x83\\x18\\xec\\xb4\\xbdI\\x98,EU0\\x7fI\\x1bb\\x1a\\xa6\\xcb\\x0e\\x97\\xe4\\xc2n\\xfb\\x94\\x07g\\x15v\\xb0\\x05,\\xd4F\\x16.3C\\xa9\\n\\x94\\xe4\\x81\\xf5\\xe4-\\x19\\xdff3\\xaf\\x8f;\\x03\\xb2\\xa7\\x13\\xbd\\x1e\\xc0\\x1c\\xbd\\xf3U8:\\x8d\\xcb~\\x97\\xe2\\x81j\\xd2\\x12\\x8d\\x8d\\xa8\\xfe=n\\xd6[\\xb5\\xa3]\\xdew\\x96\\xea\\xac&-\\x14\\x1f>U\\xe2[ot]\\x81\\xdb\\xd0^w}&!\\xdc\\xf9Uk\\x8ay\\xb1\\xd4\\xf7)\\x8b1Cs\\xc9\\xd1;\\xfa\\xcb\\x1e\\x0f/p\\x81o\\xeb\\xc7-\\xa8\\xa7,\\nO<\\x8a\\xdd\\xf7}O\\xea\\xce;\\x87\\x1e\\x08\\xe0\\xe7\\xfc\\x9c\\x9a\\xda\\x000<\\r\\x1d\\xebu\\x02zVs\"NM\\x7f$H\\'\\x0f\\x90\\xbcY\\xc08\\xec\\xf9\\x99\\xc3_\\xbd\\x1e\\x98%+\\x9d\\xe7\\x9b\\xd3\\xfd\\x01\\x13\\xc3\\xa72\\x83t\\xa9\\xa1\\xa9\\xb4sw\\x8d\\x17#\\xf23\"\\xcf\\xe8yOH\\x8b\\xfa\\x027\\xc5#\\xc7n\\xf7\\xdb8\\x18\\xb9/\\xfc\\x07\\'2$q\\x91\\xd5\\x1b\\x7f\\x11\\xea\\x1d\\xe7~\\\\\\xf4`\\xc4dz\\x02\\xce\\r\\\\\\xda\\x18E\\x18\\xea\\xc2\\x97\\x8e\\x99m\\x06\\x17\\x01\\xa0\\x86\\xa0K\\x198d\\xdf%\\xfe\\xf9\\\\B\\xf3\\x08\\x94\\xab\\xe7fp\\x96\\xc8[\\xf0\\xcf\\xcb\\xd3\\xe5\\xa5%\\xb7\\x88\\x9f/\\xe2L\\xae\\xfc\\x8f\\xc7\\x90\\xceI\\x1fs\\x90\\xc97t\\xd6Y\\xdbG bP\\xa5]\\xd9\\x91\\xabv\\xa1\\x93\\x86\\xc1\\xb9\\xd6\\xb6\\xa2\\xbe\\xedIy\\xf2\\xfc\\xf2\\xecg5\\xe9\\'\\x0f\\xa2P\\xc5+`E\\x99%\\x0e\\x96\\x82W.X\\xadA\\xa7\\x995\\x82#U\\r\\xbb\\xd8\\xcd\\x1e\\x08\\xc0c\\xbe\\xd3\\xc05\\x9e\\xef\\xed\\x1c\\xa2\\xe9\\xf2\\x05\\x06\\xe8\\xcc\\xde\\x05\\x1d2`\\xf3\\xe2\\xfc\\xd8>0\\x9dS\\xd5\\xff\\xe4\\xbe\\x1c\\x12\\x1bu\\x071\\x83\\xadr|\\x15T\\xef9\\x10=E\\xcf\\x0c\\xc3\\xdb\\'r;z\"n;\\x17h\\xf2\\xd0\\x81\\xcc\\x91A\\xd9S:\\x8b\\xbdV3v\\xcf\\x911\\xc5j>\\x12\\xb6\\x8a\\xbb\\x8fUw\\xf5\\xe1\\xfe\\xe4u\\xe6F\\xabz\\xe56\\x9a\\xd7\\xb1\\xf1\\xc1\\t\\xd0\\xc1\\xfc\\xb3\\x99\\x01\\xaaH\\x98\\xc9S\\x0cak\\xabsB\\xb1\\xa7n9\\xe9\\xa8\\x89\\x81\\xcf\\nf\\xa6!I\\xa5\\xe5\\xdfo\\x89\\x9d\\xf3\\x80=m\\xdbA3\\xcd\\xe7\\x911\\x13\\xe7\\x1a\\x97\\x04\\x84\\x94\\x8cN\\xb8=2U|\\xdd\\xf5\\xf9h\\xb3\\x07\\x0c\\xb1\\xb4\\xe3\\xca\\xd5G\\xf4\\xe4\\rS\\t\\x81\\xe4B\\xe1\\x8e\\xaf\\xdf#s\\xfd\\xfaRc\\xb0\\x1c4\\x01\\xae\\xdc\\xdd\\xb5<\\\\\\xb5\\xe8\\xa3\\xc1c\"\\xf4\"i\\x86\\xf4\\x1e\\xe8\\x9a\\xdd\\xadp\\x13%\\xa7\\x90!\\xb9\\xb0\\xfb\\xe6/\\x94\\x88\\xd80\\xb4>7\\x18\\xef\\x89\\x1c\\xed\\xe2\\\\(6\\xf0\\xc3cz^\\x7f\\x9bE\\xe0\\xdb\\x8c\\xbf\\xadk\\x1a6\\xea\\x1c\\xad}E\\xd9\"K\\x9aCRq\\x03L\\xe7\\xd8\\x98Fw+;f\\x168~\\x11\\x972\\xddLpL\\x078\\x18\\xa4U\\xf7i\\xd92\\x19\\x82\\x87\\xc2{=0\\xa5B\\x86\\xf7\\xe5\\xa0w\\xbdx\\x05\\xf3Y\\x1c\\x1f\\xdaa\\x15\\x88lO@Q\\xe7\\xf9\\xb3\\xba\\x94\\xf7\\x10\\x93P\\x10\\x11\\x91Z\\x00Z24\\xa0K<=7=m\\xac\\xd5H\\xc5\\x8eBS\\xf6\\xb1w0q\\x9c\\x8d\\xc4\\nyH\\xd1\\xf1aD\\xd2\\x1c)\\xdf\\xb0p\\x11tO\\xb7\\x9dP\\x03\\xc5\\xf2\\x01\\x05@\\xb8;\\r\\xbe\\xc0\\x87\\xean\\xbf#\\xa7\\x07\\xa1\\xda\\xc7\\x08n\\x99(\\'\\xc4\\xa8\\xae\\r\\xdc\\xb4\\x01\\xe55\\x1a\\xaep7C\\xfa\\xfd,B$54H4\\t\\xc8\\x08\\x1f|%\\xf0\\xe4\\x1d[\\xc3\\xa7\\xae\\xdb\\xd2\\x7f@\\xbft\\x89\\xf4\\xfc\\xe9\\xc4s\\xee%tj\\xbey\\xdd\\xe9\\xa5\\xe6\\xf6\\xffx2\\xab\\x8c`\\xd5\\t\\xdb\\xc5\\xec\\xe1H\\xf3\"\\xd6B\\x95d\\\\\\xed\\x8ee\\xf1D7\\xa7\\xc2\\xb3F\\xf6\\x04Ze\\xc61i=\\xddGX\\xffz\\xfd\\xcaM\\x98Oh^\\xf9p\\xe4\\xcd\\x04\\xe5\\x07\\xe5\\xdb\\xf2\\x7fU\\x83\\x82E\\t\\x917W\\x91\\xe0\\xb5[8\\x18\\x88<4Q\\xf8C\\xfb\\x9fo\\xf4]0\\x04)s7=,\\xd9\\x99\\xa9`\\xf0U\\xe7\\x94\\x8e\\xfc$\\xf4\\x96~n\\xfbG\\x87\\xbb\\xa5\\xee\\xc7}\\x85N\\x8ctJ\\xdd\\xfa\\x82n\\x8bo\\xe6\\xb0\\xbf+c\\xe3.d\\xee4\\xda\\xde\\x82_u\\xf1\\x0c\\x07#\\xd0\\xf2a\\x8a@\\xe1k\\xd7\\xfc\\xc7\\xb9G\\xa9\\xa12\\x90\\x1d\\x83Mz\\xe0\\xee\\x9b2\\xe2u\\x176\\'\\xd4\\x9b\\x99\\xd8\\xe7\\xd1/oPW8\\xd4u1\\x12\\xd4J\\xc9\\xb0\\x16\\xde\\xf3\\xb6c\\xef^\\xb1\\xf1\\x87\\xfd\\xc1\\xef\\x8e!\\xdeS\\xd2o\\x0c\\xb5\\x0eJ-\\x8a\\xa5\\x16\\xb4 J\\x90\\xe1\\x073\\xf7O\\x8f4\\xc2\\xfd\\x9c\\x05\\xdb\\x80\\x00\\xac\\xeb\\xb0OjT\\xf7\\x97\\x8a}\\xd8\\xc2\\xb4MV \\xd4W\\x8c][\\xac#\\\\\\xca\\x00\\x1d6]\\xb3Hx\\xef\\xe6(N\\x1bX,\\x9aI\\x87\"\\xee\\xfb\\x10 \\xd8bsgU\\x82\\xc0\\xe0\\xb4:\\xc59\\x98\\x11_W\\x80y\\xf9\\xb36d\\xc5Q\\xcee<\\xc9fAr|\\x883\\x86\\n0\\xf5\\x16\\x85\\xf1\\x87\\x98\\xac\\x97\\x08\\xdd\\x92\\x07\\xc6\\n\\xc5\\xd7\\x91j\\xb8\\xe55p\\x99\\xc1v\"\\xbc\\x0e|2\\xc3U!\\xbf\\xff\\xd9\\xd8\\xf6\\x04C\\x87vqJi[\\xf1\\xfe\\xed\\x1f\\xa8:zgg\\xe3\\x17l\\xd4l\\xc3=\\x80\\x17\\xef\\xdb\\x95\\x8c\\x97t\\xb5\\x8c\\x84]\\x00\\x14\\x88/\\x1c\\x18k\\xa0\\x80b\\x0c>J:-\\xa9\\xdcu\\xdd\\x98\\x8f\\xef\\x18\\xb5\\xd0MG\\xe6\\x1c\\xa5\\xbe\\x1dh\\xc9\\xb1\\x84g\\xfa\\xf3\\x9e\\xb3\\xe9\\xc8p\\x04\\x12\\xe9R\\x11\\xaa\\xf8\\xa1\\x8d\\x8fT\\x85\\xc8.\\xd8\\xe9\\xf2\\xcaCgs\\x84\\xd7\\xff\\xde)\\xb6WMH\\xc6\\x92\\xe3r\\xc2\\x10z\\xf3`S{U+[\\xfb~\\x82[Mh\\xa7:\\x01\\xab\\xe0\\x85\\x0cV\\xdc\\x1f\\xee(&S\\xd7B4D\\x1f\\x1bLdOK\\xcf\\x98\\xab\\xc97u\\x0b\\xa5j\\xf2\\x01$=\\xacw\\xe7e\\xd3\\xb2N&zQ\\xd0\\xad\\xa6#\\xacD\\xb0\\xf6\\xbf5\\xf6\\x05Pv\\xdf\\x0e+\\x86\\x8bn\\x98\\xe8\\xa0y\\xde\\x05;\\xe6\\xa5\\xc5\\x1b\\x94X\\x1f\\x19\\xa3\\x9e\\xc5\"\\xb7&\\xf3b\\xc1\"\\x8bG\\xf0\\xf9R7\\xfay@\\xfd\\x00*\\xff\\xf3 Tl\\x16\\xf9\\xac\\x01\\x1f\\xbb\\xb6z\\x1aF\\xf5$9B\\xf8\\xe7\\xe4\\xa9z\\x1c\\xf0\\xc3\"\\x8a\\xd2+\\xd0\\x05U\\xd8\\x91\\\\FF\\xfc\\xfa|\\x94\\x84\\ta\\xed-\\xf8IL\\xa4\\xb4\\x11\\x9dj\\x92\\r\\xbe\\xbc\\xbf^t\\xaay\\xc0o_6m\\xa7\\x12\\xa7\\xc0\\xc2e\\x01D\\x07\\xd5\\xc0}\\x9e\\xad\\x93e<\\x8d\\x83i\\x90\\x90\\xf6\"\\xd7\\x1d\\xf4`\\x9f\\x985\\xdb4\\x17oU\\xb7\\xf0\\x85\\xea\\x85\\xae\\x93\\xc2\\x06\\xeb\\x1d\\xab%\\xc9-SB/\\x04.GLK\\x17\\xfb:\\x94\\xbcHM1\\x91g\\xe4?\\xe9|\\x15\\xab)7\\xa7?\\x8b\\x82\\xabH\\n\\x8frf1\\xa4\\xd4\\xdc\\x81\\xb5\\xa5\\xfb\\x9b\\xdc\\xc0\\xb6xS\\xe6\\x83\\x93\\xdb\\xe3d\\t\\xc2\\xcd\\x93\\x1e2i/\\xc2\\xfeP\\xe8\\xa5\\x15\\x08\\x83)\\xc9k,F\\xc0\\xb3\\xea\\xe1\\x9f@\\xff;p\\x01\\x87\\xd1\\xd6\\xa1A\\x00\\x10\\x865\\xb3\\x0e\\xf8\\xaf\\x18b\\xbc\\xc7A&\\x17\\x11e,L7\\x03Zt\\x15\\xf5\\xad/|\\xec\\xa1\\x90\\x15\\xcf\\xff\\x87\\xaemSt}:\\xe1\\xe3\\xb9f@\\xa9\\x1a+\\xa8o%\\xbf\\xc4\\x9bu\\x14\\x19\\xf1\\x8b\\xe8h\\xd4\\xd2\\xbf\\x05\\xbd$\\xc36\\xd8\\xac#\\xee\\x01\\x81\\n\\x91\\x8cW\\xd0\\xc2\\x92\\x99\\x88\\x93\\xaf\\x125\\xabqfA\\xa4|nf\\x07\\xa9\\xec\\xc9u\\xb6pd\\x95\\xe9\\x1d\\x99_uA,s\\xd4\\xa2\\xb5\\xc4\\xaag;h\\x8dp\\xe0\\xc0\\xceg\\xc3\\xec\\x102\\xc7\\x85\\xc9\\xb6@\\'\\x9f\\xca\\xcf\\xa9\\xa6\\xd59\\xe7.c\\xf5\\xa5\\xdcB%\\x19\\x83\\xb2\\x83\\xa8<+\\xf8\\xa8\\xe0\\x03\\xe5\\x04\\xe1\\xa9g\\x81\\x0f\\xce\\x9cgBi\\xbd\\xe2\\xba\\xbep>\\xd0y\\x89\\xdc\\x03K\\x00\\x8e\\xc5cx\\xba\\x82c}l\\xe1p\\xadtSo-sR$\\x05\\xad{|\\xc7\\xd5\\x03A=\\x9e\\xe4\\x87\\\\\\xbb%\\x1dV|\\xba\\xafc\\xa3w`\\x80\\x94g\\x8e\\n\\xdf\\x1fJ\\xd2(\\x80,\\x86\\xb6\\xa0\\xf3\\x00u\\xee\\x9b\\x9e\\x9a8\\x9d\\x88\\xab\\xf0n[\\x9ex\\x99\\x89,\\x8ed\\xbem\\xb1,\\xc5jc\\xe2/\\x9a`L\\x0b\\xa8\\xf9= \\xa7\\xd7^\\xcdC\\xf5\\xba\\xa7H\\xd7\\x88\\xca\\xbf\\x9b\\xebZ\\x86\\xe4\\x89\\x963dS\\x80+\\xfa64gB\\x10\\xba\\x9aa_\\x93w#\\x9cT\\x00\\xff\\xd3\\xd9b\\xac\\xd6D\\x84s\\x0f\\xc7\\x17\\x15\\x88\\xa5i\\xb5\\xf5`\\xaa\\xa9\\x9e:\\xda\\x08\\xa6\\xc6\\xc2\\xa0\\xc2\\xbaz\\xb0r\\x9b#\\x14\\xb57\\x8d[\\xa3g8e\\rO-D\\xc3\\xc1\\r\\xcd9\\xd6\\n\\'\\xf3\\x0e\\xda\\xe4H\\xa1d\\xf4\\xc3\\xf4\\x1d\\x8f7\\x82a&\\xdb\\x10\\xfe\\xa9\\xbcZ\\xb0Ad\\x13\\xe0\\x0cb}\\x1d9@\\xe4\\xdc\\xe9R\\xfb_\\nv\\x8e\\xdd<\\xbc\\xd6\\xfd>\\xddp\\xa5\\x8d9\\xa1\\xe5\\x19\\xf7\\x00\\xc3\\xd5G^\\xe9\"\\xcf\\x9aJ.\\x01\\r\\xc4/`\\x9a\\xaf\\x87w\\xcc-\\xc1\\xf7&\\xce}\\xaeE\\x01\\xd6\\xa8\\x87V\\x1e\\x17\\x9f+\\x0f\\x9e2v\\x83UG,\\x9a?\\xf3G\\xc6`\\x06\\xcb*]r\\xb6\\x8e\\xe4\\xb2\\x88{\\xa5\\xed\\xf1\\xf7\\xd8jn\\x14\\xb4yP\\xd1\\x81\\xb09L;\\xd1\\xc0p\\x9c\\x9bx\\xd5P\\xdc\\n5\\xfd\\xb0\\x13\\x83\"\\x16gI\\x16\\xc1\\xbb\\x9b\\xf6kq#\\xadZq\\xc3P\\xfc\\xf6k\\x97B\\xab{\\xd9\\x98\\xf59\\xbb\\xb6l\\x9b\\xddC5Wg}\\x18\\xb5\\xb0\\x12\\xe2;zu\\xf0\\x01\\xf5ax\\x7fI\\xef\\xe2\\x16f\\xfd\\x1d\\xba\\xa84\\'J\\xc4\\x9cdZ\\x97\\xe7\\xc7\\xc6\"S\\xca\\t\\xf6\\x9e4Ow\\xd0IQ\\x08\\x91\\xdf\\xd3\\xbb\\xdd\\xab\\xce\\xec\\xb9\\x93?5(\\x01)i\\xcd^]\\xd9\\'\\x1ea\\x17\\xa2\\xf0\\xff&\\\\w\\xf5\\x00N\\xe5\\x1cXG*\\xe2\\x12[\\xc0\\xb0\\xf3]~\\x10\\x12\\xee\\xd5\\x14A\\x81\\xd9\\x87\\r\\xae\\x9f\\x19\\xa0\\xe4\\tviusIf\\t;\\x01@\\xf7\\x97\\xabV\\xf3|\\xc6\\x05\\xb6\\x93\\x1a\\x8a\\xba\\xc8\\xd2OtR\\x17\\xaf\\x18\\xdb\\xa3tb\\xa8<\\xed\\xd0\\x0c\\x8f\\xa7\\xc2\\xbf\\x0c\\x8as\\xe2M\\x04\\x83kN\\xd5\\xdb\\xadg\\xe9\\xa1Z\\xc5\\xe7\\xbe\\xb8\\xd9t\\xb3j\\xc5\\x9b\\xe7\\x06\\xc1d\\xa7?\\x95]r\\xd9\\xc0\\xca\\xc9g\\\\\\xfdO\\xbb\\x01_\\xb0Kra\\x10\\xbc\\xf1\\x83\\x16\\x96\\xf7\\xa4\\xcb\\xb7\\x1ez\\xf63\\x95\\x89\\x1e4\\xabEG\\xeb\\x08\\xc1\\x19\\x18W\\xb8\\xf6<$\\x92\\xcd&[\\xd2\\x030\\x7f\\xf07\\xf0\\x94\\xd4\\x7fPv\\x05\\xad^f\\xd1\\xe2Nq\\xc2)\\xb9l\\xc8\\x14\\x93\\xda!m\\xcf\\x06#\\xa01\\xbe\\xd1s\\xfb\\x15\\'\\xd8\\x1a\\xbaBD\\x19\\t\\x15I\\x80\\x86\\x1d\\xfa\\x1d\\x96+\\x1f@\\xa8\\x14n\\xf3(!\\xc0\\x12\\xf6fLPU\\xdf4\\xa8\\xa8\\x9d\\x1aO@-yT\\xec\\x81`\\xa2\\xab\\xaf\\x87\\xab\\x8f\\x9a3}\\x83\\xbb^\\xf4\\xcf\\xeeOg\\xef%\\n\\xa6\\xd0\\xbe\\xd8a\\xb1\\xc6\\x8bJci{\\xd9\\xd6:,\\x9d\\x84\\x9dYU\\xadM\\xe9\\xb8r^P\\xf6\\xfcSH$(\\x8a*\\x88\\xa8\\x07\\xd39\\xe0t\\xf8\\x7f\\xfbi\\xc55\\x19\\x90\\xb5\\x96`\\xaac]\\x88\\xae\\x05n\\xb9P\\x82\\xc2\\xfck\\xc0\\xfe\\xb2\\xed\\x89\\xa5\\x8f\\xc7\\xc2\\xb6\\x1f\\x05\\xa4\\x17S\\x83.\\xc5\\xa3R[\\x00iLC\\xaf\\x8a\\x87\\x14\\xd4\\xa2\\xad\\xd0[\\x0b\\xad\\xf0\\xac\\xb2j\\xf05&\\xab\\xb0!\\xc2\\x12\\x99c\\x9c\\x08\\x0ei\\x16\\xf7\\xe2g\\xb5[\\xbc\\xaa\\x84\\xceT\\x87\\xf23\\xf1i\\xe4\\xcao\\x95\\x1c\\xf4\\xe6/(/\\xb8d\\xdd\\xf4\\xef,9\\xe7{a\\xe6u\\xd7Vn<\\xf1:\\x0e\\x03\\x13\\xf9\\xb7\\xd6\\x1b\\xce\\x95Vg\\xcf\\xb5fXh&sb\\n\\xf6\\xa1\\xeb\\xbf\\xc2#\\xf2\\xa3\\xd1b\\x16\\xd7\\xa5B\\x1bb\\x1c\\xdc\\xcd\\x10\\x8d\\xed*b\\xdb\\xaeR\\x1b\\xe4\\xe0%\\xd3\\xc8\\xb8\\xf5\\xa4\\xb4\\x1b}W\\xa9Y\\xa9\\x9b\\xb7A\\r\\xb5i7F,\\xe5\\xf0~\\x1f!\\xcaf\\\\U\\xb1\\xccVgE\\xce&0\\x00\\x0f\\xbc\\xd6\\xee\\x1b\\x97\\xaf\\x8dHchu\\xfd\\xa0KpF*eUm\\xd4\\xb1\\xec\\xe8\\x19\\r\\xc0\\x93\\x83gR\\x89\\xb0RP\\x14K\\xa6F)\\xe0\\xf5\\x87\\xf8\\x8b>\\x86\\xbeN\\xb9\\xd6\\xff`\\x98\\xe8H$\\xb0\\x8d\\xf8DV\\x9b\\xe8\\x1d\\xddB\\xbd\\xc1\\xf9\\xa4\\xecq\\xd3\\xcb\\xaaMfU}\\x1e\\x07\\xdfk\\xad\\n\\x07\\xa4kr\\x00zgI\\xf5\\xa8\\xc0\\xb0}\\xf3\\\\f\\xdb\\xe8\\x88S\\xdb\\xea9\\x8dC\\x05\\xee\\xb59\\x02^\\xafU\\xdc\\xa1+O\\x94SC2?^\\xf5,&\\xb1\\xe8\\xebX\\x99[\\x16\\x0bm\\x93\">\\xd7\\x88|V\\xf2\\\\\\xe7vMX*\\x95\\xa5\\x16\\xac\\x1a\\xcf\\xfc\\x81p\\xa5\\x15m\\xd6\\xc7\\xb1\\xbdp\\'\\xf2\\x90DG\\x93\\xe7U\\xe7\\x8a\\xccZ\\xa0\\x1a\\xd9\\xbb\\xa6\\xdc\\xb5\\tu!\\xd0!\\xb8\\xff>\\xe1\\xcc\\x81\\x16c\\xa7\\xd5p\\xbb`d\\x11\\x9a\\xfd\\x0c\\xa5\\x1f\\xf9P*k\\x8f\\xdb\\xea4\\x08\\xb1\\x82\\xb3\\x94=\\xb4\\xc9\\x8f \\xb3,\\xa51\\xb6\\x0cZ\\x82`@\\xfa\\x1ce85\\xf9q\\x90\\x8c\\x81\\xe6\\xbc\\xcf\\xc1\\t\\x98.`\\xa7/\\x00\\x05\\x12W\\xd1 \\x14Q\\xcbG\\xf9\\x8d\\xf7\\x92\\xaeB\\xe3\\xa2\\xa9\\x93\\xe46\\xda\\x11-g\\x07\\xa9\\x131\\xd3\\xde\\xc0\\x80\\\\=\\xba\\xb1\\xe5\\xfbkV$S\\xd8\\x80\\xd9I\\xb6d\\xdf]\\xe27\\x9f\\x88ltm\\x0b\\t\\xe4\\xb4ns\\x84\\xb8\\xdd\\xc1\\xa7\\x86\\xf4\\xad\\xcc}\\xac\\x06\\xab\\x92a\\xf0\\x8cp\\t\\xdc\\xb2\\xe7\\xe8\\x8b\\xba\\xc1\\xbbvL\\x00^z(\\xd4S\\x14\\xd6\\xa5\\x19\\xc0\\x91s\\xc0]xL%\\xc9\\x07\\xd1RT7t\\xba\\xb4Fsa-\\x87\\xbe\\xaa6\\xf0:\\x1d\\x06U\\xe4\\x9aL\\x0bt\\x93\\xb4\\xa9\\x18\\x19\\xdd\\xad&\\xc1\\xd0\\x9e>\\xc9\\x0b\\xa2\\xfehx-fL\\x1f\"\\xe6p\\xb1\\xe9\\xed\\xdf\\x9a\\x0178JB\\xf7\\xe5\\xab\\xf6\\x8b\\xf2#\\r\\xccP\\x9b\\x0f\\xea\\xab\\xbe\\xa5(X\\x9e\\x8a\\xe89Yk\\x83*&$X\\xd8\\x00\\x06\\xce\\x93\\x1fM[;\\xe4\\xdf\\x88\\xd8\\xc1|\\xf4\\'?\\xca\\x83B\\xf9\\xe8@\\x91\\xe1(\\x13\\xb47\\xe2\\xc9\\x8c~,G\\xb8\\xce\\xff\\x03G\\x96b\\x9b\\x94\\x05`Z\\xbe\\xe6c\\xbf\\tL\\xc3T\\xcf\\xfc1$\\x0fQr\\x12Z\\n\\xa8\\x7f#\\xf4\\x9a|9I\\xf6\\x00\\x94\\xe3\\xd5\\x08\\x15\\xd0\\xcd\\xae\\xecS\\xdd\\xe0\\x9d\\xdcY\\xb0\\x15\\x88\\xb8\\xfbO\\xde\\xba\\x9e\\x1a\\xa7\\x1a\\xc0r\\xf7\\x11R\\xe6R\\x1c\\xf3Go\\x0e\\x1c\\x03%\\xf6\\x0b\\xeb/\\xc7O\\xcb\\xa1\\x8f]?\\xb3#\\xe1\\x9bw\\xa2\\x87Y\\xa2\\xd9\\x94\\xe9\\xdc\\xd4\\x81e$ gWS#\\x1f\\xd3a\\x02A\\r&\\xf5\\xe1o\\r#<(\\xc0]\\x1b\\xba*\\x906&v\\'\\xbb\\xe8\\xe1\\xb6=\\xfd*\\xc4\\x959\\n^i\\x89\\x15\\r\\xeb\\xbd\\x8dL7\\xf3!r\\x1bM\\x1c\\x95g\\x06\\xbb\\xa4!\\xa4\\xc8}\\x06ai\\xa2\\xfc3E\\x17\\xfd\\xf0\\x00\\xb8\\x99\\x81}x\\xf8\\xa7\\xf77+\\x9av_\\xaf\\xb0LH\\x90\\xed\\xc1H\\x86\\xdbpe!Hm\\xcc\\x9f\\xda\\x0c\\x03/N\\x82P\\xa3\\xefb-4g\\xc0\\xbf\\x86\\xdc0\\xb63\\x15\\x17Ya\\xe1[\\x11\\xc3\\x05Z\\x88\\x9d\\xac\\xd2}2\\x18\\x1c\\x94V\\x18\\x86<\\xb4/\\x1a\\x9e\\xb5pO}\\xad\\x80\\x82\\x80\\xe1Xb\\x10\\xf8\\xc3\\xc2Nl\\x1b\\xdb+\\xb2\\x83\\x80[7\\xf1\\xa5ps\\xa8\\x1d\\x96\\x8a\\xe9\\xe8Z\\xde\\xac\\xcbS\\x02\\x9e\\x0fg\\x87y\\xd0\\xf7b\\xa2\\x85\\xa4\\xe3\\xe0\\xc0\\xfa\\x05\\xe7\\xb9\\xb4\\xbe>\\xe7k\\xc5p\\xa2\\xc8D\\xf4\\x8df\\xe14F-H\\xca3[@\\x9an\\xd7\\xfe\\x19\\x90U>\\xdb7YR\\x0f\\xea\\xd6;P\\x08\\x878\\xfd\\t&(\\xa7\\xb0\\xd6\\xa3>\\xa0m\\x92\\xf8\\xcb\\xbe\\xc7\\xf5\\x8f\\xccl\"\\xc8\\x1eV(\\xf3\\xdc\\xb8\\xa8\\x00\\x17\\x00\\xc0q\\xfb~>\\xdd>`\\xbec\\xb7\\xf0\\xe4\\xbc1\\x86\\'\\xce(\\xe3\\x98\\xdc\\xd9\\xb2\\xd9\\xaa$a\\xc5c\\xa2\\xccM\\x1e\\x9ax\\x0fk?\\xc8\\xf6;4\\xe6\\xd6\\x98\\x05\\xac\\x16\\xe0z\\xbc\\xee\\x9b\\x89\\xf8\\xac1\\xddt\\x97\\x85\\x96\\xf5e!\\x9d\\xa9\\xf6\\xfe\\xda\\xf1wwm*\\xa2!\\xa4\\xd4\\xa3v\\x01\\xa3\\xec\\x06\\xf1s\\xda\\xffb\\xe3*\\x9a\\xc4\\xa0\\xcc\\x96\\x84\\xb4(\\xe7\\nYG?s&\\xce\\xc0o\\xf3\\x00\\x9f\\xbdc]\\xa6\\x1e@\\x01\\xc9)l\\xbb`\\xd5\\xc0\\xdd6q\\x07\\x8d\\xd6\\xf9\\x13K\\x94I.\\x97\\x17Md\\x89 S\\x91\\xb1\\x8c5\\xe2\\x94\\x18\\x02\\xc0c\\xc6#h\\n\\x86\\x01\\xe1\\x9b<3\\xd8\\xab\\xd9\\r\\xb7P\\xc0\\x07u*0}\\xd6\\xfb\\x84\\xb4\\xbb\\xd4\\xe3\\x90\\x8d,\\xd1\\xfclj_L\\x9f,\\xf7\\x99}->^4\\xf3\\xed\\xee\\xa2\\xd2\\xfeQ\\x0c\\x17\\x0c\\xfc\\xdf\\x06\\x9a\\xc2\\x81X\\xc6\\xb4x\\xe7\\x824^\\x1a\\xe4\\x0c\\x0c\\xf9\\x8c\\x00g%\\xcc\\n2\\x96\\xd8\\xf8CS\\x1a\\xda\\xcc\\xf2\\xc8G2PZ\\xe9\\xb0U&\\x89\\xbat\\x81\\x7fD\\xf50{\\xbe*\\x8f\\x9dJ\\x1bN)\\x12\\xcf\\x1f\\xf0;\\xa8>\\x81\\xe1=\\xba\\xf7\\xfdCW\\xa0\\x99\\xfd\\x1e\\xd9\\xbc\\n\\xf7:\\x8d\\th\\x05\\x98\\xe5Y\\xd2\\xa9\\x90\\x0co\\xcd\\xaf\\xbc\\x10\\x9c\\x91\\xa1\\x94j\\xf5|!^\\xf9\\xa7\\xc9\\x8c\\x99uw\\x97F\\xb2Y\\xe7\\x12\\xb3jO}\\x95\\xb3\\x81\\x00\\x90NxV\\x10M\\xf4\\xee\\x90\\x84.\\x10\\x0b\\x83\\xe7\\xbd|\\xe2HB\\r8\"\"\\xf6\\x83\\xf5Kj\\xb1\\xfbo\\xbc\\xf7\\xfe\\xde\\xc5\\xb1k\\x1b\\x9d\\xba\"\\'\\xf5@6\\xe9\\xf0\\xbf=\\xe7\\xf8{\\x96\\xde\\x00\\xfc,\\xac}\\xf3\\x90\\xe2\\x16 \\xb3\\xf4T\\xb1\\x01\\x938\\xe5\\xecw\\xb3|\\x0b\\xaa\\x16UWMmd2\\xb35\\xf5`[\\xd9\\x82$3\\xa6\\x07\\x86b\\x90&\\xb0\\x1d\\xd0]\\xe5\\xdb[T\\xef\\xc5\\x8b\\xe4\\x9b\\xa6:E\\x89\\xa2\\xd0\\x1a\\xda\\x1e\"\\xcb\\x97\\xebU\\xa6\\r\\xbeY<u\\xaeq_C\\xa5\\\\\\xb5\\xe7\\xaa\\x98\\xa8\\xab)F\")\\xfc\\xb8\\xc3#_s\\xc4\\x10,N*^qv#\\xa0\\xc4\\x11\\x14\\xfa\\xc1\\x87\\x80|\\xac\\x15\\xca=\\x82\\xe9\\x03\\x91\\xcd\\xd2\"\\xfc\\xa1\\xbc\\x92\\xabF\\xf9N\\x07\\xff\\x97\\x01X\\xca\\x9b\\xd02\\x1e\\xc9\\xc3\\xd0H\\xd66\\xca\\xd8\\xfd\\xe9>\\x1e\\x04\\x10\\x8c\\x93m\\x0b\\xe8\\x8c\\xd7\\xe6\\xd7Uz\\x1c\\x05PM\\xe8*L\\xc4\\xbc\\xcd\\xad6\\x99\\xcf\\xdb\\x85cD\\xd2\\xbbG\\xcf\\xc3\\x15\\xe5\\x93\\xdbH\\xc8\\xfaf>\\x97\\xcb\\xfb\\xb4i\\xb6\\x86\\xef\\xedN\\xff\\xd2\\xa6Uf\\x901\\xc49pv\\xeb\\x06\\x17\\xf3p\\xedX\\x9e\\xac\\x83\\'NP\\xa1\\x9c\\xf8\\xbdN-\\xe3\\xd4\\xdb\\x18\\xbc]a7\\xc6j\\xed\\xf8x\\xc87;\\xe4F]\\xe8\\xf8\\xf40\\x94\\x03Q}\\x1d\\xa1\\xdfz\\x93\\xfctb\\xd6\\x96\\x93p\\xff\\xb4\\x0c\\xe9\\x8aW\\xd5\\xf4a\\xca\\xf4O\\x14\\x96\\x18k\\xda\\xc0\\x94\\xa9\\x8a\\x8b<]\\x88FqB5\\xc65~\\xe3\\x07\\xac4\\xb0\\x9c<\\xf1\\xe9\\x93_#\\xa3\\x839=\\x8d\\xae\\xc5\\xf3>5S\\xf9\\xed\\xb9\\x1d\\xf6\\x947\\x83\\xd9\\xc0\\xa2\\xa9\\xf9\\xd3\\xe2\\xa3\\x16\\x16\\xb2\\xf9\\xe8t\\xc0^\\xbc\\x86\\x1f16<\\xff\\x85\\xb3g)\\xcf\\xfdz5\\xb7\\xb1\\x1b\\x1fY`\\xe8\\x05\\x88{\\xb6Q\\n\\xc3\\x98\\x04X\\xd4n\\xd2\\xbb\\xfb\\xd0\\x8e\\xb4\\xde\\xb2\\x95\\xb7\\xc0\\xf7\\x98\\xad\\x0c>\\xc4\\xda\\xe7\\x16+\\x14\\x96&=T\\x1b\\xd0!P&\\xb9\\x8a(\\xc8Ho\\x05\\'urQ\\xb3G\\xe9\\x068\\xe1\\x83,v\\x9e8D\\xa8-\\x18\\x88\\xcbP)\\xec\\x84P\\xc5\\x98\\x82{\\xa2\\xf3\\xd3\\xc7M\\x1e!\\xc1m\\\\\\r\\xda\\xe2\\xf4\\xb5\\xa4\\n\\x18\\xfcn\\x97S\\x89^G\\xe7\\xd8\\xd6\\xb3\\xaa\\x86\\xef\\xa1_\\x9dV\\x80\\xc4t\\x05\\xd7\\xb0L\\xb6!\\xc3\\xcf\\x16^S1+\\xa3\\x0c\\xf0\\x8d\\xb1\\x8a\\xb6\\x12\\x15\\xe1H\\xcf\\x9f\\xd44\\x86M2d-9o\"\\x13J\\x03\\x9cG\\nf\\x00\\xd7#\\xb3\\x97\\xe7\\xc9\\x83\\xc0N/\\x07\\xd8\\x9f\\xc0Y\\x86\\x1b\\xa6\\xdf/lbx\\xfd\\xe8\\x1b\\xc0Gd\\x00>\\xa0U\\x06S\\xb1^_\\x94\\x05s\\x9d\\x1a\\rC@\\xb4\\x86[R@1\\xf8\\xe2T\\x15\\xcb\\xc0\\x08DFx\\xde|;?\\xe2\\xaf-\\x12\\xdd\\x8d\\x94`\\'\\xcb5\\xd8\\xf2d\\x8b\\xe4\\xcc\\x98oo\\x94b\\xd3\\xbe4\\xe3s,\\x18\\xc0\\xf7\\xcaA\\x9c\\x96\\x1eB\\x892\\xedy\\x96,\\xa1~Qb\\x11\\xf0\\x83\\xda1\\x91\\xc5\\xc9)\\x9b\\x05\\xdem\\\\L\\xc7c\\xcd\\xce\\x1a_\\xe2\\xed\\x12i\\xce=z\\xf0P\\x85\\xf0gO\\x7f\\xb4\\xa2CR(\\x9a_|\\x16\\x1b\\xce\\xb9\\x12\\x02\\x1c\\x9b\\xfa\\xdetuQ\\xb2\\xe4\\xb6\\x1a1\\xbb\\xe3\\x15\\'\\x89\\x8e8\\x16V\\xa0\\xfa[\\x1d7\\x1fK\\x8b\\x86LN\\x9f\\xb5\\'\\x99\\x16|\\xebO.\\x04\\xba\\xffu\\xd1\\xfb\\r \\xfc\\x9a\\x04\\xaf\\x99\\xfa\\xfb\\x95\\t\\x1ct\\x86~\\xacEJ\\xa4s\\xbe\\xdd\\xd0\\x199\\xf0\\xbb\\xd2\\x8d\\x90E\\xd3\\xfb6 vV_n\\xda[;\\x96\\x83:\\xd4\\xa6\\xdd\\xc3KK|=%\\xb8z\\x88\\xd7\\x9f\\xb2*\\xac\\xb5\\x05\\xfdB\\x04\\xda\\x84Kdm\\xe9\\xe4\\xeeu\\xb0x\\xb5\\x9fo\\xb1\\xf2@D\\xef\\x8dL\\xceA\\t\\'\\x7f\\xb6\\x1cQ\\x17\\xce\\t\\x06\\x9du\\xfd\\xfc\\xc8\\xc4vlp\\xeb\\xb7\\x86\\x97\\xe5\\xc9\\x16}\\xf2\\x04w?\\x12]\\x13\\x11\\xe7\\xa6\\xfa\\xfc\\xea.\\xf2\\x91\\xc5\\x95N\\xfb\\xd9&/\\xf1\\xa4q\\x87t$\\x00\\x92\\xab\\x80S\\x03\\xf4\\x92p\\xa6X\\x85\\\\\\xbc+\\xa7*\\xd4@\\xd3\\xf7\\xd6$*\\xe2\\xdb\\xcd\\\\Nw>\\x11e9\\xa4\\xa9\\xe3q\\x08\\rn`\\x87\\x04\\x88\\xd8_\\xb4\\x03\\xb5\\xad\\xa9\\xe3\\xed\\xfd\\x142o\\xda\\xeb3\\xda\\r\\x17\\x8a\\xe2\\x1a\\xc1\\x1b\\xa4V\\xccXB8(\\x8b}9\\x8b\\xa6$\\xf1\\x8c[\\x9e\\\\\\xfc\\xf1{\\x93\\x8d\\x80\\xf7\\xad?\\xe5\\x0f\\x1e\\xb7\\x18\\x07\\xa1\"\\x8f\"q\\x95^;D\\x1a\\x19b\\xcclr\\xf7Yh++(3%\\xba\\xb5vr\\x9c\\x98]\\xf8\\xd9\\x16WR\\xa6\\x9d\\xb3\\xab\\xb5\\xaa\\xc43\\x9a\\x0e\\xcf\\xee@\\xed\\xa2\\x01\\xf65B?K\\xe7=_kU(5 \\xf8\\xec\\xa9G\\\\O\\x8a\\x9d\\x1a\\x04\\xad<\\x13\\xc8`PO\\x1b\\xec\\x8c\\xe4\\xe5N\\xdd\\xb1\\xbe\\x8d\\x92\\xdb\\x1eF0\\xdd\\x01\\xa3\\xec\\x11\\xe86\\xbaF\\xc3\\xdc\\xa6\\xad\\xf9\\x9fa#\\x06x\\xee\\x97\\xa9\\xb3\\xf5\\xfa\\xa8\\xd6H[/\\x7f\\xec\\xc0!z\\xc4\\x14P\\xe9\\x15!4\\x82<\\xcd^\\xd1\\xa9\\x8c]+\\xda\\xe6\\x8ce\\xdd\\xe4.$\\xa4w\\x05\\xba\\xc7\\xba\\x1f\\xb1o\\x7f\\x00\\x111\\x94\\xc4\\x7f\\x85\\xca\\xd9\\n\\x1b\\x14F\\xf06\\xed\\xaa?\\xfc=\\x8c\\xec\\xe4\\x8c\\x08\\xe0\"\\xd3\\x84\\x15\\x9d\\xa4I\\x99\\x9c#\\xefF\\x82\\xcc [\\xf6uK\\xe8o\\xf2\\xc4\\x14`\\x1f\\x1a\\xdc\\xea\\x05=\\x92\\xab\\xd8`\\x98sF:\\x02\\x05\\xaf,)+\\x06\\x03\\xed\\x92\\xd8\\x98\\xc1$(\\x01\\x1d\\x98\\xcf\\x93\\x96J\\xab\\xe3\\xc9\\xeb\\xe8\\xc0\\xf7\\xa4`}LB\\x89\\x06^n~U\\xdd\\xc7\\x8c\\x9b\\xd04)\\xbe\\x91\\xe9\\x9c\\x0f\\x19\\xda\\x05N\\xe6P\\xcc\\x8c\\xd0\\x93T\\xa7\\xe8\\xba\\x14\\xa8Q\\xe5\\x0c\\xf0\\xa1\\xf9\\n\\xf4}\\xc9\\x1b\\xf0\\xadg\\xa7Up\\xbf\\xf5\\x13\\x95&\\x8f3\\x95\\x04W\\x89}\\xad\\xd9\\xf0\\xf1\\x80\\xd6\\xc2\\x01PJ{c\\xe5\\x83C\\x17/&\\x87:!\\x97\\xc9\\xf0\\x84\\xd2\\xea\\xbc+\\x1e\\xf6Y\\xb1:\\x1a\\x15\\x0c{*\\x89cF\\x1a\\xc3\\x90pC\\xe5\\'\\xa2\\x94#\\x11P\\x8b\\xb00Q\\xb6\\xd1\\x81=X\\x931\\x10\\x0fc\\xab\\xc5\\x1eCR\\x80Y\\x8a\\xdcCN\\xa0\\xd5\\x19\\xbdb\\x13\\xb7\\x9a\\x9b\\x91\\xff\\x0e\\xee\\x8c\\r\\xec&\\x924tj\\xe6n\\x0c@\\x81\\x82\\xc6\\x0f\\xf7\\x17\\xbbGW\\xf6\\xab/\\x0e\\x0e\\x0bD\\x98\\xe7/w\\x11_\\x82\\x1ds1h#\\xc28\\x9f!\\x02c\\xa0\\rYy\\x110\\xb2\\xd5k\\xbde\\x08\\xc6\\x9eXJ1C\\xcf\\xf7\\xa3\\xfbfG\\x7f,q\\xd1\\x9a\\xfb\\x1b\\x1e\\xee\\x00%\\xb8\\xd7\\x1d\\xed\\xc8?\\xf2{F\\xeb\\x01\\xe7s\\xb1\\xc8\\xd4\\x0cy\\xc97\\x8a\\x90\\xd7\\x17D\\x12\\x86\\x83_/n\\xf5\\x1fhv\\xc2\\xb3\\x90y\\xbeD\\x96\\x12\\x10<\\x1b\\x88b6\\xd7_\\x1f\\xb0\\xef\\xab\\xf1X\\x9a[\\xfa\\xb0uv\\x0e\\xcb\\xa3H\\xaf\\xc7\\x0e\\xf2\\x96\\x95\\xbc\\x12=\\x95\\x15\\x99~\\xc4\\xb1*!\\xde\\xbb\\xa9\\xea\\xdex\\xdb\\x90\\xf5\\xc9xd\\xbe7\\xeaD\\x0b\\xcb\\x06\\xc5\\xca\\x13e.=\\r\\xe2\\xd6\\x0f\\xd4AM\\\\\\xeb\\xfa&{\\xf7bO#\\xb1\\xad\\xd3K\\xed\\x05\\xbd\\xb8\\xb1\\r\\x8b\\x1be~\\xca\\x87\\xa8\\xdc\\xd7d^|\\x80\\xe9\\x9dza>\\xeb\\x14\\xdf\\x1c\\t\\xfbV\\x03\\xa4\\x1dd\\xf9\\xaa\\x1a7\\xd7\\x83\\x1eb\\x8e\\x88O\\x01=\\x8cWt\\x02\\x06B\\xd9\\xaa\\xf9\\xaa\\x0f\\xdf\\x9f\\x9d\\x19\\xcd:9*s\\xb7\\x16\\xd7\\xf2mt)8H\\x99(\\x89S\\xf4!_\\xcf\\xae\\x9b\\xd2j\\xbfY\\x94\\xf9\\xbb\\xea\\x06\\xbb\\xbc*\\x7f\\xe7W%g\\xab\\xb56\\xbe\\x0cP\\xc24\\xbf\\x1c\\xc5\\x88\\xf5\\xeb\\x02\\xf6\\x87d\\xd9\\xe7\\xcf\\xc1\\xb7(\\xbe\\xa7\\xb7CXV\\xc0\\xf7\\xd7\\x1d\\x9dG\\xd7\\xc3\\xefX\\xe6\\x82\\xd2\\xca\\x05\\'\\xb9\\xb1_\\xce\\xec\\xd5\\x8b\\x07FAy,t\\xce\\xeeyJ\\xde\"\\xd3\\xe4\\xdbR\\xa8\\xd7\\x9d}b\\xdc\\xa4\\x86M\\x02\\xd6\\xbc\\xf2\\xd2]\\x84\\xc0\\xdf\\x0c*i\\x9b\\xfahU\\xf3\\x85\\xb03\\x16\\x99&\\xb4\\xb6<\\x95&\\xe9\\xdf&S`\\xe0{o\\xcdy\\xb7\\xa3\\x15H%\\x9f\\x99b\\xd4\\xd9\\x7f\\x02\\x14}\\x99\\x8c\\xe5_\\x01yG\\x1d;\\x1e\\x95 w\\xa9\\xdd\\x9f\\xfe\\x86\\x1do%\\xfb>Z\\x1d_\\x86\\x07\\xad/\\x89\\x1dj\\xc4\\xf6\\xf8\\x9e`\\x9e,\\x1a=\\xdc/3[|\\xbdq\\xfep7Z\\'{\\xcd\\xcd\\x96\\xd4\\xf7\\xdc\\xab\\x9a\\xf4\\x19\\xf6\\x82\\xe8\\xe1\\xf2<$\\xf27c\\xfd\\xa3\\xc9G\\x0e\\x17$\\x1f\\x06\\xae\\xab\\xdaq\\x0f\\xc2\\xdca\\x9b\\\\\\x92z\\x1f\\x86\\xd8\\xf3\\x9472\\xa0U\\xb0\\xaf\\xd8\\xb6\\x13|\\xd3\\xb7HN\\xa4\\x94>\\x1bGp`/\\xed\\x8e\\x0c\\xf9\\xa3\\xd8\\xbd3\\xa8\\x88=\\xa5\\xa2\\xbb\\x08s\\x89\\xa2\\x1e\\\\f!z\\x08\\x8b\\xce\\x7f\\xeb|Yz`\\x99\\xb3\\x99(.8\\xe0A\\xd2\\xefi\\x93}&\\x11\\xf5X\\x81\\t\\x0f\\xca\\xb4-\\x85S,\\xedg\\xdfv\\xd7\\xdf\\xe5b\\xf3\\xdc\\r\\x92\\x93\\xd4M\\xd5\\x8c\\xe3g\\xa9\\xcd_\\xf9\\x95w\\n\\xd8K\\xde\\x9b\\xa6\\xa2\\xac\\xc1\\x11\\xa8\\x08X\\xcaOZj<n\\x00\\xb5\\xf9\\xf9\\xf67\\x7f\\xef0U\\xa0\\xc2\\x88LN\\x96/\\xe2/H\\xb3\\xb7X\\x9b\\x84\\xd7\\xe6S\\x8c<}\\x9b\\xb1CX\\xdcZ$|\\xad|\\t\\xcf\\x14\\xd6\\xcb\\xb4\\xafa\\x97m\\xd01\\x16q@\"\\x96\\xa0qpR\\x04\\xbau\\x85\\xb4\\xc1{\\x99\\xc0:c\\x1a\\xcd\\xed\\xb5H\\x1e?\\xabQ\\xaci\\xe7 u\\xe7\\xb3c\\xe36Z\\xf6\\xe4o\\x13D\\x04\\x89$\\xe7\\x015\\x00\\xc5G\\xb57\\x82\\xd7\\x8eB^\\x03\\xebu\\x1da\\xbb\\xdcytM\\x98\\xe0\\x85q\\x0e\\x90%\\x9fy\\xc7\\xa6\\x9d\\xe4B\\xb6\\xda\\tY^hV*-\\x80\\xceL\\x1c=p\\xd8\\x9d^\\xb6\\xb3\\xaccR\\x99\\x13<\\x05Z~g\\xa2\\xf7k5\\x13+\\xbf\\xd8\\xcd1f?P\\x1c\\xc6\\x15\\x0e\\xd62\\x99G\\xa9\\xe2\\xad)\\x01\\xbf\\x91\\xd8\\\\K\\xfc\\xf5\\xcd\\x8e\\x1dCVR\\xf4\\xee\\xcb\\xfe3#\\x93\\xab\\xea8{x\\x98\\xfc\\x02\\x86\"\\xb9o.\\x14\\x84K\\xbe(\\x1a\\x83\\xf0\\x8c\\x1c\\x8df\\x07\\xb8\\x89^HYG\\xb5 P,M\\xe7X\\xbb\\x96;\\xd6\\xb4}}X\\x9e\\xd3R,\\xc7\\x94\\x10\\x90\\x02\\x7f\\xcb\\x06\\x08\\xcc\\x1e/[p\\xe0R0L~\\xf7\\x1aO0>\\xac\\xfa\\xd7\\x92`\\x17\\x0e\\xa1*K%\"6[\\xdbw\\xff 4\\x04r\\x0ec\\xb1\\x13\\x94\\xfe\\xb6\\xd8H\\xe9H\\x80:=2\\xcd\\xa6\\xf5\\xd2\\x966]\\r\\x9c\\x95\\xc4\\xb6p\\xb3\\xc0\\xf5\\xdc\\xeb\\x1e\\xd3\\xc7\\x9f\\x1dy\\x99\\xa4\\x8e\\xde\\xa0m#\\x1f\\x18\\xcei\\xd8\\x16\\x86\\xa2\\xab\\x00\\xbb\\xed\\xf2\\xfb\\x0c\\x9b\\x92\\x9e#\\x90y\\xfb\\xebjT\\xaaK\\xe8\\x80\\xc2\\xe5\\x95e\\x9a%.E\\x16s\\x14Q\\xeb\\xe8\\xferQ@\\x16Dk~\\x0fq\\x16\\xdd\\xfbFsn\\x86O\\xb9\\xc8\\x00\\xea\\x0b5k\\xc1\\xe7\\xa5y\\x81\\x15g\\xe5wv\\xe2\\xdf%\\xb2\\xe1\\xe7i\\x9a\\xa6\\xb9\\xc2^\\xdc\\xbe\\xd2A\\x85\\xeeh\\xf3\"\\x151dw\\x0f\\x0c#\\t[[s\\xc4\\xaed<\\xfa:\\xa4\\xe3\\xd1\\x80\\x1d\\n\\x0e\\xa3\\xe7\\x17[\\x8c6W<&6\\xed\\xb4$(\\x9d\\xda\\x95T\\xe0H\\x9d\\x01(|\\x92\\x05 \\x8dM\\xb2~0N.\\x96\\xbc\\xf4\\xc6\\xc1\\x07z)7)\\xf1hE\\xfc\\x81\\x13\\xb2\\xc5,z\\x03Y\\xf5(5_\\x80\\xfe] CUG\\x90\\xea\\x17\\x14\\xfaB\\xbc*\\xda*q-\\x05wK\\x89|\\rF\\xed\\xf6\\x9e\\xdd\\x0b\\x8aLQ\\x01n\\xde\\x9d\\x1eJ-a\\xc33}\\xfc\\x19\\xc2\\x1f\\x96UE\\x00PAk\\xb9\\xeba\\x81C\\xb1\\xe0\\x8df\\x89\\x0f\\xd8J\\x0f\\xc1\\xca\\xa6Y\\xba>+\\x0f\\xde\\x9d\\xfce\\x07t\\x1d\\xc7\\xd5\\xf0\\xa5\\xd8\\'\\x1at\\xef\\x98&\\xe2\\xfa3\\xeakw\\xe0\\x04\\x8b\\x07\\xa2G\\x0b\\xeaJ-\\x0e\\x87\\xe7\\x0c\\x99\\xaf\\xf2\\xec\\xce\\x03?\\x8c\\xe6\\x01\\xdc\\xcd\\xe4\\x11_\\x8cyj\\xfa\\xa5D\\xe7[\\x13\\xcbQ\\x81\\x82w\\x92l\\xc9\\x89\\xc7\\x15\\x14\\x04\\x04J\\x98V\\xa1\\x86:\\x98\\x7f\\xfb\\xec\\x8f1\\x03?\\xdd\\x96\\x14=P\\x16GkB\\xcb|\\xc1\\xbcO\\x13\\xc6\\xf0\\x1cp\\'\\xf9}^\\x0f]\\xce\\rZ\\x05\\xf7\\x9e\\x1e\\xeaK\\x13\\x94\\x19\\xbe\\x0f\\xef\\xb0\\xe0\\x96\\xf27\\xf7\\xdc[>WGs\\x9fo\\x19\\xa4\\xe8\\x1d\\xdc\\xb4^\\xf7\\x8a\\x0e*=\\x16\\x04?\\xce\\xd7].\\x8d\\xfa\\x0c.\\xfd1\\xdch\\x98\\xa8\\xd4\\xd2\\xd1,\\x86_\\x02\\xb4\\x0c\\x12BfBg>)\\x94j\\x85\\xee\\x97^\\xc9P\\xc2\\x04\\xfd:\\xd6\\xb8#\\xfc\\n\\xb7$`\\x042>XO].\\xd5\\x13.\\xc2\\xde\\x06DE3\\xa8j\\\\q\\xe5\\xb0\\x12\\xfe.\\x1f\\xf5)\\x03v\\xf5\\x9dL\\xc1\\xf1(\\xee\\n\\xefs\\xdaGT\\xe90\\xb5\\xe0mL\\\\\\xb3\\x84\\x80\\xff\\xa0\\xe0r[\\x0b\\xcc\\x02\\x9e\\xd9\\xe1e#\\xe15\\xff\\xa5\\x93\\xcc\\xad]<a\\x14\\xce\\xf5\\xeb\\xcc\\xa2\\xe4\\x8bu\\n\\xfb\\x8aK\\x01\\x9d\\x0c\\xa5\\x12g\\x88X\\x893=\\xd9V3\\xdf\\xe3\\xfa\\xefk\\xa3\\x86\\xd1K\\xfe\\x16\\xb8\\'w9s\\x18\\xb2T\\x9a\\xbc\\x11)\\x07\\x9b\\xc8)\\xa3F\\xdb\\xf6\\xd2\\xb5^Qf;NX\\x15\\xeb\\xbfl\\x95\\xdc\\x03\\xf6\\xc2\\x94\\xd6\\x1d\\x96\\x0b&jV\\x95^\\xa0\\xf7g\\xd3\\x96\\x90!\\xe6\\xcd\\xcb\\xca*Z\\'].\\x92j\\x82\\xa2\\xbd\\x88\\xb5\\xaf\\x1e\\xe8\\xeb6\\xd9\\x89f3(|\\x89\\xeb\\t\\x92y\"\\xb2l\\x02Ss\\xe5\\xd8\\xa1\\xfb\"\\xfa\\xab\\x8d\\x92\\xfd\\xd0t\\xaa\\xfc\\xf5\\xed/\\x9fJ\\x9a\\xe9\\x0e\\x8a\\x9f\\xea\\x8c]\\x90A8\\xf8\\xac\\xff\\xa5*\\x17\\xdf\\x9b\\x93[\\xfd\\xc1\\xd1\\xbbu\\x03\\xdb\\xe3\\xc5\\\\\\xdd\\xd9\\x8f\\xff\\x90\\x81\\xb4^\\xadDm\\xcc\\x03\\x14\\xfd\\xcb]B\\xea\\xb3I\\x83\\xa7g\\xf2N5\\xef\\x13v\\x8d\\xfc\\xfd\\xd66\\xc4\\xc3\\xa2D\\xd3d\\x10W\\xc2QCM\\xc0\\xff\\xb0\\xa4.\\xcb\\xb0\\xde\\xe9)w\\t\\x8a\\x877\\xe1\\x90q`N\\x87\\x87\\x15\\xd3=}S\\xdf\\xa6\\xaa}\\xfe\\x08\\x18\\xd8\\xac\\x1c\\x98\\xae\\xdd\\xe5( t\\xde+\\xc0\\xf0\\x1e\\x9b\\xe6\\x8au\\x11n\\x9bP\\xeb\\x94\\x8b.#\\x87\\xebF\\xdb\\xdf(\\xd4\\x0fj\\xd0\\xc7\\xd4\\xf5M\\xc2*P\\xbea\\xce+\\x0f\\x98\\x9b4y7AO\\x00B\\xa0t:x6\\xb6n!\\x00g\\xc2\\xf8|+\\x10\\x93\\xd8v\\xa5\\n\\xd9\\xac+d\\xe1\\x94\\xe7\\xa9\\xb8\\x1e\\x85\\x0bc\\x8bv\\xa4\\x0c\\xaby\\xfcp\\x0eI\\x18N\\xd5\\xb5\\xf1\\x8b\\xad\\x909\\x0f5\\xbb?\\'\\xedy\\x85\\xa33\\xb6\\x97o\\xd3F\\xea\\x16r27~\\x08\\x0b\\xf8\\'\\xe0\\xc9[\\x1ai\\xd5\\xb5\\x8d\\xe91C\\xd9\\x0e=\\x84\\xa9\\xde z\\xb04\\x8bSC\\x1b\\xbe:*\"vv*37\\xec\\x1b\\x87f\\xa0\\xe2.^\\x11K~;\\x17,\\xf3\\xa0L*\\xa7\\xb5\\xf0\\x85\\x12\\x05`\\xdf\\xdf\\x9e\\xaco\\t\\xc3\\x1a\\x8a\\x12K\\xa1\\xc5\\xa1$\\'\\xcd\\x87\\x01\\xed\\xc91T\\xe2B9\\xbc\\t\\xe8\\xedB\\xbc\\nj\\xa29\\xc9\\xe1W\\xc2\\x12\\xca\\x13\\xfci\\xe5\\xed\\x10\\xc7\\x01+s\\xa1\\x89\\xa1\\x9a\\xc95c\\xdb\\x1c\\r\\xec\\xf7/_mK\\r`\\xa5\\xa2\\xda!\\x02\\x9a\\xd3\\xb2o\\xa0\\x02\\xc2\\'\\xfa\\xd4D\\xad\\'\\x9f\\xa3H\\xa6\\x92\"\\x9f\\xf1<\\xb5\\xeb\\xde\\x8c\\xc9X\\xedPl\\xd5\\x99\\xbd:\\xf6%\\xe8\\x87\\xd6Y\\xbe.\\x01\\xdf\\xc8\\x94\\x9f\\xb9\\x7f\\xd8+(\\x80\\xdd\\x1e\\x10\\xa4\\x041\\xe0\\xaf\\xe7\\x8d8m\\xe0O\\xb87\\x0e\\xf9\\xef\\xde\\x99x\\xe0\\x1c\\x9f\\x07!U\\xd0t/*Ei\\xdd\\xee\\x91\\x19tK\\xff\\x81\\xac\\xbeYuPc\\xee\\xc9U\\xa4\\x07b!\\xd5\\xc8\\xf3T\\x81\\xdf\\x8bla\\x07/~\\xfc\\xba\\xa0\\xce\\x07\\x83\\xc00\\xa4\\xd6\\x1c HV\\x03P\\x12\\xa1f\\xe4>\\x9f\\x1c4F\\x0e\\x86[f\\xf0\\xfb\\xf7`\\xaar\\xe4\\xda\\xd2\\xab\\xac=\\xc5\\x02\\x171TR\\xdb\\xe2&\\xfc\\xdb1_#\\x90^\\xe5\\xf9Dn\\x93\\xed>\\x93\\x1b\\xcd[r\\xc1\\xbd\\xfc\\xc1\\xd40\\xe0\\xd2\\x8a\\xcdJ\\xb7\\r]\\xca)`\\x02\\x0f^\\xae\\x80[\\x07\\xb5[ \\x94%\\xcf\\xe2d\\x1b\\xa9\\x0eXg\\xeb\\xad |\\x9dt\\xf7Q\\xb4\\xf7\\x99v3r\\xd0\\xc3\\xd10\\xad\\x8b\\xff$\\x0e8\\xfa\\xdev\\xe1@W;S\\xee\\xbb\\x8bk\\xb1q-\\x15?\\xa6;s\\x94VU\\xd1\\xc6\\x01\\xed\\x904\\xdb\\xaa+/\\xb18\\x8e\\x96\\xce2\\x9f#=t\\x10\\x96\\xe1\\x86\\xce\\xc9K\\n-\\x87\\xa3\\xf1\\x88\\xf9WmH`\\x9d\\xdc\\xc0\\xec\\xc9\\xcbh5\\xef|\\xc7\\xb4E\\x14\\xbf\\xa1\\xbd\\x02\\x95X1\\xc4\\t!Q*~\\xbfupK\\x80E\\xbc@\\x14\\x91\\xeeR\\xbf<\\xa4Y\\xae\\xa3\\xfb\\x8f1\\x8a\\x14\\x9e1\\x9c\\xa9\\xdf\\xb1:\\xe5\\xbb\\xf2\\xe4A1s[U\\xe7\\xb7\\xe8\\xdc%\\x96\\x7fk\\x8bN\\x08Fy6\\xe3\\x07wa\\xa4\\x06|\\x93\\x90\\xc2\\xc0\\xa0\\xa2F\\xd2\\xc9Q>\\xe6\\x9e\\x0e\\x96SAZC\\x89\\xbfZ\\x1b\\xf7\\x05\\xa4\\xa0a<\\x90\\x94\\x8d\\x99L?\\xfdDq\\x04\\x11l\\xb6T2\\xdc\\x82\\x0c{\\xcd\\xf3\\x15a\\xef\\xd3\\x1eK\\x17.\\xca$\\x0c\\x9cCi\\x18\\x07\\xf9g\\xf5_\\xe4@\\x101\\xf9\\xd0\\x87\\x8c\\xeaZ3$\\xd0\\xd37LS\\xce\\xa7 F\\xc1\\xcfLC\\t\\xe1#\\xa5\\x01\\xe0\\x8d\\xd7\\xf1\\xd4\\xc6\\xf9\\xb86/\\xc70\\x1d\\xa9\\x16\\x90\\xef\\xdbMlYW\\x84\\x17r\\xf3\\xe5\\xaaT\\xba\\xf7\\xe3\\xa5\\xa6\\xd83\\xf3n\\x00H\\x10\\xb1u\\x19f\\xd0\\xa3Z\\xf0R.\\x99z\\xec\\xd3e\\xcb\\x18\\xa2\\xb5\\xa7\\x8b\\xbcA\\x96<}h\\xdb\\xbfCd\\xb5\\x9d\"\\xfe\\x10)\\xb6f+/\\xf3\\xbf\\x7fz\\x9fX*l*\\x0f\\x08\\x8c\\'\\xe7\\x88D\\xc2y\\xf4U\\x0e\\xd4\\x92\\x15\\x19\\x7fwj\\xa9\\xa0\\xdd\\x96\\x95Y\\x98G:\\x0e\\xc6\\x17U\\xa9\\x84S\\xd2\\x9d\\xba\\nQ1z\"\\xd7k\\x9d$7\\xd4\\x02\\xcaV\\xb7\\x10\\x0c\\xc86\\xa33\\\\x\\xe5\\xb8\\xd8\\x07\\xb2p=E\\xf5$\\xd4\\xc4T\\xf4\\xf1\\xc0\\xb3\\n\\xc6\\x11\\t\\xd3\\x92\"N\\xa2\\x8c\\xef\\xc0U\\xdd\\xd2TS\\xdcm\\x88\\x7f\\xfb\\xbb{\\xd1\\xd0\\x9a\\xb8\\x00\\xbaQ\\xd2_\\xd6a\\x89\\t\\xa3\\xbc\\x95\\xe5[\\x81h\\xc1r\\xf0\\xc86\\x84\\x13\\xc5\\xea\\xbd\\x95T\\xca\\x8a\\xb8~\\x13t\\x01T\\x03\\x1b\\xd0\\xeeC\\xcf_*\\xfe\\x84\\xee\\x0f\\xdd\\x84\\xfc\\x96\\x8b\\xe8\\x84\\xc9h\\x1f\\xb2%\\xa9\\xbc\\x03\\x1f\\xa9\\x8e\\xe3[\\xbe\\xc2B?S\\xa3\\xde6\\xf3+\\x06\\xea\\xd1\\xfd\\x84\\xb2\\xfc\\xdf;\\xc0\\x85a2\\x84]\\x7f\\xa7\\xe0\\xfe;T\\x1c\\xee\\x92\\x19?g\\xd8\\x8d\\x9fK\\x95\\r3\\xea!\\x1e\\xb9\\x99\\x9c\\x07\\x93@^\\xd9\\x90\\xf4\\xaf\\xb6\\xdew\\x89\\xbd\\xa1~4\\xba\\x8c\\xa0@\\x03z?\\x0c\\x08&\\xf1\\xe3?E\\x15+\\xe5u\\xd7W\\x1ce\\xfd\\xff\\x89\\xfa\\xbcl\\xc4\\xdb\\xaf\\xa2>\\xdcA\\xb3\\x9e\\xd5dl\\xe7\\xc3SY\\x0e9=c\\xd9\\xb6\\xff\\x83\\xaec\\xa3\\xa5V\\x1a x\\xa2\\xa6\\xa3}\\x8b\\xc2,s\\x06\\x0b\\xfa\\xd90tg\\x1c<\\xf0e\\xfa3\\x91\\x17\\x85=\\xa8\\x95\\xb6`Gi\\x9dW\\xe5\\x87\\xd8\\xfcy\\x9d\\xb8\\xa6\\x81<\\x9fd\\x0b\\n$\\xe0\\x93\\xd7N\\tg \\xd1\\xc1\\xde\\xd4\\x80yfq\\xab\\xce\\xb0\\xa3\\xab\\n^93\\xa5eTklS7\\xac\\xa2\\xf8\\xb5\\xf4\\xef\\x12\\xd9n\\xec\\xa8\\xa3A\\xc8EEpw6if\\x1d\\xaah0Y\\xe3{\\x945\\x1d)\\xe9__\\xe0\\nR\\xc2\\xf1\\x8a\\xe9\\x12\\x0ck\\x99\\x84\\x07\\x93\\xaf\\xa7\\xb6\\x84\\rqV38V\\t\\xc3\\'\\xd1y?\\xb9\\xba\\x14z\\x19\\n\\x11\\xfd.\\xc7\\x02\\x84\\x95\\x02\\x92\\x82\\x8c \\xbe\\xeex\\xa3 =\\xb0\\xea\\xbd]fAd2z\\xa9\\t\\x95\\xef-\\xdf\\xceg\\x84\\xcb\\xb3\\xc9\\x05K\\xde\\x84=Yu\\x06\\xcdV\\xe4\\x87\\x15j\\xa0\\xcaR\\xba\\xc8\\x8d@\\xd6\\x06\\xc8\\x9d\\xcf\\xb3\\xd0V\\xb5\\x87\\xf8\\xb0\\xbc\\x13\\xa2\\x82\\x08gVX40\\xfa\\xce\\x07\\xc2\"<r*.\\xbd\\xeba\\xa3\\x98\\xef\\xc9\\x12u\\x96\\x1a\\xb4M]\\xef\\xbd\\xa4\\x1e\\x88\\x89\\xdd\\x04\\x9boL\\xf5\\x0e\\x9d\\xd9Zn\\x0e\\xce\\xee\\xc9\\x87\\x93n\\xc9=,\\xd8(N\\xb2\\xd3K2\\xa6\\x0ff\\xd3\\xe5\\xcd\"\\xe7\\x80\\xbd\\xf6\\\\\\xd6\\xb3\\xd0\\x98P\\xfdR\\x93\\xaau\\xb6\\xfd\\xdaH\\xcfuS;i\\xd0g\\x08\\x90|;\\xea\\x07\\xacS&_\\xaf\\xb2\\xc3L\\x10\\x92\\xbbP\\x95\\xb3C\\xc5\\xf7\\xb3\\x12\\xa8\\x05\\xaf\\xb8\\x10l=\\x89Z\\xa2\\xb2&x\\xbf*\\xac\\xbb6\\x95&N\\xde\\xa2\\x8d\\x1f\\xb5r\\xba\\\\\\x1a\\x94\\xf9\\x9a\\xfe\\x1e@2M\\x99kAsQ\\xd6 9y\\x1d1\\x05\\xe4\\xda}|\\xba\\x1b\\xd5\\x0c\\xc1\\xb9?>\\xebWN\\x1c\\xad\\x07\\xf3\\xc9\\xbd\\xa0\\'\\xfb\\xf8\\xdc\\xa3yH4\\xdcs!\\x7f\\x9c\\xab\\x0b>r\\x8a3Q.\\x1dE\\xa1\\xcda0\\xb0\\x9d(\\xfd\\x8f\\xe8v\\x0e\\x18\\x96>\\xe1\\x12E\\x81\\xb2y\\x84e.\\xa1\\xd6\\xc0b\\x132C\\xf1\\xb6\\x9dx24`{j;\\x8aC|\\xbcgG\\xfcpN\\x92\\x13s@\\x16\\x81\"A\\xce\\x8b\\xb0\\xc6\\xd4L\\x9a\\x1f\\xdb\\xda\\xd9\\x12\\x9f\\xea\\xc8\\x8f[\\xbe\\xa8\\x05\\n\\x90U*r\\x07\\xbf\\xe7-\\x03\\x8d\\xcd\\x9f\\xb0h\\xe9\\x03d\\'m_\\x1c\\xfd\\xcf\\xf4\\x08\\xee<\\x97\\xd7\\xc1\\xc8>\\x07\\x87\\x8ce\\xa8\\xab,\\xdc0\\xddr\\xcf\\xfaC\\xa2\\n\\x16\\xdc\\xc6\\x0f8\\xc0h\\xd1\\xf4N\\x90\\xfd\\x80\\xec\\x05f\\xde\\xfe\\xccjl\\x03\\x15\\xe0\\x11\\xa3\\x87-\\x9ab\\x9e\\xcd \\x96\\x03v\\xa0~A/8\\x87\\xe9\\xe5\\xee\\xb0i\\xfb\\xbe\\xa1\\xddh\\x15\\x1a\\xa8B\\xf6\\xe8\\xa7XU\\x18\\xdc\\xb1\\x00\\xc1\\x86G:)\\xa8\\xb3\\xfc\\xa2\\xe2\\xc5\\x80\\x89\\x1aO\\xa62\\xc9\\x0e\\\\q\\x01\\xfd\\xc1\\x96o\\xadG\\x9d\\xa3\\xa5\\xc8&1\\x81\\xed\\x8c\\x1c\\xcd\\xe5\\x97\\x8f\\xb5\\x03r\\x9c\\xa4B\\xeb\\xefE\\t\\x0eJh\\x8f\\x85\\x02\\x0e\\x17X\\x012W\\xcd\\xe6\\x82\\x056\\xc9\\xfd\\x12\\x85\\x08\\xf6\\x1d\\xce\\xb0\\xdd\\x9b\\x8e\\xd9\\t\\xa2\\x9fsW\\xb1\\xa6w\\xc0\\xc8\\xe3\\x8ce\\xa6\\xbd\\xc6\\xcf\\x82P\\x9e\\xa1<t\\xb3\\xd5\\xce\\x8fx\\xe7\\xaa\\xa8]\\xfe4=j!\\x1e;\\x9a{)\\x9a\\x13\\xed\\xa0?\\n\\x03\\xe8\\xe9f\\x83\\xa4\\xaf\\xf4\\xc7\\xd6\\x97n/\\xc9+\\xe4#\\x168I\\x81\\x11e\\x81\\x94DU\\x15E\\x11j\\xd0\\xa72\\x97\\x10R\\xde\\xe9\\x80\\x95%B\\x9b[PLU\\xecN\\x8f\\x15\\x8d\\x11\\xcc\\x0e\\xe8\\xfdN\\xc8\\xd3\\x12\\x03\\x00\\xeb\\xf2\\x9b\\xb0\\xaa\\xd2\\xc4\\xa1\\x8f7*y&\\xd8i\"L\\x1fFcO\\x05\\xf3\\xd5\\xc7gk\\x0c\\xd6kFJ\\x82\\x89\\xac9\\xb6\\xfbzzJ\\xb6em\\xc8\\xe9\\x82\\x80\\xaf\\x16jc\\xd7w=j\\x03\\t\\xc2&{z\\x18\\xcb+\\xba\\x94\\x98\\x91\\xdf\\x94\\x0f^\\xd1\\xd4F\\x8b{\\xf5\\x8e)\\x03W/\\x81\\x1a\\x01\\xdb\\xce\\xdc\\x166\\x9f\\x98tl\\xb8\\xae\\x94\\xe9\\xf1h\\xc5\\x9d\\xffm\\xc1\\x96M\\x80\\xe5\\x0fL\\xf9\\xe6M\\xb4\\xaag\\xc4\\xd0\\x12%\\xd2\\xdbY>q\\x1d\\x9e\\x90\\xc5\\xe8H\\xd1\\xd9#\\x86\\xb9p\\xd2\\xafU\\xa2\\x1a&\\xe75\\xaf#+\\xa7\\xf0O\\x13)\\x1a{#\\xdc\\xfb\\xb5\\xaep,Yc\\x00\\xb5\\x97\\xa4\\x02\\xb1E\\x84\\x87e\\xfb\\x18l\\xffHd\\xb5\\x00\\xba\\x04p\\x13/j\\xb3\\x14\\x11\\xd1\\xb5\\xbb\\x88iG\\xabtG\\x9e\\xc6\\xde\\x88P\\xa3$a!\\xe77\\xef\\xc8\\xdd\\xaa<\\x0f\\x07\\xf3\\'\\xe0\\xf5\\xefb\\xa0\\xb5\\xd8\\xdaW\\x05\\xc0\\xb9\\x9d\\xcd\\xb5D\\xcc0\\xec\\x01#;\\xb1\\x97\\xd8\\x15I=\\xe0X\\tR\\xb5\\xc3\\x9b\\xff\\xa1r00\\xf0\\xc0\\xa2Z\\xbb_9\"k{\\x9f\\x90\\xcfd\\xf6|WN_82\\xfd\\xf3\\x91\\x8fv\\x7f\"\"\\xcb\\xc5\\xc7\\xef\\xa4\\x13c\\x92G\\xfc{\\x94\\x91\\x9fk\\x97\\x13\\xe6\\xb2\\x99\\x08](fyS\\xa6\\x92\\xd8\\xd2\\xa2XI\\xf1\\x80\\xf0\\x8e\\xf2Z\\xca\\xa1L\\x9e\\xe0\\x10\\x92c\\x12\\x9d\\xaa\\x08\\xf832\\x88\\xb2\\xd6\\x87P\\x9bH%\\xb4\\xe5U_3\\xd1:\\xf6\\xb3\\xbc\\xf7\\xac\\x15\\x07B\\xc8*\\x9b\\xad\\rpZ\\r\\xe5U\\xdbx6\\x17\\\\bC\\xf7\\xa4p\\xf3O\\xba\\x9c]GsN\\x81\\x06v\\xc334*\\t\\xc3\\xc6[\\xfa.\\xb0\\x14\\x1eI\\x1d\\x9e\\x11+:\\x00Z\\x83wo~\\x83\\xa4\\xe4\\xb4\\x12`b\\x12G\\xee\\xaa\\xf44\\xf6T\\xa5\\xbbh\\xf8I\\x8b`\\xc4y\\x05,\\xfb&\\x93\\x93RC\\xec\\x9fBi\\xeeP\\x93\\xe64A\\xc8{\\x94z\\x93\\x87\\xe4\\x88\\x8bl3\\xf1\\x83!\\xf2\\xa8z\\xb0\\xd78\\xb1=&\\t\\xcf\\x9c\\xace\\x00y,\\xc9\\x95d\\x13\\xf6#\\xd6\\xd3\\x91\\x96g\\x15\\xcd\\x1eZ\\x9a\\xe9\\xb92\\x1d(A\\x1bRd\\xb0\\xf2\\xa9l\\x8b\\x17\\xb0\\xb5\\x12\\x93\\xe1\\x1eIL\\xcd\\t\\xf6^\\x97\\x18\\xe6K\\'2\\xd3\\x04n3<e\\x85;\\xecn\\x97\\x01\\x803\\x00q0{e\\xf62\\xd1\\x0ce\\xb6\\\\\\xa4\\x0e\\x84\\xceF\\xa1d\\\\\\x0f\\x07**\\xba\\x9a\\x1f\\x86\\x82a{k\\x07{\\x96vS:\\x12\\xb9\\x11\\x04\\x82\\xfc\\x8b\\xaf\\xc7Y\\x9f\\x81o\\xae\\xe9\\xf3+z\\x84\\xf3\\xda\\xf3\\xd4.\\xff\\x8d\\xad:\\xaa\\xa9Ni*\\x1dC\\x19\\xba\\xd1\\xb8\\x15\\xb0)\\xc0gr\\x94\\x9a\\xf1F!\\xab\\x92\\xa7.\\xa1\\xd59\\x1b\\x1b\\xf9\\xca\\xbf\\xff\\x10\\x99\\xbd\\xf7o\\xd8\\x17\\xaf\\xa4\\x0e\\x7f\\x0cBD\\xc9\\xc5\\xcd>L\\xc0\\xee\\xd9R\\x00{\\xbd\\xd8\\xdf\\xb3n\\xb2\\xa5\\x93\\x14?O\\x15\\xccK\\x8b\\xdeU\\xd4\\xa4U\\x1cQ1\\xe3`\\xad\\xe3\\xc4:_g\\x1e\\xe5\\x15m\\xeb;a\\xa8\\x7f\\xf4\\x12\\x8dO\\xb9\\xe1H\\x8c\\n\\xb2\\xaefSo\\x00\\x8c\\xe3\\xac\\xdf\\xe7\\xe7\\x7f\\xe5\\x9b\\xb7\\xebk\\x1ca\\xc5\\xd6c?ju@\\x9c\\x07\\xdb^\\xc4\\x8d\\xa9\\r\\xf7#\\x82\\xd1\\x86\\xc5J\\xeb\\xd0m\\x80\\xc3H\\xfbh\\x87g\"p\\xf7\\xa2\\xde\\xda\\xf1\\xddH\\xff\\xb0\\xea\\xcd\\x94w\\x1a&)\\x8c S\\x91*\\x8dM\\xedY\\xb8\\xa7\\x0bK\\x9b\\xde\\xc3l2x=\\x9c\\xeb\\xbc\\xdf\\xd2\\x9f\\xde\\xb4&\\xeeA\\x16\\x90\\x8e\\xc3Fe4\\x0e|\\x16\\x88HFB\\x93\\x03\\xc2\\xe3\\x17A\\x909\\'\\x1a\\xd5$2\\xeeJ07\\xb8v\\xb8\\xd4i\\xf8%\\x91Z\\x90\\xb4\\xcc\\xeb\\xc1\\'\\xeb1g\\xc8X5\\x0e \\xd6\\x18h\\x01\\xbe\\x9fd\\xd8\\x8d\\\\\\x1d\\x98\\x8d_\\x0b,%\\xd0\\x90\\x04\\x16\\xf2O+\\x04VE\\xd7\\x93\\\\8n_\\x1fHW\\'\\xfe\\xad\\x80\\xd5\\xd1\\xbc\\x1c\\xa9\\xc0ux\\xcc\\x99\\x88\"#\\x80\\x8e\\xa4\\xb2\\xec[\\xcbw\\xc4\\xcc\\xe50\\xa6\\xa3\\x0b\\x96\\x05k\\xf6f\\xb5o\\xfa\\x14\\xdau;\\x88\\x89Fwz\\xbf\\xa0i\\xaa\\x96\\x89\\x8e\\xc4\\x9d\\x9eK\\x13\\x17&\\x88\\xdb\\x9e\\x10\\xce\\x87]\\x02Wp\\xf3\\x1e\"e\\n\\x88\\xfe\\xc8\"\\xb2L@\\xba4)wtZ\\xc8ne\\xb8\\x0b:{\\xf7\\xf4\\x05\\t\\x95\\xb7\\x98\\xa6>\\xe4n@\\x8b\\x9f&9_\\r\\xd2D\\x1e\\xb6\\x0c\\xf5ui\\xcb\\x13\\xeb\\x0f'\n",
            "11810\n"
          ]
        }
      ]
    },
    {
      "cell_type": "markdown",
      "source": [
        "# Sign"
      ],
      "metadata": {
        "id": "7YkdMYVugaJ8"
      }
    },
    {
      "cell_type": "markdown",
      "source": [
        "## Generate Salt"
      ],
      "metadata": {
        "id": "S2wR6Ofw26Cx"
      }
    },
    {
      "cell_type": "code",
      "source": [
        "def generateSalt()->bytes:\n",
        "  return secrets.token_bytes(16)"
      ],
      "metadata": {
        "id": "t_qdIGAigZvg"
      },
      "execution_count": 103,
      "outputs": []
    },
    {
      "cell_type": "markdown",
      "source": [
        "## hash digest"
      ],
      "metadata": {
        "id": "ivkpnBTm-qIH"
      }
    },
    {
      "cell_type": "code",
      "source": [
        "def generate_hash_digest(message:str,salt:bytes,m:int,r:int,lvl:int)->bytes:\n",
        "  \"\"\"Generate the hash digest (h of the LUOV specification).\n",
        "\n",
        "  Parameters\n",
        "  ----------\n",
        "  message : str\n",
        "    The message.\n",
        "\n",
        "  salt : bytes\n",
        "    The salt.\n",
        "\n",
        "  m : int\n",
        "    The m paramter of the LUOV specification.\n",
        "\n",
        "  r : int\n",
        "    The r paramter of the LUOV specification.\n",
        "\n",
        "  lvl : int\n",
        "    The lvl paramter of the LUOV specification.\n",
        "\n",
        "  Returns\n",
        "  -------\n",
        "  bytes\n",
        "      h (the bytes digested for the h variable of the LUOV specification).\n",
        "  \"\"\"\n",
        "  if lvl == 1:\n",
        "    h_digest_shake = hashlib.shake_128(message.encode(\"utf-8\")+b'\\x00'+salt)\n",
        "  else:\n",
        "    h_digest_shake = hashlib.shake_256(message.encode(\"utf-8\")+b'\\x00'+salt)\n",
        "\n",
        "  h_digest_bytes = h_digest_shake.digest(math.ceil(m*r/8))\n",
        "\n",
        "  # Join all the bytes into a single bit-string representation.\n",
        "  h_digest_bits = ''.join([int8_to_binString(i) for i in h_digest_bytes])\n",
        "\n",
        "  # Take r bits sequentialy from the string m times, to create a vector within the F(2**r) field\n",
        "  # The bits that remain after this are discarded.\n",
        "  h_digest = [int(h_digest_bits[i*r:i*r+r],base=2) for i in range(m)]\n",
        "\n",
        "  return h_digest\n"
      ],
      "metadata": {
        "id": "GMMt1oIOih_8"
      },
      "execution_count": 104,
      "outputs": []
    },
    {
      "cell_type": "markdown",
      "source": [
        "## Generate v"
      ],
      "metadata": {
        "id": "f2JbjFJt43v3"
      }
    },
    {
      "cell_type": "code",
      "source": [
        "def generateV(r:int, v:int)->list:\n",
        "  \"\"\"Generate the vinegar variables vector.\n",
        "\n",
        "  The function generates the closest amount of bytes to contain r*v bits in order\n",
        "  to be able to get a vector of size v, with each element having r bits.\n",
        "\n",
        "  Parameters\n",
        "  ----------\n",
        "  r : int\n",
        "    The r paramter of the LUOV specification.\n",
        "\n",
        "  v : int\n",
        "    The v paramter of the LUOV specification.\n",
        "\n",
        "  Returns\n",
        "  -------\n",
        "  list\n",
        "      A list that represents the vinegar variables.\n",
        "  \"\"\"\n",
        "  vinegar_bytes = secrets.token_bytes(math.ceil(r*v/8))\n",
        "\n",
        "  # Join all the bytes into a single bit-string representation.\n",
        "  vinegar_bits = ''.join([int8_to_binString(i) for i in vinegar_bytes])\n",
        "\n",
        "  # Take r bits sequentialy from the string v times, to create a vector within the F(2**r) field\n",
        "  # The bits that remain after this are discarded.\n",
        "  vinegar = [int(vinegar_bits[i*r:i*r+r],base=2) for i in range(v)]\n",
        "  return vinegar"
      ],
      "metadata": {
        "id": "zm_1KTuY48Se"
      },
      "execution_count": 105,
      "outputs": []
    },
    {
      "cell_type": "markdown",
      "source": [
        "## Build augmented matrix"
      ],
      "metadata": {
        "id": "XgEH3ik_uA3w"
      }
    },
    {
      "cell_type": "code",
      "source": [
        "def buildAugmentedMatrix(C:galois.FieldArray,\n",
        "                         L:galois.FieldArray,\n",
        "                         Q1:galois.FieldArray,\n",
        "                         T:galois.FieldArray,\n",
        "                         h:galois.FieldArray,\n",
        "                         v_array:galois.FieldArray,\n",
        "                         m:int,v:int,r:int\n",
        "                         )->tuple[galois.FieldArray,galois.FieldArray]:\n",
        "  \"\"\"The implementation of the buildAugmentedMatrix algorithm of the LUOV specification.\n",
        "\n",
        "  Parameters\n",
        "  ----------\n",
        "  C : galois.FieldArray\n",
        "    The C vector of the LUOV specification.\n",
        "\n",
        "  L : galois.FieldArray\n",
        "    The L matrix of the LUOV specification.\n",
        "\n",
        "  Q1 : galois.FieldArray\n",
        "    The Q1 matrix of the LUOV specification.\n",
        "\n",
        "  T : galois.FieldArray\n",
        "    The T matrix of the LUOV specification.\n",
        "\n",
        "  h : galois.FieldArray\n",
        "    The hash digest to target.\n",
        "\n",
        "  v_array : galois.FieldArray\n",
        "    A vector containing the vinegar variables.\n",
        "\n",
        "  m : int\n",
        "    The m paramter of the LUOV specification.\n",
        "\n",
        "  v : int\n",
        "    The v paramter of the LUOV specification.\n",
        "\n",
        "  r : int\n",
        "    The r paramter of the LUOV specification.\n",
        "\n",
        "  Returns\n",
        "  -------\n",
        "  (galois.FieldArray,galois.FieldArray)\n",
        "      The arrays representing the augmented matrix.\n",
        "      The first being the left part and the second being the right part.\n",
        "  \"\"\"\n",
        "  n = m+v\n",
        "  v_with_zeros = v_array.copy()\n",
        "  v_with_zeros.resize(n)\n",
        "  RHS = h - C-L@v_with_zeros\n",
        "  T_with_ones = np.concatenate((-T,np.identity(m)),axis=0)\n",
        "  LHS = L@T_with_ones\n",
        "\n",
        "  GF = galois.GF(2**r,irreducible_poly = 0x83)\n",
        "\n",
        "  for k in range(m):\n",
        "    Pk1=GF(findPk1(v,m,k,Q1))\n",
        "    Pk2=GF(findPk2(v,m,k,Q1))\n",
        "    RHS[k] = RHS[k] - v_array.T@Pk1@v_array\n",
        "\n",
        "    Fk2=-(Pk1+Pk1.T)@T+Pk2\n",
        "\n",
        "    LHS[k] = LHS[k] + v_array@Fk2\n",
        "  # Here the implementation differs from the specification,\n",
        "  # instead of returning the augmented matrix LHS and RHS are\n",
        "  # returned separately to use numpy's solving function\n",
        "  return LHS,RHS\n"
      ],
      "metadata": {
        "id": "0Op-V3s82O-H"
      },
      "execution_count": 106,
      "outputs": []
    },
    {
      "cell_type": "markdown",
      "source": [
        "## Sign"
      ],
      "metadata": {
        "id": "8LN4SqR7uInK"
      }
    },
    {
      "cell_type": "code",
      "source": [
        "def encode_field_element(element:galois.typing.DTypeLike,r:int)->str:\n",
        "  \"\"\"Get the r bit representation of an field element as a binary string\n",
        "     without the '0b' indicator.\n",
        "\n",
        "  The function takes one field element, turns it to binary\n",
        "  and returns an string containing the r bit representation of it.\n",
        "\n",
        "  Parameters\n",
        "  ----------\n",
        "  element : galois.typing.DTypeLike\n",
        "    The field element (The number if you prefer).\n",
        "\n",
        "  r : int\n",
        "    The ammount of bits required to encode the element.\n",
        "\n",
        "  Returns\n",
        "  -------\n",
        "  str\n",
        "      A string with r bits to represent the field element.\n",
        "  \"\"\"\n",
        "  return bin(element)[2:].zfill(r)"
      ],
      "metadata": {
        "id": "dKBtgjyzpZMm"
      },
      "execution_count": 107,
      "outputs": []
    },
    {
      "cell_type": "code",
      "source": [
        "def encode_siganture(signature:galois.FieldArray,salt:bytes,n:int,r:int)->bytes:\n",
        "  \"\"\"Encoding of the signature with the salt following the LUOV specification.\n",
        "\n",
        "  The function takes a FieldArray, converts all its elements to binary and\n",
        "  concatenates them in order, then it encodes the result into bytes (padding with\n",
        "  zeros at the end to achieve the number of bytes). Finaly, the result is concatenated\n",
        "  with the salt.\n",
        "\n",
        "  Parameters\n",
        "  ----------\n",
        "  signature : galois.FieldArray\n",
        "    The FieldArray containing the elements of the signature.\n",
        "\n",
        "  salt : bytes\n",
        "    The salt that will be added at the end of the signature.\n",
        "\n",
        "  n : int\n",
        "    The number of elements in the signature.\n",
        "\n",
        "  r : int\n",
        "    The ammount of bits of each element of the signature.\n",
        "\n",
        "  Returns\n",
        "  -------\n",
        "  bytes\n",
        "      The bytes of the signature and the salt concatenated.\n",
        "  \"\"\"\n",
        "  binary_signature = ''\n",
        "  # Turn all the elements in the signature vecto to an r-bit per element binary\n",
        "  # string.\n",
        "  for i in signature:\n",
        "    binary_signature += encode_field_element(i,r)\n",
        "  needed_bits = n*r\n",
        "  byte_signature = b''\n",
        "  # Iterate through the binary string, taking 8 bits at a time to get the bytes\n",
        "  # of the signature.\n",
        "  while needed_bits>8:\n",
        "    byte_signature += int(binary_signature[:8],2).to_bytes(1,byteorder='big')\n",
        "    binary_signature = binary_signature[8:]\n",
        "    needed_bits -= 8\n",
        "  # The remaining bits are padded with zeros at the end to make the last byte.\n",
        "  if needed_bits>0:\n",
        "    for i in range(8-needed_bits):\n",
        "      binary_signature += '0'\n",
        "    byte_signature += int(binary_signature,2).to_bytes(1,byteorder='big')\n",
        "  return byte_signature + salt"
      ],
      "metadata": {
        "id": "GEglYhRDnrij"
      },
      "execution_count": 108,
      "outputs": []
    },
    {
      "cell_type": "code",
      "source": [
        "def sign(message:str,private_seed:bytes,v:int,m:int,r:int,lvl:int)->bytes:\n",
        "  \"\"\"The sign algorithm of the LUOV specification.\n",
        "\n",
        "  The function takes a private seed and a message. Then, given the parameters of\n",
        "  the LUOV specification, it generates a signature.\n",
        "\n",
        "  Parameters\n",
        "  ----------\n",
        "  message : str\n",
        "    The message to be signed.\n",
        "\n",
        "  private_seed : bytes\n",
        "    The private seed of the LUOV specification.\n",
        "\n",
        "  v : int\n",
        "    The v parameter of the LUOV specification.\n",
        "\n",
        "  m : int\n",
        "    The m parameter of the LUOV specification.\n",
        "\n",
        "  r : int\n",
        "    The r parameter of the LUOV specification.\n",
        "\n",
        "  lvl : int\n",
        "    The level of the LUOV specification.\n",
        "\n",
        "  Returns\n",
        "  -------\n",
        "  bytes\n",
        "      The signature for the given message.\n",
        "  \"\"\"\n",
        "  private_sponge = create_private_sponge(private_seed,v,m,lvl)\n",
        "  public_seed = get_public_seed(private_sponge)\n",
        "  T_base = private_sponge[32:]\n",
        "  T = tMatrixGenerator(T_base,v,m)\n",
        "\n",
        "  GF = galois.GF(2**r,irreducible_poly = 0x83)\n",
        "\n",
        "  T = GF(T)\n",
        "\n",
        "  C,L,Q1 = G(v,m,lvl,public_seed)\n",
        "\n",
        "  C = GF(C)\n",
        "  L = GF(L)\n",
        "  Q1 = GF(Q1)\n",
        "\n",
        "  salt = generateSalt()\n",
        "  h = GF(generate_hash_digest(message,salt,m,r,lvl))\n",
        "\n",
        "  n = m+v\n",
        "  no_solution = True\n",
        "  s_prime = np.zeros([m,1])\n",
        "  while no_solution:\n",
        "    vinegar = GF(generateV(r=r,v=v))\n",
        "    A0,A1= buildAugmentedMatrix(C,L,Q1,T,h,vinegar,m,v,r)\n",
        "\n",
        "    try:\n",
        "      # Try to solve the equation system given the vinegar variables\n",
        "      oil = np.linalg.solve(A0,A1)\n",
        "      # If we find a solution we assume it's unique and end the loop.\n",
        "      no_solution = False\n",
        "      # The solution (oil) is concatenated to de vinegar variables vector.\n",
        "      s_prime = np.concatenate([vinegar,oil])\n",
        "    except np.linalg.LinAlgError:\n",
        "      # If no solution is found we stay in the loop to try with new\n",
        "      # vinegar variables\n",
        "      no_solution = True\n",
        "\n",
        "  # Build the matrix for the solution operation\n",
        "  solution_operand_left = np.concatenate([np.identity(v),np.zeros([m,v])],axis=0)\n",
        "  solution_operand_right = np.concatenate([-T,np.identity(m)],axis=0)\n",
        "  solution_operand = np.concatenate([solution_operand_left,solution_operand_right],axis=1)\n",
        "\n",
        "  # Build S using the matrix solution_operand\n",
        "  s = GF(solution_operand)@s_prime\n",
        "  encoded_signature=encode_siganture(s,salt,n,r)\n",
        "  return encoded_signature"
      ],
      "metadata": {
        "id": "69GxNrpXs0YZ"
      },
      "execution_count": 109,
      "outputs": []
    },
    {
      "cell_type": "code",
      "source": [
        "test_sign = sign(\"hi\",private_seed_test,197,57,7,1)\n",
        "print(test_sign)\n",
        "print(len(test_sign))"
      ],
      "metadata": {
        "colab": {
          "base_uri": "https://localhost:8080/"
        },
        "id": "aYJAHww65T1x",
        "outputId": "0d814336-71d2-41ea-fef4-dbcef541a871"
      },
      "execution_count": 110,
      "outputs": [
        {
          "output_type": "stream",
          "name": "stdout",
          "text": [
            "b'\\x92\\xa3f3\\xfcE\\xe8\\xc4\\x96\\rJ>\\t\\x19\\xff\\xe7)\\x8fj\\xf6\\xfe\\xc7?\\xc2O\\xc3\\xfaY\\x98\\x0c\\x9b\\x85@\\x8e\\x8c?\\'\\xb7\\x1d2\\x14N)\\xdc[\\xc6o\\xee\\x03\\xf5\\x1f\\xc3\\x10Q\\xf1\\x14\\x122\\xc7\\xaf\\xcc\\x072\\\\\\xf6\\x13K\\xe4C\\xde\\xc0\\x81\\xb4\\x88\\x83\\x8b\\xac\\x1c\\xad\\xcf\\x9eU1\\xe1\\xcf\\xa6z\\x9d\\x94W\\x0f\\x8c\\xfd\\xcdS\\xceE\\xa3s\\xf2\\xf5!\\xf1I8\\xe0\\xc9\\xba\\xa2^\\xa0&s\\xe1\\xefd\\xd4\\x9e\\xaaB\\xf2\\x9fD\\x8e\"\\x15\\xb0\\x05\\xeb\\xaaJ\\x87 Y\\xcas\\xfbS\\xb4-G\\x0e\\xa9J\\xcf\\xf8\\xc2\\xf9\\xae\\xf8(\\xfa\\xd8\\xee\\xb0x\\xde\\xec\\xe6\\xe6\\xcc\\xe3.\\x95\\x82\\xdby4u\\xe0\\xeal\\xfc\\xaa\\xe0\\xcdi\\x04\\xbb\\x1b\\xd3\\x95\\xd2\\r#\\x14`1\\xd8\\x91d1\\xbe\\xffy\\xaa\\xd0\\xd9$Z\\xee\\xd5A\\xa4\\xbe\\xf3\\x07<MMk\\x1f\\xfd;\\x90j\\xab\\xdd\\xd2\\xe7\\x0f\\xbe\\xc0h?Y\\xc34O\\xaa\\x91\\x83\\x03j\\x934\\x0f\\xd3\\xfc'\n",
            "239\n"
          ]
        }
      ]
    },
    {
      "cell_type": "markdown",
      "source": [
        "# Verify"
      ],
      "metadata": {
        "id": "cZpAp3jhdPiA"
      }
    },
    {
      "cell_type": "code",
      "source": [
        "def extract_seed_and_q2(public_key:bytes,m:int)->tuple[bytes,np.ndarray]:\n",
        "  \"\"\"Extract the public seed and Q2 from a public key.\n",
        "\n",
        "  The function takes a public key and extracts the public seed from it's first\n",
        "  32 bytes. The remaining bytes are interpreted as the columns of the Q2 matrix.\n",
        "\n",
        "  Parameters\n",
        "  ----------\n",
        "  public_key : bytes\n",
        "    A LUOV specification public key.\n",
        "\n",
        "  m : int\n",
        "    The m parameter of the LUOV specification.\n",
        "\n",
        "  Returns\n",
        "  -------\n",
        "  bytes\n",
        "      The public seed of the LUOV specification contained in the public key.\n",
        "\n",
        "  np.ndarray\n",
        "      The Q2 matrix of the LUOV specification contained in the public key.\n",
        "  \"\"\"\n",
        "  # Get the first 32 bytes that belong to the public seed.\n",
        "  public_seed = public_key[:32]\n",
        "\n",
        "  # The remaining bytes are the encoded elements of Q2.\n",
        "  Q2_bytes = public_key[32:]\n",
        "  Q2_bits = []\n",
        "  for i in Q2_bytes:\n",
        "    # The bits are extracted from the bytes.\n",
        "    reversed =int8_to_bits(i)\n",
        "    # The extracted bits are reversed back to their original value and\n",
        "    # concatenated in a list containing all the bits of Q2.\n",
        "    reversed.reverse()\n",
        "    Q2_bits+= reversed\n",
        "  #The padding zeros for the encoding of Q2 are discarded.\n",
        "  Q2_bits = Q2_bits[:int(m*(m*(m+1)/2))]\n",
        "  Q2 = np.array(Q2_bits)\n",
        "  # The array is reshaped to form the original Q2 matrix, column by column.\n",
        "  Q2 = np.reshape(Q2,(m,int(m*(m+1)/2)),order=\"F\")\n",
        "  return public_seed,Q2"
      ],
      "metadata": {
        "id": "RDsQVZwGBe5u"
      },
      "execution_count": 111,
      "outputs": []
    },
    {
      "cell_type": "code",
      "source": [
        "def decode_signature(signature:bytes,r:int)->np.ndarray:\n",
        "  \"\"\"Decode a signature.\n",
        "\n",
        "  The function takes a signature and discards the salt from it. Then it\n",
        "  extracts all the bits from the bytes of the signature and joins them in\n",
        "  a single r*m long string. Finally it takes the bits in r-sized chunks to\n",
        "  get each element of the Array of the field F_(2**r) with m elements.\n",
        "\n",
        "  Parameters\n",
        "  ----------\n",
        "  signature : bytes\n",
        "    A LUOV specification signature.\n",
        "\n",
        "  r : int\n",
        "    The r parameter of the LUOV specification.\n",
        "\n",
        "  Returns\n",
        "  -------\n",
        "  np.ndarray\n",
        "      The array contained in a signature of the LUOV specification.\n",
        "  \"\"\"\n",
        "  # Discard the salt.\n",
        "  signature_without_salt = signature[:-16]\n",
        "  signature_bits = ''\n",
        "  # Get all the bits that form the signature's array\n",
        "  for i in signature_without_salt:\n",
        "    signature_bits+=int8_to_binString(i)\n",
        "  signature_array = []\n",
        "  while len(signature_bits)>r:\n",
        "    # Get r bits from the signature_bit's string and interpret them as an\n",
        "    # element of the original array of the signature which has m elements of the\n",
        "    # F_(2**r) finite field.\n",
        "    signature_array.append(int(signature_bits[:r],2))\n",
        "    signature_bits = signature_bits[r:]\n",
        "  return np.array(signature_array)"
      ],
      "metadata": {
        "id": "fbkwxGdMUHPs"
      },
      "execution_count": 112,
      "outputs": []
    },
    {
      "cell_type": "code",
      "source": [
        "def get_salt(signature:bytes)->bytes:\n",
        "  \"\"\"Extract the salt from a signature.\n",
        "\n",
        "  The function takes a signature, then it extracts the salt from it, which is\n",
        "  contained in it's last 16 bytes.\n",
        "\n",
        "  Parameters\n",
        "  ----------\n",
        "  signature : bytes\n",
        "    A LUOV specification signature.\n",
        "\n",
        "  Returns\n",
        "  -------\n",
        "  bytes\n",
        "      The salt of a LUOV signature.\n",
        "  \"\"\"\n",
        "  return signature[-16:]"
      ],
      "metadata": {
        "id": "sNIlU7_YpCiz"
      },
      "execution_count": 113,
      "outputs": []
    },
    {
      "cell_type": "code",
      "source": [
        "def evaluatePublicMap(public_key:bytes,s:bytes,v:int,m:int,r:int,lvl:int)->galois.FieldArray:\n",
        "  \"\"\"The evaluatePublicMap algorithm of the LUOV specification.\n",
        "\n",
        "  The function takes a public key and a signature, then, given the\n",
        "  parameters of the LUOV specification used for both the key and signature, it\n",
        "  evaluates the public map e.\n",
        "\n",
        "  Parameters\n",
        "  ----------\n",
        "  public_key : bytes\n",
        "    The public key of the signer.\n",
        "\n",
        "  s : bytes\n",
        "    A signature.\n",
        "\n",
        "  v : int\n",
        "    The v parameter of the LUOV specification.\n",
        "\n",
        "  m : int\n",
        "    The m parameter of the LUOV specification.\n",
        "\n",
        "  r : int\n",
        "    The r parameter of the LUOV specification.\n",
        "\n",
        "  lvl : int\n",
        "    The level of the LUOV specification.\n",
        "\n",
        "  Returns\n",
        "  -------\n",
        "  galois.FieldArray\n",
        "      The evaluation of the public map.\n",
        "  \"\"\"\n",
        "  public_seed,Q2 = extract_seed_and_q2(public_key,m)\n",
        "  GF = galois.GF(2**r,irreducible_poly = 0x83)\n",
        "  C,L,Q1 = G(v,m,lvl,public_seed)\n",
        "\n",
        "  C = GF(C)\n",
        "  L = GF(L)\n",
        "  Q1 = GF(Q1)\n",
        "  Q = np.concatenate([Q1,GF(Q2)],axis=1)\n",
        "\n",
        "  s_decoded = GF(decode_signature(s,r))\n",
        "\n",
        "  e = C + L@s_decoded\n",
        "  column = 0\n",
        "  n= m+v\n",
        "  for i in range(n):\n",
        "    for j in range(i,n):\n",
        "      for k in range(m):\n",
        "        e[k] = e[k]+Q[k,column]*s_decoded[i]*s_decoded[j]\n",
        "      column = column + 1\n",
        "  return e"
      ],
      "metadata": {
        "id": "TSOUfHhCeFQ3"
      },
      "execution_count": 114,
      "outputs": []
    },
    {
      "cell_type": "code",
      "source": [
        "def verify(public_key:bytes,message:str,candidate_signature:bytes,v:int,m:int,r:int,lvl:int)->bool:\n",
        "  \"\"\"Verification of a signed message\n",
        "\n",
        "  The function takes a public key, a message and a signature, then, given the\n",
        "  parameters of the LUOV specification used for both the key and signature, it\n",
        "  evaluates if the signature is valid.\n",
        "\n",
        "  Parameters\n",
        "  ----------\n",
        "  public_key : bytes\n",
        "    The public key of the signer.\n",
        "\n",
        "  message : str\n",
        "    The message signed message.\n",
        "\n",
        "  candidate_signature : bytes\n",
        "    The signature of the message.\n",
        "\n",
        "  v : int\n",
        "    The v parameter of the LUOV specification.\n",
        "\n",
        "  m : int\n",
        "    The m parameter of the LUOV specification.\n",
        "\n",
        "  r : int\n",
        "    The r parameter of the LUOV specification.\n",
        "\n",
        "  lvl : int\n",
        "    The level of the LUOV specification.\n",
        "\n",
        "  Returns\n",
        "  -------\n",
        "  bool\n",
        "      The verification result (True if the signature for the message is valid).\n",
        "  \"\"\"\n",
        "  GF = galois.GF(2**r,irreducible_poly = 0x83)\n",
        "  h = GF(generate_hash_digest(message,get_salt(candidate_signature),m,r,lvl))\n",
        "  e = evaluatePublicMap(public_key,candidate_signature,v,m,r,lvl)\n",
        "  return np.array_equal(h,e)"
      ],
      "metadata": {
        "id": "QzWh8s_mmWDU"
      },
      "execution_count": 115,
      "outputs": []
    },
    {
      "cell_type": "code",
      "source": [
        "print(verify(public_key_test,\"hi\",test_sign,197,57,7,1))"
      ],
      "metadata": {
        "id": "E6ZtkZLbFpxz",
        "colab": {
          "base_uri": "https://localhost:8080/"
        },
        "outputId": "8ce85ea8-5663-471a-c4bf-6e3608476aaa"
      },
      "execution_count": 116,
      "outputs": [
        {
          "output_type": "stream",
          "name": "stdout",
          "text": [
            "True\n"
          ]
        }
      ]
    }
  ]
}